{
 "cells": [
  {
   "cell_type": "markdown",
   "metadata": {},
   "source": [
    "# Cube Packcage\n",
    "The custom cube package is preinstalled.  just load the library and start to use it \n",
    "<hr/>\n"
   ]
  },
  {
   "cell_type": "markdown",
   "metadata": {},
   "source": [
    "### Load Library and Login to CubeAPI"
   ]
  },
  {
   "cell_type": "code",
   "execution_count": 1,
   "metadata": {},
   "outputs": [
    {
     "name": "stderr",
     "output_type": "stream",
     "text": [
      "Loading required package: usethis\n",
      "\n",
      "Loading required package: reshape\n",
      "\n",
      "\n",
      "Attaching package: ‘rapportools’\n",
      "\n",
      "\n",
      "The following objects are masked from ‘package:stats’:\n",
      "\n",
      "    IQR, median, sd, var\n",
      "\n",
      "\n",
      "The following objects are masked from ‘package:base’:\n",
      "\n",
      "    max, mean, min, range, sum\n",
      "\n",
      "\n",
      "\n",
      "Attaching package: ‘data.table’\n",
      "\n",
      "\n",
      "The following object is masked from ‘package:reshape’:\n",
      "\n",
      "    melt\n",
      "\n",
      "\n",
      "Loading required package: tfruns\n",
      "\n"
     ]
    }
   ],
   "source": [
    "# load all library, it is already installed\n",
    "library(devtools)\n",
    "library(httr)\n",
    "library(jsonlite)\n",
    "library(stringr)\n",
    "library(rapportools)\n",
    "library(htmlwidgets)\n",
    "library(rlist)\n",
    "library(data.table)\n",
    "library(cloudml)\n",
    "library(readr)\n",
    "library(logger)\n",
    "library(cube)\n",
    "setwd(\"~/\")\n",
    "log_threshold(INFO)"
   ]
  },
  {
   "cell_type": "code",
   "execution_count": 8,
   "metadata": {},
   "outputs": [
    {
     "name": "stdout",
     "output_type": "stream",
     "text": [
      "INFO [2021-01-05 17:26:01] Version: 0.0.2\n",
      "INFO [2021-01-05 17:26:01] http://10.105.16.22/\n",
      "INFO [2021-01-05 17:26:01] GET: http://10.105.16.22/metadata-service/cube_about/disclaimer/\n",
      "INFO [2021-01-05 17:26:03] status_code: 200\n"
     ]
    },
    {
     "data": {
      "text/html": [
       "<dl>\n",
       "\t<dt>$count</dt>\n",
       "\t\t<dd>1</dd>\n",
       "\t<dt>$`next`</dt>\n",
       "\t\t<dd>NULL</dd>\n",
       "\t<dt>$previous</dt>\n",
       "\t\t<dd>NULL</dd>\n",
       "\t<dt>$results</dt>\n",
       "\t\t<dd><ol>\n",
       "\t<li><dl>\n",
       "\t<dt>$id</dt>\n",
       "\t\t<dd>1</dd>\n",
       "\t<dt>$activated_date</dt>\n",
       "\t\t<dd>'2020-12-08'</dd>\n",
       "\t<dt>$expired_date</dt>\n",
       "\t\t<dd>NULL</dd>\n",
       "\t<dt>$terms_text</dt>\n",
       "\t\t<dd>'The data from this study may be preliminary and unpublished. Pre-publication access is granted to promote broad use of the data sets. Presentation and/or publication of these data are not permitted without permission. The producers of the data reserve the right to be the first to publish. Please review the \"About\" page (https://cube.jax.org/cube-about) for more information. Contact us at cube.jax.org for guidance on using, referencing, presenting, or publishing analyses that include pre-publication data. '</dd>\n",
       "</dl>\n",
       "</li>\n",
       "</ol>\n",
       "</dd>\n",
       "</dl>\n"
      ],
      "text/latex": [
       "\\begin{description}\n",
       "\\item[\\$count] 1\n",
       "\\item[\\$`next`] NULL\n",
       "\\item[\\$previous] NULL\n",
       "\\item[\\$results] \\begin{enumerate}\n",
       "\\item \\begin{description}\n",
       "\\item[\\$id] 1\n",
       "\\item[\\$activated\\_date] '2020-12-08'\n",
       "\\item[\\$expired\\_date] NULL\n",
       "\\item[\\$terms\\_text] 'The data from this study may be preliminary and unpublished. Pre-publication access is granted to promote broad use of the data sets. Presentation and/or publication of these data are not permitted without permission. The producers of the data reserve the right to be the first to publish. Please review the \"About\" page (https://cube.jax.org/cube-about) for more information. Contact us at cube.jax.org for guidance on using, referencing, presenting, or publishing analyses that include pre-publication data. '\n",
       "\\end{description}\n",
       "\n",
       "\\end{enumerate}\n",
       "\n",
       "\\end{description}\n"
      ],
      "text/markdown": [
       "$count\n",
       ":   1\n",
       "$`next`\n",
       ":   NULL\n",
       "$previous\n",
       ":   NULL\n",
       "$results\n",
       ":   1. $id\n",
       ":   1\n",
       "$activated_date\n",
       ":   '2020-12-08'\n",
       "$expired_date\n",
       ":   NULL\n",
       "$terms_text\n",
       ":   'The data from this study may be preliminary and unpublished. Pre-publication access is granted to promote broad use of the data sets. Presentation and/or publication of these data are not permitted without permission. The producers of the data reserve the right to be the first to publish. Please review the \"About\" page (https://cube.jax.org/cube-about) for more information. Contact us at cube.jax.org for guidance on using, referencing, presenting, or publishing analyses that include pre-publication data. '\n",
       "\n",
       "\n",
       "\n",
       "\n",
       "\n",
       "\n",
       "\n",
       "\n"
      ],
      "text/plain": [
       "$count\n",
       "[1] 1\n",
       "\n",
       "$`next`\n",
       "NULL\n",
       "\n",
       "$previous\n",
       "NULL\n",
       "\n",
       "$results\n",
       "$results[[1]]\n",
       "$results[[1]]$id\n",
       "[1] 1\n",
       "\n",
       "$results[[1]]$activated_date\n",
       "[1] \"2020-12-08\"\n",
       "\n",
       "$results[[1]]$expired_date\n",
       "NULL\n",
       "\n",
       "$results[[1]]$terms_text\n",
       "[1] \"The data from this study may be preliminary and unpublished. Pre-publication access is granted to promote broad use of the data sets. Presentation and/or publication of these data are not permitted without permission. The producers of the data reserve the right to be the first to publish. Please review the \\\"About\\\" page (https://cube.jax.org/cube-about) for more information. Contact us at cube.jax.org for guidance on using, referencing, presenting, or publishing analyses that include pre-publication data. \"\n",
       "\n",
       "\n"
      ]
     },
     "metadata": {},
     "output_type": "display_data"
    }
   ],
   "source": [
    "# create a CubeAPI object\n",
    "cube_api = CubeAPI$new(\"http://10.105.16.22/\")\n",
    "d = cube_api$get_end_point(\"metadata-service/cube_about/disclaimer/\")\n",
    "content(d)"
   ]
  },
  {
   "cell_type": "code",
   "execution_count": 3,
   "metadata": {},
   "outputs": [
    {
     "name": "stdout",
     "output_type": "stream",
     "text": [
      "INFO [2021-01-05 16:38:57] verification_uri_complete: https://thejacksonlaboratory.auth0.com/activate?user_code=SFBT-RLJZ\n"
     ]
    }
   ],
   "source": [
    "# only need to login once per month\n",
    "# after run, click on \"verification_uri_complete\" to finish verification\n",
    "cube_api$login()"
   ]
  },
  {
   "cell_type": "markdown",
   "metadata": {},
   "source": [
    "### Get Metadata Definition"
   ]
  },
  {
   "cell_type": "code",
   "execution_count": 4,
   "metadata": {},
   "outputs": [
    {
     "name": "stdout",
     "output_type": "stream",
     "text": [
      "INFO [2021-01-05 16:39:09] GET: https://metadata-service-sqa.azurewebsites.net/metadata_definition/element\n",
      "INFO [2021-01-05 16:39:09] status_code: 403\n"
     ]
    },
    {
     "name": "stderr",
     "output_type": "stream",
     "text": [
      "No encoding supplied: defaulting to UTF-8.\n",
      "\n"
     ]
    },
    {
     "name": "stdout",
     "output_type": "stream",
     "text": [
      "ERROR [2021-01-05 16:39:09] response: <!DOCTYPE html>\n",
      "<html>\n",
      "<head>\n",
      "<meta http-equiv=\"Content-Type\" content=\"text/html; charset=UTF-8\">\n",
      "<title>Web App - Unavailable</title>\n",
      "<style type=\"text/css\">\n",
      "        html {\n",
      "            height: 100%;\n",
      "            width: 100%;\n",
      "        }\n",
      "\n",
      "        #feature {\n",
      "            width: 960px;\n",
      "            margin: 95px auto 0 auto;\n",
      "            overflow: auto;\n",
      "        }\n",
      "\n",
      "        #content {\n",
      "            font-family: \"Segoe UI\";\n",
      "            font-weight: normal;\n",
      "            font-size: 22px;\n",
      "            color: #ffffff;\n",
      "            float: left;\n",
      "            width: 460px;\n",
      "            margin-top: 68px;\n",
      "            margin-left: 0px;\n",
      "            vertical-align: middle;\n",
      "        }\n",
      "\n",
      "            #content h1 {\n",
      "                font-family: \"Segoe UI Light\";\n",
      "                color: #ffffff;\n",
      "                font-weight: normal;\n",
      "                font-size: 60px;\n",
      "                line-height: 48pt;\n",
      "                width: 800px;\n",
      "            }\n",
      "\n",
      "        p a, p a:visited, p a:active, p a:hover {\n",
      "            color: #ffffff;\n",
      "        }\n",
      "\n",
      "        #content a.button {\n",
      "            background: #0DBCF2;\n",
      "            border: 1px solid #FFFFFF;\n",
      "            color: #FFFFFF;\n",
      "            display: inline-block;\n",
      "            font-family: Segoe UI;\n",
      "            font-size: 24px;\n",
      "            line-height: 46px;\n",
      "            margin-top: 10px;\n",
      "            padding: 0 15px 3px;\n",
      "            text-decoration: none;\n",
      "        }\n",
      "\n",
      "            #content a.button img {\n",
      "                float: right;\n",
      "                padding: 10px 0 0 15px;\n",
      "            }\n",
      "\n",
      "            #content a.button:hover {\n",
      "                background: #1C75BC;\n",
      "            }\n",
      "    </style>\n",
      "</head>\n",
      "<body bgcolor=\"#00abec\">\n",
      "    <div id=\"feature\">\n",
      "        <div id=\"content\">\n",
      "            <h1 id=\"unavailable\">Error 403 - Forbidden</h1>\n",
      "            <p id=\"tryAgain\">The web app you have attempted to reach has blocked your access.</p>\n",
      "        </div>\n",
      "    </div>\n",
      "</body>\n",
      "</html>\n",
      " \n",
      "ERROR [2021-01-05 16:39:09] response url: https://metadata-service-sqa.azurewebsites.net/metadata_definition/element?page=1&page_size=100\n"
     ]
    }
   ],
   "source": [
    "# retrieve metadata element\n",
    "response = cube_api$get_element()"
   ]
  },
  {
   "cell_type": "code",
   "execution_count": null,
   "metadata": {},
   "outputs": [],
   "source": [
    "str(response)"
   ]
  },
  {
   "cell_type": "code",
   "execution_count": null,
   "metadata": {},
   "outputs": [],
   "source": [
    "# get the content of the response\n",
    "content = content(response)"
   ]
  },
  {
   "cell_type": "code",
   "execution_count": null,
   "metadata": {},
   "outputs": [],
   "source": [
    "str(content)"
   ]
  },
  {
   "cell_type": "code",
   "execution_count": null,
   "metadata": {},
   "outputs": [],
   "source": [
    "# to data frame\n",
    "data.frame(do.call(rbind, content$results))[c(\"id\", \"element_label\", \"element_collection_label\", \"element_abbreviation\")]"
   ]
  },
  {
   "cell_type": "markdown",
   "metadata": {},
   "source": [
    "### Get Bucket data from metadata collection"
   ]
  },
  {
   "cell_type": "code",
   "execution_count": null,
   "metadata": {},
   "outputs": [],
   "source": [
    "storage_info = cube_api$get_metadata_collection_storage_info()"
   ]
  },
  {
   "cell_type": "code",
   "execution_count": null,
   "metadata": {},
   "outputs": [],
   "source": [
    "storage_info"
   ]
  },
  {
   "cell_type": "code",
   "execution_count": null,
   "metadata": {},
   "outputs": [],
   "source": [
    "## get bucket data\n",
    "bucket_data = get_bucket_data(bucket_name = storage_info[2, 3], file_name = storage_info[2, 4] )\n",
    "bucket_data"
   ]
  },
  {
   "cell_type": "markdown",
   "metadata": {},
   "source": [
    "<br/><br/>"
   ]
  },
  {
   "cell_type": "markdown",
   "metadata": {},
   "source": [
    "### Get Metadata Definition with a Parameter"
   ]
  },
  {
   "cell_type": "code",
   "execution_count": null,
   "metadata": {},
   "outputs": [],
   "source": [
    "response = cube_api$get_element(element_id = 85)"
   ]
  },
  {
   "cell_type": "code",
   "execution_count": null,
   "metadata": {},
   "outputs": [],
   "source": [
    "str(content(response))"
   ]
  },
  {
   "cell_type": "markdown",
   "metadata": {},
   "source": [
    "### Get Metadata with accession ids "
   ]
  },
  {
   "cell_type": "code",
   "execution_count": null,
   "metadata": {},
   "outputs": [],
   "source": [
    "response = cube_api$get_element_instance(element_id = 85, accession_ids = c(\"JAXAS00031\", \"JAXAS00032\", \"JAXAS00034\"))"
   ]
  },
  {
   "cell_type": "code",
   "execution_count": null,
   "metadata": {},
   "outputs": [],
   "source": [
    "str(content(response)$results)"
   ]
  },
  {
   "cell_type": "markdown",
   "metadata": {},
   "source": [
    "### Get Metadata Collection"
   ]
  },
  {
   "cell_type": "code",
   "execution_count": null,
   "metadata": {},
   "outputs": [],
   "source": [
    "response = cube_api$get_metadata_collection()"
   ]
  },
  {
   "cell_type": "code",
   "execution_count": null,
   "metadata": {},
   "outputs": [],
   "source": [
    "json = response_json_to_data(response)"
   ]
  },
  {
   "cell_type": "code",
   "execution_count": null,
   "metadata": {},
   "outputs": [],
   "source": [
    "str(json$results)"
   ]
  },
  {
   "cell_type": "code",
   "execution_count": null,
   "metadata": {},
   "outputs": [],
   "source": [
    "accession_ids = json$results[,2][[1]]$accession_id\n",
    "accession_ids"
   ]
  },
  {
   "cell_type": "code",
   "execution_count": null,
   "metadata": {},
   "outputs": [],
   "source": [
    "response = cube_api$get_element_instance(accession_ids = c(accession_ids))"
   ]
  },
  {
   "cell_type": "code",
   "execution_count": null,
   "metadata": {},
   "outputs": [],
   "source": [
    "results = content(response)$results\n",
    "results[[4]][[4]]"
   ]
  },
  {
   "cell_type": "code",
   "execution_count": null,
   "metadata": {},
   "outputs": [],
   "source": [
    "data_url = results[[4]][[4]][[1]][[4]]\n",
    "url_parts = str_split(data_url, \"/\")\n",
    "bucket_name = paste0(\"gs://\", url_parts[[1]][4], \"/\", url_parts[[1]][5])\n",
    "file_name =  url_parts[[1]][6]\n",
    "\n",
    "# load the data from the GCP bucket\n",
    "data_dir = gs_data_dir( bucket_name )\n",
    "\n",
    "# read the file into a dataframe\n",
    "df <- read.table(file.path(data_dir, file_name), sep = '\\t',header = TRUE)\n",
    "df"
   ]
  },
  {
   "cell_type": "markdown",
   "metadata": {},
   "source": [
    "### Call Any Get endpoint\n",
    "Call any get end point.  All the endpoints are listed here: https://metadata-service-sqa.azurewebsites.net/swagger/"
   ]
  },
  {
   "cell_type": "code",
   "execution_count": null,
   "metadata": {},
   "outputs": [],
   "source": [
    "# specify a end point\n",
    "response = cube_api$get_end_point(\"metadata_definition/property/?element_id=85\")"
   ]
  },
  {
   "cell_type": "code",
   "execution_count": null,
   "metadata": {},
   "outputs": [],
   "source": [
    "content(response)$count"
   ]
  },
  {
   "cell_type": "code",
   "execution_count": null,
   "metadata": {},
   "outputs": [],
   "source": [
    "# another end point\n",
    "response = cube_api$get_end_point(\"/metadata_repository/collection_item/1/\")"
   ]
  },
  {
   "cell_type": "code",
   "execution_count": null,
   "metadata": {},
   "outputs": [],
   "source": [
    "content(response)"
   ]
  },
  {
   "cell_type": "markdown",
   "metadata": {},
   "source": [
    "### Post endpoint"
   ]
  },
  {
   "cell_type": "code",
   "execution_count": null,
   "metadata": {},
   "outputs": [],
   "source": [
    "response = cube_api$post_element_instance_filter(element_id = 122, page = 1, page_size = 2)"
   ]
  },
  {
   "cell_type": "code",
   "execution_count": null,
   "metadata": {},
   "outputs": [],
   "source": [
    "str(content(response))"
   ]
  },
  {
   "cell_type": "markdown",
   "metadata": {},
   "source": [
    "### More Information"
   ]
  },
  {
   "cell_type": "code",
   "execution_count": null,
   "metadata": {},
   "outputs": [],
   "source": [
    "?CubeAPI"
   ]
  },
  {
   "cell_type": "code",
   "execution_count": null,
   "metadata": {},
   "outputs": [],
   "source": [
    "?Cube"
   ]
  },
  {
   "cell_type": "code",
   "execution_count": null,
   "metadata": {},
   "outputs": [],
   "source": []
  }
 ],
 "metadata": {
  "kernelspec": {
   "display_name": "R",
   "language": "R",
   "name": "ir"
  },
  "language_info": {
   "codemirror_mode": "r",
   "file_extension": ".r",
   "mimetype": "text/x-r-source",
   "name": "R",
   "pygments_lexer": "r",
   "version": "4.0.3"
  }
 },
 "nbformat": 4,
 "nbformat_minor": 4
}
