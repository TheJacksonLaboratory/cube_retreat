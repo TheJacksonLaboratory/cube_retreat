{
 "cells": [
  {
   "cell_type": "markdown",
   "metadata": {},
   "source": [
    "# Cube Packcage\n",
    "The custom cube package is preinstalled.  just load the library and start to use it \n",
    "<hr/>\n"
   ]
  },
  {
   "cell_type": "markdown",
   "metadata": {},
   "source": [
    "### Load Library and Login to CubeAPI"
   ]
  },
  {
   "cell_type": "code",
   "execution_count": 21,
   "metadata": {},
   "outputs": [],
   "source": [
    "# load all library, it is already installed\n",
    "library(devtools)\n",
    "library(httr)\n",
    "library(jsonlite)\n",
    "library(stringr)\n",
    "library(rapportools)\n",
    "library(htmlwidgets)\n",
    "library(rlist)\n",
    "library(data.table)\n",
    "library(cloudml)\n",
    "library(readr)\n",
    "library(logger)\n",
    "library(cube)\n",
    "setwd(\"~/\")\n",
    "log_threshold(INFO)"
   ]
  },
  {
   "cell_type": "code",
   "execution_count": 22,
   "metadata": {},
   "outputs": [
    {
     "name": "stdout",
     "output_type": "stream",
     "text": [
      "INFO [2021-01-05 20:42:31] Version: 0.0.2\n",
      "INFO [2021-01-05 20:42:31] http://10.105.16.22/metadata-service/\n"
     ]
    }
   ],
   "source": [
    "# create a CubeAPI object\n",
    "cube_api = CubeAPI$new()"
   ]
  },
  {
   "cell_type": "code",
   "execution_count": null,
   "metadata": {},
   "outputs": [],
   "source": [
    "# only need to login once per month\n",
    "# after run, click on \"verification_uri_complete\" to finish verification\n",
    "cube_api$login()"
   ]
  },
  {
   "cell_type": "markdown",
   "metadata": {},
   "source": [
    "### Get Metadata Definition"
   ]
  },
  {
   "cell_type": "code",
   "execution_count": 23,
   "metadata": {},
   "outputs": [
    {
     "name": "stdout",
     "output_type": "stream",
     "text": [
      "INFO [2021-01-05 20:42:34] GET: http://10.105.16.22/metadata-service/metadata_definition/element/\n",
      "INFO [2021-01-05 20:42:37] status_code: 200\n"
     ]
    }
   ],
   "source": [
    "# retrieve metadata element\n",
    "response = cube_api$get_element()"
   ]
  },
  {
   "cell_type": "code",
   "execution_count": null,
   "metadata": {},
   "outputs": [],
   "source": [
    "str(response)"
   ]
  },
  {
   "cell_type": "code",
   "execution_count": 24,
   "metadata": {},
   "outputs": [],
   "source": [
    "# get the content of the response\n",
    "content = content(response)"
   ]
  },
  {
   "cell_type": "code",
   "execution_count": null,
   "metadata": {},
   "outputs": [],
   "source": [
    "str(content)"
   ]
  },
  {
   "cell_type": "code",
   "execution_count": 25,
   "metadata": {},
   "outputs": [
    {
     "data": {
      "text/html": [
       "<table>\n",
       "<caption>A data.frame: 35 × 4</caption>\n",
       "<thead>\n",
       "\t<tr><th scope=col>id</th><th scope=col>element_label</th><th scope=col>element_collection_label</th><th scope=col>element_abbreviation</th></tr>\n",
       "\t<tr><th scope=col>&lt;list&gt;</th><th scope=col>&lt;list&gt;</th><th scope=col>&lt;list&gt;</th><th scope=col>&lt;list&gt;</th></tr>\n",
       "</thead>\n",
       "<tbody>\n",
       "\t<tr><td>138</td><td>Animal</td><td>Animals</td><td>AA</td></tr>\n",
       "\t<tr><td>85</td><td>Assay Type</td><td>Assay Types</td><td>AS</td></tr>\n",
       "\t<tr><td>125</td><td>Biobank</td><td>Biobank</td><td>BB</td></tr>\n",
       "\t<tr><td>137</td><td>Data Set</td><td>Data Sets</td><td>DS</td></tr>\n",
       "\t<tr><td>115</td><td>Disease</td><td>Diseases</td><td>DS</td></tr>\n",
       "\t<tr><td>112</td><td>Drug Treatment</td><td>Drug Treatments</td><td>DR</td></tr>\n",
       "\t<tr><td>122</td><td>File Set</td><td>File Sets</td><td>FS</td></tr>\n",
       "\t<tr><td>118</td><td>Funding Source</td><td>Funding Sources</td><td>FD</td></tr>\n",
       "\t<tr><td>117</td><td>Human Donors</td><td>Human Donors</td><td>HU</td></tr>\n",
       "\t<tr><td>113</td><td>Individual Assay</td><td>Individual Assays</td><td>AY</td></tr>\n",
       "\t<tr><td>120</td><td>Individual Data File</td><td>Individual Data File</td><td>FF</td></tr>\n",
       "\t<tr><td>83</td><td>Individual Mouse</td><td>Individual Mice</td><td>MM</td></tr>\n",
       "\t<tr><td>109</td><td>Individual Sample</td><td>Individual Samples</td><td>SM</td></tr>\n",
       "\t<tr><td>133</td><td>Initiative</td><td>Initiatives</td><td>IV</td></tr>\n",
       "\t<tr><td>126</td><td>Introduction to the Portal</td><td>Introduction</td><td>00</td></tr>\n",
       "\t<tr><td>150</td><td>Investigation</td><td>Investigations</td><td>IN</td></tr>\n",
       "\t<tr><td>108</td><td>Investigations</td><td>Investigations</td><td>IN</td></tr>\n",
       "\t<tr><td>106</td><td>Investigator</td><td>Investigators</td><td>IV</td></tr>\n",
       "\t<tr><td>77</td><td>Lab</td><td>Labs</td><td>LB</td></tr>\n",
       "\t<tr><td>139</td><td>Line</td><td>Lines</td><td>00</td></tr>\n",
       "\t<tr><td>111</td><td>Mouse Diet</td><td>Mouse Diets</td><td>DI</td></tr>\n",
       "\t<tr><td>141</td><td>Mouse Intake</td><td>Mice Intake</td><td>MI</td></tr>\n",
       "\t<tr><td>84</td><td>Mouse Strain</td><td>Strains</td><td>MS</td></tr>\n",
       "\t<tr><td>144</td><td>New Element</td><td>New Elements</td><td>NE</td></tr>\n",
       "\t<tr><td>116</td><td>Organism</td><td>Organisms</td><td>OR</td></tr>\n",
       "\t<tr><td>110</td><td>Publication</td><td>Publications</td><td>PB</td></tr>\n",
       "\t<tr><td>128</td><td>Reference File</td><td>Reference Files</td><td>RF</td></tr>\n",
       "\t<tr><td>86</td><td>Sample Type</td><td>Sample Types</td><td>SP</td></tr>\n",
       "\t<tr><td>146</td><td>Scientist</td><td>Scientists</td><td>PI</td></tr>\n",
       "\t<tr><td>131</td><td>Software</td><td>Software</td><td>SF</td></tr>\n",
       "\t<tr><td>145</td><td>Study</td><td>Studies</td><td>ST</td></tr>\n",
       "\t<tr><td>81</td><td>Study</td><td>Studies</td><td>ST</td></tr>\n",
       "\t<tr><td>151</td><td>Study</td><td>Studies</td><td>ST</td></tr>\n",
       "\t<tr><td>149</td><td>Test Element</td><td>Test Elements</td><td>TE</td></tr>\n",
       "\t<tr><td>143</td><td>Test Mouse</td><td>Test Mice</td><td>TM</td></tr>\n",
       "</tbody>\n",
       "</table>\n"
      ],
      "text/latex": [
       "A data.frame: 35 × 4\n",
       "\\begin{tabular}{llll}\n",
       " id & element\\_label & element\\_collection\\_label & element\\_abbreviation\\\\\n",
       " <list> & <list> & <list> & <list>\\\\\n",
       "\\hline\n",
       "\t 138 & Animal & Animals & AA\\\\\n",
       "\t 85 & Assay Type & Assay Types & AS\\\\\n",
       "\t 125 & Biobank & Biobank & BB\\\\\n",
       "\t 137 & Data Set & Data Sets & DS\\\\\n",
       "\t 115 & Disease & Diseases & DS\\\\\n",
       "\t 112 & Drug Treatment & Drug Treatments & DR\\\\\n",
       "\t 122 & File Set & File Sets & FS\\\\\n",
       "\t 118 & Funding Source & Funding Sources & FD\\\\\n",
       "\t 117 & Human Donors & Human Donors & HU\\\\\n",
       "\t 113 & Individual Assay & Individual Assays & AY\\\\\n",
       "\t 120 & Individual Data File & Individual Data File & FF\\\\\n",
       "\t 83 & Individual Mouse & Individual Mice & MM\\\\\n",
       "\t 109 & Individual Sample & Individual Samples & SM\\\\\n",
       "\t 133 & Initiative & Initiatives & IV\\\\\n",
       "\t 126 & Introduction to the Portal & Introduction & 00\\\\\n",
       "\t 150 & Investigation & Investigations & IN\\\\\n",
       "\t 108 & Investigations & Investigations & IN\\\\\n",
       "\t 106 & Investigator & Investigators & IV\\\\\n",
       "\t 77 & Lab & Labs & LB\\\\\n",
       "\t 139 & Line & Lines & 00\\\\\n",
       "\t 111 & Mouse Diet & Mouse Diets & DI\\\\\n",
       "\t 141 & Mouse Intake & Mice Intake & MI\\\\\n",
       "\t 84 & Mouse Strain & Strains & MS\\\\\n",
       "\t 144 & New Element & New Elements & NE\\\\\n",
       "\t 116 & Organism & Organisms & OR\\\\\n",
       "\t 110 & Publication & Publications & PB\\\\\n",
       "\t 128 & Reference File & Reference Files & RF\\\\\n",
       "\t 86 & Sample Type & Sample Types & SP\\\\\n",
       "\t 146 & Scientist & Scientists & PI\\\\\n",
       "\t 131 & Software & Software & SF\\\\\n",
       "\t 145 & Study & Studies & ST\\\\\n",
       "\t 81 & Study & Studies & ST\\\\\n",
       "\t 151 & Study & Studies & ST\\\\\n",
       "\t 149 & Test Element & Test Elements & TE\\\\\n",
       "\t 143 & Test Mouse & Test Mice & TM\\\\\n",
       "\\end{tabular}\n"
      ],
      "text/markdown": [
       "\n",
       "A data.frame: 35 × 4\n",
       "\n",
       "| id &lt;list&gt; | element_label &lt;list&gt; | element_collection_label &lt;list&gt; | element_abbreviation &lt;list&gt; |\n",
       "|---|---|---|---|\n",
       "| 138 | Animal | Animals | AA |\n",
       "| 85 | Assay Type | Assay Types | AS |\n",
       "| 125 | Biobank | Biobank | BB |\n",
       "| 137 | Data Set | Data Sets | DS |\n",
       "| 115 | Disease | Diseases | DS |\n",
       "| 112 | Drug Treatment | Drug Treatments | DR |\n",
       "| 122 | File Set | File Sets | FS |\n",
       "| 118 | Funding Source | Funding Sources | FD |\n",
       "| 117 | Human Donors | Human Donors | HU |\n",
       "| 113 | Individual Assay | Individual Assays | AY |\n",
       "| 120 | Individual Data File | Individual Data File | FF |\n",
       "| 83 | Individual Mouse | Individual Mice | MM |\n",
       "| 109 | Individual Sample | Individual Samples | SM |\n",
       "| 133 | Initiative | Initiatives | IV |\n",
       "| 126 | Introduction to the Portal | Introduction | 00 |\n",
       "| 150 | Investigation | Investigations | IN |\n",
       "| 108 | Investigations | Investigations | IN |\n",
       "| 106 | Investigator | Investigators | IV |\n",
       "| 77 | Lab | Labs | LB |\n",
       "| 139 | Line | Lines | 00 |\n",
       "| 111 | Mouse Diet | Mouse Diets | DI |\n",
       "| 141 | Mouse Intake | Mice Intake | MI |\n",
       "| 84 | Mouse Strain | Strains | MS |\n",
       "| 144 | New Element | New Elements | NE |\n",
       "| 116 | Organism | Organisms | OR |\n",
       "| 110 | Publication | Publications | PB |\n",
       "| 128 | Reference File | Reference Files | RF |\n",
       "| 86 | Sample Type | Sample Types | SP |\n",
       "| 146 | Scientist | Scientists | PI |\n",
       "| 131 | Software | Software | SF |\n",
       "| 145 | Study | Studies | ST |\n",
       "| 81 | Study | Studies | ST |\n",
       "| 151 | Study | Studies | ST |\n",
       "| 149 | Test Element | Test Elements | TE |\n",
       "| 143 | Test Mouse | Test Mice | TM |\n",
       "\n"
      ],
      "text/plain": [
       "   id  element_label              element_collection_label element_abbreviation\n",
       "1  138 Animal                     Animals                  AA                  \n",
       "2  85  Assay Type                 Assay Types              AS                  \n",
       "3  125 Biobank                    Biobank                  BB                  \n",
       "4  137 Data Set                   Data Sets                DS                  \n",
       "5  115 Disease                    Diseases                 DS                  \n",
       "6  112 Drug Treatment             Drug Treatments          DR                  \n",
       "7  122 File Set                   File Sets                FS                  \n",
       "8  118 Funding Source             Funding Sources          FD                  \n",
       "9  117 Human Donors               Human Donors             HU                  \n",
       "10 113 Individual Assay           Individual Assays        AY                  \n",
       "11 120 Individual Data File       Individual Data File     FF                  \n",
       "12 83  Individual Mouse           Individual Mice          MM                  \n",
       "13 109 Individual Sample          Individual Samples       SM                  \n",
       "14 133 Initiative                 Initiatives              IV                  \n",
       "15 126 Introduction to the Portal Introduction             00                  \n",
       "16 150 Investigation              Investigations           IN                  \n",
       "17 108 Investigations             Investigations           IN                  \n",
       "18 106 Investigator               Investigators            IV                  \n",
       "19 77  Lab                        Labs                     LB                  \n",
       "20 139 Line                       Lines                    00                  \n",
       "21 111 Mouse Diet                 Mouse Diets              DI                  \n",
       "22 141 Mouse Intake               Mice Intake              MI                  \n",
       "23 84  Mouse Strain               Strains                  MS                  \n",
       "24 144 New Element                New Elements             NE                  \n",
       "25 116 Organism                   Organisms                OR                  \n",
       "26 110 Publication                Publications             PB                  \n",
       "27 128 Reference File             Reference Files          RF                  \n",
       "28 86  Sample Type                Sample Types             SP                  \n",
       "29 146 Scientist                  Scientists               PI                  \n",
       "30 131 Software                   Software                 SF                  \n",
       "31 145 Study                      Studies                  ST                  \n",
       "32 81  Study                      Studies                  ST                  \n",
       "33 151 Study                      Studies                  ST                  \n",
       "34 149 Test Element               Test Elements            TE                  \n",
       "35 143 Test Mouse                 Test Mice                TM                  "
      ]
     },
     "metadata": {},
     "output_type": "display_data"
    }
   ],
   "source": [
    "# to data frame\n",
    "data.frame(do.call(rbind, content$results))[c(\"id\", \"element_label\", \"element_collection_label\", \"element_abbreviation\")]"
   ]
  },
  {
   "cell_type": "markdown",
   "metadata": {},
   "source": [
    "### Get Bucket data from metadata collection"
   ]
  },
  {
   "cell_type": "code",
   "execution_count": 26,
   "metadata": {},
   "outputs": [
    {
     "name": "stdout",
     "output_type": "stream",
     "text": [
      "INFO [2021-01-05 20:42:49] GET: http://10.105.16.22/metadata-service/metadata_repository/collection/\n",
      "INFO [2021-01-05 20:42:50] status_code: 200\n",
      "INFO [2021-01-05 20:42:50] number of accession_ids: 9\n",
      "INFO [2021-01-05 20:42:50] GET: http://10.105.16.22/metadata-service/metadata_repository/element_instance/\n",
      "INFO [2021-01-05 20:42:52] status_code: 200\n",
      "INFO [2021-01-05 20:42:52] number of row returned: 4\n"
     ]
    }
   ],
   "source": [
    "storage_info = cube_api$get_metadata_collection_storage_info()"
   ]
  },
  {
   "cell_type": "code",
   "execution_count": 27,
   "metadata": {},
   "outputs": [
    {
     "data": {
      "text/html": [
       "<table>\n",
       "<caption>A data.frame: 4 × 4</caption>\n",
       "<thead>\n",
       "\t<tr><th></th><th scope=col>accession_id</th><th scope=col>uri</th><th scope=col>bucket_name</th><th scope=col>file_name</th></tr>\n",
       "\t<tr><th></th><th scope=col>&lt;chr&gt;</th><th scope=col>&lt;chr&gt;</th><th scope=col>&lt;chr&gt;</th><th scope=col>&lt;chr&gt;</th></tr>\n",
       "</thead>\n",
       "<tbody>\n",
       "\t<tr><th scope=row>1</th><td>JAXDS00004</td><td>gs://jax-cube-prd-ctrl-01-project-data/study_4-1/4.1_NMR_to_201016.txt?authuser=1                             </td><td>gs://jax-cube-prd-ctrl-01-project-data/study_4-1</td><td>4.1_NMR_to_201016.txt        </td></tr>\n",
       "\t<tr><th scope=row>2</th><td>JAXDS00003</td><td>https://storage.cloud.google.com/jax-cube-prd-ctrl-01-project-data/study_4-1/4.1_GTT_to_201016.txt?authuser=1 </td><td>gs://jax-cube-prd-ctrl-01-project-data/study_4-1</td><td>4.1_GTT_to_201016.txt        </td></tr>\n",
       "\t<tr><th scope=row>3</th><td>JAXDS00002</td><td>https://storage.cloud.google.com/jax-cube-prd-ctrl-01-project-data/study_4-1/4.1_DEXA_to_201016.txt?authuser=1</td><td>gs://jax-cube-prd-ctrl-01-project-data/study_4-1</td><td>4.1_DEXA_to_201016.txt       </td></tr>\n",
       "\t<tr><th scope=row>4</th><td>JAXDS00001</td><td>https://storage.cloud.google.com/jax-cube-prd-ctrl-01-project-data/study_4-1/4.1_BODY_WEIGHT_to_201016.txt    </td><td>gs://jax-cube-prd-ctrl-01-project-data/study_4-1</td><td>4.1_BODY_WEIGHT_to_201016.txt</td></tr>\n",
       "</tbody>\n",
       "</table>\n"
      ],
      "text/latex": [
       "A data.frame: 4 × 4\n",
       "\\begin{tabular}{r|llll}\n",
       "  & accession\\_id & uri & bucket\\_name & file\\_name\\\\\n",
       "  & <chr> & <chr> & <chr> & <chr>\\\\\n",
       "\\hline\n",
       "\t1 & JAXDS00004 & gs://jax-cube-prd-ctrl-01-project-data/study\\_4-1/4.1\\_NMR\\_to\\_201016.txt?authuser=1                              & gs://jax-cube-prd-ctrl-01-project-data/study\\_4-1 & 4.1\\_NMR\\_to\\_201016.txt        \\\\\n",
       "\t2 & JAXDS00003 & https://storage.cloud.google.com/jax-cube-prd-ctrl-01-project-data/study\\_4-1/4.1\\_GTT\\_to\\_201016.txt?authuser=1  & gs://jax-cube-prd-ctrl-01-project-data/study\\_4-1 & 4.1\\_GTT\\_to\\_201016.txt        \\\\\n",
       "\t3 & JAXDS00002 & https://storage.cloud.google.com/jax-cube-prd-ctrl-01-project-data/study\\_4-1/4.1\\_DEXA\\_to\\_201016.txt?authuser=1 & gs://jax-cube-prd-ctrl-01-project-data/study\\_4-1 & 4.1\\_DEXA\\_to\\_201016.txt       \\\\\n",
       "\t4 & JAXDS00001 & https://storage.cloud.google.com/jax-cube-prd-ctrl-01-project-data/study\\_4-1/4.1\\_BODY\\_WEIGHT\\_to\\_201016.txt     & gs://jax-cube-prd-ctrl-01-project-data/study\\_4-1 & 4.1\\_BODY\\_WEIGHT\\_to\\_201016.txt\\\\\n",
       "\\end{tabular}\n"
      ],
      "text/markdown": [
       "\n",
       "A data.frame: 4 × 4\n",
       "\n",
       "| <!--/--> | accession_id &lt;chr&gt; | uri &lt;chr&gt; | bucket_name &lt;chr&gt; | file_name &lt;chr&gt; |\n",
       "|---|---|---|---|---|\n",
       "| 1 | JAXDS00004 | gs://jax-cube-prd-ctrl-01-project-data/study_4-1/4.1_NMR_to_201016.txt?authuser=1                              | gs://jax-cube-prd-ctrl-01-project-data/study_4-1 | 4.1_NMR_to_201016.txt         |\n",
       "| 2 | JAXDS00003 | https://storage.cloud.google.com/jax-cube-prd-ctrl-01-project-data/study_4-1/4.1_GTT_to_201016.txt?authuser=1  | gs://jax-cube-prd-ctrl-01-project-data/study_4-1 | 4.1_GTT_to_201016.txt         |\n",
       "| 3 | JAXDS00002 | https://storage.cloud.google.com/jax-cube-prd-ctrl-01-project-data/study_4-1/4.1_DEXA_to_201016.txt?authuser=1 | gs://jax-cube-prd-ctrl-01-project-data/study_4-1 | 4.1_DEXA_to_201016.txt        |\n",
       "| 4 | JAXDS00001 | https://storage.cloud.google.com/jax-cube-prd-ctrl-01-project-data/study_4-1/4.1_BODY_WEIGHT_to_201016.txt     | gs://jax-cube-prd-ctrl-01-project-data/study_4-1 | 4.1_BODY_WEIGHT_to_201016.txt |\n",
       "\n"
      ],
      "text/plain": [
       "  accession_id\n",
       "1 JAXDS00004  \n",
       "2 JAXDS00003  \n",
       "3 JAXDS00002  \n",
       "4 JAXDS00001  \n",
       "  uri                                                                                                           \n",
       "1 gs://jax-cube-prd-ctrl-01-project-data/study_4-1/4.1_NMR_to_201016.txt?authuser=1                             \n",
       "2 https://storage.cloud.google.com/jax-cube-prd-ctrl-01-project-data/study_4-1/4.1_GTT_to_201016.txt?authuser=1 \n",
       "3 https://storage.cloud.google.com/jax-cube-prd-ctrl-01-project-data/study_4-1/4.1_DEXA_to_201016.txt?authuser=1\n",
       "4 https://storage.cloud.google.com/jax-cube-prd-ctrl-01-project-data/study_4-1/4.1_BODY_WEIGHT_to_201016.txt    \n",
       "  bucket_name                                     \n",
       "1 gs://jax-cube-prd-ctrl-01-project-data/study_4-1\n",
       "2 gs://jax-cube-prd-ctrl-01-project-data/study_4-1\n",
       "3 gs://jax-cube-prd-ctrl-01-project-data/study_4-1\n",
       "4 gs://jax-cube-prd-ctrl-01-project-data/study_4-1\n",
       "  file_name                    \n",
       "1 4.1_NMR_to_201016.txt        \n",
       "2 4.1_GTT_to_201016.txt        \n",
       "3 4.1_DEXA_to_201016.txt       \n",
       "4 4.1_BODY_WEIGHT_to_201016.txt"
      ]
     },
     "metadata": {},
     "output_type": "display_data"
    }
   ],
   "source": [
    "storage_info"
   ]
  },
  {
   "cell_type": "code",
   "execution_count": null,
   "metadata": {},
   "outputs": [],
   "source": [
    "## get bucket data\n",
    "bucket_data = get_bucket_data(bucket_name = storage_info[2, 3], file_name = storage_info[2, 4] )\n",
    "bucket_data"
   ]
  },
  {
   "cell_type": "markdown",
   "metadata": {},
   "source": [
    "<br/><br/>"
   ]
  },
  {
   "cell_type": "markdown",
   "metadata": {},
   "source": [
    "### Get Metadata Definition with a Parameter"
   ]
  },
  {
   "cell_type": "code",
   "execution_count": null,
   "metadata": {},
   "outputs": [],
   "source": [
    "response = cube_api$get_element(element_id = 85)"
   ]
  },
  {
   "cell_type": "code",
   "execution_count": null,
   "metadata": {},
   "outputs": [],
   "source": [
    "str(content(response))"
   ]
  },
  {
   "cell_type": "markdown",
   "metadata": {},
   "source": [
    "### Get Metadata with accession ids "
   ]
  },
  {
   "cell_type": "code",
   "execution_count": null,
   "metadata": {},
   "outputs": [],
   "source": [
    "response = cube_api$get_element_instance(element_id = 85, accession_ids = c(\"JAXAS00031\", \"JAXAS00032\", \"JAXAS00034\"))"
   ]
  },
  {
   "cell_type": "code",
   "execution_count": null,
   "metadata": {},
   "outputs": [],
   "source": [
    "str(content(response)$results)"
   ]
  },
  {
   "cell_type": "markdown",
   "metadata": {},
   "source": [
    "### Get Metadata Collection"
   ]
  },
  {
   "cell_type": "code",
   "execution_count": null,
   "metadata": {},
   "outputs": [],
   "source": [
    "response = cube_api$get_metadata_collection()"
   ]
  },
  {
   "cell_type": "code",
   "execution_count": null,
   "metadata": {},
   "outputs": [],
   "source": [
    "json = response_json_to_data(response)"
   ]
  },
  {
   "cell_type": "code",
   "execution_count": null,
   "metadata": {},
   "outputs": [],
   "source": [
    "str(json$results)"
   ]
  },
  {
   "cell_type": "code",
   "execution_count": null,
   "metadata": {},
   "outputs": [],
   "source": [
    "accession_ids = json$results[,2][[1]]$accession_id\n",
    "accession_ids"
   ]
  },
  {
   "cell_type": "code",
   "execution_count": null,
   "metadata": {},
   "outputs": [],
   "source": [
    "response = cube_api$get_element_instance(accession_ids = c(accession_ids))"
   ]
  },
  {
   "cell_type": "code",
   "execution_count": null,
   "metadata": {},
   "outputs": [],
   "source": [
    "results = content(response)$results\n",
    "results[[4]][[4]]"
   ]
  },
  {
   "cell_type": "code",
   "execution_count": null,
   "metadata": {},
   "outputs": [],
   "source": [
    "data_url = results[[4]][[4]][[1]][[4]]\n",
    "url_parts = str_split(data_url, \"/\")\n",
    "bucket_name = paste0(\"gs://\", url_parts[[1]][4], \"/\", url_parts[[1]][5])\n",
    "file_name =  url_parts[[1]][6]\n",
    "\n",
    "# load the data from the GCP bucket\n",
    "data_dir = gs_data_dir( bucket_name )\n",
    "\n",
    "# read the file into a dataframe\n",
    "df <- read.table(file.path(data_dir, file_name), sep = '\\t',header = TRUE)\n",
    "df"
   ]
  },
  {
   "cell_type": "markdown",
   "metadata": {},
   "source": [
    "### Call Any Get endpoint\n",
    "Call any get end point.  All the endpoints are listed here: https://metadata-service-sqa.azurewebsites.net/swagger/"
   ]
  },
  {
   "cell_type": "code",
   "execution_count": null,
   "metadata": {},
   "outputs": [],
   "source": [
    "# specify a end point\n",
    "response = cube_api$get_end_point(\"metadata_definition/property/?element_id=85\")"
   ]
  },
  {
   "cell_type": "code",
   "execution_count": null,
   "metadata": {},
   "outputs": [],
   "source": [
    "content(response)$count"
   ]
  },
  {
   "cell_type": "code",
   "execution_count": null,
   "metadata": {},
   "outputs": [],
   "source": [
    "# another end point\n",
    "response = cube_api$get_end_point(\"/metadata_repository/collection_item/1/\")"
   ]
  },
  {
   "cell_type": "code",
   "execution_count": null,
   "metadata": {},
   "outputs": [],
   "source": [
    "content(response)"
   ]
  },
  {
   "cell_type": "markdown",
   "metadata": {},
   "source": [
    "### Post endpoint"
   ]
  },
  {
   "cell_type": "code",
   "execution_count": null,
   "metadata": {},
   "outputs": [],
   "source": [
    "response = cube_api$post_element_instance_filter(element_id = 122, page = 1, page_size = 2)"
   ]
  },
  {
   "cell_type": "code",
   "execution_count": null,
   "metadata": {},
   "outputs": [],
   "source": [
    "str(content(response))"
   ]
  },
  {
   "cell_type": "markdown",
   "metadata": {},
   "source": [
    "### More Information"
   ]
  },
  {
   "cell_type": "code",
   "execution_count": null,
   "metadata": {},
   "outputs": [],
   "source": [
    "?CubeAPI"
   ]
  },
  {
   "cell_type": "code",
   "execution_count": null,
   "metadata": {},
   "outputs": [],
   "source": [
    "?Cube"
   ]
  },
  {
   "cell_type": "code",
   "execution_count": null,
   "metadata": {},
   "outputs": [],
   "source": []
  }
 ],
 "metadata": {
  "kernelspec": {
   "display_name": "R",
   "language": "R",
   "name": "ir"
  },
  "language_info": {
   "codemirror_mode": "r",
   "file_extension": ".r",
   "mimetype": "text/x-r-source",
   "name": "R",
   "pygments_lexer": "r",
   "version": "4.0.3"
  }
 },
 "nbformat": 4,
 "nbformat_minor": 4
}
