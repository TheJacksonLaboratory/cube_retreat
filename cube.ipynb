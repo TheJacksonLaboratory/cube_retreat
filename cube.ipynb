{
 "cells": [
  {
   "cell_type": "markdown",
   "metadata": {},
   "source": [
    "# Cube Packcage\n",
    "The custom cube package is preinstalled.  just load the library and start to use it \n",
    "<hr/>\n"
   ]
  },
  {
   "cell_type": "markdown",
   "metadata": {},
   "source": [
    "### Load Library and Login to CubeAPI"
   ]
  },
  {
   "cell_type": "code",
   "execution_count": 1,
   "metadata": {},
   "outputs": [
    {
     "name": "stderr",
     "output_type": "stream",
     "text": [
      "Loading required package: usethis\n",
      "\n",
      "Loading required package: reshape\n",
      "\n",
      "\n",
      "Attaching package: ‘rapportools’\n",
      "\n",
      "\n",
      "The following objects are masked from ‘package:stats’:\n",
      "\n",
      "    IQR, median, sd, var\n",
      "\n",
      "\n",
      "The following objects are masked from ‘package:base’:\n",
      "\n",
      "    max, mean, min, range, sum\n",
      "\n",
      "\n",
      "\n",
      "Attaching package: ‘data.table’\n",
      "\n",
      "\n",
      "The following object is masked from ‘package:reshape’:\n",
      "\n",
      "    melt\n",
      "\n",
      "\n",
      "Loading required package: tfruns\n",
      "\n"
     ]
    }
   ],
   "source": [
    "# load all library, it is already installed\n",
    "library(devtools)\n",
    "library(httr)\n",
    "library(jsonlite)\n",
    "library(stringr)\n",
    "library(rapportools)\n",
    "library(htmlwidgets)\n",
    "library(rlist)\n",
    "library(data.table)\n",
    "library(cloudml)\n",
    "library(readr)\n",
    "library(logger)\n",
    "library(cube)\n",
    "setwd(\"~/\")\n",
    "log_threshold(INFO)"
   ]
  },
  {
   "cell_type": "code",
   "execution_count": 2,
   "metadata": {},
   "outputs": [
    {
     "name": "stdout",
     "output_type": "stream",
     "text": [
      "INFO [2021-01-10 18:12:25] Version: 0.0.2\n",
      "INFO [2021-01-10 18:12:25] http://10.105.16.22/metadata-service/\n"
     ]
    }
   ],
   "source": [
    "# create a CubeAPI object\n",
    "cube_api = CubeAPI$new()"
   ]
  },
  {
   "cell_type": "code",
   "execution_count": null,
   "metadata": {},
   "outputs": [],
   "source": [
    "# only need to login once per month\n",
    "# after run, click on \"verification_uri_complete\" to finish verification\n",
    "cube_api$login()"
   ]
  },
  {
   "cell_type": "markdown",
   "metadata": {},
   "source": [
    "### 1. Get Metadata Definition"
   ]
  },
  {
   "cell_type": "code",
   "execution_count": 3,
   "metadata": {},
   "outputs": [
    {
     "name": "stdout",
     "output_type": "stream",
     "text": [
      "INFO [2021-01-10 18:12:28] GET: http://10.105.16.22/metadata-service/metadata_definition/element/\n",
      "INFO [2021-01-10 18:12:29] status_code: 200\n"
     ]
    }
   ],
   "source": [
    "# retrieve metadata element\n",
    "response = cube_api$get_element()"
   ]
  },
  {
   "cell_type": "code",
   "execution_count": null,
   "metadata": {},
   "outputs": [],
   "source": [
    "str(response)"
   ]
  },
  {
   "cell_type": "code",
   "execution_count": null,
   "metadata": {},
   "outputs": [],
   "source": [
    "# get the content of the response\n",
    "content = content(response)"
   ]
  },
  {
   "cell_type": "code",
   "execution_count": null,
   "metadata": {},
   "outputs": [],
   "source": [
    "str(content)"
   ]
  },
  {
   "cell_type": "code",
   "execution_count": null,
   "metadata": {},
   "outputs": [],
   "source": [
    "# to data frame\n",
    "data.frame(do.call(rbind, content$results))[c(\"id\", \"element_label\", \"element_collection_label\", \"element_abbreviation\")]"
   ]
  },
  {
   "cell_type": "markdown",
   "metadata": {},
   "source": [
    "### 2. Get Bucket data from metadata collection"
   ]
  },
  {
   "cell_type": "code",
   "execution_count": 4,
   "metadata": {},
   "outputs": [
    {
     "name": "stdout",
     "output_type": "stream",
     "text": [
      "INFO [2021-01-10 18:12:32] GET: http://10.105.16.22/metadata-service/metadata_repository/collection/\n",
      "INFO [2021-01-10 18:12:34] status_code: 200\n",
      "INFO [2021-01-10 18:12:34] number of accession_ids: 80\n",
      "INFO [2021-01-10 18:12:34] GET: http://10.105.16.22/metadata-service/metadata_repository/element_instance/\n",
      "INFO [2021-01-10 18:12:36] status_code: 200\n",
      "INFO [2021-01-10 18:12:36] number of row returned: 100\n"
     ]
    }
   ],
   "source": [
    "storage_info = cube_api$get_metadata_collection_storage_info()\n"
   ]
  },
  {
   "cell_type": "code",
   "execution_count": 8,
   "metadata": {},
   "outputs": [
    {
     "name": "stderr",
     "output_type": "stream",
     "text": [
      "Warning message in if (!nzchar(name)) stop(gettextf(\"expected a non-empty character string for argument name\"), :\n",
      "“the condition has length > 1 and only the first element will be used”\n"
     ]
    },
    {
     "ename": "ERROR",
     "evalue": "Error in get0(name, envir = where, mode = \"function\", inherits = FALSE): invalid first argument\n",
     "output_type": "error",
     "traceback": [
      "Error in get0(name, envir = where, mode = \"function\", inherits = FALSE): invalid first argument\nTraceback:\n",
      "1. `?`(cube_api$get_metadata_collection_storage_info())",
      "2. .helpForCall(topicExpr, parent.frame())",
      "3. methods::isGeneric(f, where = where)",
      "4. getFunction(f, where = where, mustFind = FALSE)",
      "5. get0(name, envir = where, mode = \"function\", inherits = FALSE)"
     ]
    }
   ],
   "source": [
    "?cube_api$get_metadata_collection_storage_info()"
   ]
  },
  {
   "cell_type": "code",
   "execution_count": 10,
   "metadata": {},
   "outputs": [
    {
     "ename": "ERROR",
     "evalue": "Error in !CubeAPI: invalid argument type\n",
     "output_type": "error",
     "traceback": [
      "Error in !CubeAPI: invalid argument type\nTraceback:\n"
     ]
    }
   ],
   "source": [
    "!CubeAPI"
   ]
  },
  {
   "cell_type": "code",
   "execution_count": null,
   "metadata": {},
   "outputs": [],
   "source": [
    "# pick a bucket\n",
    "bucket_name = storage_info[1, 3]\n",
    "bucket_name"
   ]
  },
  {
   "cell_type": "code",
   "execution_count": 29,
   "metadata": {},
   "outputs": [
    {
     "data": {
      "text/html": [
       "<style>\n",
       ".list-inline {list-style: none; margin:0; padding: 0}\n",
       ".list-inline>li {display: inline-block}\n",
       ".list-inline>li:not(:last-child)::after {content: \"\\00b7\"; padding: 0 .5ex}\n",
       "</style>\n",
       "<ol class=list-inline><li><span style=white-space:pre-wrap>'  3.01 KiB  2020-06-08T00:00:30Z  gs://jax-cube-prd-ctrl-01-project-data/20200607_20-cube-001-run5/20-cube-001-run5_QCreport.csv'</span></li><li><span style=white-space:pre-wrap>'  1.46 GiB  2020-07-08T23:52:52Z  gs://jax-cube-prd-ctrl-01-project-data/20200607_20-cube-001-run5/DO024_GT20_00649_ATGTGATT-CGTTACTT_S20_L002_R1_001.fastq.gz'</span></li><li><span style=white-space:pre-wrap>'  1.52 GiB  2020-07-08T23:52:48Z  gs://jax-cube-prd-ctrl-01-project-data/20200607_20-cube-001-run5/DO024_GT20_00649_ATGTGATT-CGTTACTT_S20_L002_R2_001.fastq.gz'</span></li><li><span style=white-space:pre-wrap>'  1.02 GiB  2020-07-08T23:51:37Z  gs://jax-cube-prd-ctrl-01-project-data/20200607_20-cube-001-run5/DO051_GT20_00274_CGTAAGAG-TCGCTGAC_S17_L002_R1_001.fastq.gz'</span></li><li><span style=white-space:pre-wrap>'  1.07 GiB  2020-07-08T23:52:15Z  gs://jax-cube-prd-ctrl-01-project-data/20200607_20-cube-001-run5/DO051_GT20_00274_CGTAAGAG-TCGCTGAC_S17_L002_R2_001.fastq.gz'</span></li><li><span style=white-space:pre-wrap>'  1.64 GiB  2020-07-08T23:52:37Z  gs://jax-cube-prd-ctrl-01-project-data/20200607_20-cube-001-run5/DO083_GT20_00693_GAGTCAGA-TTGGATAC_S22_L002_R1_001.fastq.gz'</span></li><li><span style=white-space:pre-wrap>'  1.71 GiB  2020-07-08T23:53:21Z  gs://jax-cube-prd-ctrl-01-project-data/20200607_20-cube-001-run5/DO083_GT20_00693_GAGTCAGA-TTGGATAC_S22_L002_R2_001.fastq.gz'</span></li><li><span style=white-space:pre-wrap>'  1.71 GiB  2020-07-08T23:53:19Z  gs://jax-cube-prd-ctrl-01-project-data/20200607_20-cube-001-run5/DO177_GT20_00287_CCACAATG-CGTTGACG_S16_L002_R1_001.fastq.gz'</span></li><li><span style=white-space:pre-wrap>'  1.78 GiB  2020-07-08T23:53:39Z  gs://jax-cube-prd-ctrl-01-project-data/20200607_20-cube-001-run5/DO177_GT20_00287_CCACAATG-CGTTGACG_S16_L002_R2_001.fastq.gz'</span></li><li><span style=white-space:pre-wrap>'  1.13 GiB  2020-07-08T23:51:03Z  gs://jax-cube-prd-ctrl-01-project-data/20200607_20-cube-001-run5/DO272_GT20_00628_TATAAGAC-CTTACATG_S21_L002_R1_001.fastq.gz'</span></li><li><span style=white-space:pre-wrap>'  1.18 GiB  2020-07-08T23:53:01Z  gs://jax-cube-prd-ctrl-01-project-data/20200607_20-cube-001-run5/DO272_GT20_00628_TATAAGAC-CTTACATG_S21_L002_R2_001.fastq.gz'</span></li><li><span style=white-space:pre-wrap>'  1.47 GiB  2020-07-08T23:53:12Z  gs://jax-cube-prd-ctrl-01-project-data/20200607_20-cube-001-run5/DO384_GT20_00691_AGAATTCA-TGTGCAAT_S19_L002_R1_001.fastq.gz'</span></li><li><span style=white-space:pre-wrap>'  1.51 GiB  2020-07-08T23:53:21Z  gs://jax-cube-prd-ctrl-01-project-data/20200607_20-cube-001-run5/DO384_GT20_00691_AGAATTCA-TGTGCAAT_S19_L002_R2_001.fastq.gz'</span></li><li><span style=white-space:pre-wrap>'  1.45 GiB  2020-07-08T23:52:31Z  gs://jax-cube-prd-ctrl-01-project-data/20200607_20-cube-001-run5/DO504_GT20_00620_TAACTAAG-CAAGACTC_S18_L002_R1_001.fastq.gz'</span></li><li><span style=white-space:pre-wrap>'  1.52 GiB  2020-07-08T23:53:18Z  gs://jax-cube-prd-ctrl-01-project-data/20200607_20-cube-001-run5/DO504_GT20_00620_TAACTAAG-CAAGACTC_S18_L002_R2_001.fastq.gz'</span></li><li><span style=white-space:pre-wrap>'  8.39 KiB  2020-06-08T00:00:30Z  gs://jax-cube-prd-ctrl-01-project-data/20200607_20-cube-001-run5/Run_Metric_Summary_20-cube-001-run5.csv'</span></li><li><span style=white-space:pre-wrap>'   4.7 GiB  2020-06-08T00:01:53Z  gs://jax-cube-prd-ctrl-01-project-data/20200607_20-cube-001-run5/Undetermined_S0_L002_R1_001.fastq.gz'</span></li><li><span style=white-space:pre-wrap>'  4.86 GiB  2020-06-08T00:01:55Z  gs://jax-cube-prd-ctrl-01-project-data/20200607_20-cube-001-run5/Undetermined_S0_L002_R2_001.fastq.gz'</span></li><li><span style=white-space:pre-wrap>' 12.91 KiB  2020-09-10T23:00:29Z  gs://jax-cube-prd-ctrl-01-project-data/20200607_20-cube-001-run5/archived.json'</span></li><li><span style=white-space:pre-wrap>'  1.61 KiB  2020-09-10T15:00:28Z  gs://jax-cube-prd-ctrl-01-project-data/20200607_20-cube-001-run5/checksums.md5'</span></li><li><span style=white-space:pre-wrap>'  10.5 KiB  2020-09-10T15:00:28Z  gs://jax-cube-prd-ctrl-01-project-data/20200607_20-cube-001-run5/gt-metadata.json'</span></li><li>'TOTAL: 21 objects, 31929881381 bytes (29.74 GiB)'</li></ol>\n"
      ],
      "text/latex": [
       "\\begin{enumerate*}\n",
       "\\item '  3.01 KiB  2020-06-08T00:00:30Z  gs://jax-cube-prd-ctrl-01-project-data/20200607\\_20-cube-001-run5/20-cube-001-run5\\_QCreport.csv'\n",
       "\\item '  1.46 GiB  2020-07-08T23:52:52Z  gs://jax-cube-prd-ctrl-01-project-data/20200607\\_20-cube-001-run5/DO024\\_GT20\\_00649\\_ATGTGATT-CGTTACTT\\_S20\\_L002\\_R1\\_001.fastq.gz'\n",
       "\\item '  1.52 GiB  2020-07-08T23:52:48Z  gs://jax-cube-prd-ctrl-01-project-data/20200607\\_20-cube-001-run5/DO024\\_GT20\\_00649\\_ATGTGATT-CGTTACTT\\_S20\\_L002\\_R2\\_001.fastq.gz'\n",
       "\\item '  1.02 GiB  2020-07-08T23:51:37Z  gs://jax-cube-prd-ctrl-01-project-data/20200607\\_20-cube-001-run5/DO051\\_GT20\\_00274\\_CGTAAGAG-TCGCTGAC\\_S17\\_L002\\_R1\\_001.fastq.gz'\n",
       "\\item '  1.07 GiB  2020-07-08T23:52:15Z  gs://jax-cube-prd-ctrl-01-project-data/20200607\\_20-cube-001-run5/DO051\\_GT20\\_00274\\_CGTAAGAG-TCGCTGAC\\_S17\\_L002\\_R2\\_001.fastq.gz'\n",
       "\\item '  1.64 GiB  2020-07-08T23:52:37Z  gs://jax-cube-prd-ctrl-01-project-data/20200607\\_20-cube-001-run5/DO083\\_GT20\\_00693\\_GAGTCAGA-TTGGATAC\\_S22\\_L002\\_R1\\_001.fastq.gz'\n",
       "\\item '  1.71 GiB  2020-07-08T23:53:21Z  gs://jax-cube-prd-ctrl-01-project-data/20200607\\_20-cube-001-run5/DO083\\_GT20\\_00693\\_GAGTCAGA-TTGGATAC\\_S22\\_L002\\_R2\\_001.fastq.gz'\n",
       "\\item '  1.71 GiB  2020-07-08T23:53:19Z  gs://jax-cube-prd-ctrl-01-project-data/20200607\\_20-cube-001-run5/DO177\\_GT20\\_00287\\_CCACAATG-CGTTGACG\\_S16\\_L002\\_R1\\_001.fastq.gz'\n",
       "\\item '  1.78 GiB  2020-07-08T23:53:39Z  gs://jax-cube-prd-ctrl-01-project-data/20200607\\_20-cube-001-run5/DO177\\_GT20\\_00287\\_CCACAATG-CGTTGACG\\_S16\\_L002\\_R2\\_001.fastq.gz'\n",
       "\\item '  1.13 GiB  2020-07-08T23:51:03Z  gs://jax-cube-prd-ctrl-01-project-data/20200607\\_20-cube-001-run5/DO272\\_GT20\\_00628\\_TATAAGAC-CTTACATG\\_S21\\_L002\\_R1\\_001.fastq.gz'\n",
       "\\item '  1.18 GiB  2020-07-08T23:53:01Z  gs://jax-cube-prd-ctrl-01-project-data/20200607\\_20-cube-001-run5/DO272\\_GT20\\_00628\\_TATAAGAC-CTTACATG\\_S21\\_L002\\_R2\\_001.fastq.gz'\n",
       "\\item '  1.47 GiB  2020-07-08T23:53:12Z  gs://jax-cube-prd-ctrl-01-project-data/20200607\\_20-cube-001-run5/DO384\\_GT20\\_00691\\_AGAATTCA-TGTGCAAT\\_S19\\_L002\\_R1\\_001.fastq.gz'\n",
       "\\item '  1.51 GiB  2020-07-08T23:53:21Z  gs://jax-cube-prd-ctrl-01-project-data/20200607\\_20-cube-001-run5/DO384\\_GT20\\_00691\\_AGAATTCA-TGTGCAAT\\_S19\\_L002\\_R2\\_001.fastq.gz'\n",
       "\\item '  1.45 GiB  2020-07-08T23:52:31Z  gs://jax-cube-prd-ctrl-01-project-data/20200607\\_20-cube-001-run5/DO504\\_GT20\\_00620\\_TAACTAAG-CAAGACTC\\_S18\\_L002\\_R1\\_001.fastq.gz'\n",
       "\\item '  1.52 GiB  2020-07-08T23:53:18Z  gs://jax-cube-prd-ctrl-01-project-data/20200607\\_20-cube-001-run5/DO504\\_GT20\\_00620\\_TAACTAAG-CAAGACTC\\_S18\\_L002\\_R2\\_001.fastq.gz'\n",
       "\\item '  8.39 KiB  2020-06-08T00:00:30Z  gs://jax-cube-prd-ctrl-01-project-data/20200607\\_20-cube-001-run5/Run\\_Metric\\_Summary\\_20-cube-001-run5.csv'\n",
       "\\item '   4.7 GiB  2020-06-08T00:01:53Z  gs://jax-cube-prd-ctrl-01-project-data/20200607\\_20-cube-001-run5/Undetermined\\_S0\\_L002\\_R1\\_001.fastq.gz'\n",
       "\\item '  4.86 GiB  2020-06-08T00:01:55Z  gs://jax-cube-prd-ctrl-01-project-data/20200607\\_20-cube-001-run5/Undetermined\\_S0\\_L002\\_R2\\_001.fastq.gz'\n",
       "\\item ' 12.91 KiB  2020-09-10T23:00:29Z  gs://jax-cube-prd-ctrl-01-project-data/20200607\\_20-cube-001-run5/archived.json'\n",
       "\\item '  1.61 KiB  2020-09-10T15:00:28Z  gs://jax-cube-prd-ctrl-01-project-data/20200607\\_20-cube-001-run5/checksums.md5'\n",
       "\\item '  10.5 KiB  2020-09-10T15:00:28Z  gs://jax-cube-prd-ctrl-01-project-data/20200607\\_20-cube-001-run5/gt-metadata.json'\n",
       "\\item 'TOTAL: 21 objects, 31929881381 bytes (29.74 GiB)'\n",
       "\\end{enumerate*}\n"
      ],
      "text/markdown": [
       "1. <span style=white-space:pre-wrap>'  3.01 KiB  2020-06-08T00:00:30Z  gs://jax-cube-prd-ctrl-01-project-data/20200607_20-cube-001-run5/20-cube-001-run5_QCreport.csv'</span>\n",
       "2. <span style=white-space:pre-wrap>'  1.46 GiB  2020-07-08T23:52:52Z  gs://jax-cube-prd-ctrl-01-project-data/20200607_20-cube-001-run5/DO024_GT20_00649_ATGTGATT-CGTTACTT_S20_L002_R1_001.fastq.gz'</span>\n",
       "3. <span style=white-space:pre-wrap>'  1.52 GiB  2020-07-08T23:52:48Z  gs://jax-cube-prd-ctrl-01-project-data/20200607_20-cube-001-run5/DO024_GT20_00649_ATGTGATT-CGTTACTT_S20_L002_R2_001.fastq.gz'</span>\n",
       "4. <span style=white-space:pre-wrap>'  1.02 GiB  2020-07-08T23:51:37Z  gs://jax-cube-prd-ctrl-01-project-data/20200607_20-cube-001-run5/DO051_GT20_00274_CGTAAGAG-TCGCTGAC_S17_L002_R1_001.fastq.gz'</span>\n",
       "5. <span style=white-space:pre-wrap>'  1.07 GiB  2020-07-08T23:52:15Z  gs://jax-cube-prd-ctrl-01-project-data/20200607_20-cube-001-run5/DO051_GT20_00274_CGTAAGAG-TCGCTGAC_S17_L002_R2_001.fastq.gz'</span>\n",
       "6. <span style=white-space:pre-wrap>'  1.64 GiB  2020-07-08T23:52:37Z  gs://jax-cube-prd-ctrl-01-project-data/20200607_20-cube-001-run5/DO083_GT20_00693_GAGTCAGA-TTGGATAC_S22_L002_R1_001.fastq.gz'</span>\n",
       "7. <span style=white-space:pre-wrap>'  1.71 GiB  2020-07-08T23:53:21Z  gs://jax-cube-prd-ctrl-01-project-data/20200607_20-cube-001-run5/DO083_GT20_00693_GAGTCAGA-TTGGATAC_S22_L002_R2_001.fastq.gz'</span>\n",
       "8. <span style=white-space:pre-wrap>'  1.71 GiB  2020-07-08T23:53:19Z  gs://jax-cube-prd-ctrl-01-project-data/20200607_20-cube-001-run5/DO177_GT20_00287_CCACAATG-CGTTGACG_S16_L002_R1_001.fastq.gz'</span>\n",
       "9. <span style=white-space:pre-wrap>'  1.78 GiB  2020-07-08T23:53:39Z  gs://jax-cube-prd-ctrl-01-project-data/20200607_20-cube-001-run5/DO177_GT20_00287_CCACAATG-CGTTGACG_S16_L002_R2_001.fastq.gz'</span>\n",
       "10. <span style=white-space:pre-wrap>'  1.13 GiB  2020-07-08T23:51:03Z  gs://jax-cube-prd-ctrl-01-project-data/20200607_20-cube-001-run5/DO272_GT20_00628_TATAAGAC-CTTACATG_S21_L002_R1_001.fastq.gz'</span>\n",
       "11. <span style=white-space:pre-wrap>'  1.18 GiB  2020-07-08T23:53:01Z  gs://jax-cube-prd-ctrl-01-project-data/20200607_20-cube-001-run5/DO272_GT20_00628_TATAAGAC-CTTACATG_S21_L002_R2_001.fastq.gz'</span>\n",
       "12. <span style=white-space:pre-wrap>'  1.47 GiB  2020-07-08T23:53:12Z  gs://jax-cube-prd-ctrl-01-project-data/20200607_20-cube-001-run5/DO384_GT20_00691_AGAATTCA-TGTGCAAT_S19_L002_R1_001.fastq.gz'</span>\n",
       "13. <span style=white-space:pre-wrap>'  1.51 GiB  2020-07-08T23:53:21Z  gs://jax-cube-prd-ctrl-01-project-data/20200607_20-cube-001-run5/DO384_GT20_00691_AGAATTCA-TGTGCAAT_S19_L002_R2_001.fastq.gz'</span>\n",
       "14. <span style=white-space:pre-wrap>'  1.45 GiB  2020-07-08T23:52:31Z  gs://jax-cube-prd-ctrl-01-project-data/20200607_20-cube-001-run5/DO504_GT20_00620_TAACTAAG-CAAGACTC_S18_L002_R1_001.fastq.gz'</span>\n",
       "15. <span style=white-space:pre-wrap>'  1.52 GiB  2020-07-08T23:53:18Z  gs://jax-cube-prd-ctrl-01-project-data/20200607_20-cube-001-run5/DO504_GT20_00620_TAACTAAG-CAAGACTC_S18_L002_R2_001.fastq.gz'</span>\n",
       "16. <span style=white-space:pre-wrap>'  8.39 KiB  2020-06-08T00:00:30Z  gs://jax-cube-prd-ctrl-01-project-data/20200607_20-cube-001-run5/Run_Metric_Summary_20-cube-001-run5.csv'</span>\n",
       "17. <span style=white-space:pre-wrap>'   4.7 GiB  2020-06-08T00:01:53Z  gs://jax-cube-prd-ctrl-01-project-data/20200607_20-cube-001-run5/Undetermined_S0_L002_R1_001.fastq.gz'</span>\n",
       "18. <span style=white-space:pre-wrap>'  4.86 GiB  2020-06-08T00:01:55Z  gs://jax-cube-prd-ctrl-01-project-data/20200607_20-cube-001-run5/Undetermined_S0_L002_R2_001.fastq.gz'</span>\n",
       "19. <span style=white-space:pre-wrap>' 12.91 KiB  2020-09-10T23:00:29Z  gs://jax-cube-prd-ctrl-01-project-data/20200607_20-cube-001-run5/archived.json'</span>\n",
       "20. <span style=white-space:pre-wrap>'  1.61 KiB  2020-09-10T15:00:28Z  gs://jax-cube-prd-ctrl-01-project-data/20200607_20-cube-001-run5/checksums.md5'</span>\n",
       "21. <span style=white-space:pre-wrap>'  10.5 KiB  2020-09-10T15:00:28Z  gs://jax-cube-prd-ctrl-01-project-data/20200607_20-cube-001-run5/gt-metadata.json'</span>\n",
       "22. 'TOTAL: 21 objects, 31929881381 bytes (29.74 GiB)'\n",
       "\n",
       "\n"
      ],
      "text/plain": [
       " [1] \"  3.01 KiB  2020-06-08T00:00:30Z  gs://jax-cube-prd-ctrl-01-project-data/20200607_20-cube-001-run5/20-cube-001-run5_QCreport.csv\"                              \n",
       " [2] \"  1.46 GiB  2020-07-08T23:52:52Z  gs://jax-cube-prd-ctrl-01-project-data/20200607_20-cube-001-run5/DO024_GT20_00649_ATGTGATT-CGTTACTT_S20_L002_R1_001.fastq.gz\"\n",
       " [3] \"  1.52 GiB  2020-07-08T23:52:48Z  gs://jax-cube-prd-ctrl-01-project-data/20200607_20-cube-001-run5/DO024_GT20_00649_ATGTGATT-CGTTACTT_S20_L002_R2_001.fastq.gz\"\n",
       " [4] \"  1.02 GiB  2020-07-08T23:51:37Z  gs://jax-cube-prd-ctrl-01-project-data/20200607_20-cube-001-run5/DO051_GT20_00274_CGTAAGAG-TCGCTGAC_S17_L002_R1_001.fastq.gz\"\n",
       " [5] \"  1.07 GiB  2020-07-08T23:52:15Z  gs://jax-cube-prd-ctrl-01-project-data/20200607_20-cube-001-run5/DO051_GT20_00274_CGTAAGAG-TCGCTGAC_S17_L002_R2_001.fastq.gz\"\n",
       " [6] \"  1.64 GiB  2020-07-08T23:52:37Z  gs://jax-cube-prd-ctrl-01-project-data/20200607_20-cube-001-run5/DO083_GT20_00693_GAGTCAGA-TTGGATAC_S22_L002_R1_001.fastq.gz\"\n",
       " [7] \"  1.71 GiB  2020-07-08T23:53:21Z  gs://jax-cube-prd-ctrl-01-project-data/20200607_20-cube-001-run5/DO083_GT20_00693_GAGTCAGA-TTGGATAC_S22_L002_R2_001.fastq.gz\"\n",
       " [8] \"  1.71 GiB  2020-07-08T23:53:19Z  gs://jax-cube-prd-ctrl-01-project-data/20200607_20-cube-001-run5/DO177_GT20_00287_CCACAATG-CGTTGACG_S16_L002_R1_001.fastq.gz\"\n",
       " [9] \"  1.78 GiB  2020-07-08T23:53:39Z  gs://jax-cube-prd-ctrl-01-project-data/20200607_20-cube-001-run5/DO177_GT20_00287_CCACAATG-CGTTGACG_S16_L002_R2_001.fastq.gz\"\n",
       "[10] \"  1.13 GiB  2020-07-08T23:51:03Z  gs://jax-cube-prd-ctrl-01-project-data/20200607_20-cube-001-run5/DO272_GT20_00628_TATAAGAC-CTTACATG_S21_L002_R1_001.fastq.gz\"\n",
       "[11] \"  1.18 GiB  2020-07-08T23:53:01Z  gs://jax-cube-prd-ctrl-01-project-data/20200607_20-cube-001-run5/DO272_GT20_00628_TATAAGAC-CTTACATG_S21_L002_R2_001.fastq.gz\"\n",
       "[12] \"  1.47 GiB  2020-07-08T23:53:12Z  gs://jax-cube-prd-ctrl-01-project-data/20200607_20-cube-001-run5/DO384_GT20_00691_AGAATTCA-TGTGCAAT_S19_L002_R1_001.fastq.gz\"\n",
       "[13] \"  1.51 GiB  2020-07-08T23:53:21Z  gs://jax-cube-prd-ctrl-01-project-data/20200607_20-cube-001-run5/DO384_GT20_00691_AGAATTCA-TGTGCAAT_S19_L002_R2_001.fastq.gz\"\n",
       "[14] \"  1.45 GiB  2020-07-08T23:52:31Z  gs://jax-cube-prd-ctrl-01-project-data/20200607_20-cube-001-run5/DO504_GT20_00620_TAACTAAG-CAAGACTC_S18_L002_R1_001.fastq.gz\"\n",
       "[15] \"  1.52 GiB  2020-07-08T23:53:18Z  gs://jax-cube-prd-ctrl-01-project-data/20200607_20-cube-001-run5/DO504_GT20_00620_TAACTAAG-CAAGACTC_S18_L002_R2_001.fastq.gz\"\n",
       "[16] \"  8.39 KiB  2020-06-08T00:00:30Z  gs://jax-cube-prd-ctrl-01-project-data/20200607_20-cube-001-run5/Run_Metric_Summary_20-cube-001-run5.csv\"                    \n",
       "[17] \"   4.7 GiB  2020-06-08T00:01:53Z  gs://jax-cube-prd-ctrl-01-project-data/20200607_20-cube-001-run5/Undetermined_S0_L002_R1_001.fastq.gz\"                       \n",
       "[18] \"  4.86 GiB  2020-06-08T00:01:55Z  gs://jax-cube-prd-ctrl-01-project-data/20200607_20-cube-001-run5/Undetermined_S0_L002_R2_001.fastq.gz\"                       \n",
       "[19] \" 12.91 KiB  2020-09-10T23:00:29Z  gs://jax-cube-prd-ctrl-01-project-data/20200607_20-cube-001-run5/archived.json\"                                              \n",
       "[20] \"  1.61 KiB  2020-09-10T15:00:28Z  gs://jax-cube-prd-ctrl-01-project-data/20200607_20-cube-001-run5/checksums.md5\"                                              \n",
       "[21] \"  10.5 KiB  2020-09-10T15:00:28Z  gs://jax-cube-prd-ctrl-01-project-data/20200607_20-cube-001-run5/gt-metadata.json\"                                           \n",
       "[22] \"TOTAL: 21 objects, 31929881381 bytes (29.74 GiB)\"                                                                                                              "
      ]
     },
     "metadata": {},
     "output_type": "display_data"
    }
   ],
   "source": [
    "# list out files in a bucket\n",
    "system(str_glue('gsutil ls -lh {bucket_name}'), intern = TRUE)"
   ]
  },
  {
   "cell_type": "code",
   "execution_count": null,
   "metadata": {},
   "outputs": [],
   "source": [
    "# pick a file to copy to workspace\n",
    "file_name = \"Run_Metric_Summary_20-cube-001-run5.csv\"\n",
    "setwd(\"~/\")\n",
    "system(str_glue('gsutil cp {bucket_name}/{file_name} {file_name} 2>&1'), intern = TRUE)"
   ]
  },
  {
   "cell_type": "code",
   "execution_count": null,
   "metadata": {},
   "outputs": [],
   "source": [
    "# read data into a data frame\n",
    "read.csv(file_name)"
   ]
  },
  {
   "cell_type": "code",
   "execution_count": null,
   "metadata": {},
   "outputs": [],
   "source": [
    "## sync a entire bucket directory, (bucket could be huge) \n",
    "# bucket_data = get_bucket_data(bucket_name = bucket_name, file_name = file_name )\n",
    "# bucket_data"
   ]
  },
  {
   "cell_type": "markdown",
   "metadata": {},
   "source": [
    "### 3. Get Metadata Definition with a Parameter"
   ]
  },
  {
   "cell_type": "code",
   "execution_count": null,
   "metadata": {},
   "outputs": [],
   "source": [
    "response = cube_api$get_element(element_id = 85)"
   ]
  },
  {
   "cell_type": "code",
   "execution_count": null,
   "metadata": {},
   "outputs": [],
   "source": [
    "str(content(response))"
   ]
  },
  {
   "cell_type": "code",
   "execution_count": null,
   "metadata": {},
   "outputs": [],
   "source": [
    "?system"
   ]
  },
  {
   "cell_type": "markdown",
   "metadata": {},
   "source": [
    "### 4. Get Metadata with accession ids "
   ]
  },
  {
   "cell_type": "code",
   "execution_count": null,
   "metadata": {},
   "outputs": [],
   "source": [
    "response = cube_api$get_element_instance(element_id = 85, accession_ids = c(\"JAXAS00031\", \"JAXAS00032\", \"JAXAS00034\"))"
   ]
  },
  {
   "cell_type": "code",
   "execution_count": null,
   "metadata": {},
   "outputs": [],
   "source": [
    "str(content(response)$results)"
   ]
  },
  {
   "cell_type": "markdown",
   "metadata": {},
   "source": [
    "### 5. Get Metadata Collection"
   ]
  },
  {
   "cell_type": "code",
   "execution_count": null,
   "metadata": {},
   "outputs": [],
   "source": [
    "response = cube_api$get_metadata_collection()"
   ]
  },
  {
   "cell_type": "code",
   "execution_count": null,
   "metadata": {},
   "outputs": [],
   "source": [
    "json = response_json_to_data(response)"
   ]
  },
  {
   "cell_type": "code",
   "execution_count": null,
   "metadata": {},
   "outputs": [],
   "source": [
    "str(json$results)"
   ]
  },
  {
   "cell_type": "code",
   "execution_count": null,
   "metadata": {},
   "outputs": [],
   "source": [
    "accession_ids = json$results[,2][[1]]$accession_id\n",
    "accession_ids"
   ]
  },
  {
   "cell_type": "code",
   "execution_count": null,
   "metadata": {},
   "outputs": [],
   "source": [
    "response = cube_api$get_element_instance(accession_ids = c(accession_ids))"
   ]
  },
  {
   "cell_type": "code",
   "execution_count": null,
   "metadata": {},
   "outputs": [],
   "source": [
    "results = content(response)$results\n",
    "results[[21]][[1]]"
   ]
  },
  {
   "cell_type": "code",
   "execution_count": null,
   "metadata": {},
   "outputs": [],
   "source": [
    "data_url = results[[21]][[1]][[1]][[4]]\n",
    "url_parts = str_split(data_url, \"/\")\n",
    "bucket_name = paste0(\"gs://\", url_parts[[1]][4], \"/\", url_parts[[1]][5])\n",
    "file_name =  url_parts[[1]][6]\n",
    "\n",
    "# load the data from the GCP bucket\n",
    "# data_dir = gs_data_dir( bucket_name )\n",
    "\n",
    "# read the file into a dataframe\n",
    "# df <- read.table(file.path(data_dir, file_name), sep = '\\t',header = TRUE)\n",
    "# df"
   ]
  },
  {
   "cell_type": "markdown",
   "metadata": {},
   "source": [
    "### 5. Call Any Get endpoint\n",
    "Call any get end point.  All the endpoints are listed here: https://metadata-service-sqa.azurewebsites.net/swagger/"
   ]
  },
  {
   "cell_type": "code",
   "execution_count": null,
   "metadata": {},
   "outputs": [],
   "source": [
    "# specify a end point\n",
    "response = cube_api$get_end_point(\"metadata_definition/property/?element_id=85\")"
   ]
  },
  {
   "cell_type": "code",
   "execution_count": null,
   "metadata": {},
   "outputs": [],
   "source": [
    "content(response)$count"
   ]
  },
  {
   "cell_type": "code",
   "execution_count": null,
   "metadata": {},
   "outputs": [],
   "source": [
    "# another end point\n",
    "response = cube_api$get_end_point(\"/metadata_repository/collection_item/1/\")"
   ]
  },
  {
   "cell_type": "code",
   "execution_count": null,
   "metadata": {},
   "outputs": [],
   "source": [
    "content(response)"
   ]
  },
  {
   "cell_type": "markdown",
   "metadata": {},
   "source": [
    "### 6. Post endpoint"
   ]
  },
  {
   "cell_type": "code",
   "execution_count": null,
   "metadata": {},
   "outputs": [],
   "source": [
    "response = cube_api$post_element_instance_filter(element_id = 122, page = 1, page_size = 2)"
   ]
  },
  {
   "cell_type": "code",
   "execution_count": null,
   "metadata": {},
   "outputs": [],
   "source": [
    "str(content(response))"
   ]
  },
  {
   "cell_type": "markdown",
   "metadata": {},
   "source": [
    "### 7. More Information"
   ]
  },
  {
   "cell_type": "code",
   "execution_count": null,
   "metadata": {},
   "outputs": [],
   "source": [
    "?CubeAPI"
   ]
  },
  {
   "cell_type": "code",
   "execution_count": null,
   "metadata": {},
   "outputs": [],
   "source": [
    "?Cube"
   ]
  },
  {
   "cell_type": "code",
   "execution_count": null,
   "metadata": {},
   "outputs": [],
   "source": []
  }
 ],
 "metadata": {
  "kernelspec": {
   "display_name": "R",
   "language": "R",
   "name": "ir"
  },
  "language_info": {
   "codemirror_mode": "r",
   "file_extension": ".r",
   "mimetype": "text/x-r-source",
   "name": "R",
   "pygments_lexer": "r",
   "version": "4.0.3"
  }
 },
 "nbformat": 4,
 "nbformat_minor": 4
}
