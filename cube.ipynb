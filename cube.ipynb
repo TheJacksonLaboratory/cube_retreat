{
 "cells": [
  {
   "cell_type": "markdown",
   "metadata": {},
   "source": [
    "# Cube Packcage\n",
    "The custom cube package is preinstalled.  just load the library and start to use it \n",
    "<hr/>\n"
   ]
  },
  {
   "cell_type": "markdown",
   "metadata": {},
   "source": [
    "### Load Library and Login to CubeAPI"
   ]
  },
  {
   "cell_type": "code",
   "execution_count": 1,
   "metadata": {},
   "outputs": [
    {
     "name": "stderr",
     "output_type": "stream",
     "text": [
      "Loading required package: usethis\n",
      "\n",
      "Loading required package: reshape\n",
      "\n",
      "\n",
      "Attaching package: ‘rapportools’\n",
      "\n",
      "\n",
      "The following objects are masked from ‘package:stats’:\n",
      "\n",
      "    IQR, median, sd, var\n",
      "\n",
      "\n",
      "The following objects are masked from ‘package:base’:\n",
      "\n",
      "    max, mean, min, range, sum\n",
      "\n",
      "\n",
      "\n",
      "Attaching package: ‘data.table’\n",
      "\n",
      "\n",
      "The following object is masked from ‘package:reshape’:\n",
      "\n",
      "    melt\n",
      "\n",
      "\n",
      "Loading required package: tfruns\n",
      "\n"
     ]
    }
   ],
   "source": [
    "# load all library, it is already installed\n",
    "library(devtools)\n",
    "library(httr)\n",
    "library(jsonlite)\n",
    "library(stringr)\n",
    "library(rapportools)\n",
    "library(htmlwidgets)\n",
    "library(rlist)\n",
    "library(data.table)\n",
    "library(cloudml)\n",
    "library(readr)\n",
    "library(logger)\n",
    "library(cube)\n",
    "setwd(\"~/\")\n",
    "log_threshold(INFO)"
   ]
  },
  {
   "cell_type": "code",
   "execution_count": 2,
   "metadata": {},
   "outputs": [
    {
     "name": "stdout",
     "output_type": "stream",
     "text": [
      "INFO [2021-01-15 20:29:56] Version: 0.0.2\n",
      "INFO [2021-01-15 20:29:56] http://10.105.16.22/metadata-service/\n"
     ]
    }
   ],
   "source": [
    "# create a CubeAPI object\n",
    "cube_api = CubeAPI$new()"
   ]
  },
  {
   "cell_type": "code",
   "execution_count": null,
   "metadata": {},
   "outputs": [],
   "source": [
    "# only need to login once per month\n",
    "# after run, click on \"verification_uri_complete\" to finish verification\n",
    "cube_api$login()"
   ]
  },
  {
   "cell_type": "markdown",
   "metadata": {},
   "source": [
    "### 1. Get Metadata Definition"
   ]
  },
  {
   "cell_type": "code",
   "execution_count": 3,
   "metadata": {},
   "outputs": [
    {
     "name": "stdout",
     "output_type": "stream",
     "text": [
      "INFO [2021-01-15 20:29:59] GET: http://10.105.16.22/metadata-service/metadata_definition/element/\n",
      "INFO [2021-01-15 20:30:00] status_code: 200\n"
     ]
    }
   ],
   "source": [
    "# retrieve metadata element\n",
    "response = cube_api$get_element()"
   ]
  },
  {
   "cell_type": "code",
   "execution_count": null,
   "metadata": {},
   "outputs": [],
   "source": [
    "str(response)"
   ]
  },
  {
   "cell_type": "code",
   "execution_count": null,
   "metadata": {},
   "outputs": [],
   "source": [
    "# get the content of the response\n",
    "content = content(response)"
   ]
  },
  {
   "cell_type": "code",
   "execution_count": null,
   "metadata": {},
   "outputs": [],
   "source": [
    "str(content)"
   ]
  },
  {
   "cell_type": "code",
   "execution_count": 4,
   "metadata": {},
   "outputs": [
    {
     "ename": "ERROR",
     "evalue": "Error in content$results: object of type 'closure' is not subsettable\n",
     "output_type": "error",
     "traceback": [
      "Error in content$results: object of type 'closure' is not subsettable\nTraceback:\n",
      "1. data.frame(do.call(rbind, content$results))",
      "2. do.call(rbind, content$results)"
     ]
    }
   ],
   "source": [
    "# to data frame\n",
    "data.frame(do.call(rbind, content$results))[c(\"id\", \"element_label\", \"element_collection_label\", \"element_abbreviation\")]"
   ]
  },
  {
   "cell_type": "markdown",
   "metadata": {},
   "source": [
    "### 2. Get Bucket data from metadata collection"
   ]
  },
  {
   "cell_type": "code",
   "execution_count": 4,
   "metadata": {},
   "outputs": [
    {
     "name": "stdout",
     "output_type": "stream",
     "text": [
      "INFO [2021-01-15 20:30:04] GET: http://10.105.16.22/metadata-service/metadata_repository/collection/\n",
      "INFO [2021-01-15 20:30:04] status_code: 200\n",
      "INFO [2021-01-15 20:30:04] number of accession_ids: 4\n",
      "INFO [2021-01-15 20:30:04] GET: http://10.105.16.22/metadata-service/metadata_repository/element_instance/\n",
      "INFO [2021-01-15 20:30:05] status_code: 200\n",
      "INFO [2021-01-15 20:30:06] number of row returned: 8\n"
     ]
    }
   ],
   "source": [
    "storage_info = cube_api$get_metadata_collection_storage_info()\n"
   ]
  },
  {
   "cell_type": "code",
   "execution_count": 12,
   "metadata": {},
   "outputs": [
    {
     "data": {
      "text/html": [
       "<table>\n",
       "<caption>A data.frame: 8 × 4</caption>\n",
       "<thead>\n",
       "\t<tr><th></th><th scope=col>accession_id</th><th scope=col>uri</th><th scope=col>bucket_name</th><th scope=col>file_name</th></tr>\n",
       "\t<tr><th></th><th scope=col>&lt;chr&gt;</th><th scope=col>&lt;chr&gt;</th><th scope=col>&lt;chr&gt;</th><th scope=col>&lt;chr&gt;</th></tr>\n",
       "</thead>\n",
       "<tbody>\n",
       "\t<tr><th scope=row>1</th><td>JAXDS0000F</td><td>gs://jax-cube-prd-ctrl-01-project-data/study_3-1/Three_Bears_Food_Intake_9.3.2020.txt             </td><td>gs://jax-cube-prd-ctrl-01-project-data/study_3-1                </td><td>Three_Bears_Food_Intake_9.3.2020.txt  </td></tr>\n",
       "\t<tr><th scope=row>2</th><td>JAXDS0000E</td><td>gs://jax-cube-prd-ctrl-01-project-data/study_3-1/Three_Bears_Water_Intake_9.15.2020.txt           </td><td>gs://jax-cube-prd-ctrl-01-project-data/study_3-1                </td><td>Three_Bears_Water_Intake_9.15.2020.txt</td></tr>\n",
       "\t<tr><th scope=row>3</th><td>JAXDS0000D</td><td>gs://jax-cube-prd-ctrl-01-project-data/study_3-1/Three_Bears_Body_Weight_9.3.2020.txt             </td><td>gs://jax-cube-prd-ctrl-01-project-data/study_3-1                </td><td>Three_Bears_Body_Weight_9.3.2020.txt  </td></tr>\n",
       "\t<tr><th scope=row>4</th><td>JAXDS0000C</td><td>https://storage.cloud.google.com/jax-cube-prd-ctrl-01-project-data/study_4-1/4.1_NMR_to_201016.txt</td><td>gs://jax-cube-prd-ctrl-01-project-data/study_4-1                </td><td>4.1_NMR_to_201016.txt                 </td></tr>\n",
       "\t<tr><th scope=row>5</th><td>JAXDS0000F</td><td>gs://jax-cube-prd-ctrl-01-project-data/20200604_20-cube-002-run5                                  </td><td>gs://jax-cube-prd-ctrl-01-project-data/20200604_20-cube-002-run5</td><td>                                      </td></tr>\n",
       "\t<tr><th scope=row>6</th><td>JAXDS0000E</td><td>gs://jax-cube-prd-ctrl-01-project-data/20200504_20-cube-002-run4                                  </td><td>gs://jax-cube-prd-ctrl-01-project-data/20200504_20-cube-002-run4</td><td>                                      </td></tr>\n",
       "\t<tr><th scope=row>7</th><td>JAXDS0000D</td><td>gs://jax-cube-prd-ctrl-01-project-data/20200428_20-cube-002-run3                                  </td><td>gs://jax-cube-prd-ctrl-01-project-data/20200428_20-cube-002-run3</td><td>                                      </td></tr>\n",
       "\t<tr><th scope=row>8</th><td>JAXDS0000C</td><td>gs://jax-cube-prd-ctrl-01-project-data/20200316_20-cube-002-run2                                  </td><td>gs://jax-cube-prd-ctrl-01-project-data/20200316_20-cube-002-run2</td><td>                                      </td></tr>\n",
       "</tbody>\n",
       "</table>\n"
      ],
      "text/latex": [
       "A data.frame: 8 × 4\n",
       "\\begin{tabular}{r|llll}\n",
       "  & accession\\_id & uri & bucket\\_name & file\\_name\\\\\n",
       "  & <chr> & <chr> & <chr> & <chr>\\\\\n",
       "\\hline\n",
       "\t1 & JAXDS0000F & gs://jax-cube-prd-ctrl-01-project-data/study\\_3-1/Three\\_Bears\\_Food\\_Intake\\_9.3.2020.txt              & gs://jax-cube-prd-ctrl-01-project-data/study\\_3-1                 & Three\\_Bears\\_Food\\_Intake\\_9.3.2020.txt  \\\\\n",
       "\t2 & JAXDS0000E & gs://jax-cube-prd-ctrl-01-project-data/study\\_3-1/Three\\_Bears\\_Water\\_Intake\\_9.15.2020.txt            & gs://jax-cube-prd-ctrl-01-project-data/study\\_3-1                 & Three\\_Bears\\_Water\\_Intake\\_9.15.2020.txt\\\\\n",
       "\t3 & JAXDS0000D & gs://jax-cube-prd-ctrl-01-project-data/study\\_3-1/Three\\_Bears\\_Body\\_Weight\\_9.3.2020.txt              & gs://jax-cube-prd-ctrl-01-project-data/study\\_3-1                 & Three\\_Bears\\_Body\\_Weight\\_9.3.2020.txt  \\\\\n",
       "\t4 & JAXDS0000C & https://storage.cloud.google.com/jax-cube-prd-ctrl-01-project-data/study\\_4-1/4.1\\_NMR\\_to\\_201016.txt & gs://jax-cube-prd-ctrl-01-project-data/study\\_4-1                 & 4.1\\_NMR\\_to\\_201016.txt                 \\\\\n",
       "\t5 & JAXDS0000F & gs://jax-cube-prd-ctrl-01-project-data/20200604\\_20-cube-002-run5                                   & gs://jax-cube-prd-ctrl-01-project-data/20200604\\_20-cube-002-run5 &                                       \\\\\n",
       "\t6 & JAXDS0000E & gs://jax-cube-prd-ctrl-01-project-data/20200504\\_20-cube-002-run4                                   & gs://jax-cube-prd-ctrl-01-project-data/20200504\\_20-cube-002-run4 &                                       \\\\\n",
       "\t7 & JAXDS0000D & gs://jax-cube-prd-ctrl-01-project-data/20200428\\_20-cube-002-run3                                   & gs://jax-cube-prd-ctrl-01-project-data/20200428\\_20-cube-002-run3 &                                       \\\\\n",
       "\t8 & JAXDS0000C & gs://jax-cube-prd-ctrl-01-project-data/20200316\\_20-cube-002-run2                                   & gs://jax-cube-prd-ctrl-01-project-data/20200316\\_20-cube-002-run2 &                                       \\\\\n",
       "\\end{tabular}\n"
      ],
      "text/markdown": [
       "\n",
       "A data.frame: 8 × 4\n",
       "\n",
       "| <!--/--> | accession_id &lt;chr&gt; | uri &lt;chr&gt; | bucket_name &lt;chr&gt; | file_name &lt;chr&gt; |\n",
       "|---|---|---|---|---|\n",
       "| 1 | JAXDS0000F | gs://jax-cube-prd-ctrl-01-project-data/study_3-1/Three_Bears_Food_Intake_9.3.2020.txt              | gs://jax-cube-prd-ctrl-01-project-data/study_3-1                 | Three_Bears_Food_Intake_9.3.2020.txt   |\n",
       "| 2 | JAXDS0000E | gs://jax-cube-prd-ctrl-01-project-data/study_3-1/Three_Bears_Water_Intake_9.15.2020.txt            | gs://jax-cube-prd-ctrl-01-project-data/study_3-1                 | Three_Bears_Water_Intake_9.15.2020.txt |\n",
       "| 3 | JAXDS0000D | gs://jax-cube-prd-ctrl-01-project-data/study_3-1/Three_Bears_Body_Weight_9.3.2020.txt              | gs://jax-cube-prd-ctrl-01-project-data/study_3-1                 | Three_Bears_Body_Weight_9.3.2020.txt   |\n",
       "| 4 | JAXDS0000C | https://storage.cloud.google.com/jax-cube-prd-ctrl-01-project-data/study_4-1/4.1_NMR_to_201016.txt | gs://jax-cube-prd-ctrl-01-project-data/study_4-1                 | 4.1_NMR_to_201016.txt                  |\n",
       "| 5 | JAXDS0000F | gs://jax-cube-prd-ctrl-01-project-data/20200604_20-cube-002-run5                                   | gs://jax-cube-prd-ctrl-01-project-data/20200604_20-cube-002-run5 | <!----> |\n",
       "| 6 | JAXDS0000E | gs://jax-cube-prd-ctrl-01-project-data/20200504_20-cube-002-run4                                   | gs://jax-cube-prd-ctrl-01-project-data/20200504_20-cube-002-run4 | <!----> |\n",
       "| 7 | JAXDS0000D | gs://jax-cube-prd-ctrl-01-project-data/20200428_20-cube-002-run3                                   | gs://jax-cube-prd-ctrl-01-project-data/20200428_20-cube-002-run3 | <!----> |\n",
       "| 8 | JAXDS0000C | gs://jax-cube-prd-ctrl-01-project-data/20200316_20-cube-002-run2                                   | gs://jax-cube-prd-ctrl-01-project-data/20200316_20-cube-002-run2 | <!----> |\n",
       "\n"
      ],
      "text/plain": [
       "  accession_id\n",
       "1 JAXDS0000F  \n",
       "2 JAXDS0000E  \n",
       "3 JAXDS0000D  \n",
       "4 JAXDS0000C  \n",
       "5 JAXDS0000F  \n",
       "6 JAXDS0000E  \n",
       "7 JAXDS0000D  \n",
       "8 JAXDS0000C  \n",
       "  uri                                                                                               \n",
       "1 gs://jax-cube-prd-ctrl-01-project-data/study_3-1/Three_Bears_Food_Intake_9.3.2020.txt             \n",
       "2 gs://jax-cube-prd-ctrl-01-project-data/study_3-1/Three_Bears_Water_Intake_9.15.2020.txt           \n",
       "3 gs://jax-cube-prd-ctrl-01-project-data/study_3-1/Three_Bears_Body_Weight_9.3.2020.txt             \n",
       "4 https://storage.cloud.google.com/jax-cube-prd-ctrl-01-project-data/study_4-1/4.1_NMR_to_201016.txt\n",
       "5 gs://jax-cube-prd-ctrl-01-project-data/20200604_20-cube-002-run5                                  \n",
       "6 gs://jax-cube-prd-ctrl-01-project-data/20200504_20-cube-002-run4                                  \n",
       "7 gs://jax-cube-prd-ctrl-01-project-data/20200428_20-cube-002-run3                                  \n",
       "8 gs://jax-cube-prd-ctrl-01-project-data/20200316_20-cube-002-run2                                  \n",
       "  bucket_name                                                     \n",
       "1 gs://jax-cube-prd-ctrl-01-project-data/study_3-1                \n",
       "2 gs://jax-cube-prd-ctrl-01-project-data/study_3-1                \n",
       "3 gs://jax-cube-prd-ctrl-01-project-data/study_3-1                \n",
       "4 gs://jax-cube-prd-ctrl-01-project-data/study_4-1                \n",
       "5 gs://jax-cube-prd-ctrl-01-project-data/20200604_20-cube-002-run5\n",
       "6 gs://jax-cube-prd-ctrl-01-project-data/20200504_20-cube-002-run4\n",
       "7 gs://jax-cube-prd-ctrl-01-project-data/20200428_20-cube-002-run3\n",
       "8 gs://jax-cube-prd-ctrl-01-project-data/20200316_20-cube-002-run2\n",
       "  file_name                             \n",
       "1 Three_Bears_Food_Intake_9.3.2020.txt  \n",
       "2 Three_Bears_Water_Intake_9.15.2020.txt\n",
       "3 Three_Bears_Body_Weight_9.3.2020.txt  \n",
       "4 4.1_NMR_to_201016.txt                 \n",
       "5                                       \n",
       "6                                       \n",
       "7                                       \n",
       "8                                       "
      ]
     },
     "metadata": {},
     "output_type": "display_data"
    }
   ],
   "source": [
    "storage_info"
   ]
  },
  {
   "cell_type": "code",
   "execution_count": null,
   "metadata": {},
   "outputs": [],
   "source": [
    "!CubeAPI"
   ]
  },
  {
   "cell_type": "code",
   "execution_count": null,
   "metadata": {},
   "outputs": [],
   "source": [
    "# pick a bucket\n",
    "bucket_name = storage_info[1, 3]\n",
    "bucket_name"
   ]
  },
  {
   "cell_type": "code",
   "execution_count": null,
   "metadata": {},
   "outputs": [],
   "source": [
    "# list out files in a bucket\n",
    "system(str_glue('gsutil ls -lh {bucket_name}'), intern = TRUE)"
   ]
  },
  {
   "cell_type": "code",
   "execution_count": null,
   "metadata": {},
   "outputs": [],
   "source": [
    "# pick a file to copy to workspace\n",
    "file_name = \"Run_Metric_Summary_20-cube-001-run5.csv\"\n",
    "setwd(\"~/\")\n",
    "system(str_glue('gsutil cp {bucket_name}/{file_name} {file_name} 2>&1'), intern = TRUE)"
   ]
  },
  {
   "cell_type": "code",
   "execution_count": null,
   "metadata": {},
   "outputs": [],
   "source": [
    "# read data into a data frame\n",
    "read.csv(file_name)"
   ]
  },
  {
   "cell_type": "code",
   "execution_count": null,
   "metadata": {},
   "outputs": [],
   "source": [
    "## sync a entire bucket directory, (bucket could be huge) \n",
    "# bucket_data = get_bucket_data(bucket_name = bucket_name, file_name = file_name )\n",
    "# bucket_data"
   ]
  },
  {
   "cell_type": "markdown",
   "metadata": {},
   "source": [
    "### 3. Get Metadata Definition with a Parameter"
   ]
  },
  {
   "cell_type": "code",
   "execution_count": null,
   "metadata": {},
   "outputs": [],
   "source": [
    "response = cube_api$get_element(element_id = 85)"
   ]
  },
  {
   "cell_type": "code",
   "execution_count": null,
   "metadata": {},
   "outputs": [],
   "source": [
    "str(content(response))"
   ]
  },
  {
   "cell_type": "code",
   "execution_count": null,
   "metadata": {},
   "outputs": [],
   "source": [
    "?system"
   ]
  },
  {
   "cell_type": "markdown",
   "metadata": {},
   "source": [
    "### 4. Get Metadata with accession ids "
   ]
  },
  {
   "cell_type": "code",
   "execution_count": null,
   "metadata": {},
   "outputs": [],
   "source": [
    "response = cube_api$get_element_instance(element_id = 85, accession_ids = c(\"JAXAS00031\", \"JAXAS00032\", \"JAXAS00034\"))"
   ]
  },
  {
   "cell_type": "code",
   "execution_count": null,
   "metadata": {},
   "outputs": [],
   "source": [
    "str(content(response)$results)"
   ]
  },
  {
   "cell_type": "markdown",
   "metadata": {},
   "source": [
    "### 5. Get Metadata Collection"
   ]
  },
  {
   "cell_type": "code",
   "execution_count": null,
   "metadata": {},
   "outputs": [],
   "source": [
    "response = cube_api$get_metadata_collection()"
   ]
  },
  {
   "cell_type": "code",
   "execution_count": null,
   "metadata": {},
   "outputs": [],
   "source": [
    "json = response_json_to_data(response)"
   ]
  },
  {
   "cell_type": "code",
   "execution_count": null,
   "metadata": {},
   "outputs": [],
   "source": [
    "str(json$results)"
   ]
  },
  {
   "cell_type": "code",
   "execution_count": null,
   "metadata": {},
   "outputs": [],
   "source": [
    "accession_ids = json$results[,2][[1]]$accession_id\n",
    "accession_ids"
   ]
  },
  {
   "cell_type": "code",
   "execution_count": null,
   "metadata": {},
   "outputs": [],
   "source": [
    "response = cube_api$get_element_instance(accession_ids = c(accession_ids))"
   ]
  },
  {
   "cell_type": "code",
   "execution_count": null,
   "metadata": {},
   "outputs": [],
   "source": [
    "results = content(response)$results\n",
    "results[[21]][[1]]"
   ]
  },
  {
   "cell_type": "code",
   "execution_count": null,
   "metadata": {},
   "outputs": [],
   "source": [
    "data_url = results[[21]][[1]][[1]][[4]]\n",
    "url_parts = str_split(data_url, \"/\")\n",
    "bucket_name = paste0(\"gs://\", url_parts[[1]][4], \"/\", url_parts[[1]][5])\n",
    "file_name =  url_parts[[1]][6]\n",
    "\n",
    "# load the data from the GCP bucket\n",
    "# data_dir = gs_data_dir( bucket_name )\n",
    "\n",
    "# read the file into a dataframe\n",
    "# df <- read.table(file.path(data_dir, file_name), sep = '\\t',header = TRUE)\n",
    "# df"
   ]
  },
  {
   "cell_type": "markdown",
   "metadata": {},
   "source": [
    "### 5. Call Any Get endpoint\n",
    "Call any get end point.  All the endpoints are listed here: https://metadata-service-sqa.azurewebsites.net/swagger/"
   ]
  },
  {
   "cell_type": "code",
   "execution_count": null,
   "metadata": {},
   "outputs": [],
   "source": [
    "# specify a end point\n",
    "response = cube_api$get_end_point(\"metadata_definition/property/?element_id=85\")"
   ]
  },
  {
   "cell_type": "code",
   "execution_count": null,
   "metadata": {},
   "outputs": [],
   "source": [
    "content(response)$count"
   ]
  },
  {
   "cell_type": "code",
   "execution_count": null,
   "metadata": {},
   "outputs": [],
   "source": [
    "# another end point\n",
    "response = cube_api$get_end_point(\"/metadata_repository/collection_item/1/\")"
   ]
  },
  {
   "cell_type": "code",
   "execution_count": null,
   "metadata": {},
   "outputs": [],
   "source": [
    "content(response)"
   ]
  },
  {
   "cell_type": "markdown",
   "metadata": {},
   "source": [
    "### 6. Post endpoint"
   ]
  },
  {
   "cell_type": "code",
   "execution_count": null,
   "metadata": {},
   "outputs": [],
   "source": [
    "response = cube_api$post_element_instance_filter(element_id = 122, page = 1, page_size = 2)"
   ]
  },
  {
   "cell_type": "code",
   "execution_count": null,
   "metadata": {},
   "outputs": [],
   "source": [
    "str(content(response))"
   ]
  },
  {
   "cell_type": "markdown",
   "metadata": {},
   "source": [
    "### 7. More Information"
   ]
  },
  {
   "cell_type": "code",
   "execution_count": null,
   "metadata": {},
   "outputs": [],
   "source": [
    "?CubeAPI"
   ]
  },
  {
   "cell_type": "code",
   "execution_count": null,
   "metadata": {},
   "outputs": [],
   "source": [
    "?Cube"
   ]
  },
  {
   "cell_type": "code",
   "execution_count": null,
   "metadata": {},
   "outputs": [],
   "source": []
  }
 ],
 "metadata": {
  "kernelspec": {
   "display_name": "R",
   "language": "R",
   "name": "ir"
  },
  "language_info": {
   "codemirror_mode": "r",
   "file_extension": ".r",
   "mimetype": "text/x-r-source",
   "name": "R",
   "pygments_lexer": "r",
   "version": "4.0.3"
  }
 },
 "nbformat": 4,
 "nbformat_minor": 4
}
