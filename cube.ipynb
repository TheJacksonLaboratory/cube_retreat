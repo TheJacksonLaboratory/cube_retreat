{
 "cells": [
  {
   "cell_type": "markdown",
   "metadata": {},
   "source": [
    "# Cube Packcage\n",
    "The custom cube package is preinstalled.  just load the library and start to use it \n",
    "<hr/>\n"
   ]
  },
  {
   "cell_type": "markdown",
   "metadata": {},
   "source": [
    "### Load Library and Login to CubeAPI"
   ]
  },
  {
   "cell_type": "code",
   "execution_count": null,
   "metadata": {},
   "outputs": [],
   "source": [
    "# load all library, it is already installed\n",
    "library(devtools)\n",
    "library(httr)\n",
    "library(jsonlite)\n",
    "library(stringr)\n",
    "library(rapportools)\n",
    "library(htmlwidgets)\n",
    "library(cube)\n",
    "library(data.table)\n",
    "library(cloudml)\n",
    "library(readr)\n",
    "library(logger)\n",
    "log_threshold(INFO)\n",
    "setwd(\"~/\")"
   ]
  },
  {
   "cell_type": "code",
   "execution_count": null,
   "metadata": {},
   "outputs": [],
   "source": [
    "# create a Cube object and login\n",
    "# after run, click on \"verification_uri_complete\" to finish verification\n",
    "cube_obj = Cube$new()\n",
    "cube_obj$login()    "
   ]
  },
  {
   "cell_type": "markdown",
   "metadata": {},
   "source": [
    "### Get Metadata Definition"
   ]
  },
  {
   "cell_type": "code",
   "execution_count": null,
   "metadata": {},
   "outputs": [],
   "source": [
    "# retrieve metadata element\n",
    "response = cube_obj$get_element()"
   ]
  },
  {
   "cell_type": "code",
   "execution_count": null,
   "metadata": {},
   "outputs": [],
   "source": [
    "str(response)"
   ]
  },
  {
   "cell_type": "code",
   "execution_count": null,
   "metadata": {},
   "outputs": [],
   "source": [
    "# get the content of the response\n",
    "content = content(response)"
   ]
  },
  {
   "cell_type": "code",
   "execution_count": null,
   "metadata": {},
   "outputs": [],
   "source": [
    "str(content)"
   ]
  },
  {
   "cell_type": "code",
   "execution_count": null,
   "metadata": {},
   "outputs": [],
   "source": [
    "# to data frame\n",
    "data.frame(do.call(rbind, content$results))[c(\"id\", \"element_label\", \"element_collection_label\", \"element_abbreviation\")]"
   ]
  },
  {
   "cell_type": "markdown",
   "metadata": {},
   "source": [
    "### Get Metadata Definition with a Parameter"
   ]
  },
  {
   "cell_type": "code",
   "execution_count": null,
   "metadata": {},
   "outputs": [],
   "source": [
    "response = cube_obj$get_element(element_id = 85)"
   ]
  },
  {
   "cell_type": "code",
   "execution_count": null,
   "metadata": {},
   "outputs": [],
   "source": [
    "str(content(response))"
   ]
  },
  {
   "cell_type": "markdown",
   "metadata": {},
   "source": [
    "### Get Metadata with accession ids "
   ]
  },
  {
   "cell_type": "code",
   "execution_count": null,
   "metadata": {},
   "outputs": [],
   "source": [
    "response = cube_obj$get_metadata(element_id = 85, accession_ids = c(\"JAXAS00031\", \"JAXAS00032\", \"JAXAS00034\"))"
   ]
  },
  {
   "cell_type": "code",
   "execution_count": null,
   "metadata": {},
   "outputs": [],
   "source": [
    "str(content(response)$results)"
   ]
  },
  {
   "cell_type": "markdown",
   "metadata": {},
   "source": [
    "#### Get Bucket data from metadata collection"
   ]
  },
  {
   "cell_type": "code",
   "execution_count": 7,
   "metadata": {},
   "outputs": [
    {
     "name": "stdout",
     "output_type": "stream",
     "text": [
      "INFO [2020-12-18 21:47:26] GET: https://metadata-service-sqa.azurewebsites.net/metadata_repository/collection/\n",
      "INFO [2020-12-18 21:47:28] status_code: 200\n",
      "INFO [2020-12-18 21:47:28] number of accession_ids: 31\n",
      "INFO [2020-12-18 21:47:28] GET: https://metadata-service-sqa.azurewebsites.net/metadata_repository/element_instance\n",
      "INFO [2020-12-18 21:47:31] status_code: 200\n",
      "INFO [2020-12-18 21:47:31] number of row returned: 6\n"
     ]
    }
   ],
   "source": [
    "storage_info = cube_obj$cubeapi$get_metadata_collection_storage_info()"
   ]
  },
  {
   "cell_type": "code",
   "execution_count": 8,
   "metadata": {},
   "outputs": [
    {
     "data": {
      "text/html": [
       "<table>\n",
       "<caption>A data.frame: 6 × 4</caption>\n",
       "<thead>\n",
       "\t<tr><th></th><th scope=col>accession_id</th><th scope=col>uri</th><th scope=col>bucket_name</th><th scope=col>file_name</th></tr>\n",
       "\t<tr><th></th><th scope=col>&lt;chr&gt;</th><th scope=col>&lt;chr&gt;</th><th scope=col>&lt;chr&gt;</th><th scope=col>&lt;chr&gt;</th></tr>\n",
       "</thead>\n",
       "<tbody>\n",
       "\t<tr><th scope=row>1</th><td>JAXDS00004</td><td>gs://jax-cube-prd-ctrl-01-project-data/study_4-1/4.1_NMR_to_201016.txt?authuser=1                             </td><td>gs://jax-cube-prd-ctrl-01-project-data/study_4-1</td><td>4.1_NMR_to_201016.txt        </td></tr>\n",
       "\t<tr><th scope=row>2</th><td>JAXDS00003</td><td>https://storage.cloud.google.com/jax-cube-prd-ctrl-01-project-data/study_4-1/4.1_GTT_to_201016.txt?authuser=1 </td><td>gs://jax-cube-prd-ctrl-01-project-data/study_4-1</td><td>4.1_GTT_to_201016.txt        </td></tr>\n",
       "\t<tr><th scope=row>3</th><td>JAXDS00002</td><td>https://storage.cloud.google.com/jax-cube-prd-ctrl-01-project-data/study_4-1/4.1_DEXA_to_201016.txt?authuser=1</td><td>gs://jax-cube-prd-ctrl-01-project-data/study_4-1</td><td>4.1_DEXA_to_201016.txt       </td></tr>\n",
       "\t<tr><th scope=row>4</th><td>JAXDS00001</td><td>https://storage.cloud.google.com/jax-cube-prd-ctrl-01-project-data/study_4-1/4.1_BODY_WEIGHT_to_201016.txt    </td><td>gs://jax-cube-prd-ctrl-01-project-data/study_4-1</td><td>4.1_BODY_WEIGHT_to_201016.txt</td></tr>\n",
       "\t<tr><th scope=row>5</th><td>JAXST00028</td><td>https://www.ncbi.nlm.nih.gov/projects/gap/cgi-bin/study.cgi?study_id=phs001188.v1.p1                          </td><td>gs://projects/gap/cgi-bin                       </td><td>study.cgi                    </td></tr>\n",
       "\t<tr><th scope=row>6</th><td>JAXST00025</td><td><span style=white-space:pre-wrap>https://www.ncbi.nlm.nih.gov/Traces/study/?query_key=11&amp;WebEnv=MCID_5f7c268f0da2dd2639581021&amp;o=acc_s%3Aa      </span></td><td><span style=white-space:pre-wrap>gs://Traces/study                               </span></td><td><span style=white-space:pre-wrap>                             </span></td></tr>\n",
       "</tbody>\n",
       "</table>\n"
      ],
      "text/latex": [
       "A data.frame: 6 × 4\n",
       "\\begin{tabular}{r|llll}\n",
       "  & accession\\_id & uri & bucket\\_name & file\\_name\\\\\n",
       "  & <chr> & <chr> & <chr> & <chr>\\\\\n",
       "\\hline\n",
       "\t1 & JAXDS00004 & gs://jax-cube-prd-ctrl-01-project-data/study\\_4-1/4.1\\_NMR\\_to\\_201016.txt?authuser=1                              & gs://jax-cube-prd-ctrl-01-project-data/study\\_4-1 & 4.1\\_NMR\\_to\\_201016.txt        \\\\\n",
       "\t2 & JAXDS00003 & https://storage.cloud.google.com/jax-cube-prd-ctrl-01-project-data/study\\_4-1/4.1\\_GTT\\_to\\_201016.txt?authuser=1  & gs://jax-cube-prd-ctrl-01-project-data/study\\_4-1 & 4.1\\_GTT\\_to\\_201016.txt        \\\\\n",
       "\t3 & JAXDS00002 & https://storage.cloud.google.com/jax-cube-prd-ctrl-01-project-data/study\\_4-1/4.1\\_DEXA\\_to\\_201016.txt?authuser=1 & gs://jax-cube-prd-ctrl-01-project-data/study\\_4-1 & 4.1\\_DEXA\\_to\\_201016.txt       \\\\\n",
       "\t4 & JAXDS00001 & https://storage.cloud.google.com/jax-cube-prd-ctrl-01-project-data/study\\_4-1/4.1\\_BODY\\_WEIGHT\\_to\\_201016.txt     & gs://jax-cube-prd-ctrl-01-project-data/study\\_4-1 & 4.1\\_BODY\\_WEIGHT\\_to\\_201016.txt\\\\\n",
       "\t5 & JAXST00028 & https://www.ncbi.nlm.nih.gov/projects/gap/cgi-bin/study.cgi?study\\_id=phs001188.v1.p1                           & gs://projects/gap/cgi-bin                        & study.cgi                    \\\\\n",
       "\t6 & JAXST00025 & https://www.ncbi.nlm.nih.gov/Traces/study/?query\\_key=11\\&WebEnv=MCID\\_5f7c268f0da2dd2639581021\\&o=acc\\_s\\%3Aa       & gs://Traces/study                                &                              \\\\\n",
       "\\end{tabular}\n"
      ],
      "text/markdown": [
       "\n",
       "A data.frame: 6 × 4\n",
       "\n",
       "| <!--/--> | accession_id &lt;chr&gt; | uri &lt;chr&gt; | bucket_name &lt;chr&gt; | file_name &lt;chr&gt; |\n",
       "|---|---|---|---|---|\n",
       "| 1 | JAXDS00004 | gs://jax-cube-prd-ctrl-01-project-data/study_4-1/4.1_NMR_to_201016.txt?authuser=1                              | gs://jax-cube-prd-ctrl-01-project-data/study_4-1 | 4.1_NMR_to_201016.txt         |\n",
       "| 2 | JAXDS00003 | https://storage.cloud.google.com/jax-cube-prd-ctrl-01-project-data/study_4-1/4.1_GTT_to_201016.txt?authuser=1  | gs://jax-cube-prd-ctrl-01-project-data/study_4-1 | 4.1_GTT_to_201016.txt         |\n",
       "| 3 | JAXDS00002 | https://storage.cloud.google.com/jax-cube-prd-ctrl-01-project-data/study_4-1/4.1_DEXA_to_201016.txt?authuser=1 | gs://jax-cube-prd-ctrl-01-project-data/study_4-1 | 4.1_DEXA_to_201016.txt        |\n",
       "| 4 | JAXDS00001 | https://storage.cloud.google.com/jax-cube-prd-ctrl-01-project-data/study_4-1/4.1_BODY_WEIGHT_to_201016.txt     | gs://jax-cube-prd-ctrl-01-project-data/study_4-1 | 4.1_BODY_WEIGHT_to_201016.txt |\n",
       "| 5 | JAXST00028 | https://www.ncbi.nlm.nih.gov/projects/gap/cgi-bin/study.cgi?study_id=phs001188.v1.p1                           | gs://projects/gap/cgi-bin                        | study.cgi                     |\n",
       "| 6 | JAXST00025 | https://www.ncbi.nlm.nih.gov/Traces/study/?query_key=11&amp;WebEnv=MCID_5f7c268f0da2dd2639581021&amp;o=acc_s%3Aa       | gs://Traces/study                                | <!----> |\n",
       "\n"
      ],
      "text/plain": [
       "  accession_id\n",
       "1 JAXDS00004  \n",
       "2 JAXDS00003  \n",
       "3 JAXDS00002  \n",
       "4 JAXDS00001  \n",
       "5 JAXST00028  \n",
       "6 JAXST00025  \n",
       "  uri                                                                                                           \n",
       "1 gs://jax-cube-prd-ctrl-01-project-data/study_4-1/4.1_NMR_to_201016.txt?authuser=1                             \n",
       "2 https://storage.cloud.google.com/jax-cube-prd-ctrl-01-project-data/study_4-1/4.1_GTT_to_201016.txt?authuser=1 \n",
       "3 https://storage.cloud.google.com/jax-cube-prd-ctrl-01-project-data/study_4-1/4.1_DEXA_to_201016.txt?authuser=1\n",
       "4 https://storage.cloud.google.com/jax-cube-prd-ctrl-01-project-data/study_4-1/4.1_BODY_WEIGHT_to_201016.txt    \n",
       "5 https://www.ncbi.nlm.nih.gov/projects/gap/cgi-bin/study.cgi?study_id=phs001188.v1.p1                          \n",
       "6 https://www.ncbi.nlm.nih.gov/Traces/study/?query_key=11&WebEnv=MCID_5f7c268f0da2dd2639581021&o=acc_s%3Aa      \n",
       "  bucket_name                                     \n",
       "1 gs://jax-cube-prd-ctrl-01-project-data/study_4-1\n",
       "2 gs://jax-cube-prd-ctrl-01-project-data/study_4-1\n",
       "3 gs://jax-cube-prd-ctrl-01-project-data/study_4-1\n",
       "4 gs://jax-cube-prd-ctrl-01-project-data/study_4-1\n",
       "5 gs://projects/gap/cgi-bin                       \n",
       "6 gs://Traces/study                               \n",
       "  file_name                    \n",
       "1 4.1_NMR_to_201016.txt        \n",
       "2 4.1_GTT_to_201016.txt        \n",
       "3 4.1_DEXA_to_201016.txt       \n",
       "4 4.1_BODY_WEIGHT_to_201016.txt\n",
       "5 study.cgi                    \n",
       "6                              "
      ]
     },
     "metadata": {},
     "output_type": "display_data"
    }
   ],
   "source": [
    "storage_info"
   ]
  },
  {
   "cell_type": "code",
   "execution_count": null,
   "metadata": {},
   "outputs": [],
   "source": [
    "## get bucket data\n",
    "bucket_data = get_bucket_data(bucket_name = storage_info[2, 3], file_name = storage_info[2, 4] )\n",
    "bucket_data"
   ]
  },
  {
   "cell_type": "markdown",
   "metadata": {},
   "source": [
    "### Get Metadata Collection"
   ]
  },
  {
   "cell_type": "code",
   "execution_count": null,
   "metadata": {},
   "outputs": [],
   "source": [
    "response = cube_obj$get_metadata_collection()"
   ]
  },
  {
   "cell_type": "code",
   "execution_count": null,
   "metadata": {},
   "outputs": [],
   "source": [
    "json = response_json_to_data(response)"
   ]
  },
  {
   "cell_type": "code",
   "execution_count": null,
   "metadata": {},
   "outputs": [],
   "source": [
    "str(json$results)"
   ]
  },
  {
   "cell_type": "code",
   "execution_count": null,
   "metadata": {},
   "outputs": [],
   "source": [
    "accession_ids = json$results[,2][[1]]$accession_id\n",
    "accession_ids"
   ]
  },
  {
   "cell_type": "code",
   "execution_count": null,
   "metadata": {},
   "outputs": [],
   "source": [
    "response = cube_obj$get_metadata(accession_ids = c(accession_ids))"
   ]
  },
  {
   "cell_type": "code",
   "execution_count": null,
   "metadata": {},
   "outputs": [],
   "source": [
    "results = content(response)$results\n",
    "results[[4]][[4]]"
   ]
  },
  {
   "cell_type": "code",
   "execution_count": null,
   "metadata": {},
   "outputs": [],
   "source": [
    "data_url = results[[4]][[4]][[1]][[4]]\n",
    "url_parts = str_split(data_url, \"/\")\n",
    "bucket_name = paste0(\"gs://\", url_parts[[1]][4], \"/\", url_parts[[1]][5])\n",
    "file_name =  url_parts[[1]][6]\n",
    "\n",
    "# load the data from the GCP bucket\n",
    "data_dir = gs_data_dir( bucket_name )\n",
    "\n",
    "# read the file into a dataframe\n",
    "df <- read.table(file.path(data_dir, file_name), sep = '\\t',header = TRUE)\n",
    "df"
   ]
  },
  {
   "cell_type": "markdown",
   "metadata": {},
   "source": [
    "### Call Any Get endpoint\n",
    "Call any get end point.  All the endpoints are listed here: https://metadata-service-sqa.azurewebsites.net/swagger/"
   ]
  },
  {
   "cell_type": "code",
   "execution_count": null,
   "metadata": {},
   "outputs": [],
   "source": [
    "# specify a end point\n",
    "response = cube_obj$cubeapi$get_end_point(\"metadata_definition/property/?element_id=85\")"
   ]
  },
  {
   "cell_type": "code",
   "execution_count": null,
   "metadata": {},
   "outputs": [],
   "source": [
    "content(response)$count"
   ]
  },
  {
   "cell_type": "code",
   "execution_count": null,
   "metadata": {},
   "outputs": [],
   "source": [
    "# another end point\n",
    "response = cube_obj$cubeapi$get_end_point(\"/metadata_repository/collection_item/2/\")"
   ]
  },
  {
   "cell_type": "code",
   "execution_count": null,
   "metadata": {},
   "outputs": [],
   "source": [
    "content(response)"
   ]
  },
  {
   "cell_type": "markdown",
   "metadata": {},
   "source": [
    "### Post endpoint"
   ]
  },
  {
   "cell_type": "code",
   "execution_count": null,
   "metadata": {},
   "outputs": [],
   "source": [
    "response = cube_obj$cubeapi$post_element_instance_filter(element_id = 122, page = 1, page_size = 2)"
   ]
  },
  {
   "cell_type": "code",
   "execution_count": null,
   "metadata": {},
   "outputs": [],
   "source": [
    "str(content(response))"
   ]
  },
  {
   "cell_type": "markdown",
   "metadata": {},
   "source": [
    "### More Information"
   ]
  },
  {
   "cell_type": "code",
   "execution_count": null,
   "metadata": {},
   "outputs": [],
   "source": [
    "?Cube"
   ]
  },
  {
   "cell_type": "code",
   "execution_count": null,
   "metadata": {},
   "outputs": [],
   "source": [
    "?CubeAPI"
   ]
  },
  {
   "cell_type": "code",
   "execution_count": null,
   "metadata": {},
   "outputs": [],
   "source": []
  }
 ],
 "metadata": {
  "kernelspec": {
   "display_name": "R",
   "language": "R",
   "name": "ir"
  },
  "language_info": {
   "codemirror_mode": "r",
   "file_extension": ".r",
   "mimetype": "text/x-r-source",
   "name": "R",
   "pygments_lexer": "r",
   "version": "4.0.3"
  }
 },
 "nbformat": 4,
 "nbformat_minor": 4
}
