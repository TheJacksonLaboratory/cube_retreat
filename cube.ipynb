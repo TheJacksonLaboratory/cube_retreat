{
 "cells": [
  {
   "cell_type": "markdown",
   "metadata": {},
   "source": [
    "# Cube Packcage\n",
    "The custom cube package is preinstalled.  just load the library and start to use it \n",
    "<hr/>\n"
   ]
  },
  {
   "cell_type": "markdown",
   "metadata": {},
   "source": [
    "### Load Library and Login to CubeAPI"
   ]
  },
  {
   "cell_type": "code",
   "execution_count": 1,
   "metadata": {},
   "outputs": [
    {
     "name": "stderr",
     "output_type": "stream",
     "text": [
      "Loading required package: usethis\n",
      "\n",
      "Loading required package: reshape\n",
      "\n",
      "\n",
      "Attaching package: ‘rapportools’\n",
      "\n",
      "\n",
      "The following objects are masked from ‘package:stats’:\n",
      "\n",
      "    IQR, median, sd, var\n",
      "\n",
      "\n",
      "The following objects are masked from ‘package:base’:\n",
      "\n",
      "    max, mean, min, range, sum\n",
      "\n",
      "\n",
      "\n",
      "Attaching package: ‘data.table’\n",
      "\n",
      "\n",
      "The following object is masked from ‘package:reshape’:\n",
      "\n",
      "    melt\n",
      "\n",
      "\n",
      "Loading required package: tfruns\n",
      "\n"
     ]
    }
   ],
   "source": [
    "# load all library, it is already installed\n",
    "library(devtools)\n",
    "library(httr)\n",
    "library(jsonlite)\n",
    "library(stringr)\n",
    "library(rapportools)\n",
    "library(htmlwidgets)\n",
    "library(rlist)\n",
    "library(data.table)\n",
    "library(cloudml)\n",
    "library(readr)\n",
    "library(logger)\n",
    "library(cube)\n",
    "setwd(\"~/\")\n",
    "log_threshold(INFO)"
   ]
  },
  {
   "cell_type": "code",
   "execution_count": 2,
   "metadata": {},
   "outputs": [
    {
     "name": "stdout",
     "output_type": "stream",
     "text": [
      "INFO [2021-01-08 21:35:51] Version: 0.0.2\n",
      "INFO [2021-01-08 21:35:51] http://10.105.16.22/metadata-service/\n"
     ]
    }
   ],
   "source": [
    "# create a CubeAPI object\n",
    "cube_api = CubeAPI$new()"
   ]
  },
  {
   "cell_type": "code",
   "execution_count": 3,
   "metadata": {},
   "outputs": [
    {
     "name": "stdout",
     "output_type": "stream",
     "text": [
      "INFO [2021-01-08 21:35:52] verification_uri_complete: https://thejacksonlaboratory.auth0.com/activate?user_code=CMQF-MSGV\n"
     ]
    }
   ],
   "source": [
    "# only need to login once per month\n",
    "# after run, click on \"verification_uri_complete\" to finish verification\n",
    "cube_api$login()"
   ]
  },
  {
   "cell_type": "markdown",
   "metadata": {},
   "source": [
    "### 1. Get Metadata Definition"
   ]
  },
  {
   "cell_type": "code",
   "execution_count": 3,
   "metadata": {},
   "outputs": [
    {
     "name": "stdout",
     "output_type": "stream",
     "text": [
      "INFO [2021-01-14 13:29:03] GET: http://10.105.16.22/metadata-service/metadata_definition/element/\n",
      "INFO [2021-01-14 13:29:04] status_code: 200\n"
     ]
    }
   ],
   "source": [
    "# retrieve metadata element\n",
    "response = cube_api$get_element()"
   ]
  },
  {
   "cell_type": "code",
   "execution_count": null,
   "metadata": {},
   "outputs": [],
   "source": [
    "str(response)"
   ]
  },
  {
   "cell_type": "code",
   "execution_count": null,
   "metadata": {},
   "outputs": [],
   "source": [
    "# get the content of the response\n",
    "content = content(response)"
   ]
  },
  {
   "cell_type": "code",
   "execution_count": null,
   "metadata": {},
   "outputs": [],
   "source": [
    "str(content)"
   ]
  },
  {
   "cell_type": "code",
   "execution_count": 4,
   "metadata": {},
   "outputs": [
    {
     "ename": "ERROR",
     "evalue": "Error in content$results: object of type 'closure' is not subsettable\n",
     "output_type": "error",
     "traceback": [
      "Error in content$results: object of type 'closure' is not subsettable\nTraceback:\n",
      "1. data.frame(do.call(rbind, content$results))",
      "2. do.call(rbind, content$results)"
     ]
    }
   ],
   "source": [
    "# to data frame\n",
    "data.frame(do.call(rbind, content$results))[c(\"id\", \"element_label\", \"element_collection_label\", \"element_abbreviation\")]"
   ]
  },
  {
   "cell_type": "markdown",
   "metadata": {},
   "source": [
    "### 2. Get Bucket data from metadata collection"
   ]
  },
  {
   "cell_type": "code",
   "execution_count": 4,
   "metadata": {},
   "outputs": [
    {
     "name": "stdout",
     "output_type": "stream",
     "text": [
      "INFO [2021-01-08 21:36:00] GET: http://10.105.16.22/metadata-service/metadata_repository/collection/\n",
      "INFO [2021-01-08 21:36:01] status_code: 200\n",
      "INFO [2021-01-08 21:36:01] number of accession_ids: 1\n",
      "INFO [2021-01-08 21:36:01] GET: http://10.105.16.22/metadata-service/metadata_repository/element_instance/\n",
      "INFO [2021-01-08 21:36:02] status_code: 200\n",
      "INFO [2021-01-08 21:36:02] number of row returned: 2\n"
     ]
    }
   ],
   "source": [
    "storage_info = cube_api$get_metadata_collection_storage_info()\n"
   ]
  },
  {
   "cell_type": "code",
   "execution_count": 5,
   "metadata": {},
   "outputs": [
    {
     "data": {
      "text/html": [
       "<table>\n",
       "<caption>A data.frame: 2 × 4</caption>\n",
       "<thead>\n",
       "\t<tr><th></th><th scope=col>accession_id</th><th scope=col>uri</th><th scope=col>bucket_name</th><th scope=col>file_name</th></tr>\n",
       "\t<tr><th></th><th scope=col>&lt;chr&gt;</th><th scope=col>&lt;chr&gt;</th><th scope=col>&lt;chr&gt;</th><th scope=col>&lt;chr&gt;</th></tr>\n",
       "</thead>\n",
       "<tbody>\n",
       "\t<tr><th scope=row>1</th><td>JAXDS0000G</td><td>gs://jax-cube-prd-ctrl-01-project-data/study_3-1/Three_bears_CBA_BODY_WEIGHT_200723.txt</td><td>gs://jax-cube-prd-ctrl-01-project-data/study_3-1                </td><td>Three_bears_CBA_BODY_WEIGHT_200723.txt</td></tr>\n",
       "\t<tr><th scope=row>2</th><td>JAXDS0000G</td><td>gs://jax-cube-prd-ctrl-01-project-data/20191223_19-churchill-004                       </td><td>gs://jax-cube-prd-ctrl-01-project-data/20191223_19-churchill-004</td><td>                                      </td></tr>\n",
       "</tbody>\n",
       "</table>\n"
      ],
      "text/latex": [
       "A data.frame: 2 × 4\n",
       "\\begin{tabular}{r|llll}\n",
       "  & accession\\_id & uri & bucket\\_name & file\\_name\\\\\n",
       "  & <chr> & <chr> & <chr> & <chr>\\\\\n",
       "\\hline\n",
       "\t1 & JAXDS0000G & gs://jax-cube-prd-ctrl-01-project-data/study\\_3-1/Three\\_bears\\_CBA\\_BODY\\_WEIGHT\\_200723.txt & gs://jax-cube-prd-ctrl-01-project-data/study\\_3-1                 & Three\\_bears\\_CBA\\_BODY\\_WEIGHT\\_200723.txt\\\\\n",
       "\t2 & JAXDS0000G & gs://jax-cube-prd-ctrl-01-project-data/20191223\\_19-churchill-004                        & gs://jax-cube-prd-ctrl-01-project-data/20191223\\_19-churchill-004 &                                       \\\\\n",
       "\\end{tabular}\n"
      ],
      "text/markdown": [
       "\n",
       "A data.frame: 2 × 4\n",
       "\n",
       "| <!--/--> | accession_id &lt;chr&gt; | uri &lt;chr&gt; | bucket_name &lt;chr&gt; | file_name &lt;chr&gt; |\n",
       "|---|---|---|---|---|\n",
       "| 1 | JAXDS0000G | gs://jax-cube-prd-ctrl-01-project-data/study_3-1/Three_bears_CBA_BODY_WEIGHT_200723.txt | gs://jax-cube-prd-ctrl-01-project-data/study_3-1                 | Three_bears_CBA_BODY_WEIGHT_200723.txt |\n",
       "| 2 | JAXDS0000G | gs://jax-cube-prd-ctrl-01-project-data/20191223_19-churchill-004                        | gs://jax-cube-prd-ctrl-01-project-data/20191223_19-churchill-004 | <!----> |\n",
       "\n"
      ],
      "text/plain": [
       "  accession_id\n",
       "1 JAXDS0000G  \n",
       "2 JAXDS0000G  \n",
       "  uri                                                                                    \n",
       "1 gs://jax-cube-prd-ctrl-01-project-data/study_3-1/Three_bears_CBA_BODY_WEIGHT_200723.txt\n",
       "2 gs://jax-cube-prd-ctrl-01-project-data/20191223_19-churchill-004                       \n",
       "  bucket_name                                                     \n",
       "1 gs://jax-cube-prd-ctrl-01-project-data/study_3-1                \n",
       "2 gs://jax-cube-prd-ctrl-01-project-data/20191223_19-churchill-004\n",
       "  file_name                             \n",
       "1 Three_bears_CBA_BODY_WEIGHT_200723.txt\n",
       "2                                       "
      ]
     },
     "metadata": {},
     "output_type": "display_data"
    }
   ],
   "source": [
    "storage_info"
   ]
  },
  {
   "cell_type": "code",
   "execution_count": null,
   "metadata": {},
   "outputs": [],
   "source": [
    "!CubeAPI"
   ]
  },
  {
   "cell_type": "code",
   "execution_count": null,
   "metadata": {},
   "outputs": [],
   "source": [
    "# pick a bucket\n",
    "bucket_name = storage_info[1, 3]\n",
    "bucket_name"
   ]
  },
  {
   "cell_type": "code",
   "execution_count": null,
   "metadata": {},
   "outputs": [],
   "source": [
    "# list out files in a bucket\n",
    "system(str_glue('gsutil ls -lh {bucket_name}'), intern = TRUE)"
   ]
  },
  {
   "cell_type": "code",
   "execution_count": null,
   "metadata": {},
   "outputs": [],
   "source": [
    "# pick a file to copy to workspace\n",
    "file_name = \"Run_Metric_Summary_20-cube-001-run5.csv\"\n",
    "setwd(\"~/\")\n",
    "system(str_glue('gsutil cp {bucket_name}/{file_name} {file_name} 2>&1'), intern = TRUE)"
   ]
  },
  {
   "cell_type": "code",
   "execution_count": null,
   "metadata": {},
   "outputs": [],
   "source": [
    "# read data into a data frame\n",
    "read.csv(file_name)"
   ]
  },
  {
   "cell_type": "code",
   "execution_count": null,
   "metadata": {},
   "outputs": [],
   "source": [
    "## sync a entire bucket directory, (bucket could be huge) \n",
    "# bucket_data = get_bucket_data(bucket_name = bucket_name, file_name = file_name )\n",
    "# bucket_data"
   ]
  },
  {
   "cell_type": "markdown",
   "metadata": {},
   "source": [
    "### 3. Get Metadata Definition with a Parameter"
   ]
  },
  {
   "cell_type": "code",
   "execution_count": null,
   "metadata": {},
   "outputs": [],
   "source": [
    "response = cube_api$get_element(element_id = 85)"
   ]
  },
  {
   "cell_type": "code",
   "execution_count": null,
   "metadata": {},
   "outputs": [],
   "source": [
    "str(content(response))"
   ]
  },
  {
   "cell_type": "code",
   "execution_count": null,
   "metadata": {},
   "outputs": [],
   "source": [
    "?system"
   ]
  },
  {
   "cell_type": "markdown",
   "metadata": {},
   "source": [
    "### 4. Get Metadata with accession ids "
   ]
  },
  {
   "cell_type": "code",
   "execution_count": null,
   "metadata": {},
   "outputs": [],
   "source": [
    "response = cube_api$get_element_instance(element_id = 85, accession_ids = c(\"JAXAS00031\", \"JAXAS00032\", \"JAXAS00034\"))"
   ]
  },
  {
   "cell_type": "code",
   "execution_count": null,
   "metadata": {},
   "outputs": [],
   "source": [
    "str(content(response)$results)"
   ]
  },
  {
   "cell_type": "markdown",
   "metadata": {},
   "source": [
    "### 5. Get Metadata Collection"
   ]
  },
  {
   "cell_type": "code",
   "execution_count": 6,
   "metadata": {},
   "outputs": [
    {
     "name": "stdout",
     "output_type": "stream",
     "text": [
      "INFO [2021-01-08 21:36:15] GET: http://10.105.16.22/metadata-service/metadata_repository/collection/\n",
      "INFO [2021-01-08 21:36:16] status_code: 200\n"
     ]
    }
   ],
   "source": [
    "response = cube_api$get_metadata_collection()"
   ]
  },
  {
   "cell_type": "code",
   "execution_count": 7,
   "metadata": {},
   "outputs": [
    {
     "name": "stderr",
     "output_type": "stream",
     "text": [
      "No encoding supplied: defaulting to UTF-8.\n",
      "\n"
     ]
    }
   ],
   "source": [
    "json = response_json_to_data(response)"
   ]
  },
  {
   "cell_type": "code",
   "execution_count": 8,
   "metadata": {},
   "outputs": [
    {
     "name": "stdout",
     "output_type": "stream",
     "text": [
      "'data.frame':\t1 obs. of  5 variables:\n",
      " $ id              : int 10\n",
      " $ collection_items:List of 1\n",
      "  ..$ :'data.frame':\t1 obs. of  7 variables:\n",
      "  .. ..$ id           : int 346\n",
      "  .. ..$ collection   :'data.frame':\t1 obs. of  4 variables:\n",
      "  .. .. ..$ id             : int 10\n",
      "  .. .. ..$ collection_name: logi NA\n",
      "  .. .. ..$ user_name      : chr \"waad.939JXKnVNUKLJTw6JEVLxgIlZoYOeIfrJ58NLiCbVQc\"\n",
      "  .. .. ..$ date_created   : chr \"2020-12-22T14:24:16.893718Z\"\n",
      "  .. ..$ collection_id: int 10\n",
      "  .. ..$ accession_id : chr \"JAXDS0000G\"\n",
      "  .. ..$ item_type    : chr \"Data Set\"\n",
      "  .. ..$ item_label   : logi NA\n",
      "  .. ..$ date_created : chr \"2021-01-08T21:09:00.735434Z\"\n",
      " $ user_name       : chr \"waad.939JXKnVNUKLJTw6JEVLxgIlZoYOeIfrJ58NLiCbVQc\"\n",
      " $ collection_name : logi NA\n",
      " $ date_created    : chr \"2020-12-22T14:24:16.893718Z\"\n"
     ]
    }
   ],
   "source": [
    "str(json$results)"
   ]
  },
  {
   "cell_type": "code",
   "execution_count": 9,
   "metadata": {},
   "outputs": [
    {
     "data": {
      "text/html": [
       "'JAXDS0000G'"
      ],
      "text/latex": [
       "'JAXDS0000G'"
      ],
      "text/markdown": [
       "'JAXDS0000G'"
      ],
      "text/plain": [
       "[1] \"JAXDS0000G\""
      ]
     },
     "metadata": {},
     "output_type": "display_data"
    }
   ],
   "source": [
    "accession_ids = json$results[,2][[1]]$accession_id\n",
    "accession_ids"
   ]
  },
  {
   "cell_type": "code",
   "execution_count": 10,
   "metadata": {},
   "outputs": [
    {
     "name": "stdout",
     "output_type": "stream",
     "text": [
      "INFO [2021-01-08 21:36:33] GET: http://10.105.16.22/metadata-service/metadata_repository/element_instance/\n",
      "INFO [2021-01-08 21:36:34] status_code: 200\n"
     ]
    }
   ],
   "source": [
    "response = cube_api$get_element_instance(accession_ids = c(accession_ids))"
   ]
  },
  {
   "cell_type": "code",
   "execution_count": 12,
   "metadata": {},
   "outputs": [
    {
     "ename": "ERROR",
     "evalue": "Error in results[[21]]: subscript out of bounds\n",
     "output_type": "error",
     "traceback": [
      "Error in results[[21]]: subscript out of bounds\nTraceback:\n"
     ]
    }
   ],
   "source": [
    "results = content(response)$results\n",
    "results[[21]][[1]]"
   ]
  },
  {
   "cell_type": "code",
   "execution_count": 11,
   "metadata": {},
   "outputs": [
    {
     "ename": "ERROR",
     "evalue": "Error in eval(expr, envir, enclos): object 'results' not found\n",
     "output_type": "error",
     "traceback": [
      "Error in eval(expr, envir, enclos): object 'results' not found\nTraceback:\n"
     ]
    }
   ],
   "source": [
    "data_url = results[[21]][[1]][[1]][[4]]\n",
    "url_parts = str_split(data_url, \"/\")\n",
    "bucket_name = paste0(\"gs://\", url_parts[[1]][4], \"/\", url_parts[[1]][5])\n",
    "file_name =  url_parts[[1]][6]\n",
    "\n",
    "# load the data from the GCP bucket\n",
    "# data_dir = gs_data_dir( bucket_name )\n",
    "\n",
    "# read the file into a dataframe\n",
    "# df <- read.table(file.path(data_dir, file_name), sep = '\\t',header = TRUE)\n",
    "# df"
   ]
  },
  {
   "cell_type": "markdown",
   "metadata": {},
   "source": [
    "### 5. Call Any Get endpoint\n",
    "Call any get end point.  All the endpoints are listed here: https://metadata-service-sqa.azurewebsites.net/swagger/"
   ]
  },
  {
   "cell_type": "code",
   "execution_count": null,
   "metadata": {},
   "outputs": [],
   "source": [
    "# specify a end point\n",
    "response = cube_api$get_end_point(\"metadata_definition/property/?element_id=85\")"
   ]
  },
  {
   "cell_type": "code",
   "execution_count": null,
   "metadata": {},
   "outputs": [],
   "source": [
    "content(response)$count"
   ]
  },
  {
   "cell_type": "code",
   "execution_count": null,
   "metadata": {},
   "outputs": [],
   "source": [
    "# another end point\n",
    "response = cube_api$get_end_point(\"/metadata_repository/collection_item/1/\")"
   ]
  },
  {
   "cell_type": "code",
   "execution_count": null,
   "metadata": {},
   "outputs": [],
   "source": [
    "content(response)"
   ]
  },
  {
   "cell_type": "markdown",
   "metadata": {},
   "source": [
    "### 6. Post endpoint"
   ]
  },
  {
   "cell_type": "code",
   "execution_count": null,
   "metadata": {},
   "outputs": [],
   "source": [
    "response = cube_api$post_element_instance_filter(element_id = 122, page = 1, page_size = 2)"
   ]
  },
  {
   "cell_type": "code",
   "execution_count": null,
   "metadata": {},
   "outputs": [],
   "source": [
    "str(content(response))"
   ]
  },
  {
   "cell_type": "markdown",
   "metadata": {},
   "source": [
    "### 7. More Information"
   ]
  },
  {
   "cell_type": "code",
   "execution_count": null,
   "metadata": {},
   "outputs": [],
   "source": [
    "?CubeAPI"
   ]
  },
  {
   "cell_type": "code",
   "execution_count": null,
   "metadata": {},
   "outputs": [],
   "source": [
    "?Cube"
   ]
  },
  {
   "cell_type": "code",
   "execution_count": null,
   "metadata": {},
   "outputs": [],
   "source": []
  }
 ],
 "metadata": {
  "kernelspec": {
   "display_name": "R",
   "language": "R",
   "name": "ir"
  },
  "language_info": {
   "codemirror_mode": "r",
   "file_extension": ".r",
   "mimetype": "text/x-r-source",
   "name": "R",
   "pygments_lexer": "r",
   "version": "4.0.3"
  }
 },
 "nbformat": 4,
 "nbformat_minor": 4
}
