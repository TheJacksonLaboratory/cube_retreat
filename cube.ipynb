{
 "cells": [
  {
   "cell_type": "markdown",
   "metadata": {},
   "source": [
    "# Cube Packcage\n",
    "The custom cube package is preinstalled.  just load the library and start to use it \n",
    "<hr/>\n"
   ]
  },
  {
   "cell_type": "markdown",
   "metadata": {},
   "source": [
    "### Load Library and Login to CubeAPI"
   ]
  },
  {
   "cell_type": "code",
   "execution_count": 1,
   "metadata": {},
   "outputs": [
    {
     "name": "stderr",
     "output_type": "stream",
     "text": [
      "Loading required package: usethis\n",
      "\n",
      "Loading required package: reshape\n",
      "\n",
      "\n",
      "Attaching package: ‘rapportools’\n",
      "\n",
      "\n",
      "The following objects are masked from ‘package:stats’:\n",
      "\n",
      "    IQR, median, sd, var\n",
      "\n",
      "\n",
      "The following objects are masked from ‘package:base’:\n",
      "\n",
      "    max, mean, min, range, sum\n",
      "\n",
      "\n",
      "\n",
      "Attaching package: ‘data.table’\n",
      "\n",
      "\n",
      "The following object is masked from ‘package:reshape’:\n",
      "\n",
      "    melt\n",
      "\n",
      "\n",
      "Loading required package: tfruns\n",
      "\n"
     ]
    }
   ],
   "source": [
    "# load all library, it is already installed\n",
    "library(devtools)\n",
    "library(httr)\n",
    "library(jsonlite)\n",
    "library(stringr)\n",
    "library(rapportools)\n",
    "library(htmlwidgets)\n",
    "library(rlist)\n",
    "library(data.table)\n",
    "library(cloudml)\n",
    "library(readr)\n",
    "library(logger)\n",
    "library(cube)\n",
    "setwd(\"~/\")\n",
    "log_threshold(INFO)"
   ]
  },
  {
   "cell_type": "code",
   "execution_count": 2,
   "metadata": {},
   "outputs": [
    {
     "name": "stdout",
     "output_type": "stream",
     "text": [
      "INFO [2021-01-28 13:49:17] Version: 0.0.2\n",
      "INFO [2021-01-28 13:49:17] http://10.105.16.22/metadata-service/\n"
     ]
    }
   ],
   "source": [
    "# create a CubeAPI object\n",
    "cube_api = CubeAPI$new()"
   ]
  },
  {
   "cell_type": "code",
   "execution_count": 4,
   "metadata": {},
   "outputs": [
    {
     "name": "stdout",
     "output_type": "stream",
     "text": [
      "INFO [2021-01-28 13:49:48] verification_uri_complete: https://thejacksonlaboratory.auth0.com/activate?user_code=CBVD-GRRL\n"
     ]
    }
   ],
   "source": [
    "# only need to login once per month\n",
    "# after run, click on \"verification_uri_complete\" to finish verification\n",
    "cube_api$login()"
   ]
  },
  {
   "cell_type": "markdown",
   "metadata": {},
   "source": [
    "### 1. Get Metadata Definition"
   ]
  },
  {
   "cell_type": "code",
   "execution_count": null,
   "metadata": {},
   "outputs": [],
   "source": [
    "# retrieve metadata element\n",
    "response = cube_api$get_element()"
   ]
  },
  {
   "cell_type": "code",
   "execution_count": null,
   "metadata": {},
   "outputs": [],
   "source": [
    "str(response)"
   ]
  },
  {
   "cell_type": "code",
   "execution_count": null,
   "metadata": {},
   "outputs": [],
   "source": [
    "# get the content of the response\n",
    "content = content(response)"
   ]
  },
  {
   "cell_type": "code",
   "execution_count": null,
   "metadata": {},
   "outputs": [],
   "source": [
    "str(content)"
   ]
  },
  {
   "cell_type": "code",
   "execution_count": null,
   "metadata": {},
   "outputs": [],
   "source": [
    "# to data frame\n",
    "data.frame(do.call(rbind, content$results))[c(\"id\", \"element_label\", \"element_collection_label\", \"element_abbreviation\")]"
   ]
  },
  {
   "cell_type": "markdown",
   "metadata": {},
   "source": [
    "### 2. Get Bucket data from metadata collection"
   ]
  },
  {
   "cell_type": "code",
   "execution_count": 4,
   "metadata": {},
   "outputs": [
    {
     "name": "stdout",
     "output_type": "stream",
     "text": [
      "INFO [2021-01-28 13:50:24] GET: http://10.105.16.22/metadata-service/metadata_repository/collection/\n",
      "INFO [2021-01-28 13:50:25] status_code: 200\n",
      "INFO [2021-01-28 13:50:25] number of accession_ids: 3\n",
      "INFO [2021-01-28 13:50:25] GET: http://10.105.16.22/metadata-service/metadata_repository/element_instance/\n",
      "INFO [2021-01-28 13:50:26] status_code: 200\n",
      "INFO [2021-01-28 13:50:26] number of row returned: 3\n"
     ]
    }
   ],
   "source": [
    "storage_info = cube_api$get_metadata_collection_storage_info()\n"
   ]
  },
  {
   "cell_type": "code",
   "execution_count": 6,
   "metadata": {},
   "outputs": [
    {
     "data": {
      "text/html": [
       "<table>\n",
       "<caption>A data.frame: 3 × 4</caption>\n",
       "<thead>\n",
       "\t<tr><th></th><th scope=col>accession_id</th><th scope=col>uri</th><th scope=col>bucket_name</th><th scope=col>file_name</th></tr>\n",
       "\t<tr><th></th><th scope=col>&lt;chr&gt;</th><th scope=col>&lt;chr&gt;</th><th scope=col>&lt;chr&gt;</th><th scope=col>&lt;chr&gt;</th></tr>\n",
       "</thead>\n",
       "<tbody>\n",
       "\t<tr><th scope=row>1</th><td>JAXDS0000S</td><td>gs://jax-cube-prd-ctrl-01-project-data/20200203_19-churchill-002-run2</td><td>gs://jax-cube-prd-ctrl-01-project-data/20200203_19-churchill-002-run2</td><td></td></tr>\n",
       "\t<tr><th scope=row>2</th><td>JAXDS0000R</td><td>gs://jax-cube-prd-ctrl-01-project-data/20191231_19-churchill-002     </td><td>gs://jax-cube-prd-ctrl-01-project-data/20191231_19-churchill-002     </td><td></td></tr>\n",
       "\t<tr><th scope=row>3</th><td>JAXDS0000Q</td><td>gs://jax-cube-prd-ctrl-01-project-data/20200128_19-churchill-004-run3</td><td>gs://jax-cube-prd-ctrl-01-project-data/20200128_19-churchill-004-run3</td><td></td></tr>\n",
       "</tbody>\n",
       "</table>\n"
      ],
      "text/latex": [
       "A data.frame: 3 × 4\n",
       "\\begin{tabular}{r|llll}\n",
       "  & accession\\_id & uri & bucket\\_name & file\\_name\\\\\n",
       "  & <chr> & <chr> & <chr> & <chr>\\\\\n",
       "\\hline\n",
       "\t1 & JAXDS0000S & gs://jax-cube-prd-ctrl-01-project-data/20200203\\_19-churchill-002-run2 & gs://jax-cube-prd-ctrl-01-project-data/20200203\\_19-churchill-002-run2 & \\\\\n",
       "\t2 & JAXDS0000R & gs://jax-cube-prd-ctrl-01-project-data/20191231\\_19-churchill-002      & gs://jax-cube-prd-ctrl-01-project-data/20191231\\_19-churchill-002      & \\\\\n",
       "\t3 & JAXDS0000Q & gs://jax-cube-prd-ctrl-01-project-data/20200128\\_19-churchill-004-run3 & gs://jax-cube-prd-ctrl-01-project-data/20200128\\_19-churchill-004-run3 & \\\\\n",
       "\\end{tabular}\n"
      ],
      "text/markdown": [
       "\n",
       "A data.frame: 3 × 4\n",
       "\n",
       "| <!--/--> | accession_id &lt;chr&gt; | uri &lt;chr&gt; | bucket_name &lt;chr&gt; | file_name &lt;chr&gt; |\n",
       "|---|---|---|---|---|\n",
       "| 1 | JAXDS0000S | gs://jax-cube-prd-ctrl-01-project-data/20200203_19-churchill-002-run2 | gs://jax-cube-prd-ctrl-01-project-data/20200203_19-churchill-002-run2 | <!----> |\n",
       "| 2 | JAXDS0000R | gs://jax-cube-prd-ctrl-01-project-data/20191231_19-churchill-002      | gs://jax-cube-prd-ctrl-01-project-data/20191231_19-churchill-002      | <!----> |\n",
       "| 3 | JAXDS0000Q | gs://jax-cube-prd-ctrl-01-project-data/20200128_19-churchill-004-run3 | gs://jax-cube-prd-ctrl-01-project-data/20200128_19-churchill-004-run3 | <!----> |\n",
       "\n"
      ],
      "text/plain": [
       "  accession_id\n",
       "1 JAXDS0000S  \n",
       "2 JAXDS0000R  \n",
       "3 JAXDS0000Q  \n",
       "  uri                                                                  \n",
       "1 gs://jax-cube-prd-ctrl-01-project-data/20200203_19-churchill-002-run2\n",
       "2 gs://jax-cube-prd-ctrl-01-project-data/20191231_19-churchill-002     \n",
       "3 gs://jax-cube-prd-ctrl-01-project-data/20200128_19-churchill-004-run3\n",
       "  bucket_name                                                          \n",
       "1 gs://jax-cube-prd-ctrl-01-project-data/20200203_19-churchill-002-run2\n",
       "2 gs://jax-cube-prd-ctrl-01-project-data/20191231_19-churchill-002     \n",
       "3 gs://jax-cube-prd-ctrl-01-project-data/20200128_19-churchill-004-run3\n",
       "  file_name\n",
       "1          \n",
       "2          \n",
       "3          "
      ]
     },
     "metadata": {},
     "output_type": "display_data"
    }
   ],
   "source": [
    "storage_info"
   ]
  },
  {
   "cell_type": "code",
   "execution_count": null,
   "metadata": {},
   "outputs": [],
   "source": [
    "!CubeAPI"
   ]
  },
  {
   "cell_type": "code",
   "execution_count": 7,
   "metadata": {},
   "outputs": [
    {
     "data": {
      "text/html": [
       "'gs://jax-cube-prd-ctrl-01-project-data/20200203_19-churchill-002-run2'"
      ],
      "text/latex": [
       "'gs://jax-cube-prd-ctrl-01-project-data/20200203\\_19-churchill-002-run2'"
      ],
      "text/markdown": [
       "'gs://jax-cube-prd-ctrl-01-project-data/20200203_19-churchill-002-run2'"
      ],
      "text/plain": [
       "[1] \"gs://jax-cube-prd-ctrl-01-project-data/20200203_19-churchill-002-run2\""
      ]
     },
     "metadata": {},
     "output_type": "display_data"
    }
   ],
   "source": [
    "# pick a bucket\n",
    "bucket_name = storage_info[1, 3]\n",
    "bucket_name"
   ]
  },
  {
   "cell_type": "code",
   "execution_count": 8,
   "metadata": {},
   "outputs": [
    {
     "data": {
      "text/html": [
       "<style>\n",
       ".list-inline {list-style: none; margin:0; padding: 0}\n",
       ".list-inline>li {display: inline-block}\n",
       ".list-inline>li:not(:last-child)::after {content: \"\\00b7\"; padding: 0 .5ex}\n",
       "</style>\n",
       "<ol class=list-inline><li><span style=white-space:pre-wrap>'235.65 KiB  2020-02-04T18:00:24Z  gs://jax-cube-prd-ctrl-01-project-data/20200203_19-churchill-002-run2/19-churchill-002-run2_QCreport.csv'</span></li><li><span style=white-space:pre-wrap>'    14 KiB  2020-02-03T19:00:19Z  gs://jax-cube-prd-ctrl-01-project-data/20200203_19-churchill-002-run2/Run_Metric_Summary_19-churchill-002-run2.csv'</span></li><li><span style=white-space:pre-wrap>' 12.99 GiB  2020-02-04T00:09:03Z  gs://jax-cube-prd-ctrl-01-project-data/20200203_19-churchill-002-run2/Undetermined_S0_L001_R1_001.fastq.gz'</span></li><li><span style=white-space:pre-wrap>' 13.26 GiB  2020-02-04T00:07:29Z  gs://jax-cube-prd-ctrl-01-project-data/20200203_19-churchill-002-run2/Undetermined_S0_L001_R2_001.fastq.gz'</span></li><li><span style=white-space:pre-wrap>' 12.73 GiB  2020-02-04T00:07:33Z  gs://jax-cube-prd-ctrl-01-project-data/20200203_19-churchill-002-run2/Undetermined_S0_L002_R1_001.fastq.gz'</span></li><li><span style=white-space:pre-wrap>' 12.94 GiB  2020-02-04T00:07:38Z  gs://jax-cube-prd-ctrl-01-project-data/20200203_19-churchill-002-run2/Undetermined_S0_L002_R2_001.fastq.gz'</span></li><li><span style=white-space:pre-wrap>' 13.29 GiB  2020-02-04T00:09:09Z  gs://jax-cube-prd-ctrl-01-project-data/20200203_19-churchill-002-run2/Undetermined_S0_L003_R1_001.fastq.gz'</span></li><li><span style=white-space:pre-wrap>' 13.55 GiB  2020-02-04T00:07:37Z  gs://jax-cube-prd-ctrl-01-project-data/20200203_19-churchill-002-run2/Undetermined_S0_L003_R2_001.fastq.gz'</span></li><li><span style=white-space:pre-wrap>'  13.2 GiB  2020-02-04T00:07:25Z  gs://jax-cube-prd-ctrl-01-project-data/20200203_19-churchill-002-run2/Undetermined_S0_L004_R1_001.fastq.gz'</span></li><li><span style=white-space:pre-wrap>' 13.43 GiB  2020-02-04T00:07:45Z  gs://jax-cube-prd-ctrl-01-project-data/20200203_19-churchill-002-run2/Undetermined_S0_L004_R2_001.fastq.gz'</span></li><li><span style=white-space:pre-wrap>'489.84 KiB  2020-05-08T20:00:32Z  gs://jax-cube-prd-ctrl-01-project-data/20200203_19-churchill-002-run2/archived.json'</span></li><li><span style=white-space:pre-wrap>' 209.6 KiB  2020-05-04T18:00:34Z  gs://jax-cube-prd-ctrl-01-project-data/20200203_19-churchill-002-run2/checksums.md5'</span></li><li><span style=white-space:pre-wrap>'419.32 KiB  2020-05-04T18:00:34Z  gs://jax-cube-prd-ctrl-01-project-data/20200203_19-churchill-002-run2/gt-metadata.json'</span></li><li>'TOTAL: 13 objects, 113150784479 bytes (105.38 GiB)'</li></ol>\n"
      ],
      "text/latex": [
       "\\begin{enumerate*}\n",
       "\\item '235.65 KiB  2020-02-04T18:00:24Z  gs://jax-cube-prd-ctrl-01-project-data/20200203\\_19-churchill-002-run2/19-churchill-002-run2\\_QCreport.csv'\n",
       "\\item '    14 KiB  2020-02-03T19:00:19Z  gs://jax-cube-prd-ctrl-01-project-data/20200203\\_19-churchill-002-run2/Run\\_Metric\\_Summary\\_19-churchill-002-run2.csv'\n",
       "\\item ' 12.99 GiB  2020-02-04T00:09:03Z  gs://jax-cube-prd-ctrl-01-project-data/20200203\\_19-churchill-002-run2/Undetermined\\_S0\\_L001\\_R1\\_001.fastq.gz'\n",
       "\\item ' 13.26 GiB  2020-02-04T00:07:29Z  gs://jax-cube-prd-ctrl-01-project-data/20200203\\_19-churchill-002-run2/Undetermined\\_S0\\_L001\\_R2\\_001.fastq.gz'\n",
       "\\item ' 12.73 GiB  2020-02-04T00:07:33Z  gs://jax-cube-prd-ctrl-01-project-data/20200203\\_19-churchill-002-run2/Undetermined\\_S0\\_L002\\_R1\\_001.fastq.gz'\n",
       "\\item ' 12.94 GiB  2020-02-04T00:07:38Z  gs://jax-cube-prd-ctrl-01-project-data/20200203\\_19-churchill-002-run2/Undetermined\\_S0\\_L002\\_R2\\_001.fastq.gz'\n",
       "\\item ' 13.29 GiB  2020-02-04T00:09:09Z  gs://jax-cube-prd-ctrl-01-project-data/20200203\\_19-churchill-002-run2/Undetermined\\_S0\\_L003\\_R1\\_001.fastq.gz'\n",
       "\\item ' 13.55 GiB  2020-02-04T00:07:37Z  gs://jax-cube-prd-ctrl-01-project-data/20200203\\_19-churchill-002-run2/Undetermined\\_S0\\_L003\\_R2\\_001.fastq.gz'\n",
       "\\item '  13.2 GiB  2020-02-04T00:07:25Z  gs://jax-cube-prd-ctrl-01-project-data/20200203\\_19-churchill-002-run2/Undetermined\\_S0\\_L004\\_R1\\_001.fastq.gz'\n",
       "\\item ' 13.43 GiB  2020-02-04T00:07:45Z  gs://jax-cube-prd-ctrl-01-project-data/20200203\\_19-churchill-002-run2/Undetermined\\_S0\\_L004\\_R2\\_001.fastq.gz'\n",
       "\\item '489.84 KiB  2020-05-08T20:00:32Z  gs://jax-cube-prd-ctrl-01-project-data/20200203\\_19-churchill-002-run2/archived.json'\n",
       "\\item ' 209.6 KiB  2020-05-04T18:00:34Z  gs://jax-cube-prd-ctrl-01-project-data/20200203\\_19-churchill-002-run2/checksums.md5'\n",
       "\\item '419.32 KiB  2020-05-04T18:00:34Z  gs://jax-cube-prd-ctrl-01-project-data/20200203\\_19-churchill-002-run2/gt-metadata.json'\n",
       "\\item 'TOTAL: 13 objects, 113150784479 bytes (105.38 GiB)'\n",
       "\\end{enumerate*}\n"
      ],
      "text/markdown": [
       "1. <span style=white-space:pre-wrap>'235.65 KiB  2020-02-04T18:00:24Z  gs://jax-cube-prd-ctrl-01-project-data/20200203_19-churchill-002-run2/19-churchill-002-run2_QCreport.csv'</span>\n",
       "2. <span style=white-space:pre-wrap>'    14 KiB  2020-02-03T19:00:19Z  gs://jax-cube-prd-ctrl-01-project-data/20200203_19-churchill-002-run2/Run_Metric_Summary_19-churchill-002-run2.csv'</span>\n",
       "3. <span style=white-space:pre-wrap>' 12.99 GiB  2020-02-04T00:09:03Z  gs://jax-cube-prd-ctrl-01-project-data/20200203_19-churchill-002-run2/Undetermined_S0_L001_R1_001.fastq.gz'</span>\n",
       "4. <span style=white-space:pre-wrap>' 13.26 GiB  2020-02-04T00:07:29Z  gs://jax-cube-prd-ctrl-01-project-data/20200203_19-churchill-002-run2/Undetermined_S0_L001_R2_001.fastq.gz'</span>\n",
       "5. <span style=white-space:pre-wrap>' 12.73 GiB  2020-02-04T00:07:33Z  gs://jax-cube-prd-ctrl-01-project-data/20200203_19-churchill-002-run2/Undetermined_S0_L002_R1_001.fastq.gz'</span>\n",
       "6. <span style=white-space:pre-wrap>' 12.94 GiB  2020-02-04T00:07:38Z  gs://jax-cube-prd-ctrl-01-project-data/20200203_19-churchill-002-run2/Undetermined_S0_L002_R2_001.fastq.gz'</span>\n",
       "7. <span style=white-space:pre-wrap>' 13.29 GiB  2020-02-04T00:09:09Z  gs://jax-cube-prd-ctrl-01-project-data/20200203_19-churchill-002-run2/Undetermined_S0_L003_R1_001.fastq.gz'</span>\n",
       "8. <span style=white-space:pre-wrap>' 13.55 GiB  2020-02-04T00:07:37Z  gs://jax-cube-prd-ctrl-01-project-data/20200203_19-churchill-002-run2/Undetermined_S0_L003_R2_001.fastq.gz'</span>\n",
       "9. <span style=white-space:pre-wrap>'  13.2 GiB  2020-02-04T00:07:25Z  gs://jax-cube-prd-ctrl-01-project-data/20200203_19-churchill-002-run2/Undetermined_S0_L004_R1_001.fastq.gz'</span>\n",
       "10. <span style=white-space:pre-wrap>' 13.43 GiB  2020-02-04T00:07:45Z  gs://jax-cube-prd-ctrl-01-project-data/20200203_19-churchill-002-run2/Undetermined_S0_L004_R2_001.fastq.gz'</span>\n",
       "11. <span style=white-space:pre-wrap>'489.84 KiB  2020-05-08T20:00:32Z  gs://jax-cube-prd-ctrl-01-project-data/20200203_19-churchill-002-run2/archived.json'</span>\n",
       "12. <span style=white-space:pre-wrap>' 209.6 KiB  2020-05-04T18:00:34Z  gs://jax-cube-prd-ctrl-01-project-data/20200203_19-churchill-002-run2/checksums.md5'</span>\n",
       "13. <span style=white-space:pre-wrap>'419.32 KiB  2020-05-04T18:00:34Z  gs://jax-cube-prd-ctrl-01-project-data/20200203_19-churchill-002-run2/gt-metadata.json'</span>\n",
       "14. 'TOTAL: 13 objects, 113150784479 bytes (105.38 GiB)'\n",
       "\n",
       "\n"
      ],
      "text/plain": [
       " [1] \"235.65 KiB  2020-02-04T18:00:24Z  gs://jax-cube-prd-ctrl-01-project-data/20200203_19-churchill-002-run2/19-churchill-002-run2_QCreport.csv\"          \n",
       " [2] \"    14 KiB  2020-02-03T19:00:19Z  gs://jax-cube-prd-ctrl-01-project-data/20200203_19-churchill-002-run2/Run_Metric_Summary_19-churchill-002-run2.csv\"\n",
       " [3] \" 12.99 GiB  2020-02-04T00:09:03Z  gs://jax-cube-prd-ctrl-01-project-data/20200203_19-churchill-002-run2/Undetermined_S0_L001_R1_001.fastq.gz\"        \n",
       " [4] \" 13.26 GiB  2020-02-04T00:07:29Z  gs://jax-cube-prd-ctrl-01-project-data/20200203_19-churchill-002-run2/Undetermined_S0_L001_R2_001.fastq.gz\"        \n",
       " [5] \" 12.73 GiB  2020-02-04T00:07:33Z  gs://jax-cube-prd-ctrl-01-project-data/20200203_19-churchill-002-run2/Undetermined_S0_L002_R1_001.fastq.gz\"        \n",
       " [6] \" 12.94 GiB  2020-02-04T00:07:38Z  gs://jax-cube-prd-ctrl-01-project-data/20200203_19-churchill-002-run2/Undetermined_S0_L002_R2_001.fastq.gz\"        \n",
       " [7] \" 13.29 GiB  2020-02-04T00:09:09Z  gs://jax-cube-prd-ctrl-01-project-data/20200203_19-churchill-002-run2/Undetermined_S0_L003_R1_001.fastq.gz\"        \n",
       " [8] \" 13.55 GiB  2020-02-04T00:07:37Z  gs://jax-cube-prd-ctrl-01-project-data/20200203_19-churchill-002-run2/Undetermined_S0_L003_R2_001.fastq.gz\"        \n",
       " [9] \"  13.2 GiB  2020-02-04T00:07:25Z  gs://jax-cube-prd-ctrl-01-project-data/20200203_19-churchill-002-run2/Undetermined_S0_L004_R1_001.fastq.gz\"        \n",
       "[10] \" 13.43 GiB  2020-02-04T00:07:45Z  gs://jax-cube-prd-ctrl-01-project-data/20200203_19-churchill-002-run2/Undetermined_S0_L004_R2_001.fastq.gz\"        \n",
       "[11] \"489.84 KiB  2020-05-08T20:00:32Z  gs://jax-cube-prd-ctrl-01-project-data/20200203_19-churchill-002-run2/archived.json\"                               \n",
       "[12] \" 209.6 KiB  2020-05-04T18:00:34Z  gs://jax-cube-prd-ctrl-01-project-data/20200203_19-churchill-002-run2/checksums.md5\"                               \n",
       "[13] \"419.32 KiB  2020-05-04T18:00:34Z  gs://jax-cube-prd-ctrl-01-project-data/20200203_19-churchill-002-run2/gt-metadata.json\"                            \n",
       "[14] \"TOTAL: 13 objects, 113150784479 bytes (105.38 GiB)\"                                                                                                  "
      ]
     },
     "metadata": {},
     "output_type": "display_data"
    }
   ],
   "source": [
    "# list out files in a bucket\n",
    "system(str_glue('gsutil ls -lh {bucket_name}'), intern = TRUE)"
   ]
  },
  {
   "cell_type": "code",
   "execution_count": null,
   "metadata": {},
   "outputs": [],
   "source": [
    "# pick a file to copy to workspace\n",
    "file_name = \"Run_Metric_Summary_20-cube-001-run5.csv\"\n",
    "setwd(\"~/\")\n",
    "system(str_glue('gsutil cp {bucket_name}/{file_name} {file_name} 2>&1'), intern = TRUE)"
   ]
  },
  {
   "cell_type": "code",
   "execution_count": null,
   "metadata": {},
   "outputs": [],
   "source": [
    "# read data into a data frame\n",
    "read.csv(file_name)"
   ]
  },
  {
   "cell_type": "code",
   "execution_count": null,
   "metadata": {},
   "outputs": [],
   "source": [
    "## sync a entire bucket directory, (bucket could be huge) \n",
    "# bucket_data = get_bucket_data(bucket_name = bucket_name, file_name = file_name )\n",
    "# bucket_data"
   ]
  },
  {
   "cell_type": "markdown",
   "metadata": {},
   "source": [
    "### 3. Get Metadata Definition with a Parameter"
   ]
  },
  {
   "cell_type": "code",
   "execution_count": null,
   "metadata": {},
   "outputs": [],
   "source": [
    "response = cube_api$get_element(element_id = 85)"
   ]
  },
  {
   "cell_type": "code",
   "execution_count": null,
   "metadata": {},
   "outputs": [],
   "source": [
    "str(content(response))"
   ]
  },
  {
   "cell_type": "code",
   "execution_count": null,
   "metadata": {},
   "outputs": [],
   "source": [
    "?system"
   ]
  },
  {
   "cell_type": "markdown",
   "metadata": {},
   "source": [
    "### 4. Get Metadata with accession ids "
   ]
  },
  {
   "cell_type": "code",
   "execution_count": null,
   "metadata": {},
   "outputs": [],
   "source": [
    "response = cube_api$get_element_instance(element_id = 85, accession_ids = c(\"JAXAS00031\", \"JAXAS00032\", \"JAXAS00034\"))"
   ]
  },
  {
   "cell_type": "code",
   "execution_count": null,
   "metadata": {},
   "outputs": [],
   "source": [
    "str(content(response)$results)"
   ]
  },
  {
   "cell_type": "markdown",
   "metadata": {},
   "source": [
    "### 5. Get Metadata Collection"
   ]
  },
  {
   "cell_type": "code",
   "execution_count": 9,
   "metadata": {},
   "outputs": [
    {
     "name": "stdout",
     "output_type": "stream",
     "text": [
      "INFO [2021-01-28 13:53:40] GET: http://10.105.16.22/metadata-service/metadata_repository/collection/\n",
      "INFO [2021-01-28 13:53:41] status_code: 200\n"
     ]
    }
   ],
   "source": [
    "response = cube_api$get_metadata_collection()"
   ]
  },
  {
   "cell_type": "code",
   "execution_count": 10,
   "metadata": {},
   "outputs": [
    {
     "name": "stderr",
     "output_type": "stream",
     "text": [
      "No encoding supplied: defaulting to UTF-8.\n",
      "\n"
     ]
    }
   ],
   "source": [
    "json = response_json_to_data(response)"
   ]
  },
  {
   "cell_type": "code",
   "execution_count": 8,
   "metadata": {},
   "outputs": [
    {
     "name": "stdout",
     "output_type": "stream",
     "text": [
      "'data.frame':\t1 obs. of  5 variables:\n",
      " $ id              : int 10\n",
      " $ collection_items:List of 1\n",
      "  ..$ :'data.frame':\t1 obs. of  7 variables:\n",
      "  .. ..$ id           : int 346\n",
      "  .. ..$ collection   :'data.frame':\t1 obs. of  4 variables:\n",
      "  .. .. ..$ id             : int 10\n",
      "  .. .. ..$ collection_name: logi NA\n",
      "  .. .. ..$ user_name      : chr \"waad.939JXKnVNUKLJTw6JEVLxgIlZoYOeIfrJ58NLiCbVQc\"\n",
      "  .. .. ..$ date_created   : chr \"2020-12-22T14:24:16.893718Z\"\n",
      "  .. ..$ collection_id: int 10\n",
      "  .. ..$ accession_id : chr \"JAXDS0000G\"\n",
      "  .. ..$ item_type    : chr \"Data Set\"\n",
      "  .. ..$ item_label   : logi NA\n",
      "  .. ..$ date_created : chr \"2021-01-08T21:09:00.735434Z\"\n",
      " $ user_name       : chr \"waad.939JXKnVNUKLJTw6JEVLxgIlZoYOeIfrJ58NLiCbVQc\"\n",
      " $ collection_name : logi NA\n",
      " $ date_created    : chr \"2020-12-22T14:24:16.893718Z\"\n"
     ]
    }
   ],
   "source": [
    "str(json$results)"
   ]
  },
  {
   "cell_type": "code",
   "execution_count": 11,
   "metadata": {},
   "outputs": [
    {
     "data": {
      "text/html": [
       "<style>\n",
       ".list-inline {list-style: none; margin:0; padding: 0}\n",
       ".list-inline>li {display: inline-block}\n",
       ".list-inline>li:not(:last-child)::after {content: \"\\00b7\"; padding: 0 .5ex}\n",
       "</style>\n",
       "<ol class=list-inline><li>'JAXDS0000Q'</li><li>'JAXDS0000R'</li><li>'JAXDS0000S'</li></ol>\n"
      ],
      "text/latex": [
       "\\begin{enumerate*}\n",
       "\\item 'JAXDS0000Q'\n",
       "\\item 'JAXDS0000R'\n",
       "\\item 'JAXDS0000S'\n",
       "\\end{enumerate*}\n"
      ],
      "text/markdown": [
       "1. 'JAXDS0000Q'\n",
       "2. 'JAXDS0000R'\n",
       "3. 'JAXDS0000S'\n",
       "\n",
       "\n"
      ],
      "text/plain": [
       "[1] \"JAXDS0000Q\" \"JAXDS0000R\" \"JAXDS0000S\""
      ]
     },
     "metadata": {},
     "output_type": "display_data"
    }
   ],
   "source": [
    "accession_ids = json$results[,2][[1]]$accession_id\n",
    "accession_ids"
   ]
  },
  {
   "cell_type": "code",
   "execution_count": 10,
   "metadata": {},
   "outputs": [
    {
     "name": "stdout",
     "output_type": "stream",
     "text": [
      "INFO [2021-01-08 21:36:33] GET: http://10.105.16.22/metadata-service/metadata_repository/element_instance/\n",
      "INFO [2021-01-08 21:36:34] status_code: 200\n"
     ]
    }
   ],
   "source": [
    "response = cube_api$get_element_instance(accession_ids = c(accession_ids))"
   ]
  },
  {
   "cell_type": "code",
   "execution_count": 12,
   "metadata": {},
   "outputs": [
    {
     "ename": "ERROR",
     "evalue": "Error in results[[21]]: subscript out of bounds\n",
     "output_type": "error",
     "traceback": [
      "Error in results[[21]]: subscript out of bounds\nTraceback:\n"
     ]
    }
   ],
   "source": [
    "results = content(response)$results\n",
    "results[[21]][[1]]"
   ]
  },
  {
   "cell_type": "code",
   "execution_count": 11,
   "metadata": {},
   "outputs": [
    {
     "ename": "ERROR",
     "evalue": "Error in eval(expr, envir, enclos): object 'results' not found\n",
     "output_type": "error",
     "traceback": [
      "Error in eval(expr, envir, enclos): object 'results' not found\nTraceback:\n"
     ]
    }
   ],
   "source": [
    "data_url = results[[21]][[1]][[1]][[4]]\n",
    "url_parts = str_split(data_url, \"/\")\n",
    "bucket_name = paste0(\"gs://\", url_parts[[1]][4], \"/\", url_parts[[1]][5])\n",
    "file_name =  url_parts[[1]][6]\n",
    "\n",
    "# load the data from the GCP bucket\n",
    "# data_dir = gs_data_dir( bucket_name )\n",
    "\n",
    "# read the file into a dataframe\n",
    "# df <- read.table(file.path(data_dir, file_name), sep = '\\t',header = TRUE)\n",
    "# df"
   ]
  },
  {
   "cell_type": "markdown",
   "metadata": {},
   "source": [
    "### 5. Call Any Get endpoint\n",
    "Call any get end point.  All the endpoints are listed here: https://metadata-service-sqa.azurewebsites.net/swagger/"
   ]
  },
  {
   "cell_type": "code",
   "execution_count": null,
   "metadata": {},
   "outputs": [],
   "source": [
    "# specify a end point\n",
    "response = cube_api$get_end_point(\"metadata_definition/property/?element_id=85\")"
   ]
  },
  {
   "cell_type": "code",
   "execution_count": null,
   "metadata": {},
   "outputs": [],
   "source": [
    "content(response)$count"
   ]
  },
  {
   "cell_type": "code",
   "execution_count": null,
   "metadata": {},
   "outputs": [],
   "source": [
    "# another end point\n",
    "response = cube_api$get_end_point(\"/metadata_repository/collection_item/1/\")"
   ]
  },
  {
   "cell_type": "code",
   "execution_count": null,
   "metadata": {},
   "outputs": [],
   "source": [
    "content(response)"
   ]
  },
  {
   "cell_type": "markdown",
   "metadata": {},
   "source": [
    "### 6. Post endpoint"
   ]
  },
  {
   "cell_type": "code",
   "execution_count": null,
   "metadata": {},
   "outputs": [],
   "source": [
    "response = cube_api$post_element_instance_filter(element_id = 122, page = 1, page_size = 2)"
   ]
  },
  {
   "cell_type": "code",
   "execution_count": null,
   "metadata": {},
   "outputs": [],
   "source": [
    "str(content(response))"
   ]
  },
  {
   "cell_type": "markdown",
   "metadata": {},
   "source": [
    "### 7. More Information"
   ]
  },
  {
   "cell_type": "code",
   "execution_count": null,
   "metadata": {},
   "outputs": [],
   "source": [
    "?CubeAPI"
   ]
  },
  {
   "cell_type": "code",
   "execution_count": null,
   "metadata": {},
   "outputs": [],
   "source": [
    "?Cube"
   ]
  },
  {
   "cell_type": "code",
   "execution_count": null,
   "metadata": {},
   "outputs": [],
   "source": []
  }
 ],
 "metadata": {
  "kernelspec": {
   "display_name": "R",
   "language": "R",
   "name": "ir"
  },
  "language_info": {
   "codemirror_mode": "r",
   "file_extension": ".r",
   "mimetype": "text/x-r-source",
   "name": "R",
   "pygments_lexer": "r",
   "version": "4.0.3"
  }
 },
 "nbformat": 4,
 "nbformat_minor": 4
}
