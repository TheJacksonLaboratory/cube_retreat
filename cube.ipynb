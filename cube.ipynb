{
 "cells": [
  {
   "cell_type": "markdown",
   "metadata": {},
   "source": [
    "# Cube Packcage\n",
    "The custom cube package is preinstalled.  just load the library and start to use it \n",
    "<hr/>\n"
   ]
  },
  {
   "cell_type": "markdown",
   "metadata": {},
   "source": [
    "### Load Library and Login to CubeAPI"
   ]
  },
  {
   "cell_type": "code",
   "execution_count": 1,
   "metadata": {},
   "outputs": [
    {
     "name": "stderr",
     "output_type": "stream",
     "text": [
      "Loading required package: usethis\n",
      "\n",
      "Loading required package: reshape\n",
      "\n",
      "\n",
      "Attaching package: ‘rapportools’\n",
      "\n",
      "\n",
      "The following objects are masked from ‘package:stats’:\n",
      "\n",
      "    IQR, median, sd, var\n",
      "\n",
      "\n",
      "The following objects are masked from ‘package:base’:\n",
      "\n",
      "    max, mean, min, range, sum\n",
      "\n",
      "\n",
      "\n",
      "Attaching package: ‘data.table’\n",
      "\n",
      "\n",
      "The following object is masked from ‘package:reshape’:\n",
      "\n",
      "    melt\n",
      "\n",
      "\n",
      "Loading required package: tfruns\n",
      "\n"
     ]
    }
   ],
   "source": [
    "# load all library, it is already installed\n",
    "library(devtools)\n",
    "library(httr)\n",
    "library(jsonlite)\n",
    "library(stringr)\n",
    "library(rapportools)\n",
    "library(htmlwidgets)\n",
    "library(rlist)\n",
    "library(data.table)\n",
    "library(cloudml)\n",
    "library(readr)\n",
    "library(logger)\n",
    "library(cube)\n",
    "setwd(\"~/\")\n",
    "log_threshold(INFO)"
   ]
  },
  {
   "cell_type": "code",
   "execution_count": 2,
   "metadata": {},
   "outputs": [
    {
     "name": "stdout",
     "output_type": "stream",
     "text": [
      "INFO [2021-01-11 19:47:22] Version: 0.0.2\n",
      "INFO [2021-01-11 19:47:22] http://10.105.16.22/metadata-service/\n"
     ]
    }
   ],
   "source": [
    "# create a CubeAPI object\n",
    "cube_api = CubeAPI$new()"
   ]
  },
  {
   "cell_type": "code",
   "execution_count": null,
   "metadata": {},
   "outputs": [],
   "source": [
    "# only need to login once per month\n",
    "# after run, click on \"verification_uri_complete\" to finish verification\n",
    "cube_api$login()"
   ]
  },
  {
   "cell_type": "markdown",
   "metadata": {},
   "source": [
    "### 1. Get Metadata Definition"
   ]
  },
  {
   "cell_type": "code",
   "execution_count": null,
   "metadata": {},
   "outputs": [],
   "source": [
    "# retrieve metadata element\n",
    "response = cube_api$get_element()"
   ]
  },
  {
   "cell_type": "code",
   "execution_count": null,
   "metadata": {},
   "outputs": [],
   "source": [
    "str(response)"
   ]
  },
  {
   "cell_type": "code",
   "execution_count": null,
   "metadata": {},
   "outputs": [],
   "source": [
    "# get the content of the response\n",
    "content = content(response)"
   ]
  },
  {
   "cell_type": "code",
   "execution_count": null,
   "metadata": {},
   "outputs": [],
   "source": [
    "str(content)"
   ]
  },
  {
   "cell_type": "code",
   "execution_count": null,
   "metadata": {},
   "outputs": [],
   "source": [
    "# to data frame\n",
    "data.frame(do.call(rbind, content$results))[c(\"id\", \"element_label\", \"element_collection_label\", \"element_abbreviation\")]"
   ]
  },
  {
   "cell_type": "markdown",
   "metadata": {},
   "source": [
    "### 2. Get Bucket data from metadata collection"
   ]
  },
  {
   "cell_type": "code",
   "execution_count": 3,
   "metadata": {},
   "outputs": [
    {
     "name": "stdout",
     "output_type": "stream",
     "text": [
      "INFO [2021-01-11 19:47:26] GET: http://10.105.16.22/metadata-service/metadata_repository/collection/\n",
      "INFO [2021-01-11 19:47:28] status_code: 200\n",
      "INFO [2021-01-11 19:47:28] number of accession_ids: 80\n",
      "INFO [2021-01-11 19:47:28] GET: http://10.105.16.22/metadata-service/metadata_repository/element_instance/\n",
      "INFO [2021-01-11 19:47:29] status_code: 200\n",
      "INFO [2021-01-11 19:47:30] number of row returned: 100\n"
     ]
    }
   ],
   "source": [
    "storage_info = cube_api$get_metadata_collection_storage_info()\n"
   ]
  },
  {
   "cell_type": "code",
   "execution_count": 4,
   "metadata": {},
   "outputs": [
    {
     "data": {
      "text/html": [
       "<table>\n",
       "<caption>A data.frame: 100 × 4</caption>\n",
       "<thead>\n",
       "\t<tr><th></th><th scope=col>accession_id</th><th scope=col>uri</th><th scope=col>bucket_name</th><th scope=col>file_name</th></tr>\n",
       "\t<tr><th></th><th scope=col>&lt;chr&gt;</th><th scope=col>&lt;chr&gt;</th><th scope=col>&lt;chr&gt;</th><th scope=col>&lt;chr&gt;</th></tr>\n",
       "</thead>\n",
       "<tbody>\n",
       "\t<tr><th scope=row>1</th><td>JAXDS00029</td><td>gs://jax-human-t2d-cube-ctl-project-data/dbGaP-26058/phg001305.v1.NHGRI_FUSION_Islet_Imputed.genotype-calls-vcf.c1.GRU.tar               </td><td>gs://jax-human-t2d-cube-ctl-project-data/dbGaP-26058       </td><td>phg001305.v1.NHGRI_FUSION_Islet_Imputed.genotype-calls-vcf.c1.GRU.tar               </td></tr>\n",
       "\t<tr><th scope=row>2</th><td>JAXDS00028</td><td>gs://jax-human-t2d-cube-ctl-project-data/dbGaP-26058/phs001188.v2.pht006615.v2.p1.FUSION_Islet_Subject.var_report.xml                    </td><td>gs://jax-human-t2d-cube-ctl-project-data/dbGaP-26058       </td><td>phs001188.v2.pht006615.v2.p1.FUSION_Islet_Subject.var_report.xml                    </td></tr>\n",
       "\t<tr><th scope=row>3</th><td>JAXDS00027</td><td>gs://jax-human-t2d-cube-ctl-project-data/dbGaP-26058/phe000025.v1.NHGRI_FUSION_Islet.expression-data-matrixfmt.c1.GRU.tar                </td><td>gs://jax-human-t2d-cube-ctl-project-data/dbGaP-26058       </td><td>phe000025.v1.NHGRI_FUSION_Islet.expression-data-matrixfmt.c1.GRU.tar                </td></tr>\n",
       "\t<tr><th scope=row>4</th><td>JAXDS00026</td><td>gs://jax-human-t2d-cube-ctl-project-data/dbGaP-26058/Release_Notes.phs001188.FUSION_Islet.v2.p1.MULTI.pdf                                </td><td>gs://jax-human-t2d-cube-ctl-project-data/dbGaP-26058       </td><td>Release_Notes.phs001188.FUSION_Islet.v2.p1.MULTI.pdf                                </td></tr>\n",
       "\t<tr><th scope=row>5</th><td>JAXDS00025</td><td>gs://jax-human-t2d-cube-ctl-project-data/dbGaP-26058/phg001306.v1.NHGRI_FUSION_Islet_Methylation.marker-info.MULTI.tar                   </td><td>gs://jax-human-t2d-cube-ctl-project-data/dbGaP-26058       </td><td>phg001306.v1.NHGRI_FUSION_Islet_Methylation.marker-info.MULTI.tar                   </td></tr>\n",
       "\t<tr><th scope=row>6</th><td>JAXDS00024</td><td>gs://jax-human-t2d-cube-ctl-project-data/dbGaP-26058/phs001188.v2.pht006301.v2.p1.FUSION_Islet_Subject_Phenotypes.var_report.xml         </td><td>gs://jax-human-t2d-cube-ctl-project-data/dbGaP-26058       </td><td>phs001188.v2.pht006301.v2.p1.FUSION_Islet_Subject_Phenotypes.var_report.xml         </td></tr>\n",
       "\t<tr><th scope=row>7</th><td>JAXDS00023</td><td>gs://jax-human-t2d-cube-ctl-project-data/dbGaP-26058/phg001304.v1.NHGRI_FUSION_Islet_ArrayGTs.marker-info.MULTI.tar                      </td><td>gs://jax-human-t2d-cube-ctl-project-data/dbGaP-26058       </td><td>phg001304.v1.NHGRI_FUSION_Islet_ArrayGTs.marker-info.MULTI.tar                      </td></tr>\n",
       "\t<tr><th scope=row>8</th><td>JAXDS00022</td><td>gs://jax-human-t2d-cube-ctl-project-data/dbGaP-26058/phe000025.v1.NHGRI_FUSION_Islet.molecular-data-qc.MULTI.tar                         </td><td>gs://jax-human-t2d-cube-ctl-project-data/dbGaP-26058       </td><td>phe000025.v1.NHGRI_FUSION_Islet.molecular-data-qc.MULTI.tar                         </td></tr>\n",
       "\t<tr><th scope=row>9</th><td>JAXDS00021</td><td>gs://jax-human-t2d-cube-ctl-project-data/dbGaP-26058/phe000025.v1.NHGRI_FUSION_Islet_eQTLs.molecular-qtl-data.c1.GRU.tar                 </td><td>gs://jax-human-t2d-cube-ctl-project-data/dbGaP-26058       </td><td>phe000025.v1.NHGRI_FUSION_Islet_eQTLs.molecular-qtl-data.c1.GRU.tar                 </td></tr>\n",
       "\t<tr><th scope=row>10</th><td>JAXDS00020</td><td>gs://jax-human-t2d-cube-ctl-project-data/dbGaP-26058/phs001188.v2.pht006615.v2.FUSION_Islet_Subject.data_dict.xml                        </td><td>gs://jax-human-t2d-cube-ctl-project-data/dbGaP-26058       </td><td>phs001188.v2.pht006615.v2.FUSION_Islet_Subject.data_dict.xml                        </td></tr>\n",
       "\t<tr><th scope=row>11</th><td>JAXDS0001Z</td><td>gs://jax-human-t2d-cube-ctl-project-data/dbGaP-26058/phg001306.v1.NHGRI_FUSION_Islet_Methylation.original_submission_matrixfmt.c1.GRU.tar</td><td>gs://jax-human-t2d-cube-ctl-project-data/dbGaP-26058       </td><td>phg001306.v1.NHGRI_FUSION_Islet_Methylation.original_submission_matrixfmt.c1.GRU.tar</td></tr>\n",
       "\t<tr><th scope=row>12</th><td>JAXDS0001Y</td><td>gs://jax-human-t2d-cube-ctl-project-data/dbGaP-26058/phs001188.v2.pht006301.v2.p1.c1.FUSION_Islet_Subject_Phenotypes.GRU.txt.gz          </td><td>gs://jax-human-t2d-cube-ctl-project-data/dbGaP-26058       </td><td>phs001188.v2.pht006301.v2.p1.c1.FUSION_Islet_Subject_Phenotypes.GRU.txt.gz          </td></tr>\n",
       "\t<tr><th scope=row>13</th><td>JAXDS0001X</td><td>gs://jax-human-t2d-cube-ctl-project-data/dbGaP-26058/manifest_phs001188.FUSION_Islet.v2.p1.c1.GRU.pdf                                    </td><td>gs://jax-human-t2d-cube-ctl-project-data/dbGaP-26058       </td><td>manifest_phs001188.FUSION_Islet.v2.p1.c1.GRU.pdf                                    </td></tr>\n",
       "\t<tr><th scope=row>14</th><td>JAXDS0001W</td><td>gs://jax-human-t2d-cube-ctl-project-data/dbGaP-26058/phs001188.v2.pht006301.v2.FUSION_Islet_Subject_Phenotypes.data_dict.xml             </td><td>gs://jax-human-t2d-cube-ctl-project-data/dbGaP-26058       </td><td>phs001188.v2.pht006301.v2.FUSION_Islet_Subject_Phenotypes.data_dict.xml             </td></tr>\n",
       "\t<tr><th scope=row>15</th><td>JAXDS0001V</td><td>gs://jax-human-t2d-cube-ctl-project-data/dbGaP-26058/phg001304.v1.NHGRI_FUSION_Islet_ArrayGTs.genotype-calls-vcf.c1.GRU.tar              </td><td>gs://jax-human-t2d-cube-ctl-project-data/dbGaP-26058       </td><td>phg001304.v1.NHGRI_FUSION_Islet_ArrayGTs.genotype-calls-vcf.c1.GRU.tar              </td></tr>\n",
       "\t<tr><th scope=row>16</th><td>JAXDS0001U</td><td>gs://jax-human-t2d-cube-ctl-project-data/dbGaP-26058/phs001188.v2.pht006300.v2.p1.FUSION_Islet_Sample.var_report.xml                     </td><td>gs://jax-human-t2d-cube-ctl-project-data/dbGaP-26058       </td><td>phs001188.v2.pht006300.v2.p1.FUSION_Islet_Sample.var_report.xml                     </td></tr>\n",
       "\t<tr><th scope=row>17</th><td>JAXDS0001T</td><td>gs://jax-human-t2d-cube-ctl-project-data/dbGaP-26058/phs001188.v2.pht006302.v2.FUSION_Islet_Sample_Attributes.data_dict.xml              </td><td>gs://jax-human-t2d-cube-ctl-project-data/dbGaP-26058       </td><td>phs001188.v2.pht006302.v2.FUSION_Islet_Sample_Attributes.data_dict.xml              </td></tr>\n",
       "\t<tr><th scope=row>18</th><td>JAXDS0001S</td><td>gs://jax-human-t2d-cube-ctl-project-data/dbGaP-26058/phs001188.v2.pht006300.v2.p1.FUSION_Islet_Sample.MULTI.txt.gz                       </td><td>gs://jax-human-t2d-cube-ctl-project-data/dbGaP-26058       </td><td>phs001188.v2.pht006300.v2.p1.FUSION_Islet_Sample.MULTI.txt.gz                       </td></tr>\n",
       "\t<tr><th scope=row>19</th><td>JAXDS0001R</td><td>gs://jax-human-t2d-cube-ctl-project-data/dbGaP-26058/phs001188.v2.pht006300.v2.FUSION_Islet_Sample.data_dict.xml                         </td><td>gs://jax-human-t2d-cube-ctl-project-data/dbGaP-26058       </td><td>phs001188.v2.pht006300.v2.FUSION_Islet_Sample.data_dict.xml                         </td></tr>\n",
       "\t<tr><th scope=row>20</th><td>JAXDS0001Q</td><td>gs://jax-human-t2d-cube-ctl-project-data/dbGaP-26058/phg001306.v1.NHGRI_FUSION_Islet_Methylation.sample-info.MULTI.tar                   </td><td>gs://jax-human-t2d-cube-ctl-project-data/dbGaP-26058       </td><td>phg001306.v1.NHGRI_FUSION_Islet_Methylation.sample-info.MULTI.tar                   </td></tr>\n",
       "\t<tr><th scope=row>21</th><td>JAXDS0001P</td><td>gs://jax-human-t2d-cube-ctl-project-data/dbGaP-26058/phg001304.v1.NHGRI_FUSION_Islet_ArrayGTs.sample-info.MULTI.tar                      </td><td>gs://jax-human-t2d-cube-ctl-project-data/dbGaP-26058       </td><td>phg001304.v1.NHGRI_FUSION_Islet_ArrayGTs.sample-info.MULTI.tar                      </td></tr>\n",
       "\t<tr><th scope=row>22</th><td>JAXDS0001O</td><td>gs://jax-human-t2d-cube-ctl-project-data/dbGaP-26058/phs001188.v2.pht006302.v2.p1.c1.FUSION_Islet_Sample_Attributes.GRU.txt.gz           </td><td>gs://jax-human-t2d-cube-ctl-project-data/dbGaP-26058       </td><td>phs001188.v2.pht006302.v2.p1.c1.FUSION_Islet_Sample_Attributes.GRU.txt.gz           </td></tr>\n",
       "\t<tr><th scope=row>23</th><td>JAXDS0001N</td><td>gs://jax-human-t2d-cube-ctl-project-data/dbGaP-26058/phg001306.v1.NHGRI_FUSION_Islet_Methylation.raw-data-idat.c1.GRU.tar                </td><td>gs://jax-human-t2d-cube-ctl-project-data/dbGaP-26058       </td><td>phg001306.v1.NHGRI_FUSION_Islet_Methylation.raw-data-idat.c1.GRU.tar                </td></tr>\n",
       "\t<tr><th scope=row>24</th><td>JAXDS0001M</td><td>gs://jax-human-t2d-cube-ctl-project-data/dbGaP-26058/Study_Report.phs001188.FUSION_Islet.v2.p1.MULTI.pdf                                 </td><td>gs://jax-human-t2d-cube-ctl-project-data/dbGaP-26058       </td><td>Study_Report.phs001188.FUSION_Islet.v2.p1.MULTI.pdf                                 </td></tr>\n",
       "\t<tr><th scope=row>25</th><td>JAXDS0001L</td><td>gs://jax-human-t2d-cube-ctl-project-data/dbGaP-26058/phe000025.v1.NHGRI_FUSION_Islet.sample-info.MULTI.tar                               </td><td>gs://jax-human-t2d-cube-ctl-project-data/dbGaP-26058       </td><td>phe000025.v1.NHGRI_FUSION_Islet.sample-info.MULTI.tar                               </td></tr>\n",
       "\t<tr><th scope=row>26</th><td>JAXDS0001K</td><td>gs://jax-human-t2d-cube-ctl-project-data/dbGaP-26058/phg001305.v1.NHGRI_FUSION_Islet_Imputed.sample-info.MULTI.tar                       </td><td>gs://jax-human-t2d-cube-ctl-project-data/dbGaP-26058       </td><td>phg001305.v1.NHGRI_FUSION_Islet_Imputed.sample-info.MULTI.tar                       </td></tr>\n",
       "\t<tr><th scope=row>27</th><td>JAXDS0001J</td><td>gs://jax-human-t2d-cube-ctl-project-data/dbGaP-26058/phs001188.v2.pht006615.v2.p1.FUSION_Islet_Subject.MULTI.txt.gz                      </td><td>gs://jax-human-t2d-cube-ctl-project-data/dbGaP-26058       </td><td>phs001188.v2.pht006615.v2.p1.FUSION_Islet_Subject.MULTI.txt.gz                      </td></tr>\n",
       "\t<tr><th scope=row>28</th><td>JAXDS0001I</td><td>gs://jax-human-t2d-cube-ctl-project-data/dbGaP-26058/phs001188.v2.pht006302.v2.p1.FUSION_Islet_Sample_Attributes.var_report.xml          </td><td>gs://jax-human-t2d-cube-ctl-project-data/dbGaP-26058       </td><td>phs001188.v2.pht006302.v2.p1.FUSION_Islet_Sample_Attributes.var_report.xml          </td></tr>\n",
       "\t<tr><th scope=row>29</th><td>JAXDS0001H</td><td>gs://jax-cube-prd-ctrl-01-project-data/20200922_20-cube-00                                                                               </td><td>gs://jax-cube-prd-ctrl-01-project-data/20200922_20-cube-00 </td><td>                                                                                    </td></tr>\n",
       "\t<tr><th scope=row>30</th><td>JAXDS0001G</td><td>gs://jax-cube-prd-ctrl-01-project-data/20200922_20-cube-006                                                                              </td><td>gs://jax-cube-prd-ctrl-01-project-data/20200922_20-cube-006</td><td>                                                                                    </td></tr>\n",
       "\t<tr><th scope=row>⋮</th><td>⋮</td><td>⋮</td><td>⋮</td><td>⋮</td></tr>\n",
       "\t<tr><th scope=row>71</th><td>JAXDS0000B</td><td>https://storage.cloud.google.com/jax-cube-prd-ctrl-01-project-data/study_4-1/4.1_GTT_to_201016.txt           </td><td>gs://jax-cube-prd-ctrl-01-project-data/study_4-1                     </td><td>4.1_GTT_to_201016.txt                 </td></tr>\n",
       "\t<tr><th scope=row>72</th><td>JAXDS0000A</td><td>https://storage.cloud.google.com/jax-cube-prd-ctrl-01-project-data/study_4-1/4.1_DEXA_to_201016.txt          </td><td>gs://jax-cube-prd-ctrl-01-project-data/study_4-1                     </td><td>4.1_DEXA_to_201016.txt                </td></tr>\n",
       "\t<tr><th scope=row>73</th><td>JAXDS00009</td><td>https://storage.cloud.google.com/jax-cube-prd-ctrl-01-project-data/study_4-1/4.1_BODY_WEIGHT_to_201016.txt   </td><td>gs://jax-cube-prd-ctrl-01-project-data/study_4-1                     </td><td>4.1_BODY_WEIGHT_to_201016.txt         </td></tr>\n",
       "\t<tr><th scope=row>74</th><td>JAXDS00007</td><td>https://thejacksonlaboratory.ent.box.com/s/t2ppj4vdiwuym5v4rionhjlz5zf3vb8y/folder/123712937032              </td><td>gs://s/t2ppj4vdiwuym5v4rionhjlz5zf3vb8y/folder/123712937032          </td><td>                                      </td></tr>\n",
       "\t<tr><th scope=row>75</th><td>JAXDS00006</td><td>gs://jax-human-t2d-cube-ctl-project-data/dbGap-26058-sra/SRR5486021/                                         </td><td>gs://jax-human-t2d-cube-ctl-project-data/dbGap-26058-sra/SRR5486021/ </td><td>                                      </td></tr>\n",
       "\t<tr><th scope=row>76</th><td>JAXDS00005</td><td>https://thejacksonlaboratory.ent.box.com/s/t2ppj4vdiwuym5v4rionhjlz5zf3vb8y/folder/123715177484              </td><td>gs://s/t2ppj4vdiwuym5v4rionhjlz5zf3vb8y/folder/123715177484          </td><td>                                      </td></tr>\n",
       "\t<tr><th scope=row>77</th><td>JAXDS00004</td><td>gs://jax-human-t2d-cube-ctl-project-data/dbGap-26058-sra/SRR10586542/                                        </td><td>gs://jax-human-t2d-cube-ctl-project-data/dbGap-26058-sra/SRR10586542/</td><td>                                      </td></tr>\n",
       "\t<tr><th scope=row>78</th><td>JAXDS00003</td><td>https://thejacksonlaboratory.ent.box.com/s/t2ppj4vdiwuym5v4rionhjlz5zf3vb8y/folder/123715860202              </td><td>gs://s/t2ppj4vdiwuym5v4rionhjlz5zf3vb8y/folder/123715860202          </td><td>                                      </td></tr>\n",
       "\t<tr><th scope=row>79</th><td>JAXDS00002</td><td>https://thejacksonlaboratory.ent.box.com/s/t2ppj4vdiwuym5v4rionhjlz5zf3vb8y/folder/123715317666              </td><td>gs://s/t2ppj4vdiwuym5v4rionhjlz5zf3vb8y/folder/123715317666          </td><td>                                      </td></tr>\n",
       "\t<tr><th scope=row>80</th><td>JAXDS00001</td><td>https://thejacksonlaboratory.ent.box.com/s/t2ppj4vdiwuym5v4rionhjlz5zf3vb8y/folder/123716036228              </td><td>gs://s/t2ppj4vdiwuym5v4rionhjlz5zf3vb8y/folder/123716036228          </td><td>                                      </td></tr>\n",
       "\t<tr><th scope=row>81</th><td>JAXDS0000O</td><td>gs://jax-cube-prd-ctrl-01-project-data/20200607_20-cube-001-run5                                             </td><td>gs://jax-cube-prd-ctrl-01-project-data/20200607_20-cube-001-run5     </td><td>                                      </td></tr>\n",
       "\t<tr><th scope=row>82</th><td>JAXDS0000N</td><td>gs://jax-cube-prd-ctrl-01-project-data/20200515-20-cube-001-run4                                             </td><td>gs://jax-cube-prd-ctrl-01-project-data/20200515-20-cube-001-run4     </td><td>                                      </td></tr>\n",
       "\t<tr><th scope=row>83</th><td>JAXDS0000M</td><td>gs://jax-cube-prd-ctrl-01-project-data/20200316_20-cube-001-run2                                             </td><td>gs://jax-cube-prd-ctrl-01-project-data/20200316_20-cube-001-run2     </td><td>                                      </td></tr>\n",
       "\t<tr><th scope=row>84</th><td>JAXDS0000L</td><td>gs://jax-cube-prd-ctrl-01-project-data/20200207_19-churchill-002-run3                                        </td><td>gs://jax-cube-prd-ctrl-01-project-data/20200207_19-churchill-002-run3</td><td>                                      </td></tr>\n",
       "\t<tr><th scope=row>85</th><td>JAXDS0000K</td><td>gs://jax-cube-prd-ctrl-01-project-data/20200203_19-churchill-002-run2                                        </td><td>gs://jax-cube-prd-ctrl-01-project-data/20200203_19-churchill-002-run2</td><td>                                      </td></tr>\n",
       "\t<tr><th scope=row>86</th><td>JAXDS0000J</td><td>gs://jax-cube-prd-ctrl-01-project-data/20191231_19-churchill-002                                             </td><td>gs://jax-cube-prd-ctrl-01-project-data/20191231_19-churchill-002     </td><td>                                      </td></tr>\n",
       "\t<tr><th scope=row>87</th><td>JAXDS0000I</td><td>gs://jax-cube-prd-ctrl-01-project-data/20200128_19-churchill-004-run3                                        </td><td>gs://jax-cube-prd-ctrl-01-project-data/20200128_19-churchill-004-run3</td><td>                                      </td></tr>\n",
       "\t<tr><th scope=row>88</th><td>JAXDS0000H</td><td>gs://jax-cube-prd-ctrl-01-project-data/20200102_19-churchill-004-run2                                        </td><td>gs://jax-cube-prd-ctrl-01-project-data/20200102_19-churchill-004-run2</td><td>                                      </td></tr>\n",
       "\t<tr><th scope=row>89</th><td>JAXDS0000G</td><td>gs://jax-cube-prd-ctrl-01-project-data/20191223_19-churchill-004                                             </td><td>gs://jax-cube-prd-ctrl-01-project-data/20191223_19-churchill-004     </td><td>                                      </td></tr>\n",
       "\t<tr><th scope=row>90</th><td>JAXDS0000F</td><td>gs://jax-cube-prd-ctrl-01-project-data/20200604_20-cube-002-run5                                             </td><td>gs://jax-cube-prd-ctrl-01-project-data/20200604_20-cube-002-run5     </td><td>                                      </td></tr>\n",
       "\t<tr><th scope=row>91</th><td>JAXDS0000E</td><td>gs://jax-cube-prd-ctrl-01-project-data/20200504_20-cube-002-run4                                             </td><td>gs://jax-cube-prd-ctrl-01-project-data/20200504_20-cube-002-run4     </td><td>                                      </td></tr>\n",
       "\t<tr><th scope=row>92</th><td>JAXDS0000D</td><td>gs://jax-cube-prd-ctrl-01-project-data/20200428_20-cube-002-run3                                             </td><td>gs://jax-cube-prd-ctrl-01-project-data/20200428_20-cube-002-run3     </td><td>                                      </td></tr>\n",
       "\t<tr><th scope=row>93</th><td>JAXDS0000C</td><td>gs://jax-cube-prd-ctrl-01-project-data/20200316_20-cube-002-run2                                             </td><td>gs://jax-cube-prd-ctrl-01-project-data/20200316_20-cube-002-run2     </td><td>                                      </td></tr>\n",
       "\t<tr><th scope=row>94</th><td>JAXDS0000B</td><td>gs://jax-cube-prd-ctrl-01-project-data/20200315_20-cube-002                                                  </td><td>gs://jax-cube-prd-ctrl-01-project-data/20200315_20-cube-002          </td><td>                                      </td></tr>\n",
       "\t<tr><th scope=row>95</th><td>JAXDS0000A</td><td>gs://jax-cube-prd-ctrl-01-project-data/study_3-1/Three_Bears_CBA_NMR_200723.txt                              </td><td>gs://jax-cube-prd-ctrl-01-project-data/study_3-1                     </td><td>Three_Bears_CBA_NMR_200723.txt        </td></tr>\n",
       "\t<tr><th scope=row>96</th><td>JAXDS00009</td><td>gs://jax-cube-prd-ctrl-01-project-data/study_3-1/Three_Bears_CBA_GTT_200723.txt                              </td><td>gs://jax-cube-prd-ctrl-01-project-data/study_3-1                     </td><td>Three_Bears_CBA_GTT_200723.txt        </td></tr>\n",
       "\t<tr><th scope=row>97</th><td>JAXDS00007</td><td>gs://jax-cube-prd-ctrl-01-project-data/study_3-1/Three_Bears_Food_Intake_9.3.2020.txt                        </td><td>gs://jax-cube-prd-ctrl-01-project-data/study_3-1                     </td><td>Three_Bears_Food_Intake_9.3.2020.txt  </td></tr>\n",
       "\t<tr><th scope=row>98</th><td>JAXDS00006</td><td>gs://jax-cube-prd-ctrl-01-project-data/study_3-1/Three_Bears_Water_Intake_9.15.2020.txt                      </td><td>gs://jax-cube-prd-ctrl-01-project-data/study_3-1                     </td><td>Three_Bears_Water_Intake_9.15.2020.txt</td></tr>\n",
       "\t<tr><th scope=row>99</th><td>JAXDS00005</td><td>gs://jax-cube-prd-ctrl-01-project-data/study_3-1/Three_Bears_Body_Weight_9.3.2020.txt                        </td><td>gs://jax-cube-prd-ctrl-01-project-data/study_3-1                     </td><td>Three_Bears_Body_Weight_9.3.2020.txt  </td></tr>\n",
       "\t<tr><th scope=row>100</th><td>JAXDS00004</td><td>https://storage.cloud.google.com/jax-cube-prd-ctrl-01-project-data/study_4-1/4.1_NMR_to_201016.txt?authuser=1</td><td>gs://jax-cube-prd-ctrl-01-project-data/study_4-1                     </td><td>4.1_NMR_to_201016.txt                 </td></tr>\n",
       "</tbody>\n",
       "</table>\n"
      ],
      "text/latex": [
       "A data.frame: 100 × 4\n",
       "\\begin{tabular}{r|llll}\n",
       "  & accession\\_id & uri & bucket\\_name & file\\_name\\\\\n",
       "  & <chr> & <chr> & <chr> & <chr>\\\\\n",
       "\\hline\n",
       "\t1 & JAXDS00029 & gs://jax-human-t2d-cube-ctl-project-data/dbGaP-26058/phg001305.v1.NHGRI\\_FUSION\\_Islet\\_Imputed.genotype-calls-vcf.c1.GRU.tar                & gs://jax-human-t2d-cube-ctl-project-data/dbGaP-26058        & phg001305.v1.NHGRI\\_FUSION\\_Islet\\_Imputed.genotype-calls-vcf.c1.GRU.tar               \\\\\n",
       "\t2 & JAXDS00028 & gs://jax-human-t2d-cube-ctl-project-data/dbGaP-26058/phs001188.v2.pht006615.v2.p1.FUSION\\_Islet\\_Subject.var\\_report.xml                     & gs://jax-human-t2d-cube-ctl-project-data/dbGaP-26058        & phs001188.v2.pht006615.v2.p1.FUSION\\_Islet\\_Subject.var\\_report.xml                    \\\\\n",
       "\t3 & JAXDS00027 & gs://jax-human-t2d-cube-ctl-project-data/dbGaP-26058/phe000025.v1.NHGRI\\_FUSION\\_Islet.expression-data-matrixfmt.c1.GRU.tar                 & gs://jax-human-t2d-cube-ctl-project-data/dbGaP-26058        & phe000025.v1.NHGRI\\_FUSION\\_Islet.expression-data-matrixfmt.c1.GRU.tar                \\\\\n",
       "\t4 & JAXDS00026 & gs://jax-human-t2d-cube-ctl-project-data/dbGaP-26058/Release\\_Notes.phs001188.FUSION\\_Islet.v2.p1.MULTI.pdf                                 & gs://jax-human-t2d-cube-ctl-project-data/dbGaP-26058        & Release\\_Notes.phs001188.FUSION\\_Islet.v2.p1.MULTI.pdf                                \\\\\n",
       "\t5 & JAXDS00025 & gs://jax-human-t2d-cube-ctl-project-data/dbGaP-26058/phg001306.v1.NHGRI\\_FUSION\\_Islet\\_Methylation.marker-info.MULTI.tar                    & gs://jax-human-t2d-cube-ctl-project-data/dbGaP-26058        & phg001306.v1.NHGRI\\_FUSION\\_Islet\\_Methylation.marker-info.MULTI.tar                   \\\\\n",
       "\t6 & JAXDS00024 & gs://jax-human-t2d-cube-ctl-project-data/dbGaP-26058/phs001188.v2.pht006301.v2.p1.FUSION\\_Islet\\_Subject\\_Phenotypes.var\\_report.xml          & gs://jax-human-t2d-cube-ctl-project-data/dbGaP-26058        & phs001188.v2.pht006301.v2.p1.FUSION\\_Islet\\_Subject\\_Phenotypes.var\\_report.xml         \\\\\n",
       "\t7 & JAXDS00023 & gs://jax-human-t2d-cube-ctl-project-data/dbGaP-26058/phg001304.v1.NHGRI\\_FUSION\\_Islet\\_ArrayGTs.marker-info.MULTI.tar                       & gs://jax-human-t2d-cube-ctl-project-data/dbGaP-26058        & phg001304.v1.NHGRI\\_FUSION\\_Islet\\_ArrayGTs.marker-info.MULTI.tar                      \\\\\n",
       "\t8 & JAXDS00022 & gs://jax-human-t2d-cube-ctl-project-data/dbGaP-26058/phe000025.v1.NHGRI\\_FUSION\\_Islet.molecular-data-qc.MULTI.tar                          & gs://jax-human-t2d-cube-ctl-project-data/dbGaP-26058        & phe000025.v1.NHGRI\\_FUSION\\_Islet.molecular-data-qc.MULTI.tar                         \\\\\n",
       "\t9 & JAXDS00021 & gs://jax-human-t2d-cube-ctl-project-data/dbGaP-26058/phe000025.v1.NHGRI\\_FUSION\\_Islet\\_eQTLs.molecular-qtl-data.c1.GRU.tar                  & gs://jax-human-t2d-cube-ctl-project-data/dbGaP-26058        & phe000025.v1.NHGRI\\_FUSION\\_Islet\\_eQTLs.molecular-qtl-data.c1.GRU.tar                 \\\\\n",
       "\t10 & JAXDS00020 & gs://jax-human-t2d-cube-ctl-project-data/dbGaP-26058/phs001188.v2.pht006615.v2.FUSION\\_Islet\\_Subject.data\\_dict.xml                         & gs://jax-human-t2d-cube-ctl-project-data/dbGaP-26058        & phs001188.v2.pht006615.v2.FUSION\\_Islet\\_Subject.data\\_dict.xml                        \\\\\n",
       "\t11 & JAXDS0001Z & gs://jax-human-t2d-cube-ctl-project-data/dbGaP-26058/phg001306.v1.NHGRI\\_FUSION\\_Islet\\_Methylation.original\\_submission\\_matrixfmt.c1.GRU.tar & gs://jax-human-t2d-cube-ctl-project-data/dbGaP-26058        & phg001306.v1.NHGRI\\_FUSION\\_Islet\\_Methylation.original\\_submission\\_matrixfmt.c1.GRU.tar\\\\\n",
       "\t12 & JAXDS0001Y & gs://jax-human-t2d-cube-ctl-project-data/dbGaP-26058/phs001188.v2.pht006301.v2.p1.c1.FUSION\\_Islet\\_Subject\\_Phenotypes.GRU.txt.gz           & gs://jax-human-t2d-cube-ctl-project-data/dbGaP-26058        & phs001188.v2.pht006301.v2.p1.c1.FUSION\\_Islet\\_Subject\\_Phenotypes.GRU.txt.gz          \\\\\n",
       "\t13 & JAXDS0001X & gs://jax-human-t2d-cube-ctl-project-data/dbGaP-26058/manifest\\_phs001188.FUSION\\_Islet.v2.p1.c1.GRU.pdf                                     & gs://jax-human-t2d-cube-ctl-project-data/dbGaP-26058        & manifest\\_phs001188.FUSION\\_Islet.v2.p1.c1.GRU.pdf                                    \\\\\n",
       "\t14 & JAXDS0001W & gs://jax-human-t2d-cube-ctl-project-data/dbGaP-26058/phs001188.v2.pht006301.v2.FUSION\\_Islet\\_Subject\\_Phenotypes.data\\_dict.xml              & gs://jax-human-t2d-cube-ctl-project-data/dbGaP-26058        & phs001188.v2.pht006301.v2.FUSION\\_Islet\\_Subject\\_Phenotypes.data\\_dict.xml             \\\\\n",
       "\t15 & JAXDS0001V & gs://jax-human-t2d-cube-ctl-project-data/dbGaP-26058/phg001304.v1.NHGRI\\_FUSION\\_Islet\\_ArrayGTs.genotype-calls-vcf.c1.GRU.tar               & gs://jax-human-t2d-cube-ctl-project-data/dbGaP-26058        & phg001304.v1.NHGRI\\_FUSION\\_Islet\\_ArrayGTs.genotype-calls-vcf.c1.GRU.tar              \\\\\n",
       "\t16 & JAXDS0001U & gs://jax-human-t2d-cube-ctl-project-data/dbGaP-26058/phs001188.v2.pht006300.v2.p1.FUSION\\_Islet\\_Sample.var\\_report.xml                      & gs://jax-human-t2d-cube-ctl-project-data/dbGaP-26058        & phs001188.v2.pht006300.v2.p1.FUSION\\_Islet\\_Sample.var\\_report.xml                     \\\\\n",
       "\t17 & JAXDS0001T & gs://jax-human-t2d-cube-ctl-project-data/dbGaP-26058/phs001188.v2.pht006302.v2.FUSION\\_Islet\\_Sample\\_Attributes.data\\_dict.xml               & gs://jax-human-t2d-cube-ctl-project-data/dbGaP-26058        & phs001188.v2.pht006302.v2.FUSION\\_Islet\\_Sample\\_Attributes.data\\_dict.xml              \\\\\n",
       "\t18 & JAXDS0001S & gs://jax-human-t2d-cube-ctl-project-data/dbGaP-26058/phs001188.v2.pht006300.v2.p1.FUSION\\_Islet\\_Sample.MULTI.txt.gz                        & gs://jax-human-t2d-cube-ctl-project-data/dbGaP-26058        & phs001188.v2.pht006300.v2.p1.FUSION\\_Islet\\_Sample.MULTI.txt.gz                       \\\\\n",
       "\t19 & JAXDS0001R & gs://jax-human-t2d-cube-ctl-project-data/dbGaP-26058/phs001188.v2.pht006300.v2.FUSION\\_Islet\\_Sample.data\\_dict.xml                          & gs://jax-human-t2d-cube-ctl-project-data/dbGaP-26058        & phs001188.v2.pht006300.v2.FUSION\\_Islet\\_Sample.data\\_dict.xml                         \\\\\n",
       "\t20 & JAXDS0001Q & gs://jax-human-t2d-cube-ctl-project-data/dbGaP-26058/phg001306.v1.NHGRI\\_FUSION\\_Islet\\_Methylation.sample-info.MULTI.tar                    & gs://jax-human-t2d-cube-ctl-project-data/dbGaP-26058        & phg001306.v1.NHGRI\\_FUSION\\_Islet\\_Methylation.sample-info.MULTI.tar                   \\\\\n",
       "\t21 & JAXDS0001P & gs://jax-human-t2d-cube-ctl-project-data/dbGaP-26058/phg001304.v1.NHGRI\\_FUSION\\_Islet\\_ArrayGTs.sample-info.MULTI.tar                       & gs://jax-human-t2d-cube-ctl-project-data/dbGaP-26058        & phg001304.v1.NHGRI\\_FUSION\\_Islet\\_ArrayGTs.sample-info.MULTI.tar                      \\\\\n",
       "\t22 & JAXDS0001O & gs://jax-human-t2d-cube-ctl-project-data/dbGaP-26058/phs001188.v2.pht006302.v2.p1.c1.FUSION\\_Islet\\_Sample\\_Attributes.GRU.txt.gz            & gs://jax-human-t2d-cube-ctl-project-data/dbGaP-26058        & phs001188.v2.pht006302.v2.p1.c1.FUSION\\_Islet\\_Sample\\_Attributes.GRU.txt.gz           \\\\\n",
       "\t23 & JAXDS0001N & gs://jax-human-t2d-cube-ctl-project-data/dbGaP-26058/phg001306.v1.NHGRI\\_FUSION\\_Islet\\_Methylation.raw-data-idat.c1.GRU.tar                 & gs://jax-human-t2d-cube-ctl-project-data/dbGaP-26058        & phg001306.v1.NHGRI\\_FUSION\\_Islet\\_Methylation.raw-data-idat.c1.GRU.tar                \\\\\n",
       "\t24 & JAXDS0001M & gs://jax-human-t2d-cube-ctl-project-data/dbGaP-26058/Study\\_Report.phs001188.FUSION\\_Islet.v2.p1.MULTI.pdf                                  & gs://jax-human-t2d-cube-ctl-project-data/dbGaP-26058        & Study\\_Report.phs001188.FUSION\\_Islet.v2.p1.MULTI.pdf                                 \\\\\n",
       "\t25 & JAXDS0001L & gs://jax-human-t2d-cube-ctl-project-data/dbGaP-26058/phe000025.v1.NHGRI\\_FUSION\\_Islet.sample-info.MULTI.tar                                & gs://jax-human-t2d-cube-ctl-project-data/dbGaP-26058        & phe000025.v1.NHGRI\\_FUSION\\_Islet.sample-info.MULTI.tar                               \\\\\n",
       "\t26 & JAXDS0001K & gs://jax-human-t2d-cube-ctl-project-data/dbGaP-26058/phg001305.v1.NHGRI\\_FUSION\\_Islet\\_Imputed.sample-info.MULTI.tar                        & gs://jax-human-t2d-cube-ctl-project-data/dbGaP-26058        & phg001305.v1.NHGRI\\_FUSION\\_Islet\\_Imputed.sample-info.MULTI.tar                       \\\\\n",
       "\t27 & JAXDS0001J & gs://jax-human-t2d-cube-ctl-project-data/dbGaP-26058/phs001188.v2.pht006615.v2.p1.FUSION\\_Islet\\_Subject.MULTI.txt.gz                       & gs://jax-human-t2d-cube-ctl-project-data/dbGaP-26058        & phs001188.v2.pht006615.v2.p1.FUSION\\_Islet\\_Subject.MULTI.txt.gz                      \\\\\n",
       "\t28 & JAXDS0001I & gs://jax-human-t2d-cube-ctl-project-data/dbGaP-26058/phs001188.v2.pht006302.v2.p1.FUSION\\_Islet\\_Sample\\_Attributes.var\\_report.xml           & gs://jax-human-t2d-cube-ctl-project-data/dbGaP-26058        & phs001188.v2.pht006302.v2.p1.FUSION\\_Islet\\_Sample\\_Attributes.var\\_report.xml          \\\\\n",
       "\t29 & JAXDS0001H & gs://jax-cube-prd-ctrl-01-project-data/20200922\\_20-cube-00                                                                                & gs://jax-cube-prd-ctrl-01-project-data/20200922\\_20-cube-00  &                                                                                     \\\\\n",
       "\t30 & JAXDS0001G & gs://jax-cube-prd-ctrl-01-project-data/20200922\\_20-cube-006                                                                               & gs://jax-cube-prd-ctrl-01-project-data/20200922\\_20-cube-006 &                                                                                     \\\\\n",
       "\t⋮ & ⋮ & ⋮ & ⋮ & ⋮\\\\\n",
       "\t71 & JAXDS0000B & https://storage.cloud.google.com/jax-cube-prd-ctrl-01-project-data/study\\_4-1/4.1\\_GTT\\_to\\_201016.txt            & gs://jax-cube-prd-ctrl-01-project-data/study\\_4-1                      & 4.1\\_GTT\\_to\\_201016.txt                 \\\\\n",
       "\t72 & JAXDS0000A & https://storage.cloud.google.com/jax-cube-prd-ctrl-01-project-data/study\\_4-1/4.1\\_DEXA\\_to\\_201016.txt           & gs://jax-cube-prd-ctrl-01-project-data/study\\_4-1                      & 4.1\\_DEXA\\_to\\_201016.txt                \\\\\n",
       "\t73 & JAXDS00009 & https://storage.cloud.google.com/jax-cube-prd-ctrl-01-project-data/study\\_4-1/4.1\\_BODY\\_WEIGHT\\_to\\_201016.txt    & gs://jax-cube-prd-ctrl-01-project-data/study\\_4-1                      & 4.1\\_BODY\\_WEIGHT\\_to\\_201016.txt         \\\\\n",
       "\t74 & JAXDS00007 & https://thejacksonlaboratory.ent.box.com/s/t2ppj4vdiwuym5v4rionhjlz5zf3vb8y/folder/123712937032               & gs://s/t2ppj4vdiwuym5v4rionhjlz5zf3vb8y/folder/123712937032           &                                       \\\\\n",
       "\t75 & JAXDS00006 & gs://jax-human-t2d-cube-ctl-project-data/dbGap-26058-sra/SRR5486021/                                          & gs://jax-human-t2d-cube-ctl-project-data/dbGap-26058-sra/SRR5486021/  &                                       \\\\\n",
       "\t76 & JAXDS00005 & https://thejacksonlaboratory.ent.box.com/s/t2ppj4vdiwuym5v4rionhjlz5zf3vb8y/folder/123715177484               & gs://s/t2ppj4vdiwuym5v4rionhjlz5zf3vb8y/folder/123715177484           &                                       \\\\\n",
       "\t77 & JAXDS00004 & gs://jax-human-t2d-cube-ctl-project-data/dbGap-26058-sra/SRR10586542/                                         & gs://jax-human-t2d-cube-ctl-project-data/dbGap-26058-sra/SRR10586542/ &                                       \\\\\n",
       "\t78 & JAXDS00003 & https://thejacksonlaboratory.ent.box.com/s/t2ppj4vdiwuym5v4rionhjlz5zf3vb8y/folder/123715860202               & gs://s/t2ppj4vdiwuym5v4rionhjlz5zf3vb8y/folder/123715860202           &                                       \\\\\n",
       "\t79 & JAXDS00002 & https://thejacksonlaboratory.ent.box.com/s/t2ppj4vdiwuym5v4rionhjlz5zf3vb8y/folder/123715317666               & gs://s/t2ppj4vdiwuym5v4rionhjlz5zf3vb8y/folder/123715317666           &                                       \\\\\n",
       "\t80 & JAXDS00001 & https://thejacksonlaboratory.ent.box.com/s/t2ppj4vdiwuym5v4rionhjlz5zf3vb8y/folder/123716036228               & gs://s/t2ppj4vdiwuym5v4rionhjlz5zf3vb8y/folder/123716036228           &                                       \\\\\n",
       "\t81 & JAXDS0000O & gs://jax-cube-prd-ctrl-01-project-data/20200607\\_20-cube-001-run5                                              & gs://jax-cube-prd-ctrl-01-project-data/20200607\\_20-cube-001-run5      &                                       \\\\\n",
       "\t82 & JAXDS0000N & gs://jax-cube-prd-ctrl-01-project-data/20200515-20-cube-001-run4                                              & gs://jax-cube-prd-ctrl-01-project-data/20200515-20-cube-001-run4      &                                       \\\\\n",
       "\t83 & JAXDS0000M & gs://jax-cube-prd-ctrl-01-project-data/20200316\\_20-cube-001-run2                                              & gs://jax-cube-prd-ctrl-01-project-data/20200316\\_20-cube-001-run2      &                                       \\\\\n",
       "\t84 & JAXDS0000L & gs://jax-cube-prd-ctrl-01-project-data/20200207\\_19-churchill-002-run3                                         & gs://jax-cube-prd-ctrl-01-project-data/20200207\\_19-churchill-002-run3 &                                       \\\\\n",
       "\t85 & JAXDS0000K & gs://jax-cube-prd-ctrl-01-project-data/20200203\\_19-churchill-002-run2                                         & gs://jax-cube-prd-ctrl-01-project-data/20200203\\_19-churchill-002-run2 &                                       \\\\\n",
       "\t86 & JAXDS0000J & gs://jax-cube-prd-ctrl-01-project-data/20191231\\_19-churchill-002                                              & gs://jax-cube-prd-ctrl-01-project-data/20191231\\_19-churchill-002      &                                       \\\\\n",
       "\t87 & JAXDS0000I & gs://jax-cube-prd-ctrl-01-project-data/20200128\\_19-churchill-004-run3                                         & gs://jax-cube-prd-ctrl-01-project-data/20200128\\_19-churchill-004-run3 &                                       \\\\\n",
       "\t88 & JAXDS0000H & gs://jax-cube-prd-ctrl-01-project-data/20200102\\_19-churchill-004-run2                                         & gs://jax-cube-prd-ctrl-01-project-data/20200102\\_19-churchill-004-run2 &                                       \\\\\n",
       "\t89 & JAXDS0000G & gs://jax-cube-prd-ctrl-01-project-data/20191223\\_19-churchill-004                                              & gs://jax-cube-prd-ctrl-01-project-data/20191223\\_19-churchill-004      &                                       \\\\\n",
       "\t90 & JAXDS0000F & gs://jax-cube-prd-ctrl-01-project-data/20200604\\_20-cube-002-run5                                              & gs://jax-cube-prd-ctrl-01-project-data/20200604\\_20-cube-002-run5      &                                       \\\\\n",
       "\t91 & JAXDS0000E & gs://jax-cube-prd-ctrl-01-project-data/20200504\\_20-cube-002-run4                                              & gs://jax-cube-prd-ctrl-01-project-data/20200504\\_20-cube-002-run4      &                                       \\\\\n",
       "\t92 & JAXDS0000D & gs://jax-cube-prd-ctrl-01-project-data/20200428\\_20-cube-002-run3                                              & gs://jax-cube-prd-ctrl-01-project-data/20200428\\_20-cube-002-run3      &                                       \\\\\n",
       "\t93 & JAXDS0000C & gs://jax-cube-prd-ctrl-01-project-data/20200316\\_20-cube-002-run2                                              & gs://jax-cube-prd-ctrl-01-project-data/20200316\\_20-cube-002-run2      &                                       \\\\\n",
       "\t94 & JAXDS0000B & gs://jax-cube-prd-ctrl-01-project-data/20200315\\_20-cube-002                                                   & gs://jax-cube-prd-ctrl-01-project-data/20200315\\_20-cube-002           &                                       \\\\\n",
       "\t95 & JAXDS0000A & gs://jax-cube-prd-ctrl-01-project-data/study\\_3-1/Three\\_Bears\\_CBA\\_NMR\\_200723.txt                               & gs://jax-cube-prd-ctrl-01-project-data/study\\_3-1                      & Three\\_Bears\\_CBA\\_NMR\\_200723.txt        \\\\\n",
       "\t96 & JAXDS00009 & gs://jax-cube-prd-ctrl-01-project-data/study\\_3-1/Three\\_Bears\\_CBA\\_GTT\\_200723.txt                               & gs://jax-cube-prd-ctrl-01-project-data/study\\_3-1                      & Three\\_Bears\\_CBA\\_GTT\\_200723.txt        \\\\\n",
       "\t97 & JAXDS00007 & gs://jax-cube-prd-ctrl-01-project-data/study\\_3-1/Three\\_Bears\\_Food\\_Intake\\_9.3.2020.txt                         & gs://jax-cube-prd-ctrl-01-project-data/study\\_3-1                      & Three\\_Bears\\_Food\\_Intake\\_9.3.2020.txt  \\\\\n",
       "\t98 & JAXDS00006 & gs://jax-cube-prd-ctrl-01-project-data/study\\_3-1/Three\\_Bears\\_Water\\_Intake\\_9.15.2020.txt                       & gs://jax-cube-prd-ctrl-01-project-data/study\\_3-1                      & Three\\_Bears\\_Water\\_Intake\\_9.15.2020.txt\\\\\n",
       "\t99 & JAXDS00005 & gs://jax-cube-prd-ctrl-01-project-data/study\\_3-1/Three\\_Bears\\_Body\\_Weight\\_9.3.2020.txt                         & gs://jax-cube-prd-ctrl-01-project-data/study\\_3-1                      & Three\\_Bears\\_Body\\_Weight\\_9.3.2020.txt  \\\\\n",
       "\t100 & JAXDS00004 & https://storage.cloud.google.com/jax-cube-prd-ctrl-01-project-data/study\\_4-1/4.1\\_NMR\\_to\\_201016.txt?authuser=1 & gs://jax-cube-prd-ctrl-01-project-data/study\\_4-1                      & 4.1\\_NMR\\_to\\_201016.txt                 \\\\\n",
       "\\end{tabular}\n"
      ],
      "text/markdown": [
       "\n",
       "A data.frame: 100 × 4\n",
       "\n",
       "| <!--/--> | accession_id &lt;chr&gt; | uri &lt;chr&gt; | bucket_name &lt;chr&gt; | file_name &lt;chr&gt; |\n",
       "|---|---|---|---|---|\n",
       "| 1 | JAXDS00029 | gs://jax-human-t2d-cube-ctl-project-data/dbGaP-26058/phg001305.v1.NHGRI_FUSION_Islet_Imputed.genotype-calls-vcf.c1.GRU.tar                | gs://jax-human-t2d-cube-ctl-project-data/dbGaP-26058        | phg001305.v1.NHGRI_FUSION_Islet_Imputed.genotype-calls-vcf.c1.GRU.tar                |\n",
       "| 2 | JAXDS00028 | gs://jax-human-t2d-cube-ctl-project-data/dbGaP-26058/phs001188.v2.pht006615.v2.p1.FUSION_Islet_Subject.var_report.xml                     | gs://jax-human-t2d-cube-ctl-project-data/dbGaP-26058        | phs001188.v2.pht006615.v2.p1.FUSION_Islet_Subject.var_report.xml                     |\n",
       "| 3 | JAXDS00027 | gs://jax-human-t2d-cube-ctl-project-data/dbGaP-26058/phe000025.v1.NHGRI_FUSION_Islet.expression-data-matrixfmt.c1.GRU.tar                 | gs://jax-human-t2d-cube-ctl-project-data/dbGaP-26058        | phe000025.v1.NHGRI_FUSION_Islet.expression-data-matrixfmt.c1.GRU.tar                 |\n",
       "| 4 | JAXDS00026 | gs://jax-human-t2d-cube-ctl-project-data/dbGaP-26058/Release_Notes.phs001188.FUSION_Islet.v2.p1.MULTI.pdf                                 | gs://jax-human-t2d-cube-ctl-project-data/dbGaP-26058        | Release_Notes.phs001188.FUSION_Islet.v2.p1.MULTI.pdf                                 |\n",
       "| 5 | JAXDS00025 | gs://jax-human-t2d-cube-ctl-project-data/dbGaP-26058/phg001306.v1.NHGRI_FUSION_Islet_Methylation.marker-info.MULTI.tar                    | gs://jax-human-t2d-cube-ctl-project-data/dbGaP-26058        | phg001306.v1.NHGRI_FUSION_Islet_Methylation.marker-info.MULTI.tar                    |\n",
       "| 6 | JAXDS00024 | gs://jax-human-t2d-cube-ctl-project-data/dbGaP-26058/phs001188.v2.pht006301.v2.p1.FUSION_Islet_Subject_Phenotypes.var_report.xml          | gs://jax-human-t2d-cube-ctl-project-data/dbGaP-26058        | phs001188.v2.pht006301.v2.p1.FUSION_Islet_Subject_Phenotypes.var_report.xml          |\n",
       "| 7 | JAXDS00023 | gs://jax-human-t2d-cube-ctl-project-data/dbGaP-26058/phg001304.v1.NHGRI_FUSION_Islet_ArrayGTs.marker-info.MULTI.tar                       | gs://jax-human-t2d-cube-ctl-project-data/dbGaP-26058        | phg001304.v1.NHGRI_FUSION_Islet_ArrayGTs.marker-info.MULTI.tar                       |\n",
       "| 8 | JAXDS00022 | gs://jax-human-t2d-cube-ctl-project-data/dbGaP-26058/phe000025.v1.NHGRI_FUSION_Islet.molecular-data-qc.MULTI.tar                          | gs://jax-human-t2d-cube-ctl-project-data/dbGaP-26058        | phe000025.v1.NHGRI_FUSION_Islet.molecular-data-qc.MULTI.tar                          |\n",
       "| 9 | JAXDS00021 | gs://jax-human-t2d-cube-ctl-project-data/dbGaP-26058/phe000025.v1.NHGRI_FUSION_Islet_eQTLs.molecular-qtl-data.c1.GRU.tar                  | gs://jax-human-t2d-cube-ctl-project-data/dbGaP-26058        | phe000025.v1.NHGRI_FUSION_Islet_eQTLs.molecular-qtl-data.c1.GRU.tar                  |\n",
       "| 10 | JAXDS00020 | gs://jax-human-t2d-cube-ctl-project-data/dbGaP-26058/phs001188.v2.pht006615.v2.FUSION_Islet_Subject.data_dict.xml                         | gs://jax-human-t2d-cube-ctl-project-data/dbGaP-26058        | phs001188.v2.pht006615.v2.FUSION_Islet_Subject.data_dict.xml                         |\n",
       "| 11 | JAXDS0001Z | gs://jax-human-t2d-cube-ctl-project-data/dbGaP-26058/phg001306.v1.NHGRI_FUSION_Islet_Methylation.original_submission_matrixfmt.c1.GRU.tar | gs://jax-human-t2d-cube-ctl-project-data/dbGaP-26058        | phg001306.v1.NHGRI_FUSION_Islet_Methylation.original_submission_matrixfmt.c1.GRU.tar |\n",
       "| 12 | JAXDS0001Y | gs://jax-human-t2d-cube-ctl-project-data/dbGaP-26058/phs001188.v2.pht006301.v2.p1.c1.FUSION_Islet_Subject_Phenotypes.GRU.txt.gz           | gs://jax-human-t2d-cube-ctl-project-data/dbGaP-26058        | phs001188.v2.pht006301.v2.p1.c1.FUSION_Islet_Subject_Phenotypes.GRU.txt.gz           |\n",
       "| 13 | JAXDS0001X | gs://jax-human-t2d-cube-ctl-project-data/dbGaP-26058/manifest_phs001188.FUSION_Islet.v2.p1.c1.GRU.pdf                                     | gs://jax-human-t2d-cube-ctl-project-data/dbGaP-26058        | manifest_phs001188.FUSION_Islet.v2.p1.c1.GRU.pdf                                     |\n",
       "| 14 | JAXDS0001W | gs://jax-human-t2d-cube-ctl-project-data/dbGaP-26058/phs001188.v2.pht006301.v2.FUSION_Islet_Subject_Phenotypes.data_dict.xml              | gs://jax-human-t2d-cube-ctl-project-data/dbGaP-26058        | phs001188.v2.pht006301.v2.FUSION_Islet_Subject_Phenotypes.data_dict.xml              |\n",
       "| 15 | JAXDS0001V | gs://jax-human-t2d-cube-ctl-project-data/dbGaP-26058/phg001304.v1.NHGRI_FUSION_Islet_ArrayGTs.genotype-calls-vcf.c1.GRU.tar               | gs://jax-human-t2d-cube-ctl-project-data/dbGaP-26058        | phg001304.v1.NHGRI_FUSION_Islet_ArrayGTs.genotype-calls-vcf.c1.GRU.tar               |\n",
       "| 16 | JAXDS0001U | gs://jax-human-t2d-cube-ctl-project-data/dbGaP-26058/phs001188.v2.pht006300.v2.p1.FUSION_Islet_Sample.var_report.xml                      | gs://jax-human-t2d-cube-ctl-project-data/dbGaP-26058        | phs001188.v2.pht006300.v2.p1.FUSION_Islet_Sample.var_report.xml                      |\n",
       "| 17 | JAXDS0001T | gs://jax-human-t2d-cube-ctl-project-data/dbGaP-26058/phs001188.v2.pht006302.v2.FUSION_Islet_Sample_Attributes.data_dict.xml               | gs://jax-human-t2d-cube-ctl-project-data/dbGaP-26058        | phs001188.v2.pht006302.v2.FUSION_Islet_Sample_Attributes.data_dict.xml               |\n",
       "| 18 | JAXDS0001S | gs://jax-human-t2d-cube-ctl-project-data/dbGaP-26058/phs001188.v2.pht006300.v2.p1.FUSION_Islet_Sample.MULTI.txt.gz                        | gs://jax-human-t2d-cube-ctl-project-data/dbGaP-26058        | phs001188.v2.pht006300.v2.p1.FUSION_Islet_Sample.MULTI.txt.gz                        |\n",
       "| 19 | JAXDS0001R | gs://jax-human-t2d-cube-ctl-project-data/dbGaP-26058/phs001188.v2.pht006300.v2.FUSION_Islet_Sample.data_dict.xml                          | gs://jax-human-t2d-cube-ctl-project-data/dbGaP-26058        | phs001188.v2.pht006300.v2.FUSION_Islet_Sample.data_dict.xml                          |\n",
       "| 20 | JAXDS0001Q | gs://jax-human-t2d-cube-ctl-project-data/dbGaP-26058/phg001306.v1.NHGRI_FUSION_Islet_Methylation.sample-info.MULTI.tar                    | gs://jax-human-t2d-cube-ctl-project-data/dbGaP-26058        | phg001306.v1.NHGRI_FUSION_Islet_Methylation.sample-info.MULTI.tar                    |\n",
       "| 21 | JAXDS0001P | gs://jax-human-t2d-cube-ctl-project-data/dbGaP-26058/phg001304.v1.NHGRI_FUSION_Islet_ArrayGTs.sample-info.MULTI.tar                       | gs://jax-human-t2d-cube-ctl-project-data/dbGaP-26058        | phg001304.v1.NHGRI_FUSION_Islet_ArrayGTs.sample-info.MULTI.tar                       |\n",
       "| 22 | JAXDS0001O | gs://jax-human-t2d-cube-ctl-project-data/dbGaP-26058/phs001188.v2.pht006302.v2.p1.c1.FUSION_Islet_Sample_Attributes.GRU.txt.gz            | gs://jax-human-t2d-cube-ctl-project-data/dbGaP-26058        | phs001188.v2.pht006302.v2.p1.c1.FUSION_Islet_Sample_Attributes.GRU.txt.gz            |\n",
       "| 23 | JAXDS0001N | gs://jax-human-t2d-cube-ctl-project-data/dbGaP-26058/phg001306.v1.NHGRI_FUSION_Islet_Methylation.raw-data-idat.c1.GRU.tar                 | gs://jax-human-t2d-cube-ctl-project-data/dbGaP-26058        | phg001306.v1.NHGRI_FUSION_Islet_Methylation.raw-data-idat.c1.GRU.tar                 |\n",
       "| 24 | JAXDS0001M | gs://jax-human-t2d-cube-ctl-project-data/dbGaP-26058/Study_Report.phs001188.FUSION_Islet.v2.p1.MULTI.pdf                                  | gs://jax-human-t2d-cube-ctl-project-data/dbGaP-26058        | Study_Report.phs001188.FUSION_Islet.v2.p1.MULTI.pdf                                  |\n",
       "| 25 | JAXDS0001L | gs://jax-human-t2d-cube-ctl-project-data/dbGaP-26058/phe000025.v1.NHGRI_FUSION_Islet.sample-info.MULTI.tar                                | gs://jax-human-t2d-cube-ctl-project-data/dbGaP-26058        | phe000025.v1.NHGRI_FUSION_Islet.sample-info.MULTI.tar                                |\n",
       "| 26 | JAXDS0001K | gs://jax-human-t2d-cube-ctl-project-data/dbGaP-26058/phg001305.v1.NHGRI_FUSION_Islet_Imputed.sample-info.MULTI.tar                        | gs://jax-human-t2d-cube-ctl-project-data/dbGaP-26058        | phg001305.v1.NHGRI_FUSION_Islet_Imputed.sample-info.MULTI.tar                        |\n",
       "| 27 | JAXDS0001J | gs://jax-human-t2d-cube-ctl-project-data/dbGaP-26058/phs001188.v2.pht006615.v2.p1.FUSION_Islet_Subject.MULTI.txt.gz                       | gs://jax-human-t2d-cube-ctl-project-data/dbGaP-26058        | phs001188.v2.pht006615.v2.p1.FUSION_Islet_Subject.MULTI.txt.gz                       |\n",
       "| 28 | JAXDS0001I | gs://jax-human-t2d-cube-ctl-project-data/dbGaP-26058/phs001188.v2.pht006302.v2.p1.FUSION_Islet_Sample_Attributes.var_report.xml           | gs://jax-human-t2d-cube-ctl-project-data/dbGaP-26058        | phs001188.v2.pht006302.v2.p1.FUSION_Islet_Sample_Attributes.var_report.xml           |\n",
       "| 29 | JAXDS0001H | gs://jax-cube-prd-ctrl-01-project-data/20200922_20-cube-00                                                                                | gs://jax-cube-prd-ctrl-01-project-data/20200922_20-cube-00  | <!----> |\n",
       "| 30 | JAXDS0001G | gs://jax-cube-prd-ctrl-01-project-data/20200922_20-cube-006                                                                               | gs://jax-cube-prd-ctrl-01-project-data/20200922_20-cube-006 | <!----> |\n",
       "| ⋮ | ⋮ | ⋮ | ⋮ | ⋮ |\n",
       "| 71 | JAXDS0000B | https://storage.cloud.google.com/jax-cube-prd-ctrl-01-project-data/study_4-1/4.1_GTT_to_201016.txt            | gs://jax-cube-prd-ctrl-01-project-data/study_4-1                      | 4.1_GTT_to_201016.txt                  |\n",
       "| 72 | JAXDS0000A | https://storage.cloud.google.com/jax-cube-prd-ctrl-01-project-data/study_4-1/4.1_DEXA_to_201016.txt           | gs://jax-cube-prd-ctrl-01-project-data/study_4-1                      | 4.1_DEXA_to_201016.txt                 |\n",
       "| 73 | JAXDS00009 | https://storage.cloud.google.com/jax-cube-prd-ctrl-01-project-data/study_4-1/4.1_BODY_WEIGHT_to_201016.txt    | gs://jax-cube-prd-ctrl-01-project-data/study_4-1                      | 4.1_BODY_WEIGHT_to_201016.txt          |\n",
       "| 74 | JAXDS00007 | https://thejacksonlaboratory.ent.box.com/s/t2ppj4vdiwuym5v4rionhjlz5zf3vb8y/folder/123712937032               | gs://s/t2ppj4vdiwuym5v4rionhjlz5zf3vb8y/folder/123712937032           | <!----> |\n",
       "| 75 | JAXDS00006 | gs://jax-human-t2d-cube-ctl-project-data/dbGap-26058-sra/SRR5486021/                                          | gs://jax-human-t2d-cube-ctl-project-data/dbGap-26058-sra/SRR5486021/  | <!----> |\n",
       "| 76 | JAXDS00005 | https://thejacksonlaboratory.ent.box.com/s/t2ppj4vdiwuym5v4rionhjlz5zf3vb8y/folder/123715177484               | gs://s/t2ppj4vdiwuym5v4rionhjlz5zf3vb8y/folder/123715177484           | <!----> |\n",
       "| 77 | JAXDS00004 | gs://jax-human-t2d-cube-ctl-project-data/dbGap-26058-sra/SRR10586542/                                         | gs://jax-human-t2d-cube-ctl-project-data/dbGap-26058-sra/SRR10586542/ | <!----> |\n",
       "| 78 | JAXDS00003 | https://thejacksonlaboratory.ent.box.com/s/t2ppj4vdiwuym5v4rionhjlz5zf3vb8y/folder/123715860202               | gs://s/t2ppj4vdiwuym5v4rionhjlz5zf3vb8y/folder/123715860202           | <!----> |\n",
       "| 79 | JAXDS00002 | https://thejacksonlaboratory.ent.box.com/s/t2ppj4vdiwuym5v4rionhjlz5zf3vb8y/folder/123715317666               | gs://s/t2ppj4vdiwuym5v4rionhjlz5zf3vb8y/folder/123715317666           | <!----> |\n",
       "| 80 | JAXDS00001 | https://thejacksonlaboratory.ent.box.com/s/t2ppj4vdiwuym5v4rionhjlz5zf3vb8y/folder/123716036228               | gs://s/t2ppj4vdiwuym5v4rionhjlz5zf3vb8y/folder/123716036228           | <!----> |\n",
       "| 81 | JAXDS0000O | gs://jax-cube-prd-ctrl-01-project-data/20200607_20-cube-001-run5                                              | gs://jax-cube-prd-ctrl-01-project-data/20200607_20-cube-001-run5      | <!----> |\n",
       "| 82 | JAXDS0000N | gs://jax-cube-prd-ctrl-01-project-data/20200515-20-cube-001-run4                                              | gs://jax-cube-prd-ctrl-01-project-data/20200515-20-cube-001-run4      | <!----> |\n",
       "| 83 | JAXDS0000M | gs://jax-cube-prd-ctrl-01-project-data/20200316_20-cube-001-run2                                              | gs://jax-cube-prd-ctrl-01-project-data/20200316_20-cube-001-run2      | <!----> |\n",
       "| 84 | JAXDS0000L | gs://jax-cube-prd-ctrl-01-project-data/20200207_19-churchill-002-run3                                         | gs://jax-cube-prd-ctrl-01-project-data/20200207_19-churchill-002-run3 | <!----> |\n",
       "| 85 | JAXDS0000K | gs://jax-cube-prd-ctrl-01-project-data/20200203_19-churchill-002-run2                                         | gs://jax-cube-prd-ctrl-01-project-data/20200203_19-churchill-002-run2 | <!----> |\n",
       "| 86 | JAXDS0000J | gs://jax-cube-prd-ctrl-01-project-data/20191231_19-churchill-002                                              | gs://jax-cube-prd-ctrl-01-project-data/20191231_19-churchill-002      | <!----> |\n",
       "| 87 | JAXDS0000I | gs://jax-cube-prd-ctrl-01-project-data/20200128_19-churchill-004-run3                                         | gs://jax-cube-prd-ctrl-01-project-data/20200128_19-churchill-004-run3 | <!----> |\n",
       "| 88 | JAXDS0000H | gs://jax-cube-prd-ctrl-01-project-data/20200102_19-churchill-004-run2                                         | gs://jax-cube-prd-ctrl-01-project-data/20200102_19-churchill-004-run2 | <!----> |\n",
       "| 89 | JAXDS0000G | gs://jax-cube-prd-ctrl-01-project-data/20191223_19-churchill-004                                              | gs://jax-cube-prd-ctrl-01-project-data/20191223_19-churchill-004      | <!----> |\n",
       "| 90 | JAXDS0000F | gs://jax-cube-prd-ctrl-01-project-data/20200604_20-cube-002-run5                                              | gs://jax-cube-prd-ctrl-01-project-data/20200604_20-cube-002-run5      | <!----> |\n",
       "| 91 | JAXDS0000E | gs://jax-cube-prd-ctrl-01-project-data/20200504_20-cube-002-run4                                              | gs://jax-cube-prd-ctrl-01-project-data/20200504_20-cube-002-run4      | <!----> |\n",
       "| 92 | JAXDS0000D | gs://jax-cube-prd-ctrl-01-project-data/20200428_20-cube-002-run3                                              | gs://jax-cube-prd-ctrl-01-project-data/20200428_20-cube-002-run3      | <!----> |\n",
       "| 93 | JAXDS0000C | gs://jax-cube-prd-ctrl-01-project-data/20200316_20-cube-002-run2                                              | gs://jax-cube-prd-ctrl-01-project-data/20200316_20-cube-002-run2      | <!----> |\n",
       "| 94 | JAXDS0000B | gs://jax-cube-prd-ctrl-01-project-data/20200315_20-cube-002                                                   | gs://jax-cube-prd-ctrl-01-project-data/20200315_20-cube-002           | <!----> |\n",
       "| 95 | JAXDS0000A | gs://jax-cube-prd-ctrl-01-project-data/study_3-1/Three_Bears_CBA_NMR_200723.txt                               | gs://jax-cube-prd-ctrl-01-project-data/study_3-1                      | Three_Bears_CBA_NMR_200723.txt         |\n",
       "| 96 | JAXDS00009 | gs://jax-cube-prd-ctrl-01-project-data/study_3-1/Three_Bears_CBA_GTT_200723.txt                               | gs://jax-cube-prd-ctrl-01-project-data/study_3-1                      | Three_Bears_CBA_GTT_200723.txt         |\n",
       "| 97 | JAXDS00007 | gs://jax-cube-prd-ctrl-01-project-data/study_3-1/Three_Bears_Food_Intake_9.3.2020.txt                         | gs://jax-cube-prd-ctrl-01-project-data/study_3-1                      | Three_Bears_Food_Intake_9.3.2020.txt   |\n",
       "| 98 | JAXDS00006 | gs://jax-cube-prd-ctrl-01-project-data/study_3-1/Three_Bears_Water_Intake_9.15.2020.txt                       | gs://jax-cube-prd-ctrl-01-project-data/study_3-1                      | Three_Bears_Water_Intake_9.15.2020.txt |\n",
       "| 99 | JAXDS00005 | gs://jax-cube-prd-ctrl-01-project-data/study_3-1/Three_Bears_Body_Weight_9.3.2020.txt                         | gs://jax-cube-prd-ctrl-01-project-data/study_3-1                      | Three_Bears_Body_Weight_9.3.2020.txt   |\n",
       "| 100 | JAXDS00004 | https://storage.cloud.google.com/jax-cube-prd-ctrl-01-project-data/study_4-1/4.1_NMR_to_201016.txt?authuser=1 | gs://jax-cube-prd-ctrl-01-project-data/study_4-1                      | 4.1_NMR_to_201016.txt                  |\n",
       "\n"
      ],
      "text/plain": [
       "    accession_id\n",
       "1   JAXDS00029  \n",
       "2   JAXDS00028  \n",
       "3   JAXDS00027  \n",
       "4   JAXDS00026  \n",
       "5   JAXDS00025  \n",
       "6   JAXDS00024  \n",
       "7   JAXDS00023  \n",
       "8   JAXDS00022  \n",
       "9   JAXDS00021  \n",
       "10  JAXDS00020  \n",
       "11  JAXDS0001Z  \n",
       "12  JAXDS0001Y  \n",
       "13  JAXDS0001X  \n",
       "14  JAXDS0001W  \n",
       "15  JAXDS0001V  \n",
       "16  JAXDS0001U  \n",
       "17  JAXDS0001T  \n",
       "18  JAXDS0001S  \n",
       "19  JAXDS0001R  \n",
       "20  JAXDS0001Q  \n",
       "21  JAXDS0001P  \n",
       "22  JAXDS0001O  \n",
       "23  JAXDS0001N  \n",
       "24  JAXDS0001M  \n",
       "25  JAXDS0001L  \n",
       "26  JAXDS0001K  \n",
       "27  JAXDS0001J  \n",
       "28  JAXDS0001I  \n",
       "29  JAXDS0001H  \n",
       "30  JAXDS0001G  \n",
       "⋮   ⋮           \n",
       "71  JAXDS0000B  \n",
       "72  JAXDS0000A  \n",
       "73  JAXDS00009  \n",
       "74  JAXDS00007  \n",
       "75  JAXDS00006  \n",
       "76  JAXDS00005  \n",
       "77  JAXDS00004  \n",
       "78  JAXDS00003  \n",
       "79  JAXDS00002  \n",
       "80  JAXDS00001  \n",
       "81  JAXDS0000O  \n",
       "82  JAXDS0000N  \n",
       "83  JAXDS0000M  \n",
       "84  JAXDS0000L  \n",
       "85  JAXDS0000K  \n",
       "86  JAXDS0000J  \n",
       "87  JAXDS0000I  \n",
       "88  JAXDS0000H  \n",
       "89  JAXDS0000G  \n",
       "90  JAXDS0000F  \n",
       "91  JAXDS0000E  \n",
       "92  JAXDS0000D  \n",
       "93  JAXDS0000C  \n",
       "94  JAXDS0000B  \n",
       "95  JAXDS0000A  \n",
       "96  JAXDS00009  \n",
       "97  JAXDS00007  \n",
       "98  JAXDS00006  \n",
       "99  JAXDS00005  \n",
       "100 JAXDS00004  \n",
       "    uri                                                                                                                                      \n",
       "1   gs://jax-human-t2d-cube-ctl-project-data/dbGaP-26058/phg001305.v1.NHGRI_FUSION_Islet_Imputed.genotype-calls-vcf.c1.GRU.tar               \n",
       "2   gs://jax-human-t2d-cube-ctl-project-data/dbGaP-26058/phs001188.v2.pht006615.v2.p1.FUSION_Islet_Subject.var_report.xml                    \n",
       "3   gs://jax-human-t2d-cube-ctl-project-data/dbGaP-26058/phe000025.v1.NHGRI_FUSION_Islet.expression-data-matrixfmt.c1.GRU.tar                \n",
       "4   gs://jax-human-t2d-cube-ctl-project-data/dbGaP-26058/Release_Notes.phs001188.FUSION_Islet.v2.p1.MULTI.pdf                                \n",
       "5   gs://jax-human-t2d-cube-ctl-project-data/dbGaP-26058/phg001306.v1.NHGRI_FUSION_Islet_Methylation.marker-info.MULTI.tar                   \n",
       "6   gs://jax-human-t2d-cube-ctl-project-data/dbGaP-26058/phs001188.v2.pht006301.v2.p1.FUSION_Islet_Subject_Phenotypes.var_report.xml         \n",
       "7   gs://jax-human-t2d-cube-ctl-project-data/dbGaP-26058/phg001304.v1.NHGRI_FUSION_Islet_ArrayGTs.marker-info.MULTI.tar                      \n",
       "8   gs://jax-human-t2d-cube-ctl-project-data/dbGaP-26058/phe000025.v1.NHGRI_FUSION_Islet.molecular-data-qc.MULTI.tar                         \n",
       "9   gs://jax-human-t2d-cube-ctl-project-data/dbGaP-26058/phe000025.v1.NHGRI_FUSION_Islet_eQTLs.molecular-qtl-data.c1.GRU.tar                 \n",
       "10  gs://jax-human-t2d-cube-ctl-project-data/dbGaP-26058/phs001188.v2.pht006615.v2.FUSION_Islet_Subject.data_dict.xml                        \n",
       "11  gs://jax-human-t2d-cube-ctl-project-data/dbGaP-26058/phg001306.v1.NHGRI_FUSION_Islet_Methylation.original_submission_matrixfmt.c1.GRU.tar\n",
       "12  gs://jax-human-t2d-cube-ctl-project-data/dbGaP-26058/phs001188.v2.pht006301.v2.p1.c1.FUSION_Islet_Subject_Phenotypes.GRU.txt.gz          \n",
       "13  gs://jax-human-t2d-cube-ctl-project-data/dbGaP-26058/manifest_phs001188.FUSION_Islet.v2.p1.c1.GRU.pdf                                    \n",
       "14  gs://jax-human-t2d-cube-ctl-project-data/dbGaP-26058/phs001188.v2.pht006301.v2.FUSION_Islet_Subject_Phenotypes.data_dict.xml             \n",
       "15  gs://jax-human-t2d-cube-ctl-project-data/dbGaP-26058/phg001304.v1.NHGRI_FUSION_Islet_ArrayGTs.genotype-calls-vcf.c1.GRU.tar              \n",
       "16  gs://jax-human-t2d-cube-ctl-project-data/dbGaP-26058/phs001188.v2.pht006300.v2.p1.FUSION_Islet_Sample.var_report.xml                     \n",
       "17  gs://jax-human-t2d-cube-ctl-project-data/dbGaP-26058/phs001188.v2.pht006302.v2.FUSION_Islet_Sample_Attributes.data_dict.xml              \n",
       "18  gs://jax-human-t2d-cube-ctl-project-data/dbGaP-26058/phs001188.v2.pht006300.v2.p1.FUSION_Islet_Sample.MULTI.txt.gz                       \n",
       "19  gs://jax-human-t2d-cube-ctl-project-data/dbGaP-26058/phs001188.v2.pht006300.v2.FUSION_Islet_Sample.data_dict.xml                         \n",
       "20  gs://jax-human-t2d-cube-ctl-project-data/dbGaP-26058/phg001306.v1.NHGRI_FUSION_Islet_Methylation.sample-info.MULTI.tar                   \n",
       "21  gs://jax-human-t2d-cube-ctl-project-data/dbGaP-26058/phg001304.v1.NHGRI_FUSION_Islet_ArrayGTs.sample-info.MULTI.tar                      \n",
       "22  gs://jax-human-t2d-cube-ctl-project-data/dbGaP-26058/phs001188.v2.pht006302.v2.p1.c1.FUSION_Islet_Sample_Attributes.GRU.txt.gz           \n",
       "23  gs://jax-human-t2d-cube-ctl-project-data/dbGaP-26058/phg001306.v1.NHGRI_FUSION_Islet_Methylation.raw-data-idat.c1.GRU.tar                \n",
       "24  gs://jax-human-t2d-cube-ctl-project-data/dbGaP-26058/Study_Report.phs001188.FUSION_Islet.v2.p1.MULTI.pdf                                 \n",
       "25  gs://jax-human-t2d-cube-ctl-project-data/dbGaP-26058/phe000025.v1.NHGRI_FUSION_Islet.sample-info.MULTI.tar                               \n",
       "26  gs://jax-human-t2d-cube-ctl-project-data/dbGaP-26058/phg001305.v1.NHGRI_FUSION_Islet_Imputed.sample-info.MULTI.tar                       \n",
       "27  gs://jax-human-t2d-cube-ctl-project-data/dbGaP-26058/phs001188.v2.pht006615.v2.p1.FUSION_Islet_Subject.MULTI.txt.gz                      \n",
       "28  gs://jax-human-t2d-cube-ctl-project-data/dbGaP-26058/phs001188.v2.pht006302.v2.p1.FUSION_Islet_Sample_Attributes.var_report.xml          \n",
       "29  gs://jax-cube-prd-ctrl-01-project-data/20200922_20-cube-00                                                                               \n",
       "30  gs://jax-cube-prd-ctrl-01-project-data/20200922_20-cube-006                                                                              \n",
       "⋮   ⋮                                                                                                                                        \n",
       "71  https://storage.cloud.google.com/jax-cube-prd-ctrl-01-project-data/study_4-1/4.1_GTT_to_201016.txt                                       \n",
       "72  https://storage.cloud.google.com/jax-cube-prd-ctrl-01-project-data/study_4-1/4.1_DEXA_to_201016.txt                                      \n",
       "73  https://storage.cloud.google.com/jax-cube-prd-ctrl-01-project-data/study_4-1/4.1_BODY_WEIGHT_to_201016.txt                               \n",
       "74  https://thejacksonlaboratory.ent.box.com/s/t2ppj4vdiwuym5v4rionhjlz5zf3vb8y/folder/123712937032                                          \n",
       "75  gs://jax-human-t2d-cube-ctl-project-data/dbGap-26058-sra/SRR5486021/                                                                     \n",
       "76  https://thejacksonlaboratory.ent.box.com/s/t2ppj4vdiwuym5v4rionhjlz5zf3vb8y/folder/123715177484                                          \n",
       "77  gs://jax-human-t2d-cube-ctl-project-data/dbGap-26058-sra/SRR10586542/                                                                    \n",
       "78  https://thejacksonlaboratory.ent.box.com/s/t2ppj4vdiwuym5v4rionhjlz5zf3vb8y/folder/123715860202                                          \n",
       "79  https://thejacksonlaboratory.ent.box.com/s/t2ppj4vdiwuym5v4rionhjlz5zf3vb8y/folder/123715317666                                          \n",
       "80  https://thejacksonlaboratory.ent.box.com/s/t2ppj4vdiwuym5v4rionhjlz5zf3vb8y/folder/123716036228                                          \n",
       "81  gs://jax-cube-prd-ctrl-01-project-data/20200607_20-cube-001-run5                                                                         \n",
       "82  gs://jax-cube-prd-ctrl-01-project-data/20200515-20-cube-001-run4                                                                         \n",
       "83  gs://jax-cube-prd-ctrl-01-project-data/20200316_20-cube-001-run2                                                                         \n",
       "84  gs://jax-cube-prd-ctrl-01-project-data/20200207_19-churchill-002-run3                                                                    \n",
       "85  gs://jax-cube-prd-ctrl-01-project-data/20200203_19-churchill-002-run2                                                                    \n",
       "86  gs://jax-cube-prd-ctrl-01-project-data/20191231_19-churchill-002                                                                         \n",
       "87  gs://jax-cube-prd-ctrl-01-project-data/20200128_19-churchill-004-run3                                                                    \n",
       "88  gs://jax-cube-prd-ctrl-01-project-data/20200102_19-churchill-004-run2                                                                    \n",
       "89  gs://jax-cube-prd-ctrl-01-project-data/20191223_19-churchill-004                                                                         \n",
       "90  gs://jax-cube-prd-ctrl-01-project-data/20200604_20-cube-002-run5                                                                         \n",
       "91  gs://jax-cube-prd-ctrl-01-project-data/20200504_20-cube-002-run4                                                                         \n",
       "92  gs://jax-cube-prd-ctrl-01-project-data/20200428_20-cube-002-run3                                                                         \n",
       "93  gs://jax-cube-prd-ctrl-01-project-data/20200316_20-cube-002-run2                                                                         \n",
       "94  gs://jax-cube-prd-ctrl-01-project-data/20200315_20-cube-002                                                                              \n",
       "95  gs://jax-cube-prd-ctrl-01-project-data/study_3-1/Three_Bears_CBA_NMR_200723.txt                                                          \n",
       "96  gs://jax-cube-prd-ctrl-01-project-data/study_3-1/Three_Bears_CBA_GTT_200723.txt                                                          \n",
       "97  gs://jax-cube-prd-ctrl-01-project-data/study_3-1/Three_Bears_Food_Intake_9.3.2020.txt                                                    \n",
       "98  gs://jax-cube-prd-ctrl-01-project-data/study_3-1/Three_Bears_Water_Intake_9.15.2020.txt                                                  \n",
       "99  gs://jax-cube-prd-ctrl-01-project-data/study_3-1/Three_Bears_Body_Weight_9.3.2020.txt                                                    \n",
       "100 https://storage.cloud.google.com/jax-cube-prd-ctrl-01-project-data/study_4-1/4.1_NMR_to_201016.txt?authuser=1                            \n",
       "    bucket_name                                                          \n",
       "1   gs://jax-human-t2d-cube-ctl-project-data/dbGaP-26058                 \n",
       "2   gs://jax-human-t2d-cube-ctl-project-data/dbGaP-26058                 \n",
       "3   gs://jax-human-t2d-cube-ctl-project-data/dbGaP-26058                 \n",
       "4   gs://jax-human-t2d-cube-ctl-project-data/dbGaP-26058                 \n",
       "5   gs://jax-human-t2d-cube-ctl-project-data/dbGaP-26058                 \n",
       "6   gs://jax-human-t2d-cube-ctl-project-data/dbGaP-26058                 \n",
       "7   gs://jax-human-t2d-cube-ctl-project-data/dbGaP-26058                 \n",
       "8   gs://jax-human-t2d-cube-ctl-project-data/dbGaP-26058                 \n",
       "9   gs://jax-human-t2d-cube-ctl-project-data/dbGaP-26058                 \n",
       "10  gs://jax-human-t2d-cube-ctl-project-data/dbGaP-26058                 \n",
       "11  gs://jax-human-t2d-cube-ctl-project-data/dbGaP-26058                 \n",
       "12  gs://jax-human-t2d-cube-ctl-project-data/dbGaP-26058                 \n",
       "13  gs://jax-human-t2d-cube-ctl-project-data/dbGaP-26058                 \n",
       "14  gs://jax-human-t2d-cube-ctl-project-data/dbGaP-26058                 \n",
       "15  gs://jax-human-t2d-cube-ctl-project-data/dbGaP-26058                 \n",
       "16  gs://jax-human-t2d-cube-ctl-project-data/dbGaP-26058                 \n",
       "17  gs://jax-human-t2d-cube-ctl-project-data/dbGaP-26058                 \n",
       "18  gs://jax-human-t2d-cube-ctl-project-data/dbGaP-26058                 \n",
       "19  gs://jax-human-t2d-cube-ctl-project-data/dbGaP-26058                 \n",
       "20  gs://jax-human-t2d-cube-ctl-project-data/dbGaP-26058                 \n",
       "21  gs://jax-human-t2d-cube-ctl-project-data/dbGaP-26058                 \n",
       "22  gs://jax-human-t2d-cube-ctl-project-data/dbGaP-26058                 \n",
       "23  gs://jax-human-t2d-cube-ctl-project-data/dbGaP-26058                 \n",
       "24  gs://jax-human-t2d-cube-ctl-project-data/dbGaP-26058                 \n",
       "25  gs://jax-human-t2d-cube-ctl-project-data/dbGaP-26058                 \n",
       "26  gs://jax-human-t2d-cube-ctl-project-data/dbGaP-26058                 \n",
       "27  gs://jax-human-t2d-cube-ctl-project-data/dbGaP-26058                 \n",
       "28  gs://jax-human-t2d-cube-ctl-project-data/dbGaP-26058                 \n",
       "29  gs://jax-cube-prd-ctrl-01-project-data/20200922_20-cube-00           \n",
       "30  gs://jax-cube-prd-ctrl-01-project-data/20200922_20-cube-006          \n",
       "⋮   ⋮                                                                    \n",
       "71  gs://jax-cube-prd-ctrl-01-project-data/study_4-1                     \n",
       "72  gs://jax-cube-prd-ctrl-01-project-data/study_4-1                     \n",
       "73  gs://jax-cube-prd-ctrl-01-project-data/study_4-1                     \n",
       "74  gs://s/t2ppj4vdiwuym5v4rionhjlz5zf3vb8y/folder/123712937032          \n",
       "75  gs://jax-human-t2d-cube-ctl-project-data/dbGap-26058-sra/SRR5486021/ \n",
       "76  gs://s/t2ppj4vdiwuym5v4rionhjlz5zf3vb8y/folder/123715177484          \n",
       "77  gs://jax-human-t2d-cube-ctl-project-data/dbGap-26058-sra/SRR10586542/\n",
       "78  gs://s/t2ppj4vdiwuym5v4rionhjlz5zf3vb8y/folder/123715860202          \n",
       "79  gs://s/t2ppj4vdiwuym5v4rionhjlz5zf3vb8y/folder/123715317666          \n",
       "80  gs://s/t2ppj4vdiwuym5v4rionhjlz5zf3vb8y/folder/123716036228          \n",
       "81  gs://jax-cube-prd-ctrl-01-project-data/20200607_20-cube-001-run5     \n",
       "82  gs://jax-cube-prd-ctrl-01-project-data/20200515-20-cube-001-run4     \n",
       "83  gs://jax-cube-prd-ctrl-01-project-data/20200316_20-cube-001-run2     \n",
       "84  gs://jax-cube-prd-ctrl-01-project-data/20200207_19-churchill-002-run3\n",
       "85  gs://jax-cube-prd-ctrl-01-project-data/20200203_19-churchill-002-run2\n",
       "86  gs://jax-cube-prd-ctrl-01-project-data/20191231_19-churchill-002     \n",
       "87  gs://jax-cube-prd-ctrl-01-project-data/20200128_19-churchill-004-run3\n",
       "88  gs://jax-cube-prd-ctrl-01-project-data/20200102_19-churchill-004-run2\n",
       "89  gs://jax-cube-prd-ctrl-01-project-data/20191223_19-churchill-004     \n",
       "90  gs://jax-cube-prd-ctrl-01-project-data/20200604_20-cube-002-run5     \n",
       "91  gs://jax-cube-prd-ctrl-01-project-data/20200504_20-cube-002-run4     \n",
       "92  gs://jax-cube-prd-ctrl-01-project-data/20200428_20-cube-002-run3     \n",
       "93  gs://jax-cube-prd-ctrl-01-project-data/20200316_20-cube-002-run2     \n",
       "94  gs://jax-cube-prd-ctrl-01-project-data/20200315_20-cube-002          \n",
       "95  gs://jax-cube-prd-ctrl-01-project-data/study_3-1                     \n",
       "96  gs://jax-cube-prd-ctrl-01-project-data/study_3-1                     \n",
       "97  gs://jax-cube-prd-ctrl-01-project-data/study_3-1                     \n",
       "98  gs://jax-cube-prd-ctrl-01-project-data/study_3-1                     \n",
       "99  gs://jax-cube-prd-ctrl-01-project-data/study_3-1                     \n",
       "100 gs://jax-cube-prd-ctrl-01-project-data/study_4-1                     \n",
       "    file_name                                                                           \n",
       "1   phg001305.v1.NHGRI_FUSION_Islet_Imputed.genotype-calls-vcf.c1.GRU.tar               \n",
       "2   phs001188.v2.pht006615.v2.p1.FUSION_Islet_Subject.var_report.xml                    \n",
       "3   phe000025.v1.NHGRI_FUSION_Islet.expression-data-matrixfmt.c1.GRU.tar                \n",
       "4   Release_Notes.phs001188.FUSION_Islet.v2.p1.MULTI.pdf                                \n",
       "5   phg001306.v1.NHGRI_FUSION_Islet_Methylation.marker-info.MULTI.tar                   \n",
       "6   phs001188.v2.pht006301.v2.p1.FUSION_Islet_Subject_Phenotypes.var_report.xml         \n",
       "7   phg001304.v1.NHGRI_FUSION_Islet_ArrayGTs.marker-info.MULTI.tar                      \n",
       "8   phe000025.v1.NHGRI_FUSION_Islet.molecular-data-qc.MULTI.tar                         \n",
       "9   phe000025.v1.NHGRI_FUSION_Islet_eQTLs.molecular-qtl-data.c1.GRU.tar                 \n",
       "10  phs001188.v2.pht006615.v2.FUSION_Islet_Subject.data_dict.xml                        \n",
       "11  phg001306.v1.NHGRI_FUSION_Islet_Methylation.original_submission_matrixfmt.c1.GRU.tar\n",
       "12  phs001188.v2.pht006301.v2.p1.c1.FUSION_Islet_Subject_Phenotypes.GRU.txt.gz          \n",
       "13  manifest_phs001188.FUSION_Islet.v2.p1.c1.GRU.pdf                                    \n",
       "14  phs001188.v2.pht006301.v2.FUSION_Islet_Subject_Phenotypes.data_dict.xml             \n",
       "15  phg001304.v1.NHGRI_FUSION_Islet_ArrayGTs.genotype-calls-vcf.c1.GRU.tar              \n",
       "16  phs001188.v2.pht006300.v2.p1.FUSION_Islet_Sample.var_report.xml                     \n",
       "17  phs001188.v2.pht006302.v2.FUSION_Islet_Sample_Attributes.data_dict.xml              \n",
       "18  phs001188.v2.pht006300.v2.p1.FUSION_Islet_Sample.MULTI.txt.gz                       \n",
       "19  phs001188.v2.pht006300.v2.FUSION_Islet_Sample.data_dict.xml                         \n",
       "20  phg001306.v1.NHGRI_FUSION_Islet_Methylation.sample-info.MULTI.tar                   \n",
       "21  phg001304.v1.NHGRI_FUSION_Islet_ArrayGTs.sample-info.MULTI.tar                      \n",
       "22  phs001188.v2.pht006302.v2.p1.c1.FUSION_Islet_Sample_Attributes.GRU.txt.gz           \n",
       "23  phg001306.v1.NHGRI_FUSION_Islet_Methylation.raw-data-idat.c1.GRU.tar                \n",
       "24  Study_Report.phs001188.FUSION_Islet.v2.p1.MULTI.pdf                                 \n",
       "25  phe000025.v1.NHGRI_FUSION_Islet.sample-info.MULTI.tar                               \n",
       "26  phg001305.v1.NHGRI_FUSION_Islet_Imputed.sample-info.MULTI.tar                       \n",
       "27  phs001188.v2.pht006615.v2.p1.FUSION_Islet_Subject.MULTI.txt.gz                      \n",
       "28  phs001188.v2.pht006302.v2.p1.FUSION_Islet_Sample_Attributes.var_report.xml          \n",
       "29                                                                                      \n",
       "30                                                                                      \n",
       "⋮   ⋮                                                                                   \n",
       "71  4.1_GTT_to_201016.txt                                                               \n",
       "72  4.1_DEXA_to_201016.txt                                                              \n",
       "73  4.1_BODY_WEIGHT_to_201016.txt                                                       \n",
       "74                                                                                      \n",
       "75                                                                                      \n",
       "76                                                                                      \n",
       "77                                                                                      \n",
       "78                                                                                      \n",
       "79                                                                                      \n",
       "80                                                                                      \n",
       "81                                                                                      \n",
       "82                                                                                      \n",
       "83                                                                                      \n",
       "84                                                                                      \n",
       "85                                                                                      \n",
       "86                                                                                      \n",
       "87                                                                                      \n",
       "88                                                                                      \n",
       "89                                                                                      \n",
       "90                                                                                      \n",
       "91                                                                                      \n",
       "92                                                                                      \n",
       "93                                                                                      \n",
       "94                                                                                      \n",
       "95  Three_Bears_CBA_NMR_200723.txt                                                      \n",
       "96  Three_Bears_CBA_GTT_200723.txt                                                      \n",
       "97  Three_Bears_Food_Intake_9.3.2020.txt                                                \n",
       "98  Three_Bears_Water_Intake_9.15.2020.txt                                              \n",
       "99  Three_Bears_Body_Weight_9.3.2020.txt                                                \n",
       "100 4.1_NMR_to_201016.txt                                                               "
      ]
     },
     "metadata": {},
     "output_type": "display_data"
    }
   ],
   "source": [
    "storage_info"
   ]
  },
  {
   "cell_type": "code",
   "execution_count": null,
   "metadata": {},
   "outputs": [],
   "source": [
    "!CubeAPI"
   ]
  },
  {
   "cell_type": "code",
   "execution_count": null,
   "metadata": {},
   "outputs": [],
   "source": [
    "# pick a bucket\n",
    "bucket_name = storage_info[1, 3]\n",
    "bucket_name"
   ]
  },
  {
   "cell_type": "code",
   "execution_count": null,
   "metadata": {},
   "outputs": [],
   "source": [
    "# list out files in a bucket\n",
    "system(str_glue('gsutil ls -lh {bucket_name}'), intern = TRUE)"
   ]
  },
  {
   "cell_type": "code",
   "execution_count": null,
   "metadata": {},
   "outputs": [],
   "source": [
    "# pick a file to copy to workspace\n",
    "file_name = \"Run_Metric_Summary_20-cube-001-run5.csv\"\n",
    "setwd(\"~/\")\n",
    "system(str_glue('gsutil cp {bucket_name}/{file_name} {file_name} 2>&1'), intern = TRUE)"
   ]
  },
  {
   "cell_type": "code",
   "execution_count": null,
   "metadata": {},
   "outputs": [],
   "source": [
    "# read data into a data frame\n",
    "read.csv(file_name)"
   ]
  },
  {
   "cell_type": "code",
   "execution_count": null,
   "metadata": {},
   "outputs": [],
   "source": [
    "## sync a entire bucket directory, (bucket could be huge) \n",
    "# bucket_data = get_bucket_data(bucket_name = bucket_name, file_name = file_name )\n",
    "# bucket_data"
   ]
  },
  {
   "cell_type": "markdown",
   "metadata": {},
   "source": [
    "### 3. Get Metadata Definition with a Parameter"
   ]
  },
  {
   "cell_type": "code",
   "execution_count": null,
   "metadata": {},
   "outputs": [],
   "source": [
    "response = cube_api$get_element(element_id = 85)"
   ]
  },
  {
   "cell_type": "code",
   "execution_count": null,
   "metadata": {},
   "outputs": [],
   "source": [
    "str(content(response))"
   ]
  },
  {
   "cell_type": "code",
   "execution_count": null,
   "metadata": {},
   "outputs": [],
   "source": [
    "?system"
   ]
  },
  {
   "cell_type": "markdown",
   "metadata": {},
   "source": [
    "### 4. Get Metadata with accession ids "
   ]
  },
  {
   "cell_type": "code",
   "execution_count": null,
   "metadata": {},
   "outputs": [],
   "source": [
    "response = cube_api$get_element_instance(element_id = 85, accession_ids = c(\"JAXAS00031\", \"JAXAS00032\", \"JAXAS00034\"))"
   ]
  },
  {
   "cell_type": "code",
   "execution_count": null,
   "metadata": {},
   "outputs": [],
   "source": [
    "str(content(response)$results)"
   ]
  },
  {
   "cell_type": "markdown",
   "metadata": {},
   "source": [
    "### 5. Get Metadata Collection"
   ]
  },
  {
   "cell_type": "code",
   "execution_count": null,
   "metadata": {},
   "outputs": [],
   "source": [
    "response = cube_api$get_metadata_collection()"
   ]
  },
  {
   "cell_type": "code",
   "execution_count": null,
   "metadata": {},
   "outputs": [],
   "source": [
    "json = response_json_to_data(response)"
   ]
  },
  {
   "cell_type": "code",
   "execution_count": null,
   "metadata": {},
   "outputs": [],
   "source": [
    "str(json$results)"
   ]
  },
  {
   "cell_type": "code",
   "execution_count": null,
   "metadata": {},
   "outputs": [],
   "source": [
    "accession_ids = json$results[,2][[1]]$accession_id\n",
    "accession_ids"
   ]
  },
  {
   "cell_type": "code",
   "execution_count": null,
   "metadata": {},
   "outputs": [],
   "source": [
    "response = cube_api$get_element_instance(accession_ids = c(accession_ids))"
   ]
  },
  {
   "cell_type": "code",
   "execution_count": null,
   "metadata": {},
   "outputs": [],
   "source": [
    "results = content(response)$results\n",
    "results[[21]][[1]]"
   ]
  },
  {
   "cell_type": "code",
   "execution_count": null,
   "metadata": {},
   "outputs": [],
   "source": [
    "data_url = results[[21]][[1]][[1]][[4]]\n",
    "url_parts = str_split(data_url, \"/\")\n",
    "bucket_name = paste0(\"gs://\", url_parts[[1]][4], \"/\", url_parts[[1]][5])\n",
    "file_name =  url_parts[[1]][6]\n",
    "\n",
    "# load the data from the GCP bucket\n",
    "# data_dir = gs_data_dir( bucket_name )\n",
    "\n",
    "# read the file into a dataframe\n",
    "# df <- read.table(file.path(data_dir, file_name), sep = '\\t',header = TRUE)\n",
    "# df"
   ]
  },
  {
   "cell_type": "markdown",
   "metadata": {},
   "source": [
    "### 5. Call Any Get endpoint\n",
    "Call any get end point.  All the endpoints are listed here: https://metadata-service-sqa.azurewebsites.net/swagger/"
   ]
  },
  {
   "cell_type": "code",
   "execution_count": null,
   "metadata": {},
   "outputs": [],
   "source": [
    "# specify a end point\n",
    "response = cube_api$get_end_point(\"metadata_definition/property/?element_id=85\")"
   ]
  },
  {
   "cell_type": "code",
   "execution_count": null,
   "metadata": {},
   "outputs": [],
   "source": [
    "content(response)$count"
   ]
  },
  {
   "cell_type": "code",
   "execution_count": null,
   "metadata": {},
   "outputs": [],
   "source": [
    "# another end point\n",
    "response = cube_api$get_end_point(\"/metadata_repository/collection_item/1/\")"
   ]
  },
  {
   "cell_type": "code",
   "execution_count": null,
   "metadata": {},
   "outputs": [],
   "source": [
    "content(response)"
   ]
  },
  {
   "cell_type": "markdown",
   "metadata": {},
   "source": [
    "### 6. Post endpoint"
   ]
  },
  {
   "cell_type": "code",
   "execution_count": null,
   "metadata": {},
   "outputs": [],
   "source": [
    "response = cube_api$post_element_instance_filter(element_id = 122, page = 1, page_size = 2)"
   ]
  },
  {
   "cell_type": "code",
   "execution_count": null,
   "metadata": {},
   "outputs": [],
   "source": [
    "str(content(response))"
   ]
  },
  {
   "cell_type": "markdown",
   "metadata": {},
   "source": [
    "### 7. More Information"
   ]
  },
  {
   "cell_type": "code",
   "execution_count": null,
   "metadata": {},
   "outputs": [],
   "source": [
    "?CubeAPI"
   ]
  },
  {
   "cell_type": "code",
   "execution_count": null,
   "metadata": {},
   "outputs": [],
   "source": [
    "?Cube"
   ]
  },
  {
   "cell_type": "code",
   "execution_count": null,
   "metadata": {},
   "outputs": [],
   "source": []
  }
 ],
 "metadata": {
  "kernelspec": {
   "display_name": "R",
   "language": "R",
   "name": "ir"
  },
  "language_info": {
   "codemirror_mode": "r",
   "file_extension": ".r",
   "mimetype": "text/x-r-source",
   "name": "R",
   "pygments_lexer": "r",
   "version": "4.0.3"
  }
 },
 "nbformat": 4,
 "nbformat_minor": 4
}
