{
 "cells": [
  {
   "cell_type": "markdown",
   "metadata": {},
   "source": [
    "# Cube Packcage\n",
    "The custom cube package is preinstalled.  just load the library and start to use it \n",
    "<hr/>\n"
   ]
  },
  {
   "cell_type": "markdown",
   "metadata": {},
   "source": [
    "### Load Library and Login to CubeAPI"
   ]
  },
  {
   "cell_type": "code",
   "execution_count": 22,
   "metadata": {},
   "outputs": [],
   "source": [
    "# load all library, it is already installed\n",
    "library(devtools)\n",
    "library(httr)\n",
    "library(jsonlite)\n",
    "library(stringr)\n",
    "library(rapportools)\n",
    "library(htmlwidgets)\n",
    "library(rlist)\n",
    "library(data.table)\n",
    "library(cloudml)\n",
    "library(readr)\n",
    "library(logger)\n",
    "library(cube)\n",
    "setwd(\"~/\")\n",
    "log_threshold(INFO)"
   ]
  },
  {
   "cell_type": "code",
   "execution_count": 24,
   "metadata": {},
   "outputs": [
    {
     "name": "stdout",
     "output_type": "stream",
     "text": [
      "INFO [2021-01-06 13:49:37] Version: 0.0.2\n",
      "INFO [2021-01-06 13:49:37] http://10.105.16.22/metadata-service/\n"
     ]
    }
   ],
   "source": [
    "# create a CubeAPI object\n",
    "cube_api = CubeAPI$new()"
   ]
  },
  {
   "cell_type": "code",
   "execution_count": null,
   "metadata": {},
   "outputs": [],
   "source": [
    "# only need to login once per month\n",
    "# after run, click on \"verification_uri_complete\" to finish verification\n",
    "cube_api$login()"
   ]
  },
  {
   "cell_type": "markdown",
   "metadata": {},
   "source": [
    "### 1. Get Metadata Definition"
   ]
  },
  {
   "cell_type": "code",
   "execution_count": null,
   "metadata": {},
   "outputs": [],
   "source": [
    "# retrieve metadata element\n",
    "response = cube_api$get_element()"
   ]
  },
  {
   "cell_type": "code",
   "execution_count": null,
   "metadata": {},
   "outputs": [],
   "source": [
    "str(response)"
   ]
  },
  {
   "cell_type": "code",
   "execution_count": null,
   "metadata": {},
   "outputs": [],
   "source": [
    "# get the content of the response\n",
    "content = content(response)"
   ]
  },
  {
   "cell_type": "code",
   "execution_count": null,
   "metadata": {},
   "outputs": [],
   "source": [
    "str(content)"
   ]
  },
  {
   "cell_type": "code",
   "execution_count": null,
   "metadata": {},
   "outputs": [],
   "source": [
    "# to data frame\n",
    "data.frame(do.call(rbind, content$results))[c(\"id\", \"element_label\", \"element_collection_label\", \"element_abbreviation\")]"
   ]
  },
  {
   "cell_type": "markdown",
   "metadata": {},
   "source": [
    "### 2. Get Bucket data from metadata collection"
   ]
  },
  {
   "cell_type": "code",
   "execution_count": 25,
   "metadata": {},
   "outputs": [
    {
     "name": "stdout",
     "output_type": "stream",
     "text": [
      "INFO [2021-01-06 13:49:42] GET: http://10.105.16.22/metadata-service/metadata_repository/collection/\n",
      "INFO [2021-01-06 13:49:43] status_code: 200\n",
      "INFO [2021-01-06 13:49:43] number of accession_ids: 24\n",
      "INFO [2021-01-06 13:49:43] GET: http://10.105.16.22/metadata-service/metadata_repository/element_instance/\n",
      "INFO [2021-01-06 13:49:44] status_code: 200\n",
      "INFO [2021-01-06 13:49:44] number of row returned: 24\n"
     ]
    }
   ],
   "source": [
    "storage_info = cube_api$get_metadata_collection_storage_info()"
   ]
  },
  {
   "cell_type": "code",
   "execution_count": 26,
   "metadata": {},
   "outputs": [
    {
     "data": {
      "text/html": [
       "<table>\n",
       "<caption>A data.frame: 24 × 4</caption>\n",
       "<thead>\n",
       "\t<tr><th></th><th scope=col>accession_id</th><th scope=col>uri</th><th scope=col>bucket_name</th><th scope=col>file_name</th></tr>\n",
       "\t<tr><th></th><th scope=col>&lt;chr&gt;</th><th scope=col>&lt;chr&gt;</th><th scope=col>&lt;chr&gt;</th><th scope=col>&lt;chr&gt;</th></tr>\n",
       "</thead>\n",
       "<tbody>\n",
       "\t<tr><th scope=row>1</th><td>JAXDS0000O</td><td>gs://jax-cube-prd-ctrl-01-project-data/20200607_20-cube-001-run5                                              </td><td>gs://jax-cube-prd-ctrl-01-project-data          </td><td>20200607_20-cube-001-run5             </td></tr>\n",
       "\t<tr><th scope=row>2</th><td>JAXDS0000N</td><td>gs://jax-cube-prd-ctrl-01-project-data/20200515-20-cube-001-run4                                              </td><td>gs://jax-cube-prd-ctrl-01-project-data          </td><td>20200515-20-cube-001-run4             </td></tr>\n",
       "\t<tr><th scope=row>3</th><td>JAXDS0000M</td><td>gs://jax-cube-prd-ctrl-01-project-data/20200316_20-cube-001-run2                                              </td><td>gs://jax-cube-prd-ctrl-01-project-data          </td><td>20200316_20-cube-001-run2             </td></tr>\n",
       "\t<tr><th scope=row>4</th><td>JAXDS0000L</td><td>gs://jax-cube-prd-ctrl-01-project-data/20200207_19-churchill-002-run3                                         </td><td>gs://jax-cube-prd-ctrl-01-project-data          </td><td>20200207_19-churchill-002-run3        </td></tr>\n",
       "\t<tr><th scope=row>5</th><td>JAXDS0000K</td><td>gs://jax-cube-prd-ctrl-01-project-data/20200203_19-churchill-002-run2                                         </td><td>gs://jax-cube-prd-ctrl-01-project-data          </td><td>20200203_19-churchill-002-run2        </td></tr>\n",
       "\t<tr><th scope=row>6</th><td>JAXDS0000J</td><td>gs://jax-cube-prd-ctrl-01-project-data/20191231_19-churchill-002                                              </td><td>gs://jax-cube-prd-ctrl-01-project-data          </td><td>20191231_19-churchill-002             </td></tr>\n",
       "\t<tr><th scope=row>7</th><td>JAXDS0000I</td><td>gs://jax-cube-prd-ctrl-01-project-data/20200128_19-churchill-004-run3                                         </td><td>gs://jax-cube-prd-ctrl-01-project-data          </td><td>20200128_19-churchill-004-run3        </td></tr>\n",
       "\t<tr><th scope=row>8</th><td>JAXDS0000H</td><td>gs://jax-cube-prd-ctrl-01-project-data/20200102_19-churchill-004-run2                                         </td><td>gs://jax-cube-prd-ctrl-01-project-data          </td><td>20200102_19-churchill-004-run2        </td></tr>\n",
       "\t<tr><th scope=row>9</th><td>JAXDS0000G</td><td>gs://jax-cube-prd-ctrl-01-project-data/20191223_19-churchill-004                                              </td><td>gs://jax-cube-prd-ctrl-01-project-data          </td><td>20191223_19-churchill-004             </td></tr>\n",
       "\t<tr><th scope=row>10</th><td>JAXDS0000F</td><td>gs://jax-cube-prd-ctrl-01-project-data/20200604_20-cube-002-run5                                              </td><td>gs://jax-cube-prd-ctrl-01-project-data          </td><td>20200604_20-cube-002-run5             </td></tr>\n",
       "\t<tr><th scope=row>11</th><td>JAXDS0000E</td><td>gs://jax-cube-prd-ctrl-01-project-data/20200504_20-cube-002-run4                                              </td><td>gs://jax-cube-prd-ctrl-01-project-data          </td><td>20200504_20-cube-002-run4             </td></tr>\n",
       "\t<tr><th scope=row>12</th><td>JAXDS0000D</td><td>gs://jax-cube-prd-ctrl-01-project-data/20200428_20-cube-002-run3                                              </td><td>gs://jax-cube-prd-ctrl-01-project-data          </td><td>20200428_20-cube-002-run3             </td></tr>\n",
       "\t<tr><th scope=row>13</th><td>JAXDS0000C</td><td>gs://jax-cube-prd-ctrl-01-project-data/20200316_20-cube-002-run2                                              </td><td>gs://jax-cube-prd-ctrl-01-project-data          </td><td>20200316_20-cube-002-run2             </td></tr>\n",
       "\t<tr><th scope=row>14</th><td>JAXDS0000B</td><td>gs://jax-cube-prd-ctrl-01-project-data/20200315_20-cube-002                                                   </td><td>gs://jax-cube-prd-ctrl-01-project-data          </td><td>20200315_20-cube-002                  </td></tr>\n",
       "\t<tr><th scope=row>15</th><td>JAXDS0000A</td><td>gs://jax-cube-prd-ctrl-01-project-data/study_3-1/Three_Bears_CBA_NMR_200723.txt                               </td><td>gs://jax-cube-prd-ctrl-01-project-data/study_3-1</td><td>Three_Bears_CBA_NMR_200723.txt        </td></tr>\n",
       "\t<tr><th scope=row>16</th><td>JAXDS00009</td><td>gs://jax-cube-prd-ctrl-01-project-data/study_3-1/Three_Bears_CBA_GTT_200723.txt                               </td><td>gs://jax-cube-prd-ctrl-01-project-data/study_3-1</td><td>Three_Bears_CBA_GTT_200723.txt        </td></tr>\n",
       "\t<tr><th scope=row>17</th><td>JAXDS00008</td><td>gs://jax-cube-prd-ctrl-01-project-data/study_3-1/Three_bears_CBA_BODY_WEIGHT_200723.txt                       </td><td>gs://jax-cube-prd-ctrl-01-project-data/study_3-1</td><td>Three_bears_CBA_BODY_WEIGHT_200723.txt</td></tr>\n",
       "\t<tr><th scope=row>18</th><td>JAXDS00007</td><td>gs://jax-cube-prd-ctrl-01-project-data/study_3-1/Three_Bears_Food_Intake_9.3.2020.txt                         </td><td>gs://jax-cube-prd-ctrl-01-project-data/study_3-1</td><td>Three_Bears_Food_Intake_9.3.2020.txt  </td></tr>\n",
       "\t<tr><th scope=row>19</th><td>JAXDS00006</td><td>gs://jax-cube-prd-ctrl-01-project-data/study_3-1/Three_Bears_Water_Intake_9.15.2020.txt                       </td><td>gs://jax-cube-prd-ctrl-01-project-data/study_3-1</td><td>Three_Bears_Water_Intake_9.15.2020.txt</td></tr>\n",
       "\t<tr><th scope=row>20</th><td>JAXDS00005</td><td>gs://jax-cube-prd-ctrl-01-project-data/study_3-1/Three_Bears_Body_Weight_9.3.2020.txt                         </td><td>gs://jax-cube-prd-ctrl-01-project-data/study_3-1</td><td>Three_Bears_Body_Weight_9.3.2020.txt  </td></tr>\n",
       "\t<tr><th scope=row>21</th><td>JAXDS00004</td><td>https://storage.cloud.google.com/jax-cube-prd-ctrl-01-project-data/study_4-1/4.1_NMR_to_201016.txt?authuser=1 </td><td>gs://jax-cube-prd-ctrl-01-project-data/study_4-1</td><td>4.1_NMR_to_201016.txt                 </td></tr>\n",
       "\t<tr><th scope=row>22</th><td>JAXDS00003</td><td>https://storage.cloud.google.com/jax-cube-prd-ctrl-01-project-data/study_4-1/4.1_GTT_to_201016.txt?authuser=1 </td><td>gs://jax-cube-prd-ctrl-01-project-data/study_4-1</td><td>4.1_GTT_to_201016.txt                 </td></tr>\n",
       "\t<tr><th scope=row>23</th><td>JAXDS00002</td><td>https://storage.cloud.google.com/jax-cube-prd-ctrl-01-project-data/study_4-1/4.1_DEXA_to_201016.txt?authuser=1</td><td>gs://jax-cube-prd-ctrl-01-project-data/study_4-1</td><td>4.1_DEXA_to_201016.txt                </td></tr>\n",
       "\t<tr><th scope=row>24</th><td>JAXDS00001</td><td>https://storage.cloud.google.com/jax-cube-prd-ctrl-01-project-data/study_4-1/4.1_BODY_WEIGHT_to_201016.txt    </td><td>gs://jax-cube-prd-ctrl-01-project-data/study_4-1</td><td>4.1_BODY_WEIGHT_to_201016.txt         </td></tr>\n",
       "</tbody>\n",
       "</table>\n"
      ],
      "text/latex": [
       "A data.frame: 24 × 4\n",
       "\\begin{tabular}{r|llll}\n",
       "  & accession\\_id & uri & bucket\\_name & file\\_name\\\\\n",
       "  & <chr> & <chr> & <chr> & <chr>\\\\\n",
       "\\hline\n",
       "\t1 & JAXDS0000O & gs://jax-cube-prd-ctrl-01-project-data/20200607\\_20-cube-001-run5                                               & gs://jax-cube-prd-ctrl-01-project-data           & 20200607\\_20-cube-001-run5             \\\\\n",
       "\t2 & JAXDS0000N & gs://jax-cube-prd-ctrl-01-project-data/20200515-20-cube-001-run4                                               & gs://jax-cube-prd-ctrl-01-project-data           & 20200515-20-cube-001-run4             \\\\\n",
       "\t3 & JAXDS0000M & gs://jax-cube-prd-ctrl-01-project-data/20200316\\_20-cube-001-run2                                               & gs://jax-cube-prd-ctrl-01-project-data           & 20200316\\_20-cube-001-run2             \\\\\n",
       "\t4 & JAXDS0000L & gs://jax-cube-prd-ctrl-01-project-data/20200207\\_19-churchill-002-run3                                          & gs://jax-cube-prd-ctrl-01-project-data           & 20200207\\_19-churchill-002-run3        \\\\\n",
       "\t5 & JAXDS0000K & gs://jax-cube-prd-ctrl-01-project-data/20200203\\_19-churchill-002-run2                                          & gs://jax-cube-prd-ctrl-01-project-data           & 20200203\\_19-churchill-002-run2        \\\\\n",
       "\t6 & JAXDS0000J & gs://jax-cube-prd-ctrl-01-project-data/20191231\\_19-churchill-002                                               & gs://jax-cube-prd-ctrl-01-project-data           & 20191231\\_19-churchill-002             \\\\\n",
       "\t7 & JAXDS0000I & gs://jax-cube-prd-ctrl-01-project-data/20200128\\_19-churchill-004-run3                                          & gs://jax-cube-prd-ctrl-01-project-data           & 20200128\\_19-churchill-004-run3        \\\\\n",
       "\t8 & JAXDS0000H & gs://jax-cube-prd-ctrl-01-project-data/20200102\\_19-churchill-004-run2                                          & gs://jax-cube-prd-ctrl-01-project-data           & 20200102\\_19-churchill-004-run2        \\\\\n",
       "\t9 & JAXDS0000G & gs://jax-cube-prd-ctrl-01-project-data/20191223\\_19-churchill-004                                               & gs://jax-cube-prd-ctrl-01-project-data           & 20191223\\_19-churchill-004             \\\\\n",
       "\t10 & JAXDS0000F & gs://jax-cube-prd-ctrl-01-project-data/20200604\\_20-cube-002-run5                                               & gs://jax-cube-prd-ctrl-01-project-data           & 20200604\\_20-cube-002-run5             \\\\\n",
       "\t11 & JAXDS0000E & gs://jax-cube-prd-ctrl-01-project-data/20200504\\_20-cube-002-run4                                               & gs://jax-cube-prd-ctrl-01-project-data           & 20200504\\_20-cube-002-run4             \\\\\n",
       "\t12 & JAXDS0000D & gs://jax-cube-prd-ctrl-01-project-data/20200428\\_20-cube-002-run3                                               & gs://jax-cube-prd-ctrl-01-project-data           & 20200428\\_20-cube-002-run3             \\\\\n",
       "\t13 & JAXDS0000C & gs://jax-cube-prd-ctrl-01-project-data/20200316\\_20-cube-002-run2                                               & gs://jax-cube-prd-ctrl-01-project-data           & 20200316\\_20-cube-002-run2             \\\\\n",
       "\t14 & JAXDS0000B & gs://jax-cube-prd-ctrl-01-project-data/20200315\\_20-cube-002                                                    & gs://jax-cube-prd-ctrl-01-project-data           & 20200315\\_20-cube-002                  \\\\\n",
       "\t15 & JAXDS0000A & gs://jax-cube-prd-ctrl-01-project-data/study\\_3-1/Three\\_Bears\\_CBA\\_NMR\\_200723.txt                                & gs://jax-cube-prd-ctrl-01-project-data/study\\_3-1 & Three\\_Bears\\_CBA\\_NMR\\_200723.txt        \\\\\n",
       "\t16 & JAXDS00009 & gs://jax-cube-prd-ctrl-01-project-data/study\\_3-1/Three\\_Bears\\_CBA\\_GTT\\_200723.txt                                & gs://jax-cube-prd-ctrl-01-project-data/study\\_3-1 & Three\\_Bears\\_CBA\\_GTT\\_200723.txt        \\\\\n",
       "\t17 & JAXDS00008 & gs://jax-cube-prd-ctrl-01-project-data/study\\_3-1/Three\\_bears\\_CBA\\_BODY\\_WEIGHT\\_200723.txt                        & gs://jax-cube-prd-ctrl-01-project-data/study\\_3-1 & Three\\_bears\\_CBA\\_BODY\\_WEIGHT\\_200723.txt\\\\\n",
       "\t18 & JAXDS00007 & gs://jax-cube-prd-ctrl-01-project-data/study\\_3-1/Three\\_Bears\\_Food\\_Intake\\_9.3.2020.txt                          & gs://jax-cube-prd-ctrl-01-project-data/study\\_3-1 & Three\\_Bears\\_Food\\_Intake\\_9.3.2020.txt  \\\\\n",
       "\t19 & JAXDS00006 & gs://jax-cube-prd-ctrl-01-project-data/study\\_3-1/Three\\_Bears\\_Water\\_Intake\\_9.15.2020.txt                        & gs://jax-cube-prd-ctrl-01-project-data/study\\_3-1 & Three\\_Bears\\_Water\\_Intake\\_9.15.2020.txt\\\\\n",
       "\t20 & JAXDS00005 & gs://jax-cube-prd-ctrl-01-project-data/study\\_3-1/Three\\_Bears\\_Body\\_Weight\\_9.3.2020.txt                          & gs://jax-cube-prd-ctrl-01-project-data/study\\_3-1 & Three\\_Bears\\_Body\\_Weight\\_9.3.2020.txt  \\\\\n",
       "\t21 & JAXDS00004 & https://storage.cloud.google.com/jax-cube-prd-ctrl-01-project-data/study\\_4-1/4.1\\_NMR\\_to\\_201016.txt?authuser=1  & gs://jax-cube-prd-ctrl-01-project-data/study\\_4-1 & 4.1\\_NMR\\_to\\_201016.txt                 \\\\\n",
       "\t22 & JAXDS00003 & https://storage.cloud.google.com/jax-cube-prd-ctrl-01-project-data/study\\_4-1/4.1\\_GTT\\_to\\_201016.txt?authuser=1  & gs://jax-cube-prd-ctrl-01-project-data/study\\_4-1 & 4.1\\_GTT\\_to\\_201016.txt                 \\\\\n",
       "\t23 & JAXDS00002 & https://storage.cloud.google.com/jax-cube-prd-ctrl-01-project-data/study\\_4-1/4.1\\_DEXA\\_to\\_201016.txt?authuser=1 & gs://jax-cube-prd-ctrl-01-project-data/study\\_4-1 & 4.1\\_DEXA\\_to\\_201016.txt                \\\\\n",
       "\t24 & JAXDS00001 & https://storage.cloud.google.com/jax-cube-prd-ctrl-01-project-data/study\\_4-1/4.1\\_BODY\\_WEIGHT\\_to\\_201016.txt     & gs://jax-cube-prd-ctrl-01-project-data/study\\_4-1 & 4.1\\_BODY\\_WEIGHT\\_to\\_201016.txt         \\\\\n",
       "\\end{tabular}\n"
      ],
      "text/markdown": [
       "\n",
       "A data.frame: 24 × 4\n",
       "\n",
       "| <!--/--> | accession_id &lt;chr&gt; | uri &lt;chr&gt; | bucket_name &lt;chr&gt; | file_name &lt;chr&gt; |\n",
       "|---|---|---|---|---|\n",
       "| 1 | JAXDS0000O | gs://jax-cube-prd-ctrl-01-project-data/20200607_20-cube-001-run5                                               | gs://jax-cube-prd-ctrl-01-project-data           | 20200607_20-cube-001-run5              |\n",
       "| 2 | JAXDS0000N | gs://jax-cube-prd-ctrl-01-project-data/20200515-20-cube-001-run4                                               | gs://jax-cube-prd-ctrl-01-project-data           | 20200515-20-cube-001-run4              |\n",
       "| 3 | JAXDS0000M | gs://jax-cube-prd-ctrl-01-project-data/20200316_20-cube-001-run2                                               | gs://jax-cube-prd-ctrl-01-project-data           | 20200316_20-cube-001-run2              |\n",
       "| 4 | JAXDS0000L | gs://jax-cube-prd-ctrl-01-project-data/20200207_19-churchill-002-run3                                          | gs://jax-cube-prd-ctrl-01-project-data           | 20200207_19-churchill-002-run3         |\n",
       "| 5 | JAXDS0000K | gs://jax-cube-prd-ctrl-01-project-data/20200203_19-churchill-002-run2                                          | gs://jax-cube-prd-ctrl-01-project-data           | 20200203_19-churchill-002-run2         |\n",
       "| 6 | JAXDS0000J | gs://jax-cube-prd-ctrl-01-project-data/20191231_19-churchill-002                                               | gs://jax-cube-prd-ctrl-01-project-data           | 20191231_19-churchill-002              |\n",
       "| 7 | JAXDS0000I | gs://jax-cube-prd-ctrl-01-project-data/20200128_19-churchill-004-run3                                          | gs://jax-cube-prd-ctrl-01-project-data           | 20200128_19-churchill-004-run3         |\n",
       "| 8 | JAXDS0000H | gs://jax-cube-prd-ctrl-01-project-data/20200102_19-churchill-004-run2                                          | gs://jax-cube-prd-ctrl-01-project-data           | 20200102_19-churchill-004-run2         |\n",
       "| 9 | JAXDS0000G | gs://jax-cube-prd-ctrl-01-project-data/20191223_19-churchill-004                                               | gs://jax-cube-prd-ctrl-01-project-data           | 20191223_19-churchill-004              |\n",
       "| 10 | JAXDS0000F | gs://jax-cube-prd-ctrl-01-project-data/20200604_20-cube-002-run5                                               | gs://jax-cube-prd-ctrl-01-project-data           | 20200604_20-cube-002-run5              |\n",
       "| 11 | JAXDS0000E | gs://jax-cube-prd-ctrl-01-project-data/20200504_20-cube-002-run4                                               | gs://jax-cube-prd-ctrl-01-project-data           | 20200504_20-cube-002-run4              |\n",
       "| 12 | JAXDS0000D | gs://jax-cube-prd-ctrl-01-project-data/20200428_20-cube-002-run3                                               | gs://jax-cube-prd-ctrl-01-project-data           | 20200428_20-cube-002-run3              |\n",
       "| 13 | JAXDS0000C | gs://jax-cube-prd-ctrl-01-project-data/20200316_20-cube-002-run2                                               | gs://jax-cube-prd-ctrl-01-project-data           | 20200316_20-cube-002-run2              |\n",
       "| 14 | JAXDS0000B | gs://jax-cube-prd-ctrl-01-project-data/20200315_20-cube-002                                                    | gs://jax-cube-prd-ctrl-01-project-data           | 20200315_20-cube-002                   |\n",
       "| 15 | JAXDS0000A | gs://jax-cube-prd-ctrl-01-project-data/study_3-1/Three_Bears_CBA_NMR_200723.txt                                | gs://jax-cube-prd-ctrl-01-project-data/study_3-1 | Three_Bears_CBA_NMR_200723.txt         |\n",
       "| 16 | JAXDS00009 | gs://jax-cube-prd-ctrl-01-project-data/study_3-1/Three_Bears_CBA_GTT_200723.txt                                | gs://jax-cube-prd-ctrl-01-project-data/study_3-1 | Three_Bears_CBA_GTT_200723.txt         |\n",
       "| 17 | JAXDS00008 | gs://jax-cube-prd-ctrl-01-project-data/study_3-1/Three_bears_CBA_BODY_WEIGHT_200723.txt                        | gs://jax-cube-prd-ctrl-01-project-data/study_3-1 | Three_bears_CBA_BODY_WEIGHT_200723.txt |\n",
       "| 18 | JAXDS00007 | gs://jax-cube-prd-ctrl-01-project-data/study_3-1/Three_Bears_Food_Intake_9.3.2020.txt                          | gs://jax-cube-prd-ctrl-01-project-data/study_3-1 | Three_Bears_Food_Intake_9.3.2020.txt   |\n",
       "| 19 | JAXDS00006 | gs://jax-cube-prd-ctrl-01-project-data/study_3-1/Three_Bears_Water_Intake_9.15.2020.txt                        | gs://jax-cube-prd-ctrl-01-project-data/study_3-1 | Three_Bears_Water_Intake_9.15.2020.txt |\n",
       "| 20 | JAXDS00005 | gs://jax-cube-prd-ctrl-01-project-data/study_3-1/Three_Bears_Body_Weight_9.3.2020.txt                          | gs://jax-cube-prd-ctrl-01-project-data/study_3-1 | Three_Bears_Body_Weight_9.3.2020.txt   |\n",
       "| 21 | JAXDS00004 | https://storage.cloud.google.com/jax-cube-prd-ctrl-01-project-data/study_4-1/4.1_NMR_to_201016.txt?authuser=1  | gs://jax-cube-prd-ctrl-01-project-data/study_4-1 | 4.1_NMR_to_201016.txt                  |\n",
       "| 22 | JAXDS00003 | https://storage.cloud.google.com/jax-cube-prd-ctrl-01-project-data/study_4-1/4.1_GTT_to_201016.txt?authuser=1  | gs://jax-cube-prd-ctrl-01-project-data/study_4-1 | 4.1_GTT_to_201016.txt                  |\n",
       "| 23 | JAXDS00002 | https://storage.cloud.google.com/jax-cube-prd-ctrl-01-project-data/study_4-1/4.1_DEXA_to_201016.txt?authuser=1 | gs://jax-cube-prd-ctrl-01-project-data/study_4-1 | 4.1_DEXA_to_201016.txt                 |\n",
       "| 24 | JAXDS00001 | https://storage.cloud.google.com/jax-cube-prd-ctrl-01-project-data/study_4-1/4.1_BODY_WEIGHT_to_201016.txt     | gs://jax-cube-prd-ctrl-01-project-data/study_4-1 | 4.1_BODY_WEIGHT_to_201016.txt          |\n",
       "\n"
      ],
      "text/plain": [
       "   accession_id\n",
       "1  JAXDS0000O  \n",
       "2  JAXDS0000N  \n",
       "3  JAXDS0000M  \n",
       "4  JAXDS0000L  \n",
       "5  JAXDS0000K  \n",
       "6  JAXDS0000J  \n",
       "7  JAXDS0000I  \n",
       "8  JAXDS0000H  \n",
       "9  JAXDS0000G  \n",
       "10 JAXDS0000F  \n",
       "11 JAXDS0000E  \n",
       "12 JAXDS0000D  \n",
       "13 JAXDS0000C  \n",
       "14 JAXDS0000B  \n",
       "15 JAXDS0000A  \n",
       "16 JAXDS00009  \n",
       "17 JAXDS00008  \n",
       "18 JAXDS00007  \n",
       "19 JAXDS00006  \n",
       "20 JAXDS00005  \n",
       "21 JAXDS00004  \n",
       "22 JAXDS00003  \n",
       "23 JAXDS00002  \n",
       "24 JAXDS00001  \n",
       "   uri                                                                                                           \n",
       "1  gs://jax-cube-prd-ctrl-01-project-data/20200607_20-cube-001-run5                                              \n",
       "2  gs://jax-cube-prd-ctrl-01-project-data/20200515-20-cube-001-run4                                              \n",
       "3  gs://jax-cube-prd-ctrl-01-project-data/20200316_20-cube-001-run2                                              \n",
       "4  gs://jax-cube-prd-ctrl-01-project-data/20200207_19-churchill-002-run3                                         \n",
       "5  gs://jax-cube-prd-ctrl-01-project-data/20200203_19-churchill-002-run2                                         \n",
       "6  gs://jax-cube-prd-ctrl-01-project-data/20191231_19-churchill-002                                              \n",
       "7  gs://jax-cube-prd-ctrl-01-project-data/20200128_19-churchill-004-run3                                         \n",
       "8  gs://jax-cube-prd-ctrl-01-project-data/20200102_19-churchill-004-run2                                         \n",
       "9  gs://jax-cube-prd-ctrl-01-project-data/20191223_19-churchill-004                                              \n",
       "10 gs://jax-cube-prd-ctrl-01-project-data/20200604_20-cube-002-run5                                              \n",
       "11 gs://jax-cube-prd-ctrl-01-project-data/20200504_20-cube-002-run4                                              \n",
       "12 gs://jax-cube-prd-ctrl-01-project-data/20200428_20-cube-002-run3                                              \n",
       "13 gs://jax-cube-prd-ctrl-01-project-data/20200316_20-cube-002-run2                                              \n",
       "14 gs://jax-cube-prd-ctrl-01-project-data/20200315_20-cube-002                                                   \n",
       "15 gs://jax-cube-prd-ctrl-01-project-data/study_3-1/Three_Bears_CBA_NMR_200723.txt                               \n",
       "16 gs://jax-cube-prd-ctrl-01-project-data/study_3-1/Three_Bears_CBA_GTT_200723.txt                               \n",
       "17 gs://jax-cube-prd-ctrl-01-project-data/study_3-1/Three_bears_CBA_BODY_WEIGHT_200723.txt                       \n",
       "18 gs://jax-cube-prd-ctrl-01-project-data/study_3-1/Three_Bears_Food_Intake_9.3.2020.txt                         \n",
       "19 gs://jax-cube-prd-ctrl-01-project-data/study_3-1/Three_Bears_Water_Intake_9.15.2020.txt                       \n",
       "20 gs://jax-cube-prd-ctrl-01-project-data/study_3-1/Three_Bears_Body_Weight_9.3.2020.txt                         \n",
       "21 https://storage.cloud.google.com/jax-cube-prd-ctrl-01-project-data/study_4-1/4.1_NMR_to_201016.txt?authuser=1 \n",
       "22 https://storage.cloud.google.com/jax-cube-prd-ctrl-01-project-data/study_4-1/4.1_GTT_to_201016.txt?authuser=1 \n",
       "23 https://storage.cloud.google.com/jax-cube-prd-ctrl-01-project-data/study_4-1/4.1_DEXA_to_201016.txt?authuser=1\n",
       "24 https://storage.cloud.google.com/jax-cube-prd-ctrl-01-project-data/study_4-1/4.1_BODY_WEIGHT_to_201016.txt    \n",
       "   bucket_name                                     \n",
       "1  gs://jax-cube-prd-ctrl-01-project-data          \n",
       "2  gs://jax-cube-prd-ctrl-01-project-data          \n",
       "3  gs://jax-cube-prd-ctrl-01-project-data          \n",
       "4  gs://jax-cube-prd-ctrl-01-project-data          \n",
       "5  gs://jax-cube-prd-ctrl-01-project-data          \n",
       "6  gs://jax-cube-prd-ctrl-01-project-data          \n",
       "7  gs://jax-cube-prd-ctrl-01-project-data          \n",
       "8  gs://jax-cube-prd-ctrl-01-project-data          \n",
       "9  gs://jax-cube-prd-ctrl-01-project-data          \n",
       "10 gs://jax-cube-prd-ctrl-01-project-data          \n",
       "11 gs://jax-cube-prd-ctrl-01-project-data          \n",
       "12 gs://jax-cube-prd-ctrl-01-project-data          \n",
       "13 gs://jax-cube-prd-ctrl-01-project-data          \n",
       "14 gs://jax-cube-prd-ctrl-01-project-data          \n",
       "15 gs://jax-cube-prd-ctrl-01-project-data/study_3-1\n",
       "16 gs://jax-cube-prd-ctrl-01-project-data/study_3-1\n",
       "17 gs://jax-cube-prd-ctrl-01-project-data/study_3-1\n",
       "18 gs://jax-cube-prd-ctrl-01-project-data/study_3-1\n",
       "19 gs://jax-cube-prd-ctrl-01-project-data/study_3-1\n",
       "20 gs://jax-cube-prd-ctrl-01-project-data/study_3-1\n",
       "21 gs://jax-cube-prd-ctrl-01-project-data/study_4-1\n",
       "22 gs://jax-cube-prd-ctrl-01-project-data/study_4-1\n",
       "23 gs://jax-cube-prd-ctrl-01-project-data/study_4-1\n",
       "24 gs://jax-cube-prd-ctrl-01-project-data/study_4-1\n",
       "   file_name                             \n",
       "1  20200607_20-cube-001-run5             \n",
       "2  20200515-20-cube-001-run4             \n",
       "3  20200316_20-cube-001-run2             \n",
       "4  20200207_19-churchill-002-run3        \n",
       "5  20200203_19-churchill-002-run2        \n",
       "6  20191231_19-churchill-002             \n",
       "7  20200128_19-churchill-004-run3        \n",
       "8  20200102_19-churchill-004-run2        \n",
       "9  20191223_19-churchill-004             \n",
       "10 20200604_20-cube-002-run5             \n",
       "11 20200504_20-cube-002-run4             \n",
       "12 20200428_20-cube-002-run3             \n",
       "13 20200316_20-cube-002-run2             \n",
       "14 20200315_20-cube-002                  \n",
       "15 Three_Bears_CBA_NMR_200723.txt        \n",
       "16 Three_Bears_CBA_GTT_200723.txt        \n",
       "17 Three_bears_CBA_BODY_WEIGHT_200723.txt\n",
       "18 Three_Bears_Food_Intake_9.3.2020.txt  \n",
       "19 Three_Bears_Water_Intake_9.15.2020.txt\n",
       "20 Three_Bears_Body_Weight_9.3.2020.txt  \n",
       "21 4.1_NMR_to_201016.txt                 \n",
       "22 4.1_GTT_to_201016.txt                 \n",
       "23 4.1_DEXA_to_201016.txt                \n",
       "24 4.1_BODY_WEIGHT_to_201016.txt         "
      ]
     },
     "metadata": {},
     "output_type": "display_data"
    }
   ],
   "source": [
    "storage_info"
   ]
  },
  {
   "cell_type": "code",
   "execution_count": 30,
   "metadata": {},
   "outputs": [
    {
     "data": {
      "text/html": [
       "'gs://jax-cube-prd-ctrl-01-project-data'"
      ],
      "text/latex": [
       "'gs://jax-cube-prd-ctrl-01-project-data'"
      ],
      "text/markdown": [
       "'gs://jax-cube-prd-ctrl-01-project-data'"
      ],
      "text/plain": [
       "[1] \"gs://jax-cube-prd-ctrl-01-project-data\""
      ]
     },
     "metadata": {},
     "output_type": "display_data"
    }
   ],
   "source": [
    "storage_info[1, 3]"
   ]
  },
  {
   "cell_type": "code",
   "execution_count": 27,
   "metadata": {},
   "outputs": [
    {
     "name": "stderr",
     "output_type": "stream",
     "text": [
      "Warning message in file(file, \"rt\"):\n",
      "“cannot open file 'gs/jax-cube-prd-ctrl-01-project-data/20200607_20-cube-001-run5': No such file or directory”\n"
     ]
    },
    {
     "ename": "ERROR",
     "evalue": "Error in file(file, \"rt\"): cannot open the connection\n",
     "output_type": "error",
     "traceback": [
      "Error in file(file, \"rt\"): cannot open the connection\nTraceback:\n",
      "1. get_bucket_data(bucket_name = storage_info[1, 3], file_name = storage_info[1, \n .     4])",
      "2. read.table(file.path(data_dir, file_name), sep = \"\\t\", header = TRUE)",
      "3. file(file, \"rt\")"
     ]
    }
   ],
   "source": [
    "## get bucket data\n",
    "bucket_data = get_bucket_data(bucket_name = storage_info[1, 3], file_name = storage_info[1, 4] )\n",
    "bucket_data"
   ]
  },
  {
   "cell_type": "markdown",
   "metadata": {},
   "source": [
    "### 3. Get Metadata Definition with a Parameter"
   ]
  },
  {
   "cell_type": "code",
   "execution_count": null,
   "metadata": {},
   "outputs": [],
   "source": [
    "response = cube_api$get_element(element_id = 85)"
   ]
  },
  {
   "cell_type": "code",
   "execution_count": null,
   "metadata": {},
   "outputs": [],
   "source": [
    "str(content(response))"
   ]
  },
  {
   "cell_type": "markdown",
   "metadata": {},
   "source": [
    "### 4. Get Metadata with accession ids "
   ]
  },
  {
   "cell_type": "code",
   "execution_count": null,
   "metadata": {},
   "outputs": [],
   "source": [
    "response = cube_api$get_element_instance(element_id = 85, accession_ids = c(\"JAXAS00031\", \"JAXAS00032\", \"JAXAS00034\"))"
   ]
  },
  {
   "cell_type": "code",
   "execution_count": null,
   "metadata": {},
   "outputs": [],
   "source": [
    "str(content(response)$results)"
   ]
  },
  {
   "cell_type": "markdown",
   "metadata": {},
   "source": [
    "### 5. Get Metadata Collection"
   ]
  },
  {
   "cell_type": "code",
   "execution_count": null,
   "metadata": {},
   "outputs": [],
   "source": [
    "response = cube_api$get_metadata_collection()"
   ]
  },
  {
   "cell_type": "code",
   "execution_count": null,
   "metadata": {},
   "outputs": [],
   "source": [
    "json = response_json_to_data(response)"
   ]
  },
  {
   "cell_type": "code",
   "execution_count": null,
   "metadata": {},
   "outputs": [],
   "source": [
    "str(json$results)"
   ]
  },
  {
   "cell_type": "code",
   "execution_count": null,
   "metadata": {},
   "outputs": [],
   "source": [
    "accession_ids = json$results[,2][[1]]$accession_id\n",
    "accession_ids"
   ]
  },
  {
   "cell_type": "code",
   "execution_count": null,
   "metadata": {},
   "outputs": [],
   "source": [
    "response = cube_api$get_element_instance(accession_ids = c(accession_ids))"
   ]
  },
  {
   "cell_type": "code",
   "execution_count": null,
   "metadata": {},
   "outputs": [],
   "source": [
    "results = content(response)$results\n",
    "results[[1]][[1]]"
   ]
  },
  {
   "cell_type": "code",
   "execution_count": null,
   "metadata": {},
   "outputs": [],
   "source": [
    "data_url = results[[1]][[1]][[1]][[4]]\n",
    "url_parts = str_split(data_url, \"/\")\n",
    "bucket_name = paste0(\"gs://\", url_parts[[1]][4], \"/\", url_parts[[1]][5])\n",
    "file_name =  url_parts[[1]][6]\n",
    "\n",
    "# load the data from the GCP bucket\n",
    "data_dir = gs_data_dir( bucket_name )\n",
    "\n",
    "# read the file into a dataframe\n",
    "df <- read.table(file.path(data_dir, file_name), sep = '\\t',header = TRUE)\n",
    "df"
   ]
  },
  {
   "cell_type": "markdown",
   "metadata": {},
   "source": [
    "### 5. Call Any Get endpoint\n",
    "Call any get end point.  All the endpoints are listed here: https://metadata-service-sqa.azurewebsites.net/swagger/"
   ]
  },
  {
   "cell_type": "code",
   "execution_count": null,
   "metadata": {},
   "outputs": [],
   "source": [
    "# specify a end point\n",
    "response = cube_api$get_end_point(\"metadata_definition/property/?element_id=85\")"
   ]
  },
  {
   "cell_type": "code",
   "execution_count": null,
   "metadata": {},
   "outputs": [],
   "source": [
    "content(response)$count"
   ]
  },
  {
   "cell_type": "code",
   "execution_count": null,
   "metadata": {},
   "outputs": [],
   "source": [
    "# another end point\n",
    "response = cube_api$get_end_point(\"/metadata_repository/collection_item/1/\")"
   ]
  },
  {
   "cell_type": "code",
   "execution_count": null,
   "metadata": {},
   "outputs": [],
   "source": [
    "content(response)"
   ]
  },
  {
   "cell_type": "markdown",
   "metadata": {},
   "source": [
    "### 6. Post endpoint"
   ]
  },
  {
   "cell_type": "code",
   "execution_count": null,
   "metadata": {},
   "outputs": [],
   "source": [
    "response = cube_api$post_element_instance_filter(element_id = 122, page = 1, page_size = 2)"
   ]
  },
  {
   "cell_type": "code",
   "execution_count": null,
   "metadata": {},
   "outputs": [],
   "source": [
    "str(content(response))"
   ]
  },
  {
   "cell_type": "markdown",
   "metadata": {},
   "source": [
    "### 7. More Information"
   ]
  },
  {
   "cell_type": "code",
   "execution_count": null,
   "metadata": {},
   "outputs": [],
   "source": [
    "?CubeAPI"
   ]
  },
  {
   "cell_type": "code",
   "execution_count": null,
   "metadata": {},
   "outputs": [],
   "source": [
    "?Cube"
   ]
  },
  {
   "cell_type": "code",
   "execution_count": null,
   "metadata": {},
   "outputs": [],
   "source": []
  }
 ],
 "metadata": {
  "kernelspec": {
   "display_name": "R",
   "language": "R",
   "name": "ir"
  },
  "language_info": {
   "codemirror_mode": "r",
   "file_extension": ".r",
   "mimetype": "text/x-r-source",
   "name": "R",
   "pygments_lexer": "r",
   "version": "4.0.3"
  }
 },
 "nbformat": 4,
 "nbformat_minor": 4
}
