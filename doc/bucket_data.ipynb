{
 "cells": [
  {
   "cell_type": "markdown",
   "metadata": {},
   "source": [
    "# Cube Data\n",
    "\n",
    "Access the cube data in Google buckets"
   ]
  },
  {
   "cell_type": "code",
   "execution_count": null,
   "metadata": {},
   "outputs": [
    {
     "name": "stdout",
     "output_type": "stream",
     "text": [
      "Go to the following link in your browser:\n",
      "\n",
      "    https://accounts.google.com/o/oauth2/auth?response_type=code&client_id=32555940559.apps.googleusercontent.com&redirect_uri=urn%3Aietf%3Awg%3Aoauth%3A2.0%3Aoob&scope=openid+https%3A%2F%2Fwww.googleapis.com%2Fauth%2Fuserinfo.email+https%3A%2F%2Fwww.googleapis.com%2Fauth%2Fcloud-platform+https%3A%2F%2Fwww.googleapis.com%2Fauth%2Fappengine.admin+https%3A%2F%2Fwww.googleapis.com%2Fauth%2Fcompute+https%3A%2F%2Fwww.googleapis.com%2Fauth%2Faccounts.reauth&state=VLcG6jrKLJiF0G40IpWTfjJVAzQBGh&prompt=consent&access_type=offline&code_challenge=Huj51yBYsyhOEeesimHrWE1n5-FHjfHto74ADbK5UNM&code_challenge_method=S256\n",
      "\n",
      "Enter verification code: "
     ]
    }
   ],
   "source": [
    "# set acccess\n",
    "!gcloud auth login --no-launch-browser"
   ]
  },
  {
   "cell_type": "code",
   "execution_count": null,
   "metadata": {},
   "outputs": [],
   "source": [
    "gcloud config set project jax-cube-prd-ctrl-01"
   ]
  },
  {
   "cell_type": "markdown",
   "metadata": {},
   "source": [
    "## List out all the buckets in cube project "
   ]
  },
  {
   "cell_type": "code",
   "execution_count": null,
   "metadata": {},
   "outputs": [],
   "source": [
    "project_id = \"jax-cube-prd-ctrl-01\"\n",
    "!gsutil ls -p $project_id"
   ]
  },
  {
   "cell_type": "markdown",
   "metadata": {},
   "source": [
    "## List out files in a bucket"
   ]
  },
  {
   "cell_type": "code",
   "execution_count": 22,
   "metadata": {},
   "outputs": [
    {
     "name": "stdout",
     "output_type": "stream",
     "text": [
      "gs://jax-human-t2d-cube-ctl-project-data/test/\n",
      "gs://jax-human-t2d-cube-ctl-project-data/test/gt-503_GT19-38267_Cryo_ATAC_TCCTGAGC-TACTCCTT_S3_R1_001.fastq.gz\n",
      "gs://jax-human-t2d-cube-ctl-project-data/test/gt-QCreport.csv\n",
      "gs://jax-human-t2d-cube-ctl-project-data/test/gt-archived.json\n",
      "gs://jax-human-t2d-cube-ctl-project-data/test/gt-metadata.json\n"
     ]
    }
   ],
   "source": [
    "bucket_name = \"gs://jax-human-t2d-cube-ctl-project-data/test\"\n",
    "!gsutil ls $bucket_name"
   ]
  },
  {
   "cell_type": "markdown",
   "metadata": {},
   "source": [
    "## Copy a file from bucket to local"
   ]
  },
  {
   "cell_type": "code",
   "execution_count": 23,
   "metadata": {},
   "outputs": [
    {
     "name": "stdout",
     "output_type": "stream",
     "text": [
      "Copying gs://jax-human-t2d-cube-ctl-project-data/test/gt-QCreport.csv...\n",
      "/ [1 files][  4.4 KiB/  4.4 KiB]                                                \n",
      "Operation completed over 1 objects/4.4 KiB.                                      \n"
     ]
    }
   ],
   "source": [
    "file = \"gs://jax-human-t2d-cube-ctl-project-data/test/gt-QCreport.csv\"\n",
    "!gsutil cp $file ."
   ]
  },
  {
   "cell_type": "markdown",
   "metadata": {},
   "source": [
    "## Copy a file from local to bucket"
   ]
  },
  {
   "cell_type": "code",
   "execution_count": 24,
   "metadata": {},
   "outputs": [
    {
     "name": "stdout",
     "output_type": "stream",
     "text": [
      "Copying file://gt-QCreport_v1.csv [Content-Type=text/csv]...\n",
      "/ [1 files][  4.4 KiB/  4.4 KiB]                                                \n",
      "Operation completed over 1 objects/4.4 KiB.                                      \n"
     ]
    }
   ],
   "source": [
    "bucket_name = \"gs://jax-human-t2d-cube-ctl-project-data/test\"\n",
    "!gsutil cp gt-QCreport_v1.csv $bucket_name/gt-QCreport_v1.csv"
   ]
  },
  {
   "cell_type": "code",
   "execution_count": 25,
   "metadata": {},
   "outputs": [
    {
     "name": "stdout",
     "output_type": "stream",
     "text": [
      "gs://jax-human-t2d-cube-ctl-project-data/test/\n",
      "gs://jax-human-t2d-cube-ctl-project-data/test/gt-503_GT19-38267_Cryo_ATAC_TCCTGAGC-TACTCCTT_S3_R1_001.fastq.gz\n",
      "gs://jax-human-t2d-cube-ctl-project-data/test/gt-QCreport.csv\n",
      "gs://jax-human-t2d-cube-ctl-project-data/test/gt-QCreport_v1.csv\n",
      "gs://jax-human-t2d-cube-ctl-project-data/test/gt-archived.json\n",
      "gs://jax-human-t2d-cube-ctl-project-data/test/gt-metadata.json\n"
     ]
    }
   ],
   "source": [
    "## check the file copy\n",
    "!gsutil ls $bucket_name"
   ]
  },
  {
   "cell_type": "code",
   "execution_count": null,
   "metadata": {},
   "outputs": [],
   "source": []
  }
 ],
 "metadata": {
  "environment": {
   "name": "r-cpu.3-6.m54",
   "type": "gcloud",
   "uri": "gcr.io/deeplearning-platform-release/r-cpu.3-6:m54"
  },
  "kernelspec": {
   "display_name": "Python 3",
   "language": "python",
   "name": "python3"
  },
  "language_info": {
   "codemirror_mode": {
    "name": "ipython",
    "version": 3
   },
   "file_extension": ".py",
   "mimetype": "text/x-python",
   "name": "python",
   "nbconvert_exporter": "python",
   "pygments_lexer": "ipython3",
   "version": "3.8.6"
  }
 },
 "nbformat": 4,
 "nbformat_minor": 4
}
