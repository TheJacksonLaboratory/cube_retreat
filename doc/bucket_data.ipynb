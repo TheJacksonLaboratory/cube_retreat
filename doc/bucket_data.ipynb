{
 "cells": [
  {
   "cell_type": "markdown",
   "metadata": {},
   "source": [
    "# Bucket Data Access\n",
    "Examples to access the bucket data.\n",
    "\n",
    "### Set up access:\n",
    "Open the command line and run \n",
    "\"gcloud auth login --no-launch-browser\", then follow the instruction on the screen\n",
    "\n",
    "<hr>\n",
    "<br/>"
   ]
  },
  {
   "cell_type": "code",
   "execution_count": 6,
   "metadata": {},
   "outputs": [
    {
     "name": "stdout",
     "output_type": "stream",
     "text": [
      "Updated property [core/project].\n"
     ]
    }
   ],
   "source": [
    "!gcloud config set project jax-cube-prd-ctrl-01"
   ]
  },
  {
   "cell_type": "markdown",
   "metadata": {},
   "source": [
    "## List out all the buckets in cube project "
   ]
  },
  {
   "cell_type": "code",
   "execution_count": 7,
   "metadata": {},
   "outputs": [
    {
     "name": "stdout",
     "output_type": "stream",
     "text": [
      "gs://dataproc-staging-us-east1-121275253190-gx00mz7u/\n",
      "gs://dataproc-temp-us-east1-121275253190-ie6yztoa/\n",
      "gs://jax-cube-prd-ctrl-01-export-bucket/\n",
      "gs://jax-cube-prd-ctrl-01-project-data/\n",
      "gs://jax-cube-prd-ctrl-01-test/\n",
      "gs://jax-cube-prd-ctrl-01_cloudbuild/\n",
      "gs://org-jax-cube-test/\n",
      "gs://us.artifacts.jax-cube-prd-ctrl-01.appspot.com/\n"
     ]
    }
   ],
   "source": [
    "project_id = \"jax-cube-prd-ctrl-01\"\n",
    "!gsutil ls -p $project_id"
   ]
  },
  {
   "cell_type": "markdown",
   "metadata": {},
   "source": [
    "## List out files in a bucket"
   ]
  },
  {
   "cell_type": "code",
   "execution_count": 8,
   "metadata": {},
   "outputs": [
    {
     "name": "stdout",
     "output_type": "stream",
     "text": [
      "gs://jax-cube-prd-ctrl-01-project-data/testdata/processed_rna_seq/Adipose_Data_QC_LogParse.txt\n",
      "gs://jax-cube-prd-ctrl-01-project-data/testdata/processed_rna_seq/Liver_Data_QC_LogParse.txt\n"
     ]
    }
   ],
   "source": [
    "!gsutil ls gs://jax-cube-prd-ctrl-01-project-data/testdata/processed_rna_seq"
   ]
  },
  {
   "cell_type": "markdown",
   "metadata": {},
   "source": [
    "## Copy a file from bucket to local"
   ]
  },
  {
   "cell_type": "code",
   "execution_count": 9,
   "metadata": {},
   "outputs": [
    {
     "name": "stdout",
     "output_type": "stream",
     "text": [
      "Copying gs://jax-cube-prd-ctrl-01-project-data/testdata/processed_rna_seq/Adipose_Data_QC_LogParse.txt...\n",
      "Copying gs://jax-cube-prd-ctrl-01-project-data/testdata/processed_rna_seq/Liver_Data_QC_LogParse.txt...\n",
      "/ [2 files][ 90.5 KiB/ 90.5 KiB]                                                \n",
      "Operation completed over 2 objects/90.5 KiB.                                     \n"
     ]
    }
   ],
   "source": [
    "!gsutil cp -r gs://jax-cube-prd-ctrl-01-project-data/testdata/processed_rna_seq ."
   ]
  },
  {
   "cell_type": "markdown",
   "metadata": {},
   "source": [
    "## Copy a file from local to bucket"
   ]
  },
  {
   "cell_type": "code",
   "execution_count": 10,
   "metadata": {},
   "outputs": [
    {
     "name": "stdout",
     "output_type": "stream",
     "text": [
      "Copying file://processed_rna_seq/Liver_Data_QC_LogParse.txt [Content-Type=text/plain]...\n",
      "/ [1 files][ 46.9 KiB/ 46.9 KiB]                                                \n",
      "Operation completed over 1 objects/46.9 KiB.                                     \n"
     ]
    }
   ],
   "source": [
    "bucket_name = \"gs://jax-cube-prd-ctrl-01-project-data/testdata\"\n",
    "!gsutil cp  processed_rna_seq/Liver_Data_QC_LogParse.txt $bucket_name/Liver_Data_QC_LogParse_v2.txt"
   ]
  },
  {
   "cell_type": "code",
   "execution_count": 11,
   "metadata": {},
   "outputs": [
    {
     "name": "stdout",
     "output_type": "stream",
     "text": [
      "gs://jax-cube-prd-ctrl-01-project-data/testdata/Liver_Data_QC_LogParse_v2.txt\n",
      "gs://jax-cube-prd-ctrl-01-project-data/testdata/test.0\n",
      "gs://jax-cube-prd-ctrl-01-project-data/testdata/test.1\n",
      "gs://jax-cube-prd-ctrl-01-project-data/testdata/test.2\n",
      "gs://jax-cube-prd-ctrl-01-project-data/testdata/test.3\n",
      "gs://jax-cube-prd-ctrl-01-project-data/testdata/processed_rna_seq/\n"
     ]
    }
   ],
   "source": [
    "## check the file copy\n",
    "!gsutil ls gs://jax-cube-prd-ctrl-01-project-data/testdata"
   ]
  },
  {
   "cell_type": "code",
   "execution_count": null,
   "metadata": {},
   "outputs": [],
   "source": []
  }
 ],
 "metadata": {
  "environment": {
   "name": "r-cpu.3-6.m54",
   "type": "gcloud",
   "uri": "gcr.io/deeplearning-platform-release/r-cpu.3-6:m54"
  },
  "kernelspec": {
   "display_name": "Python 3",
   "language": "python",
   "name": "python3"
  },
  "language_info": {
   "codemirror_mode": {
    "name": "ipython",
    "version": 3
   },
   "file_extension": ".py",
   "mimetype": "text/x-python",
   "name": "python",
   "nbconvert_exporter": "python",
   "pygments_lexer": "ipython3",
   "version": "3.8.6"
  }
 },
 "nbformat": 4,
 "nbformat_minor": 4
}
