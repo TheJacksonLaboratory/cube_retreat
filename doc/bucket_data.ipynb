{
 "cells": [
  {
   "cell_type": "markdown",
   "metadata": {},
   "source": [
    "# Bucket Data Access\n",
    "Examples to access the bucket data.\n",
    "\n",
    "### One Time Set up:\n",
    "Open the command line and run \n",
    "\"gcloud auth login --no-launch-browser\", then follow the instruction on the screen\n",
    "\n",
    "<hr>\n",
    "<br/>"
   ]
  },
  {
   "cell_type": "code",
   "execution_count": 2,
   "metadata": {},
   "outputs": [
    {
     "ename": "SyntaxError",
     "evalue": "invalid character in identifier (<ipython-input-2-55a3392271e1>, line 1)",
     "output_type": "error",
     "traceback": [
      "\u001b[0;36m  File \u001b[0;32m\"<ipython-input-2-55a3392271e1>\"\u001b[0;36m, line \u001b[0;32m1\u001b[0m\n\u001b[0;31m    library(“data.table”)\u001b[0m\n\u001b[0m                ^\u001b[0m\n\u001b[0;31mSyntaxError\u001b[0m\u001b[0;31m:\u001b[0m invalid character in identifier\n"
     ]
    }
   ],
   "source": [
    "library(“data.table”)\n",
    "library(cloudml)\n",
    "library(readr)\n",
    "\n",
    "data_dir <- gs_data_dir(“gs://jax-cube-prd-ctrl-01-project-data/testdata”)\n",
    "\n",
    "MyData <- as.data.frame(read_csv(file.path(data_dir, “Liver_Data_QC_LogParse_v2.txt”)))\n",
    "\n",
    "print(MyData)"
   ]
  },
  {
   "cell_type": "code",
   "execution_count": null,
   "metadata": {},
   "outputs": [],
   "source": [
    "!gcloud config set project jax-cube-prd-ctrl-01"
   ]
  },
  {
   "cell_type": "markdown",
   "metadata": {},
   "source": [
    "## List out all the buckets in cube project "
   ]
  },
  {
   "cell_type": "code",
   "execution_count": null,
   "metadata": {},
   "outputs": [],
   "source": [
    "project_id = \"jax-cube-prd-ctrl-01\"\n",
    "!gsutil ls -p $project_id"
   ]
  },
  {
   "cell_type": "markdown",
   "metadata": {},
   "source": [
    "## List out files in a bucket"
   ]
  },
  {
   "cell_type": "code",
   "execution_count": null,
   "metadata": {},
   "outputs": [],
   "source": [
    "!gsutil ls gs://jax-cube-prd-ctrl-01-project-data/testdata/processed_rna_seq"
   ]
  },
  {
   "cell_type": "markdown",
   "metadata": {},
   "source": [
    "## Copy a file from bucket to local"
   ]
  },
  {
   "cell_type": "code",
   "execution_count": null,
   "metadata": {},
   "outputs": [],
   "source": [
    "!gsutil cp -r gs://jax-cube-prd-ctrl-01-project-data/testdata/processed_rna_seq ."
   ]
  },
  {
   "cell_type": "markdown",
   "metadata": {},
   "source": [
    "## Copy a file from local to bucket"
   ]
  },
  {
   "cell_type": "code",
   "execution_count": null,
   "metadata": {},
   "outputs": [],
   "source": [
    "bucket_name = \"gs://jax-cube-prd-ctrl-01-project-data/testdata\"\n",
    "!gsutil cp  processed_rna_seq/Liver_Data_QC_LogParse.txt $bucket_name/Liver_Data_QC_LogParse_v2.txt"
   ]
  },
  {
   "cell_type": "code",
   "execution_count": 3,
   "metadata": {},
   "outputs": [
    {
     "name": "stdout",
     "output_type": "stream",
     "text": [
      "gs://jax-cube-prd-ctrl-01-project-data/testdata/Liver_Data_QC_LogParse_v2.txt\n",
      "gs://jax-cube-prd-ctrl-01-project-data/testdata/test.0\n",
      "gs://jax-cube-prd-ctrl-01-project-data/testdata/test.1\n",
      "gs://jax-cube-prd-ctrl-01-project-data/testdata/test.2\n",
      "gs://jax-cube-prd-ctrl-01-project-data/testdata/test.3\n",
      "gs://jax-cube-prd-ctrl-01-project-data/testdata/processed_rna_seq/\n"
     ]
    }
   ],
   "source": [
    "## check the file copy\n",
    "!gsutil ls gs://jax-cube-prd-ctrl-01-project-data/testdata"
   ]
  },
  {
   "cell_type": "code",
   "execution_count": null,
   "metadata": {},
   "outputs": [],
   "source": []
  }
 ],
 "metadata": {
  "environment": {
   "name": "r-cpu.3-6.m54",
   "type": "gcloud",
   "uri": "gcr.io/deeplearning-platform-release/r-cpu.3-6:m54"
  },
  "kernelspec": {
   "display_name": "Python 3",
   "language": "python",
   "name": "python3"
  },
  "language_info": {
   "codemirror_mode": {
    "name": "ipython",
    "version": 3
   },
   "file_extension": ".py",
   "mimetype": "text/x-python",
   "name": "python",
   "nbconvert_exporter": "python",
   "pygments_lexer": "ipython3",
   "version": "3.8.6"
  }
 },
 "nbformat": 4,
 "nbformat_minor": 4
}
