{
 "cells": [
  {
   "cell_type": "markdown",
   "metadata": {},
   "source": [
    "##  Set up Python Virtual Environment\n",
    "\n",
    "Instruction to set up Python virtual environment"
   ]
  },
  {
   "cell_type": "code",
   "execution_count": null,
   "metadata": {},
   "outputs": [],
   "source": [
    "# open new terminal\n",
    "conda create -n venv37_snp_grid python=3.7\n",
    "\n",
    "# to remove\n",
    "# conda remove --name venv37_snp_grid --all\n",
    "\n",
    "conda activate venv37_snp_grid\n",
    "\n",
    "\n",
    "python -m venv env38_snp_grid\n",
    "\n",
    "source env38_snp_grid/bin/activate \n",
    "\n",
    "python -m pip install ipykernel\n",
    "\n",
    "ipython kernel install --user --name=env38_snp_grid\n",
    "\n",
    "# refresh the page, click on \"+\" sign for \"New Launcher\""
   ]
  }
 ],
 "metadata": {
  "kernelspec": {
   "display_name": "Python 3",
   "language": "python",
   "name": "python3"
  },
  "language_info": {
   "codemirror_mode": {
    "name": "ipython",
    "version": 3
   },
   "file_extension": ".py",
   "mimetype": "text/x-python",
   "name": "python",
   "nbconvert_exporter": "python",
   "pygments_lexer": "ipython3",
   "version": "3.8.6"
  }
 },
 "nbformat": 4,
 "nbformat_minor": 4
}
