{
 "cells": [
  {
   "cell_type": "markdown",
   "metadata": {},
   "source": [
    "# FAQ"
   ]
  },
  {
   "cell_type": "markdown",
   "metadata": {},
   "source": [
    "## How to list data in a bucket"
   ]
  },
  {
   "cell_type": "code",
   "execution_count": 1,
   "metadata": {},
   "outputs": [
    {
     "ename": "ERROR",
     "evalue": "Error in system(paste0(\"gsutil ls \"), intern = TRUE): error in running command\n",
     "output_type": "error",
     "traceback": [
      "Error in system(paste0(\"gsutil ls \"), intern = TRUE): error in running command\nTraceback:\n",
      "1. system(paste0(\"gsutil ls \"), intern = TRUE)"
     ]
    }
   ],
   "source": [
    "# list out all the data in a folder\n",
    "system(paste0(\"gsutil ls gs://jax-cube-prd-ctrl-01-project-data/20191223_19-cube-001/\"), intern=TRUE)"
   ]
  },
  {
   "cell_type": "markdown",
   "metadata": {},
   "source": [
    "## How to copy data from a bucket to my workspace"
   ]
  },
  {
   "cell_type": "code",
   "execution_count": 4,
   "metadata": {},
   "outputs": [
    {
     "data": {
      "text/html": [],
      "text/latex": [],
      "text/markdown": [],
      "text/plain": [
       "character(0)"
      ]
     },
     "metadata": {},
     "output_type": "display_data"
    }
   ],
   "source": [
    "# copy a folder from a bucket directory to local.  The local folder can be created use \"New Folder\" button at top\n",
    "setwd(\"~/mydata\")\n",
    "system(paste0(\"gsutil cp gs://jax-cube-prd-ctrl-01-project-data/processed-rna-seq/Hongping_R_Notebook_Demo/* .\"),intern=TRUE)"
   ]
  }
 ],
 "metadata": {
  "kernelspec": {
   "display_name": "R",
   "language": "R",
   "name": "ir"
  },
  "language_info": {
   "codemirror_mode": "r",
   "file_extension": ".r",
   "mimetype": "text/x-r-source",
   "name": "R",
   "pygments_lexer": "r",
   "version": "4.0.3"
  }
 },
 "nbformat": 4,
 "nbformat_minor": 4
}
