{
 "cells": [
  {
   "cell_type": "markdown",
   "metadata": {},
   "source": [
    "# Git Guide\n",
    "\n",
    "Guide to use git in notebook\n"
   ]
  },
  {
   "cell_type": "markdown",
   "metadata": {},
   "source": [
    "## Check out Sample Notebooks\n",
    "#### step 1: click on the \"Git Clone\" button on the top\n",
    "> <img src=\"images/get_started_git_button.png\" alt=\"Git Cone\" width=\"500\"/>\n",
    "\n",
    "#### step 2: enter git clone url\n",
    "\n",
    "```\n",
    "https://github.com/TheJacksonLaboratory/cube_retreat.git\n",
    "```\n",
    "\n",
    "> <img src=\"images/get_started_enter_git_url.png\" alt=\"Git URL\" width=\"500\"/>\n",
    "\n",
    "#### step 3: enter git login\n",
    "> <img src=\"images/get_started_enter_git_login.png\" alt=\"Git Login\" width=\"500\"/>\n",
    "\n",
    "#### step 4: successful cloned\n",
    "> <img src=\"images/get_started_cloned.png\" alt=\"Git Cloned\" width=\"500\"/>\n",
    "\n",
    "#### step 5: open cube_retreat folder\n",
    "> <img src=\"images/get_started_cube_retreat_folder.png\" alt=\"Cube reteat folder\" width=\"500\"/>\n",
    "\n",
    "#### step 6: enjoy the use cases!\n",
    "\n",
    "<hr/>\n",
    "<br/>"
   ]
  },
  {
   "cell_type": "code",
   "execution_count": null,
   "metadata": {},
   "outputs": [],
   "source": []
  }
 ],
 "metadata": {
  "kernelspec": {
   "display_name": "R 3.4",
   "language": "R",
   "name": "ir34"
  },
  "language_info": {
   "codemirror_mode": "r",
   "file_extension": ".r",
   "mimetype": "text/x-r-source",
   "name": "R",
   "pygments_lexer": "r",
   "version": "3.4.4"
  }
 },
 "nbformat": 4,
 "nbformat_minor": 4
}
