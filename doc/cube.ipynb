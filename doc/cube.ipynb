{
 "cells": [
  {
   "cell_type": "markdown",
   "metadata": {},
   "source": [
    "# Cube Packcage\n",
    "The custom cube package is preinstalled.  just load the library and start o use it \n",
    "<hr/>\n",
    "\n",
    "<br/>\n"
   ]
  },
  {
   "cell_type": "code",
   "execution_count": 18,
   "metadata": {},
   "outputs": [],
   "source": [
    "# load all library, it is already installed\n",
    "library(devtools)\n",
    "library(httr)\n",
    "library(jsonlite)\n",
    "library(stringr)\n",
    "library(rapportools)\n",
    "library(cube)\n",
    "library(logger)\n",
    "log_threshold(INFO)"
   ]
  },
  {
   "cell_type": "code",
   "execution_count": 19,
   "metadata": {},
   "outputs": [
    {
     "name": "stdout",
     "output_type": "stream",
     "text": [
      "INFO [2020-12-07 20:06:07] Version: 0.0.1\n",
      "INFO [2020-12-07 20:06:08] verification_uri_complete: https://thejacksonlaboratory.auth0.com/activate?user_code=MNVT-RSVK\n"
     ]
    },
    {
     "data": {
      "text/html": [
       "'https://thejacksonlaboratory.auth0.com/activate?user_code=MNVT-RSVK'"
      ],
      "text/latex": [
       "'https://thejacksonlaboratory.auth0.com/activate?user\\_code=MNVT-RSVK'"
      ],
      "text/markdown": [
       "'https://thejacksonlaboratory.auth0.com/activate?user_code=MNVT-RSVK'"
      ],
      "text/plain": [
       "[1] \"https://thejacksonlaboratory.auth0.com/activate?user_code=MNVT-RSVK\""
      ]
     },
     "metadata": {},
     "output_type": "display_data"
    }
   ],
   "source": [
    "# create a Cube object and login\n",
    "# after run, click on the url to finish verification\n",
    "cube_obj = Cube$new()\n",
    "cube_obj$login()    "
   ]
  },
  {
   "cell_type": "code",
   "execution_count": 20,
   "metadata": {},
   "outputs": [
    {
     "name": "stdout",
     "output_type": "stream",
     "text": [
      "INFO [2020-12-07 20:06:37] access_token length: 788\n",
      "INFO [2020-12-07 20:06:39] status_code: 200\n"
     ]
    }
   ],
   "source": [
    "# retrieve metadata element\n",
    "response = cube_obj$get_element()"
   ]
  },
  {
   "cell_type": "code",
   "execution_count": 21,
   "metadata": {},
   "outputs": [],
   "source": [
    "# get the content of the response\n",
    "content = content(response)"
   ]
  },
  {
   "cell_type": "code",
   "execution_count": 22,
   "metadata": {},
   "outputs": [
    {
     "data": {
      "text/html": [
       "9"
      ],
      "text/latex": [
       "9"
      ],
      "text/markdown": [
       "9"
      ],
      "text/plain": [
       "[1] 9"
      ]
     },
     "metadata": {},
     "output_type": "display_data"
    }
   ],
   "source": [
    "content$count"
   ]
  },
  {
   "cell_type": "code",
   "execution_count": null,
   "metadata": {},
   "outputs": [],
   "source": [
    "content$results"
   ]
  },
  {
   "cell_type": "code",
   "execution_count": null,
   "metadata": {},
   "outputs": [],
   "source": []
  },
  {
   "cell_type": "code",
   "execution_count": null,
   "metadata": {},
   "outputs": [],
   "source": [
    "# get metadata\n",
    "response = cube_obj$get_element(element_id = 122)"
   ]
  },
  {
   "cell_type": "code",
   "execution_count": null,
   "metadata": {},
   "outputs": [],
   "source": [
    "content = content(response)"
   ]
  },
  {
   "cell_type": "code",
   "execution_count": null,
   "metadata": {},
   "outputs": [],
   "source": [
    "content$count"
   ]
  },
  {
   "cell_type": "code",
   "execution_count": null,
   "metadata": {},
   "outputs": [],
   "source": [
    "content$results"
   ]
  },
  {
   "cell_type": "code",
   "execution_count": null,
   "metadata": {},
   "outputs": [],
   "source": []
  },
  {
   "cell_type": "code",
   "execution_count": null,
   "metadata": {},
   "outputs": [],
   "source": [
    "# get metadata in json\n",
    "response = cube_obj$get_metadata(element_id = 83,\n",
    "                                    accession_ids = c(\"JAXIM00063\", \"JAXIM00064\"))\n",
    "json = cube::response_json_to_data(response)"
   ]
  },
  {
   "cell_type": "code",
   "execution_count": null,
   "metadata": {},
   "outputs": [],
   "source": [
    "json$count"
   ]
  },
  {
   "cell_type": "code",
   "execution_count": null,
   "metadata": {},
   "outputs": [],
   "source": [
    "class(json$results)"
   ]
  },
  {
   "cell_type": "code",
   "execution_count": null,
   "metadata": {},
   "outputs": [],
   "source": [
    "colnames(json$results)"
   ]
  },
  {
   "cell_type": "code",
   "execution_count": null,
   "metadata": {},
   "outputs": [],
   "source": [
    "json$results[\"id\"]"
   ]
  },
  {
   "cell_type": "code",
   "execution_count": null,
   "metadata": {},
   "outputs": [],
   "source": []
  }
 ],
 "metadata": {
  "kernelspec": {
   "display_name": "R",
   "language": "R",
   "name": "ir"
  },
  "language_info": {
   "codemirror_mode": "r",
   "file_extension": ".r",
   "mimetype": "text/x-r-source",
   "name": "R",
   "pygments_lexer": "r",
   "version": "4.0.3"
  }
 },
 "nbformat": 4,
 "nbformat_minor": 4
}
