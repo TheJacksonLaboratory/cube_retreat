{
 "cells": [
  {
   "cell_type": "markdown",
   "metadata": {},
   "source": [
    "# Cube Packcage\n",
    "The custom cube package is preinstalled.  just load the library and start o use it \n",
    "<hr/>\n",
    "\n",
    "<br/>\n"
   ]
  },
  {
   "cell_type": "code",
   "execution_count": null,
   "metadata": {},
   "outputs": [],
   "source": [
    "# load all library, it is already installed\n",
    "library(devtools)\n",
    "library(httr)\n",
    "library(jsonlite)\n",
    "library(stringr)\n",
    "library(rapportools)\n",
    "library(cube)\n",
    "library(logger)\n",
    "log_threshold(INFO)"
   ]
  },
  {
   "cell_type": "code",
   "execution_count": null,
   "metadata": {},
   "outputs": [],
   "source": [
    "# create a Cube object and login\n",
    "# after run, click on the url to finish verification\n",
    "cube_obj = Cube$new()\n",
    "cube_obj$login()    "
   ]
  },
  {
   "cell_type": "code",
   "execution_count": 19,
   "metadata": {},
   "outputs": [
    {
     "name": "stdout",
     "output_type": "stream",
     "text": [
      "INFO [2020-12-08 19:41:54] GET: https://metadata-service-sqa.azurewebsites.net/metadata_definition/element\n",
      "INFO [2020-12-08 19:41:55] status_code: 200\n"
     ]
    }
   ],
   "source": [
    "# retrieve metadata element\n",
    "response = cube_obj$get_element()"
   ]
  },
  {
   "cell_type": "code",
   "execution_count": null,
   "metadata": {},
   "outputs": [],
   "source": [
    "str(response)"
   ]
  },
  {
   "cell_type": "code",
   "execution_count": 21,
   "metadata": {},
   "outputs": [],
   "source": [
    "# get the content of the response\n",
    "content = content(response)"
   ]
  },
  {
   "cell_type": "code",
   "execution_count": null,
   "metadata": {},
   "outputs": [],
   "source": [
    "str(content)"
   ]
  },
  {
   "cell_type": "code",
   "execution_count": null,
   "metadata": {},
   "outputs": [],
   "source": []
  },
  {
   "cell_type": "code",
   "execution_count": 23,
   "metadata": {},
   "outputs": [
    {
     "name": "stdout",
     "output_type": "stream",
     "text": [
      "INFO [2020-12-08 19:43:07] GET: https://metadata-service-sqa.azurewebsites.net/metadata_definition/element/85\n",
      "INFO [2020-12-08 19:43:08] status_code: 200\n"
     ]
    }
   ],
   "source": [
    "# get metadata\n",
    "response = cube_obj$get_element(element_id = 85)"
   ]
  },
  {
   "cell_type": "code",
   "execution_count": 24,
   "metadata": {},
   "outputs": [
    {
     "data": {
      "text/html": [
       "<dl>\n",
       "\t<dt>$id</dt>\n",
       "\t\t<dd>85</dd>\n",
       "\t<dt>$element_label</dt>\n",
       "\t\t<dd>'Assay Type'</dd>\n",
       "\t<dt>$element_description</dt>\n",
       "\t\t<dd>NULL</dd>\n",
       "\t<dt>$element_collection_label</dt>\n",
       "\t\t<dd>'Assay Types'</dd>\n",
       "\t<dt>$element_abbreviation</dt>\n",
       "\t\t<dd>'AS'</dd>\n",
       "\t<dt>$icon_name</dt>\n",
       "\t\t<dd>'scatter_plot'</dd>\n",
       "\t<dt>$is_primary</dt>\n",
       "\t\t<dd>TRUE</dd>\n",
       "</dl>\n"
      ],
      "text/latex": [
       "\\begin{description}\n",
       "\\item[\\$id] 85\n",
       "\\item[\\$element\\_label] 'Assay Type'\n",
       "\\item[\\$element\\_description] NULL\n",
       "\\item[\\$element\\_collection\\_label] 'Assay Types'\n",
       "\\item[\\$element\\_abbreviation] 'AS'\n",
       "\\item[\\$icon\\_name] 'scatter\\_plot'\n",
       "\\item[\\$is\\_primary] TRUE\n",
       "\\end{description}\n"
      ],
      "text/markdown": [
       "$id\n",
       ":   85\n",
       "$element_label\n",
       ":   'Assay Type'\n",
       "$element_description\n",
       ":   NULL\n",
       "$element_collection_label\n",
       ":   'Assay Types'\n",
       "$element_abbreviation\n",
       ":   'AS'\n",
       "$icon_name\n",
       ":   'scatter_plot'\n",
       "$is_primary\n",
       ":   TRUE\n",
       "\n",
       "\n"
      ],
      "text/plain": [
       "$id\n",
       "[1] 85\n",
       "\n",
       "$element_label\n",
       "[1] \"Assay Type\"\n",
       "\n",
       "$element_description\n",
       "NULL\n",
       "\n",
       "$element_collection_label\n",
       "[1] \"Assay Types\"\n",
       "\n",
       "$element_abbreviation\n",
       "[1] \"AS\"\n",
       "\n",
       "$icon_name\n",
       "[1] \"scatter_plot\"\n",
       "\n",
       "$is_primary\n",
       "[1] TRUE\n"
      ]
     },
     "metadata": {},
     "output_type": "display_data"
    }
   ],
   "source": [
    "content(response)"
   ]
  },
  {
   "cell_type": "code",
   "execution_count": null,
   "metadata": {},
   "outputs": [],
   "source": []
  },
  {
   "cell_type": "code",
   "execution_count": 25,
   "metadata": {},
   "outputs": [
    {
     "name": "stdout",
     "output_type": "stream",
     "text": [
      "INFO [2020-12-08 19:43:59] GET: https://metadata-service-sqa.azurewebsites.net/metadata_repository/element_instance\n",
      "INFO [2020-12-08 19:44:03] status_code: 200\n"
     ]
    },
    {
     "name": "stderr",
     "output_type": "stream",
     "text": [
      "No encoding supplied: defaulting to UTF-8.\n",
      "\n"
     ]
    }
   ],
   "source": [
    "# get metadata in json\n",
    "response = cube_obj$get_metadata(element_id = 85)\n",
    "json = response_json_to_data(response)"
   ]
  },
  {
   "cell_type": "code",
   "execution_count": null,
   "metadata": {},
   "outputs": [],
   "source": [
    "str(json$results)"
   ]
  },
  {
   "cell_type": "code",
   "execution_count": null,
   "metadata": {},
   "outputs": [],
   "source": []
  },
  {
   "cell_type": "code",
   "execution_count": null,
   "metadata": {},
   "outputs": [],
   "source": [
    "# get metadata in json\n",
    "response = cube_obj$get_metadata(element_id = 85, accession_ids = c(\"JAXIM00063\", \"JAXIM00064\"))\n",
    "json = response_json_to_data(response)"
   ]
  },
  {
   "cell_type": "code",
   "execution_count": null,
   "metadata": {},
   "outputs": [],
   "source": []
  },
  {
   "cell_type": "code",
   "execution_count": null,
   "metadata": {},
   "outputs": [],
   "source": [
    "response = cube_obj$get_metadata_collection(\"Abigail%20Ames\")"
   ]
  },
  {
   "cell_type": "code",
   "execution_count": null,
   "metadata": {},
   "outputs": [],
   "source": [
    "json = response_json_to_data(response)"
   ]
  },
  {
   "cell_type": "code",
   "execution_count": null,
   "metadata": {},
   "outputs": [],
   "source": [
    "json$count"
   ]
  },
  {
   "cell_type": "code",
   "execution_count": null,
   "metadata": {},
   "outputs": [],
   "source": [
    "names(json$results)"
   ]
  },
  {
   "cell_type": "code",
   "execution_count": null,
   "metadata": {},
   "outputs": [],
   "source": [
    "c = content(response)"
   ]
  },
  {
   "cell_type": "code",
   "execution_count": null,
   "metadata": {},
   "outputs": [],
   "source": [
    "c$results[[1]]$collection_items"
   ]
  },
  {
   "cell_type": "code",
   "execution_count": null,
   "metadata": {},
   "outputs": [],
   "source": []
  }
 ],
 "metadata": {
  "kernelspec": {
   "display_name": "R",
   "language": "R",
   "name": "ir"
  },
  "language_info": {
   "codemirror_mode": "r",
   "file_extension": ".r",
   "mimetype": "text/x-r-source",
   "name": "R",
   "pygments_lexer": "r",
   "version": "4.0.3"
  }
 },
 "nbformat": 4,
 "nbformat_minor": 4
}
