{
 "cells": [
  {
   "cell_type": "markdown",
   "metadata": {},
   "source": [
    "# Cube Packcage\n",
    "The custom cube package is preinstalled.  just load the library and start o use it \n",
    "<hr/>\n",
    "\n",
    "<br/>\n"
   ]
  },
  {
   "cell_type": "code",
   "execution_count": 1,
   "metadata": {},
   "outputs": [
    {
     "name": "stderr",
     "output_type": "stream",
     "text": [
      "Loading required package: usethis\n",
      "\n",
      "Loading required package: reshape\n",
      "\n",
      "\n",
      "Attaching package: ‘rapportools’\n",
      "\n",
      "\n",
      "The following objects are masked from ‘package:stats’:\n",
      "\n",
      "    IQR, median, sd, var\n",
      "\n",
      "\n",
      "The following objects are masked from ‘package:base’:\n",
      "\n",
      "    max, mean, min, range, sum\n",
      "\n",
      "\n"
     ]
    }
   ],
   "source": [
    "# load all library, it is already installed\n",
    "library(devtools)\n",
    "library(httr)\n",
    "library(jsonlite)\n",
    "library(stringr)\n",
    "library(rapportools)\n",
    "library(cube)\n",
    "library(logger)\n",
    "log_threshold(INFO)"
   ]
  },
  {
   "cell_type": "code",
   "execution_count": 2,
   "metadata": {},
   "outputs": [
    {
     "name": "stdout",
     "output_type": "stream",
     "text": [
      "INFO [2020-12-08 16:25:28] Version: 0.0.1\n",
      "INFO [2020-12-08 16:25:29] verification_uri_complete: https://thejacksonlaboratory.auth0.com/activate?user_code=BGMS-QFNR\n"
     ]
    },
    {
     "data": {
      "text/html": [
       "'https://thejacksonlaboratory.auth0.com/activate?user_code=BGMS-QFNR'"
      ],
      "text/latex": [
       "'https://thejacksonlaboratory.auth0.com/activate?user\\_code=BGMS-QFNR'"
      ],
      "text/markdown": [
       "'https://thejacksonlaboratory.auth0.com/activate?user_code=BGMS-QFNR'"
      ],
      "text/plain": [
       "[1] \"https://thejacksonlaboratory.auth0.com/activate?user_code=BGMS-QFNR\""
      ]
     },
     "metadata": {},
     "output_type": "display_data"
    }
   ],
   "source": [
    "# create a Cube object and login\n",
    "# after run, click on the url to finish verification\n",
    "cube_obj = Cube$new()\n",
    "cube_obj$login()    "
   ]
  },
  {
   "cell_type": "code",
   "execution_count": 3,
   "metadata": {},
   "outputs": [
    {
     "name": "stdout",
     "output_type": "stream",
     "text": [
      "INFO [2020-12-08 16:25:45] access_token length: 788\n",
      "INFO [2020-12-08 16:25:47] status_code: 200\n"
     ]
    }
   ],
   "source": [
    "# retrieve metadata element\n",
    "response = cube_obj$get_element()"
   ]
  },
  {
   "cell_type": "code",
   "execution_count": 21,
   "metadata": {},
   "outputs": [],
   "source": [
    "# get the content of the response\n",
    "content = content(response)"
   ]
  },
  {
   "cell_type": "code",
   "execution_count": 22,
   "metadata": {},
   "outputs": [
    {
     "data": {
      "text/html": [
       "9"
      ],
      "text/latex": [
       "9"
      ],
      "text/markdown": [
       "9"
      ],
      "text/plain": [
       "[1] 9"
      ]
     },
     "metadata": {},
     "output_type": "display_data"
    }
   ],
   "source": [
    "content$count"
   ]
  },
  {
   "cell_type": "code",
   "execution_count": null,
   "metadata": {},
   "outputs": [],
   "source": [
    "content$results"
   ]
  },
  {
   "cell_type": "code",
   "execution_count": null,
   "metadata": {},
   "outputs": [],
   "source": []
  },
  {
   "cell_type": "code",
   "execution_count": null,
   "metadata": {},
   "outputs": [],
   "source": [
    "# get metadata\n",
    "response = cube_obj$get_element(element_id = 122)"
   ]
  },
  {
   "cell_type": "code",
   "execution_count": null,
   "metadata": {},
   "outputs": [],
   "source": [
    "content = content(response)"
   ]
  },
  {
   "cell_type": "code",
   "execution_count": null,
   "metadata": {},
   "outputs": [],
   "source": [
    "content$count"
   ]
  },
  {
   "cell_type": "code",
   "execution_count": null,
   "metadata": {},
   "outputs": [],
   "source": [
    "content$results"
   ]
  },
  {
   "cell_type": "code",
   "execution_count": null,
   "metadata": {},
   "outputs": [],
   "source": []
  },
  {
   "cell_type": "code",
   "execution_count": null,
   "metadata": {},
   "outputs": [],
   "source": [
    "# get metadata in json\n",
    "response = cube_obj$get_metadata(element_id = 83,\n",
    "                                    accession_ids = c(\"JAXIM00063\", \"JAXIM00064\"))\n",
    "json = cube::response_json_to_data(response)"
   ]
  },
  {
   "cell_type": "code",
   "execution_count": null,
   "metadata": {},
   "outputs": [],
   "source": [
    "json$count"
   ]
  },
  {
   "cell_type": "code",
   "execution_count": null,
   "metadata": {},
   "outputs": [],
   "source": [
    "class(json$results)"
   ]
  },
  {
   "cell_type": "code",
   "execution_count": null,
   "metadata": {},
   "outputs": [],
   "source": [
    "colnames(json$results)"
   ]
  },
  {
   "cell_type": "code",
   "execution_count": null,
   "metadata": {},
   "outputs": [],
   "source": [
    "json$results[\"id\"]"
   ]
  },
  {
   "cell_type": "code",
   "execution_count": null,
   "metadata": {},
   "outputs": [],
   "source": []
  },
  {
   "cell_type": "code",
   "execution_count": 5,
   "metadata": {},
   "outputs": [
    {
     "name": "stdout",
     "output_type": "stream",
     "text": [
      "INFO [2020-12-08 16:26:45] status_code: 200\n"
     ]
    }
   ],
   "source": [
    "response = cube_obj$get_metadata_collection(\"Abigail%20Ames\")"
   ]
  },
  {
   "cell_type": "code",
   "execution_count": 7,
   "metadata": {},
   "outputs": [
    {
     "name": "stderr",
     "output_type": "stream",
     "text": [
      "No encoding supplied: defaulting to UTF-8.\n",
      "\n"
     ]
    }
   ],
   "source": [
    "json = response_json_to_data(response)"
   ]
  },
  {
   "cell_type": "code",
   "execution_count": 8,
   "metadata": {},
   "outputs": [
    {
     "data": {
      "text/html": [
       "1"
      ],
      "text/latex": [
       "1"
      ],
      "text/markdown": [
       "1"
      ],
      "text/plain": [
       "[1] 1"
      ]
     },
     "metadata": {},
     "output_type": "display_data"
    }
   ],
   "source": [
    "json$count"
   ]
  },
  {
   "cell_type": "code",
   "execution_count": 9,
   "metadata": {},
   "outputs": [
    {
     "data": {
      "text/html": [
       "<table>\n",
       "<caption>A data.frame: 1 × 5</caption>\n",
       "<thead>\n",
       "\t<tr><th></th><th scope=col>id</th><th scope=col>collection_items</th><th scope=col>collection_name</th><th scope=col>user_name</th><th scope=col>date_created</th></tr>\n",
       "\t<tr><th></th><th scope=col>&lt;int&gt;</th><th scope=col>&lt;list&gt;</th><th scope=col>&lt;lgl&gt;</th><th scope=col>&lt;chr&gt;</th><th scope=col>&lt;chr&gt;</th></tr>\n",
       "</thead>\n",
       "<tbody>\n",
       "\t<tr><th scope=row>1</th><td>1</td><td>744                        , 743                        , 742                        , 1                          , 1                          , 1                          , NA                         , NA                         , NA                         , Abigail Ames               , Abigail Ames               , Abigail Ames               , 2020-11-12T19:35:24.022049Z, 2020-11-12T19:35:24.022049Z, 2020-11-12T19:35:24.022049Z, 1                          , 1                          , 1                          , JAXDF001JC                 , JAXDF001JD                 , JAXDF001JE                 , Data File                  , Data File                  , Data File                  , NA                         , NA                         , NA                         , 2020-12-07T20:37:55.306133Z, 2020-12-07T20:37:55.306105Z, 2020-12-07T20:37:55.306059Z</td><td>NA</td><td>Abigail Ames</td><td>2020-11-12T19:35:24.022049Z</td></tr>\n",
       "</tbody>\n",
       "</table>\n"
      ],
      "text/latex": [
       "A data.frame: 1 × 5\n",
       "\\begin{tabular}{r|lllll}\n",
       "  & id & collection\\_items & collection\\_name & user\\_name & date\\_created\\\\\n",
       "  & <int> & <list> & <lgl> & <chr> & <chr>\\\\\n",
       "\\hline\n",
       "\t1 & 1 & 744                        , 743                        , 742                        , 1                          , 1                          , 1                          , NA                         , NA                         , NA                         , Abigail Ames               , Abigail Ames               , Abigail Ames               , 2020-11-12T19:35:24.022049Z, 2020-11-12T19:35:24.022049Z, 2020-11-12T19:35:24.022049Z, 1                          , 1                          , 1                          , JAXDF001JC                 , JAXDF001JD                 , JAXDF001JE                 , Data File                  , Data File                  , Data File                  , NA                         , NA                         , NA                         , 2020-12-07T20:37:55.306133Z, 2020-12-07T20:37:55.306105Z, 2020-12-07T20:37:55.306059Z & NA & Abigail Ames & 2020-11-12T19:35:24.022049Z\\\\\n",
       "\\end{tabular}\n"
      ],
      "text/markdown": [
       "\n",
       "A data.frame: 1 × 5\n",
       "\n",
       "| <!--/--> | id &lt;int&gt; | collection_items &lt;list&gt; | collection_name &lt;lgl&gt; | user_name &lt;chr&gt; | date_created &lt;chr&gt; |\n",
       "|---|---|---|---|---|---|\n",
       "| 1 | 1 | 744                        , 743                        , 742                        , 1                          , 1                          , 1                          , NA                         , NA                         , NA                         , Abigail Ames               , Abigail Ames               , Abigail Ames               , 2020-11-12T19:35:24.022049Z, 2020-11-12T19:35:24.022049Z, 2020-11-12T19:35:24.022049Z, 1                          , 1                          , 1                          , JAXDF001JC                 , JAXDF001JD                 , JAXDF001JE                 , Data File                  , Data File                  , Data File                  , NA                         , NA                         , NA                         , 2020-12-07T20:37:55.306133Z, 2020-12-07T20:37:55.306105Z, 2020-12-07T20:37:55.306059Z | NA | Abigail Ames | 2020-11-12T19:35:24.022049Z |\n",
       "\n"
      ],
      "text/plain": [
       "  id\n",
       "1 1 \n",
       "  collection_items                                                                                                                                                                                                                                                                                                                                                                                                                                                                                                                                                                                                                                                                                                                                                                                                                                                                                    \n",
       "1 744                        , 743                        , 742                        , 1                          , 1                          , 1                          , NA                         , NA                         , NA                         , Abigail Ames               , Abigail Ames               , Abigail Ames               , 2020-11-12T19:35:24.022049Z, 2020-11-12T19:35:24.022049Z, 2020-11-12T19:35:24.022049Z, 1                          , 1                          , 1                          , JAXDF001JC                 , JAXDF001JD                 , JAXDF001JE                 , Data File                  , Data File                  , Data File                  , NA                         , NA                         , NA                         , 2020-12-07T20:37:55.306133Z, 2020-12-07T20:37:55.306105Z, 2020-12-07T20:37:55.306059Z\n",
       "  collection_name user_name    date_created               \n",
       "1 NA              Abigail Ames 2020-11-12T19:35:24.022049Z"
      ]
     },
     "metadata": {},
     "output_type": "display_data"
    }
   ],
   "source": [
    "json$results"
   ]
  },
  {
   "cell_type": "code",
   "execution_count": null,
   "metadata": {},
   "outputs": [],
   "source": []
  }
 ],
 "metadata": {
  "kernelspec": {
   "display_name": "R",
   "language": "R",
   "name": "ir"
  },
  "language_info": {
   "codemirror_mode": "r",
   "file_extension": ".r",
   "mimetype": "text/x-r-source",
   "name": "R",
   "pygments_lexer": "r",
   "version": "4.0.3"
  }
 },
 "nbformat": 4,
 "nbformat_minor": 4
}
