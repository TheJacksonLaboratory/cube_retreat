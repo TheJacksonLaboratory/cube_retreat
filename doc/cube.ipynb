{
 "cells": [
  {
   "cell_type": "markdown",
   "metadata": {},
   "source": [
    "# Cube Packcage\n",
    "The custom cube package is preinstalled.  just load the library and start o use it \n",
    "<hr/>\n",
    "\n",
    "<br/>\n"
   ]
  },
  {
   "cell_type": "code",
   "execution_count": 6,
   "metadata": {},
   "outputs": [
    {
     "ename": "ERROR",
     "evalue": "Error in library(rapportools): there is no package called ‘rapportools’\n",
     "output_type": "error",
     "traceback": [
      "Error in library(rapportools): there is no package called ‘rapportools’\nTraceback:\n",
      "1. library(rapportools)"
     ]
    }
   ],
   "source": [
    "# load all library, it is already installed\n",
    "library(devtools)\n",
    "library(httr)\n",
    "library(jsonlite)\n",
    "library(stringr)\n",
    "library(rapportools)\n",
    "library(cube)\n",
    "library(logger)\n",
    "log_threshold(INFO)"
   ]
  },
  {
   "cell_type": "code",
   "execution_count": 2,
   "metadata": {},
   "outputs": [
    {
     "name": "stdout",
     "output_type": "stream",
     "text": [
      "INFO [2020-12-07 17:40:46] Version: 0.0.1\n",
      "INFO [2020-12-07 17:40:46] verification_uri_complete: https://thejacksonlaboratory.auth0.com/activate?user_code=FPVT-XTWZ\n"
     ]
    },
    {
     "data": {
      "text/html": [
       "'https://thejacksonlaboratory.auth0.com/activate?user_code=FPVT-XTWZ'"
      ],
      "text/latex": [
       "'https://thejacksonlaboratory.auth0.com/activate?user\\_code=FPVT-XTWZ'"
      ],
      "text/markdown": [
       "'https://thejacksonlaboratory.auth0.com/activate?user_code=FPVT-XTWZ'"
      ],
      "text/plain": [
       "[1] \"https://thejacksonlaboratory.auth0.com/activate?user_code=FPVT-XTWZ\""
      ]
     },
     "metadata": {},
     "output_type": "display_data"
    }
   ],
   "source": [
    "# create a Cube object and login\n",
    "# after run, click on the url to finish verification\n",
    "cube_obj = Cube$new()\n",
    "cube_obj$login()    "
   ]
  },
  {
   "cell_type": "code",
   "execution_count": 4,
   "metadata": {},
   "outputs": [
    {
     "ename": "ERROR",
     "evalue": "Error in if (str_length(self$auth0_obj$access_token) < 1) {: argument is of length zero\n",
     "output_type": "error",
     "traceback": [
      "Error in if (str_length(self$auth0_obj$access_token) < 1) {: argument is of length zero\nTraceback:\n",
      "1. cube_obj$get_element()",
      "2. self$cubeapi$get_element()",
      "3. self$get_end_point(API_END_POINT_metadata_definition_element)",
      "4. self$call(method = HTTP_METHOD_GET, url = url, query = query)"
     ]
    }
   ],
   "source": [
    "# retrieve metadata element\n",
    "response = cube_obj$get_element()"
   ]
  },
  {
   "cell_type": "code",
   "execution_count": null,
   "metadata": {},
   "outputs": [],
   "source": [
    "# get the content of the response\n",
    "content = content(response)"
   ]
  },
  {
   "cell_type": "code",
   "execution_count": null,
   "metadata": {},
   "outputs": [],
   "source": [
    "content$count"
   ]
  },
  {
   "cell_type": "code",
   "execution_count": null,
   "metadata": {},
   "outputs": [],
   "source": [
    "content$results"
   ]
  },
  {
   "cell_type": "code",
   "execution_count": null,
   "metadata": {},
   "outputs": [],
   "source": []
  },
  {
   "cell_type": "code",
   "execution_count": null,
   "metadata": {},
   "outputs": [],
   "source": [
    "# get metadata\n",
    "response = cube_obj$get_metadata(element_id = 116, page_size = 5)"
   ]
  },
  {
   "cell_type": "code",
   "execution_count": null,
   "metadata": {},
   "outputs": [],
   "source": [
    "content = content(response)"
   ]
  },
  {
   "cell_type": "code",
   "execution_count": null,
   "metadata": {},
   "outputs": [],
   "source": [
    "content$count"
   ]
  },
  {
   "cell_type": "code",
   "execution_count": null,
   "metadata": {},
   "outputs": [],
   "source": [
    "content$results"
   ]
  },
  {
   "cell_type": "code",
   "execution_count": null,
   "metadata": {},
   "outputs": [],
   "source": []
  },
  {
   "cell_type": "code",
   "execution_count": null,
   "metadata": {},
   "outputs": [],
   "source": [
    "# get metadata in json\n",
    "json = cube_obj$get_metadata_json(element_id = 116, page_size = 5)"
   ]
  },
  {
   "cell_type": "code",
   "execution_count": null,
   "metadata": {},
   "outputs": [],
   "source": [
    "json$count"
   ]
  },
  {
   "cell_type": "code",
   "execution_count": null,
   "metadata": {},
   "outputs": [],
   "source": [
    "class(json$results)"
   ]
  },
  {
   "cell_type": "code",
   "execution_count": null,
   "metadata": {},
   "outputs": [],
   "source": [
    "colnames(json$results)"
   ]
  },
  {
   "cell_type": "code",
   "execution_count": null,
   "metadata": {},
   "outputs": [],
   "source": [
    "json$results[\"id\"]"
   ]
  },
  {
   "cell_type": "code",
   "execution_count": null,
   "metadata": {},
   "outputs": [],
   "source": []
  }
 ],
 "metadata": {
  "kernelspec": {
   "display_name": "R",
   "language": "R",
   "name": "ir"
  },
  "language_info": {
   "codemirror_mode": "r",
   "file_extension": ".r",
   "mimetype": "text/x-r-source",
   "name": "R",
   "pygments_lexer": "r",
   "version": "4.0.3"
  }
 },
 "nbformat": 4,
 "nbformat_minor": 4
}
