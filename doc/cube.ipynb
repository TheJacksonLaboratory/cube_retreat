{
 "cells": [
  {
   "cell_type": "markdown",
   "metadata": {},
   "source": [
    "# Cube Packcage\n",
    "The custom cube package is preinstalled.  just load the library and start o use it \n",
    "<hr/>\n",
    "\n",
    "<br/>\n"
   ]
  },
  {
   "cell_type": "code",
   "execution_count": 2,
   "metadata": {},
   "outputs": [
    {
     "name": "stderr",
     "output_type": "stream",
     "text": [
      "Loading required package: usethis\n",
      "\n"
     ]
    }
   ],
   "source": [
    "library(devtools)\n",
    "library(httr)\n",
    "library(jsonlite)\n",
    "library(cube)\n",
    "library(logger)\n",
    "log_threshold(DEBUG)"
   ]
  },
  {
   "cell_type": "code",
   "execution_count": 3,
   "metadata": {},
   "outputs": [
    {
     "name": "stderr",
     "output_type": "stream",
     "text": [
      "https://metadata-service-sqa.azurewebsites.net/\n",
      "\n"
     ]
    },
    {
     "name": "stdout",
     "output_type": "stream",
     "text": [
      "DEBUG [2020-11-23 16:57:28] https://metadata-service-sqa.azurewebsites.net/cube_about/disclaimer/?format=json\n",
      "DEBUG [2020-11-23 16:57:30] status_code: 200\n"
     ]
    },
    {
     "name": "stderr",
     "output_type": "stream",
     "text": [
      "No encoding supplied: defaulting to UTF-8.\n",
      "\n"
     ]
    },
    {
     "name": "stdout",
     "output_type": "stream",
     "text": [
      "INFO [2020-11-23 16:57:30] id: 1\n",
      "INFO [2020-11-23 16:57:30] activated_date: 2020-10-29\n",
      "INFO [2020-11-23 16:57:30] terms_text: The data from this study may be preliminary and unpublished. Pre-publication access is granted to promote broad use of the data sets. Presentation and/or publication of these data are not permitted without permission. The producers of the data reserve the right to be the first to publish. Contact us at cube.jax.org for guidance on using, referencing, presenting, or publishing analyses that include pre-publication data. \n"
     ]
    }
   ],
   "source": [
    "cube_api <- CubeAPI$new(\"https://metadata-service-sqa.azurewebsites.net/\")\n",
    "json <- cube_api$get_disclaimer_json()"
   ]
  },
  {
   "cell_type": "code",
   "execution_count": 4,
   "metadata": {},
   "outputs": [
    {
     "data": {
      "text/html": [
       "1"
      ],
      "text/latex": [
       "1"
      ],
      "text/markdown": [
       "1"
      ],
      "text/plain": [
       "[1] 1"
      ]
     },
     "metadata": {},
     "output_type": "display_data"
    }
   ],
   "source": [
    "json$count"
   ]
  },
  {
   "cell_type": "code",
   "execution_count": 5,
   "metadata": {},
   "outputs": [
    {
     "data": {
      "text/html": [
       "<table>\n",
       "<caption>A data.frame: 1 × 4</caption>\n",
       "<thead>\n",
       "\t<tr><th></th><th scope=col>id</th><th scope=col>activated_date</th><th scope=col>expired_date</th><th scope=col>terms_text</th></tr>\n",
       "\t<tr><th></th><th scope=col>&lt;int&gt;</th><th scope=col>&lt;chr&gt;</th><th scope=col>&lt;lgl&gt;</th><th scope=col>&lt;chr&gt;</th></tr>\n",
       "</thead>\n",
       "<tbody>\n",
       "\t<tr><th scope=row>1</th><td>1</td><td>2020-10-29</td><td>NA</td><td>The data from this study may be preliminary and unpublished. Pre-publication access is granted to promote broad use of the data sets. Presentation and/or publication of these data are not permitted without permission. The producers of the data reserve the right to be the first to publish. Contact us at cube.jax.org for guidance on using, referencing, presenting, or publishing analyses that include pre-publication data. </td></tr>\n",
       "</tbody>\n",
       "</table>\n"
      ],
      "text/latex": [
       "A data.frame: 1 × 4\n",
       "\\begin{tabular}{r|llll}\n",
       "  & id & activated\\_date & expired\\_date & terms\\_text\\\\\n",
       "  & <int> & <chr> & <lgl> & <chr>\\\\\n",
       "\\hline\n",
       "\t1 & 1 & 2020-10-29 & NA & The data from this study may be preliminary and unpublished. Pre-publication access is granted to promote broad use of the data sets. Presentation and/or publication of these data are not permitted without permission. The producers of the data reserve the right to be the first to publish. Contact us at cube.jax.org for guidance on using, referencing, presenting, or publishing analyses that include pre-publication data. \\\\\n",
       "\\end{tabular}\n"
      ],
      "text/markdown": [
       "\n",
       "A data.frame: 1 × 4\n",
       "\n",
       "| <!--/--> | id &lt;int&gt; | activated_date &lt;chr&gt; | expired_date &lt;lgl&gt; | terms_text &lt;chr&gt; |\n",
       "|---|---|---|---|---|\n",
       "| 1 | 1 | 2020-10-29 | NA | The data from this study may be preliminary and unpublished. Pre-publication access is granted to promote broad use of the data sets. Presentation and/or publication of these data are not permitted without permission. The producers of the data reserve the right to be the first to publish. Contact us at cube.jax.org for guidance on using, referencing, presenting, or publishing analyses that include pre-publication data.  |\n",
       "\n"
      ],
      "text/plain": [
       "  id activated_date expired_date\n",
       "1 1  2020-10-29     NA          \n",
       "  terms_text                                                                                                                                                                                                                                                                                                                                                                                                                             \n",
       "1 The data from this study may be preliminary and unpublished. Pre-publication access is granted to promote broad use of the data sets. Presentation and/or publication of these data are not permitted without permission. The producers of the data reserve the right to be the first to publish. Contact us at cube.jax.org for guidance on using, referencing, presenting, or publishing analyses that include pre-publication data. "
      ]
     },
     "metadata": {},
     "output_type": "display_data"
    }
   ],
   "source": [
    "json$results"
   ]
  },
  {
   "cell_type": "code",
   "execution_count": null,
   "metadata": {},
   "outputs": [],
   "source": []
  }
 ],
 "metadata": {
  "kernelspec": {
   "display_name": "R",
   "language": "R",
   "name": "ir"
  },
  "language_info": {
   "codemirror_mode": "r",
   "file_extension": ".r",
   "mimetype": "text/x-r-source",
   "name": "R",
   "pygments_lexer": "r",
   "version": "4.0.3"
  }
 },
 "nbformat": 4,
 "nbformat_minor": 4
}
