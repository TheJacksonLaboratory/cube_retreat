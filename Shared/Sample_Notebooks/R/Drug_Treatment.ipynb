{
 "cells": [
  {
   "cell_type": "markdown",
   "metadata": {},
   "source": [
    "# Drug Treatment Data\n",
    "Drug treatment data"
   ]
  },
  {
   "cell_type": "code",
   "execution_count": 1,
   "metadata": {},
   "outputs": [
    {
     "name": "stdout",
     "output_type": "stream",
     "text": [
      "[1] \"dataset:  Drug_Treatment\"\n",
      "[1] \"accession_ids:  JAXAS00005\"\n"
     ]
    },
    {
     "data": {
      "text/html": [
       "<table>\n",
       "<caption>A data.frame: 9 × 4</caption>\n",
       "<thead>\n",
       "\t<tr><th scope=col>accession_id</th><th scope=col>chebi_name</th><th scope=col>chebi_id</th><th scope=col>short_name</th></tr>\n",
       "\t<tr><th scope=col>&lt;fct&gt;</th><th scope=col>&lt;fct&gt;</th><th scope=col>&lt;fct&gt;</th><th scope=col>&lt;fct&gt;</th></tr>\n",
       "</thead>\n",
       "<tbody>\n",
       "\t<tr><td>JAXDR00001</td><td>Metformin                                     </td><td>CHEBI:6801  </td><td>Metformin                          </td></tr>\n",
       "\t<tr><td>JAXDR00002</td><td>None                                          </td><td>None        </td><td>None                               </td></tr>\n",
       "\t<tr><td>JAXDR00003</td><td>Nγ-nitro-L-arginine methyl ester hydrochloride</td><td>CHEBI:131182</td><td>L-NAME                             </td></tr>\n",
       "\t<tr><td>JAXDR00004</td><td>Ampicillin                                    </td><td>CHEBI:28971 </td><td>Ampicillin                         </td></tr>\n",
       "\t<tr><td>JAXDR00005</td><td>Metronidazole                                 </td><td>CHEBI:6909  </td><td>Metronidazole                      </td></tr>\n",
       "\t<tr><td>JAXDR00006</td><td>Neomycin                                      </td><td>CHEBI:7507  </td><td>Neomycin                           </td></tr>\n",
       "\t<tr><td>JAXDR00007</td><td>Vancomycin                                    </td><td>CHEBI:28001 </td><td>Vancomycin                         </td></tr>\n",
       "\t<tr><td>JAXDR00008</td><td>Antibiotic Cocktail                           </td><td>            </td><td>Antibiotic Cocktail for Three Bears</td></tr>\n",
       "\t<tr><td>JAXDR00009</td><td>Metformin                                     </td><td>CHEBI:6801  </td><td>Metformin                          </td></tr>\n",
       "</tbody>\n",
       "</table>\n"
      ],
      "text/latex": [
       "A data.frame: 9 × 4\n",
       "\\begin{tabular}{llll}\n",
       " accession\\_id & chebi\\_name & chebi\\_id & short\\_name\\\\\n",
       " <fct> & <fct> & <fct> & <fct>\\\\\n",
       "\\hline\n",
       "\t JAXDR00001 & Metformin                                      & CHEBI:6801   & Metformin                          \\\\\n",
       "\t JAXDR00002 & None                                           & None         & None                               \\\\\n",
       "\t JAXDR00003 & Nγ-nitro-L-arginine methyl ester hydrochloride & CHEBI:131182 & L-NAME                             \\\\\n",
       "\t JAXDR00004 & Ampicillin                                     & CHEBI:28971  & Ampicillin                         \\\\\n",
       "\t JAXDR00005 & Metronidazole                                  & CHEBI:6909   & Metronidazole                      \\\\\n",
       "\t JAXDR00006 & Neomycin                                       & CHEBI:7507   & Neomycin                           \\\\\n",
       "\t JAXDR00007 & Vancomycin                                     & CHEBI:28001  & Vancomycin                         \\\\\n",
       "\t JAXDR00008 & Antibiotic Cocktail                            &              & Antibiotic Cocktail for Three Bears\\\\\n",
       "\t JAXDR00009 & Metformin                                      & CHEBI:6801   & Metformin                          \\\\\n",
       "\\end{tabular}\n"
      ],
      "text/markdown": [
       "\n",
       "A data.frame: 9 × 4\n",
       "\n",
       "| accession_id &lt;fct&gt; | chebi_name &lt;fct&gt; | chebi_id &lt;fct&gt; | short_name &lt;fct&gt; |\n",
       "|---|---|---|---|\n",
       "| JAXDR00001 | Metformin                                      | CHEBI:6801   | Metformin                           |\n",
       "| JAXDR00002 | None                                           | None         | None                                |\n",
       "| JAXDR00003 | Nγ-nitro-L-arginine methyl ester hydrochloride | CHEBI:131182 | L-NAME                              |\n",
       "| JAXDR00004 | Ampicillin                                     | CHEBI:28971  | Ampicillin                          |\n",
       "| JAXDR00005 | Metronidazole                                  | CHEBI:6909   | Metronidazole                       |\n",
       "| JAXDR00006 | Neomycin                                       | CHEBI:7507   | Neomycin                            |\n",
       "| JAXDR00007 | Vancomycin                                     | CHEBI:28001  | Vancomycin                          |\n",
       "| JAXDR00008 | Antibiotic Cocktail                            | <!----> | Antibiotic Cocktail for Three Bears |\n",
       "| JAXDR00009 | Metformin                                      | CHEBI:6801   | Metformin                           |\n",
       "\n"
      ],
      "text/plain": [
       "  accession_id chebi_name                                     chebi_id    \n",
       "1 JAXDR00001   Metformin                                      CHEBI:6801  \n",
       "2 JAXDR00002   None                                           None        \n",
       "3 JAXDR00003   Nγ-nitro-L-arginine methyl ester hydrochloride CHEBI:131182\n",
       "4 JAXDR00004   Ampicillin                                     CHEBI:28971 \n",
       "5 JAXDR00005   Metronidazole                                  CHEBI:6909  \n",
       "6 JAXDR00006   Neomycin                                       CHEBI:7507  \n",
       "7 JAXDR00007   Vancomycin                                     CHEBI:28001 \n",
       "8 JAXDR00008   Antibiotic Cocktail                                        \n",
       "9 JAXDR00009   Metformin                                      CHEBI:6801  \n",
       "  short_name                         \n",
       "1 Metformin                          \n",
       "2 None                               \n",
       "3 L-NAME                             \n",
       "4 Ampicillin                         \n",
       "5 Metronidazole                      \n",
       "6 Neomycin                           \n",
       "7 Vancomycin                         \n",
       "8 Antibiotic Cocktail for Three Bears\n",
       "9 Metformin                          "
      ]
     },
     "metadata": {},
     "output_type": "display_data"
    }
   ],
   "source": [
    "library(cubeR)\n",
    "data <- cubeR::cubeR(c(\"Drug_Treatment\"))\n",
    "data"
   ]
  },
  {
   "cell_type": "code",
   "execution_count": 2,
   "metadata": {},
   "outputs": [
    {
     "data": {
      "text/html": [
       "\n",
       "<table width=\"100%\" summary=\"page for Cube Metadata Drug_Treatment {cubeR}\"><tr><td>Cube Metadata Drug_Treatment {cubeR}</td><td style=\"text-align: right;\">R Documentation</td></tr></table>\n",
       "\n",
       "<h2>Cube Metadata Drug_Treatment</h2>\n",
       "\n",
       "<h3>Description</h3>\n",
       "\n",
       "<p>Metadata information for Drug_Treatment\n",
       "</p>\n",
       "\n",
       "\n",
       "<h3>Usage</h3>\n",
       "\n",
       "<pre>\n",
       "drug_treatment\n",
       "</pre>\n",
       "\n",
       "\n",
       "<h3>Format</h3>\n",
       "\n",
       "<p>A Disease metadata with 3 variables:\n",
       "</p>\n",
       "\n",
       "<dl>\n",
       "<dt>accession_id</dt><dd><p>accession id</p>\n",
       "</dd>\n",
       "<dt>chebi_name</dt><dd><p>Ch E B name </p>\n",
       "</dd>\n",
       "<dt>chebi_id</dt><dd><p>Ch E B Id</p>\n",
       "</dd>\n",
       "<dt>short_name</dt><dd><p>Short Name</p>\n",
       "</dd>\n",
       "</dl>\n",
       "\n",
       "\n",
       "<hr /><div style=\"text-align: center;\">[Package <em>cubeR</em> version 0.0.0.9000 ]</div>"
      ],
      "text/latex": [
       "\\inputencoding{utf8}\n",
       "\\HeaderA{Cube Metadata Drug\\_Treatment}{Cube Metadata Drug\\_Treatment}{Cube Metadata Drug.Rul.Treatment}\n",
       "\\aliasA{drug\\_treatment}{Cube Metadata Drug\\_Treatment}{drug.Rul.treatment}\n",
       "\\keyword{datasets}{Cube Metadata Drug\\_Treatment}\n",
       "%\n",
       "\\begin{Description}\\relax\n",
       "Metadata information for Drug\\_Treatment\n",
       "\\end{Description}\n",
       "%\n",
       "\\begin{Usage}\n",
       "\\begin{verbatim}\n",
       "drug_treatment\n",
       "\\end{verbatim}\n",
       "\\end{Usage}\n",
       "%\n",
       "\\begin{Format}\n",
       "A Disease metadata with 3 variables:\n",
       "\\begin{description}\n",
       "\n",
       "\\item[accession\\_id] accession id\n",
       "\\item[chebi\\_name] Ch E B name \n",
       "\\item[chebi\\_id] Ch E B Id\n",
       "\\item[short\\_name] Short Name\n",
       "\n",
       "\\end{description}\n",
       "\n",
       "\\end{Format}"
      ],
      "text/plain": [
       "Cube Metadata Drug_Treatment       package:cubeR       R Documentation\n",
       "\n",
       "_\bC_\bu_\bb_\be _\bM_\be_\bt_\ba_\bd_\ba_\bt_\ba _\bD_\br_\bu_\bg__\bT_\br_\be_\ba_\bt_\bm_\be_\bn_\bt\n",
       "\n",
       "_\bD_\be_\bs_\bc_\br_\bi_\bp_\bt_\bi_\bo_\bn:\n",
       "\n",
       "     Metadata information for Drug_Treatment\n",
       "\n",
       "_\bU_\bs_\ba_\bg_\be:\n",
       "\n",
       "     drug_treatment\n",
       "     \n",
       "_\bF_\bo_\br_\bm_\ba_\bt:\n",
       "\n",
       "     A Disease metadata with 3 variables:\n",
       "\n",
       "     accession_id accession id\n",
       "\n",
       "     chebi_name Ch E B name\n",
       "\n",
       "     chebi_id Ch E B Id\n",
       "\n",
       "     short_name Short Name\n"
      ]
     },
     "metadata": {},
     "output_type": "display_data"
    }
   ],
   "source": [
    "help(drug_treatment)"
   ]
  },
  {
   "cell_type": "code",
   "execution_count": null,
   "metadata": {},
   "outputs": [],
   "source": []
  }
 ],
 "metadata": {
  "kernelspec": {
   "display_name": "R 3.4",
   "language": "R",
   "name": "ir34"
  },
  "language_info": {
   "codemirror_mode": "r",
   "file_extension": ".r",
   "mimetype": "text/x-r-source",
   "name": "R",
   "pygments_lexer": "r",
   "version": "3.4.4"
  }
 },
 "nbformat": 4,
 "nbformat_minor": 4
}
