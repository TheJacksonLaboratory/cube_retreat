{
 "cells": [
  {
   "cell_type": "markdown",
   "metadata": {},
   "source": [
    "Get Started\n",
    "===\n",
    "\n",
    "<table width=\"100%\"><tr>\n",
    "    <td style=\"font-size:120%\">\n",
    "Welcome to Cube notebooks!\n",
    "    </td><td align=\"right\">\n",
    "        <img src=\"Shared/Data/Images/jax_logo.png\" alt=\"The Jax Laboratory\" height=\"20%\" width=\"20%\"/>\n",
    "    </td>\n",
    "</tr></table>\n",
    "<hr/>\n",
    "\n",
    "\n",
    "To get start, open the \"Shared\" folder.  There are sample notebooks and data in the folder.  The notebooks are grouped in the two subfolders:\n",
    "* Python\n",
    "* R\n",
    "\n",
    "Each folder has template notebook to access and process cube data. Click on any notebook to get started.\n",
    "\n",
    "<i>The \"Shared\" folder is shared by everybody and read only.  You can copy a notebook or a folder to your home directory to work on them</i>\n",
    " "
   ]
  },
  {
   "cell_type": "code",
   "execution_count": null,
   "metadata": {},
   "outputs": [],
   "source": []
  }
 ],
 "metadata": {
  "kernelspec": {
   "display_name": "R 3.4",
   "language": "R",
   "name": "ir34"
  },
  "language_info": {
   "codemirror_mode": "r",
   "file_extension": ".r",
   "mimetype": "text/x-r-source",
   "name": "R",
   "pygments_lexer": "r",
   "version": "3.4.4"
  }
 },
 "nbformat": 4,
 "nbformat_minor": 4
}
