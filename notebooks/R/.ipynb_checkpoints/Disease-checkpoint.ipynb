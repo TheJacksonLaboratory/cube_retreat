{
 "cells": [
  {
   "cell_type": "markdown",
   "metadata": {},
   "source": [
    "# Disease Data\n",
    "Disease metadata"
   ]
  },
  {
   "cell_type": "code",
   "execution_count": 1,
   "metadata": {},
   "outputs": [
    {
     "name": "stdout",
     "output_type": "stream",
     "text": [
      "[1] \"dataset:  Disease\"\n",
      "[1] \"accession_ids:  JAXAS00005\"\n"
     ]
    },
    {
     "data": {
      "text/html": [
       "<table>\n",
       "<caption>A data.frame: 2 × 3</caption>\n",
       "<thead>\n",
       "\t<tr><th scope=col>accession_id</th><th scope=col>hpo_disease_id</th><th scope=col>hpo_disease_term</th></tr>\n",
       "\t<tr><th scope=col>&lt;fct&gt;</th><th scope=col>&lt;fct&gt;</th><th scope=col>&lt;fct&gt;</th></tr>\n",
       "</thead>\n",
       "<tbody>\n",
       "\t<tr><td>JAXDS00001</td><td>HP:0005978</td><td>Type II diabetes mellitus</td></tr>\n",
       "\t<tr><td>JAXDS00002</td><td>HP:0032322</td><td>Healthy                  </td></tr>\n",
       "</tbody>\n",
       "</table>\n"
      ],
      "text/latex": [
       "A data.frame: 2 × 3\n",
       "\\begin{tabular}{lll}\n",
       " accession\\_id & hpo\\_disease\\_id & hpo\\_disease\\_term\\\\\n",
       " <fct> & <fct> & <fct>\\\\\n",
       "\\hline\n",
       "\t JAXDS00001 & HP:0005978 & Type II diabetes mellitus\\\\\n",
       "\t JAXDS00002 & HP:0032322 & Healthy                  \\\\\n",
       "\\end{tabular}\n"
      ],
      "text/markdown": [
       "\n",
       "A data.frame: 2 × 3\n",
       "\n",
       "| accession_id &lt;fct&gt; | hpo_disease_id &lt;fct&gt; | hpo_disease_term &lt;fct&gt; |\n",
       "|---|---|---|\n",
       "| JAXDS00001 | HP:0005978 | Type II diabetes mellitus |\n",
       "| JAXDS00002 | HP:0032322 | Healthy                   |\n",
       "\n"
      ],
      "text/plain": [
       "  accession_id hpo_disease_id hpo_disease_term         \n",
       "1 JAXDS00001   HP:0005978     Type II diabetes mellitus\n",
       "2 JAXDS00002   HP:0032322     Healthy                  "
      ]
     },
     "metadata": {},
     "output_type": "display_data"
    }
   ],
   "source": [
    "library(cubeR)\n",
    "data <- cubeR::cubeR(c(\"Disease\"))\n",
    "data"
   ]
  },
  {
   "cell_type": "code",
   "execution_count": 2,
   "metadata": {},
   "outputs": [
    {
     "data": {
      "text/html": [
       "\n",
       "<table width=\"100%\" summary=\"page for Cube Metadata Disease {cubeR}\"><tr><td>Cube Metadata Disease {cubeR}</td><td style=\"text-align: right;\">R Documentation</td></tr></table>\n",
       "\n",
       "<h2>Cube Metadata Disease</h2>\n",
       "\n",
       "<h3>Description</h3>\n",
       "\n",
       "<p>Metadata information for Disease\n",
       "</p>\n",
       "\n",
       "\n",
       "<h3>Usage</h3>\n",
       "\n",
       "<pre>\n",
       "disease\n",
       "</pre>\n",
       "\n",
       "\n",
       "<h3>Format</h3>\n",
       "\n",
       "<p>A Disease metadata with 3 variables:\n",
       "</p>\n",
       "\n",
       "<dl>\n",
       "<dt>accession_id</dt><dd><p>accession id</p>\n",
       "</dd>\n",
       "<dt>hpo_disease_id</dt><dd><p>HPO Disease Id </p>\n",
       "</dd>\n",
       "<dt>hpo_disease_term</dt><dd><p>HPO Disease Term</p>\n",
       "</dd>\n",
       "</dl>\n",
       "\n",
       "\n",
       "<hr /><div style=\"text-align: center;\">[Package <em>cubeR</em> version 0.0.0.9000 ]</div>"
      ],
      "text/latex": [
       "\\inputencoding{utf8}\n",
       "\\HeaderA{Cube Metadata Disease}{Cube Metadata Disease}{Cube Metadata Disease}\n",
       "\\aliasA{disease}{Cube Metadata Disease}{disease}\n",
       "\\keyword{datasets}{Cube Metadata Disease}\n",
       "%\n",
       "\\begin{Description}\\relax\n",
       "Metadata information for Disease\n",
       "\\end{Description}\n",
       "%\n",
       "\\begin{Usage}\n",
       "\\begin{verbatim}\n",
       "disease\n",
       "\\end{verbatim}\n",
       "\\end{Usage}\n",
       "%\n",
       "\\begin{Format}\n",
       "A Disease metadata with 3 variables:\n",
       "\\begin{description}\n",
       "\n",
       "\\item[accession\\_id] accession id\n",
       "\\item[hpo\\_disease\\_id] HPO Disease Id \n",
       "\\item[hpo\\_disease\\_term] HPO Disease Term\n",
       "\n",
       "\\end{description}\n",
       "\n",
       "\\end{Format}"
      ],
      "text/plain": [
       "Cube Metadata Disease          package:cubeR           R Documentation\n",
       "\n",
       "_\bC_\bu_\bb_\be _\bM_\be_\bt_\ba_\bd_\ba_\bt_\ba _\bD_\bi_\bs_\be_\ba_\bs_\be\n",
       "\n",
       "_\bD_\be_\bs_\bc_\br_\bi_\bp_\bt_\bi_\bo_\bn:\n",
       "\n",
       "     Metadata information for Disease\n",
       "\n",
       "_\bU_\bs_\ba_\bg_\be:\n",
       "\n",
       "     disease\n",
       "     \n",
       "_\bF_\bo_\br_\bm_\ba_\bt:\n",
       "\n",
       "     A Disease metadata with 3 variables:\n",
       "\n",
       "     accession_id accession id\n",
       "\n",
       "     hpo_disease_id HPO Disease Id\n",
       "\n",
       "     hpo_disease_term HPO Disease Term\n"
      ]
     },
     "metadata": {},
     "output_type": "display_data"
    }
   ],
   "source": [
    "help(disease)"
   ]
  },
  {
   "cell_type": "code",
   "execution_count": null,
   "metadata": {},
   "outputs": [],
   "source": []
  }
 ],
 "metadata": {
  "kernelspec": {
   "display_name": "R 3.4",
   "language": "R",
   "name": "ir34"
  },
  "language_info": {
   "codemirror_mode": "r",
   "file_extension": ".r",
   "mimetype": "text/x-r-source",
   "name": "R",
   "pygments_lexer": "r",
   "version": "3.4.4"
  }
 },
 "nbformat": 4,
 "nbformat_minor": 4
}
