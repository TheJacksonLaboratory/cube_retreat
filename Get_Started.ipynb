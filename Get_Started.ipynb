{
 "cells": [
  {
   "cell_type": "markdown",
   "metadata": {},
   "source": [
    "# Get Started\n",
    "\n",
    "Welcome to Cube notebooks\n",
    "\n",
    "The notebooks are grouped in the two subfolders:\n",
    "* Python\n",
    "* R\n",
    "Each folder has template notebook to access and process cube data. Click on any notebook to get started.  \n",
    "\n",
    "### We build a cube custom package to help the process.  To install the custom package, first install the \"devtools\"  "
   ]
  },
  {
   "cell_type": "code",
   "execution_count": 6,
   "metadata": {},
   "outputs": [
    {
     "name": "stderr",
     "output_type": "stream",
     "text": [
      "Installing package into ‘/usr/local/lib/R/site-library’\n",
      "(as ‘lib’ is unspecified)\n",
      "\n"
     ]
    }
   ],
   "source": [
    "install.packages(\"devtools\")\n",
    "library(\"devtools\")"
   ]
  },
  {
   "cell_type": "markdown",
   "metadata": {},
   "source": [
    "### then, install cube custom package"
   ]
  },
  {
   "cell_type": "code",
   "execution_count": 4,
   "metadata": {},
   "outputs": [
    {
     "name": "stderr",
     "output_type": "stream",
     "text": [
      "Skipping install of 'cube' from a github remote, the SHA1 (9b3018dd) has not changed since last install.\n",
      "  Use `force = TRUE` to force installation\n",
      "\n"
     ]
    }
   ],
   "source": [
    "devtools::install_github(\"TheJacksonLaboratory/cube_r/cube\")\n",
    "library(cube)"
   ]
  },
  {
   "cell_type": "markdown",
   "metadata": {},
   "source": [
    "### test installation:"
   ]
  },
  {
   "cell_type": "code",
   "execution_count": 1,
   "metadata": {},
   "outputs": [
    {
     "ename": "ERROR",
     "evalue": "Error in cube_function(\"hello cube\"): could not find function \"cube_function\"\n",
     "output_type": "error",
     "traceback": [
      "Error in cube_function(\"hello cube\"): could not find function \"cube_function\"\nTraceback:\n"
     ]
    }
   ],
   "source": [
    "cube_function(\"hello cube\")"
   ]
  },
  {
   "cell_type": "markdown",
   "metadata": {},
   "source": [
    "### to access data"
   ]
  },
  {
   "cell_type": "markdown",
   "metadata": {
    "jupyter": {
     "source_hidden": true
    }
   },
   "source": [
    "to access the data"
   ]
  },
  {
   "cell_type": "code",
   "execution_count": 6,
   "metadata": {},
   "outputs": [
    {
     "data": {
      "text/html": [
       "<table>\n",
       "<caption>A data.frame: 5 × 5</caption>\n",
       "<thead>\n",
       "\t<tr><th></th><th scope=col>element_id</th><th scope=col>element_label</th><th scope=col>instance_id</th><th scope=col>date_created</th><th scope=col>property_value</th></tr>\n",
       "\t<tr><th></th><th scope=col>&lt;int&gt;</th><th scope=col>&lt;fct&gt;</th><th scope=col>&lt;int&gt;</th><th scope=col>&lt;fct&gt;</th><th scope=col>&lt;fct&gt;</th></tr>\n",
       "</thead>\n",
       "<tbody>\n",
       "\t<tr><th scope=row>1</th><td>85</td><td>Assay</td><td>37</td><td>2020-07-31 17:11:26.12+00 </td><td>Genotyping Arrays</td></tr>\n",
       "\t<tr><th scope=row>2</th><td>85</td><td>Assay</td><td>37</td><td>2020-07-31 17:11:26.12+00 </td><td>In vitro assays  </td></tr>\n",
       "\t<tr><th scope=row>3</th><td>85</td><td>Assay</td><td>38</td><td>2020-07-31 17:11:32.181+00</td><td>Bulk RNA-Seq     </td></tr>\n",
       "\t<tr><th scope=row>4</th><td>85</td><td>Assay</td><td>38</td><td>2020-07-31 17:11:32.181+00</td><td>In vitro assays  </td></tr>\n",
       "\t<tr><th scope=row>5</th><td>85</td><td>Assay</td><td>39</td><td>2020-07-31 17:14:57.686+00</td><td>In vitro assays  </td></tr>\n",
       "</tbody>\n",
       "</table>\n"
      ],
      "text/latex": [
       "A data.frame: 5 × 5\n",
       "\\begin{tabular}{r|lllll}\n",
       "  & element\\_id & element\\_label & instance\\_id & date\\_created & property\\_value\\\\\n",
       "  & <int> & <fct> & <int> & <fct> & <fct>\\\\\n",
       "\\hline\n",
       "\t1 & 85 & Assay & 37 & 2020-07-31 17:11:26.12+00  & Genotyping Arrays\\\\\n",
       "\t2 & 85 & Assay & 37 & 2020-07-31 17:11:26.12+00  & In vitro assays  \\\\\n",
       "\t3 & 85 & Assay & 38 & 2020-07-31 17:11:32.181+00 & Bulk RNA-Seq     \\\\\n",
       "\t4 & 85 & Assay & 38 & 2020-07-31 17:11:32.181+00 & In vitro assays  \\\\\n",
       "\t5 & 85 & Assay & 39 & 2020-07-31 17:14:57.686+00 & In vitro assays  \\\\\n",
       "\\end{tabular}\n"
      ],
      "text/markdown": [
       "\n",
       "A data.frame: 5 × 5\n",
       "\n",
       "| <!--/--> | element_id &lt;int&gt; | element_label &lt;fct&gt; | instance_id &lt;int&gt; | date_created &lt;fct&gt; | property_value &lt;fct&gt; |\n",
       "|---|---|---|---|---|---|\n",
       "| 1 | 85 | Assay | 37 | 2020-07-31 17:11:26.12+00  | Genotyping Arrays |\n",
       "| 2 | 85 | Assay | 37 | 2020-07-31 17:11:26.12+00  | In vitro assays   |\n",
       "| 3 | 85 | Assay | 38 | 2020-07-31 17:11:32.181+00 | Bulk RNA-Seq      |\n",
       "| 4 | 85 | Assay | 38 | 2020-07-31 17:11:32.181+00 | In vitro assays   |\n",
       "| 5 | 85 | Assay | 39 | 2020-07-31 17:14:57.686+00 | In vitro assays   |\n",
       "\n"
      ],
      "text/plain": [
       "  element_id element_label instance_id date_created              \n",
       "1 85         Assay         37          2020-07-31 17:11:26.12+00 \n",
       "2 85         Assay         37          2020-07-31 17:11:26.12+00 \n",
       "3 85         Assay         38          2020-07-31 17:11:32.181+00\n",
       "4 85         Assay         38          2020-07-31 17:11:32.181+00\n",
       "5 85         Assay         39          2020-07-31 17:14:57.686+00\n",
       "  property_value   \n",
       "1 Genotyping Arrays\n",
       "2 In vitro assays  \n",
       "3 Bulk RNA-Seq     \n",
       "4 In vitro assays  \n",
       "5 In vitro assays  "
      ]
     },
     "metadata": {},
     "output_type": "display_data"
    }
   ],
   "source": [
    "head(metadata_assay, 5)"
   ]
  },
  {
   "cell_type": "markdown",
   "metadata": {},
   "source": [
    "### to accss the help documentation"
   ]
  },
  {
   "cell_type": "code",
   "execution_count": 6,
   "metadata": {},
   "outputs": [
    {
     "data": {
      "text/html": [
       "\n",
       "<table width=\"100%\" summary=\"page for Cube Metadata Assay {cube}\"><tr><td>Cube Metadata Assay {cube}</td><td style=\"text-align: right;\">R Documentation</td></tr></table>\n",
       "\n",
       "<h2>Cube Metadata Assay</h2>\n",
       "\n",
       "<h3>Description</h3>\n",
       "\n",
       "<p>Metadata information for assay\n",
       "</p>\n",
       "\n",
       "\n",
       "<h3>Usage</h3>\n",
       "\n",
       "<pre>\n",
       "metadata_assay\n",
       "</pre>\n",
       "\n",
       "\n",
       "<h3>Format</h3>\n",
       "\n",
       "<p>A assay metadata with 18 rows and 5 variables:\n",
       "</p>\n",
       "\n",
       "<dl>\n",
       "<dt>element_id</dt><dd><p>assay id</p>\n",
       "</dd>\n",
       "<dt>element_label</dt><dd><p>name of assay</p>\n",
       "</dd>\n",
       "<dt>instance_id</dt><dd><p>assay instance id</p>\n",
       "</dd>\n",
       "<dt>date_created</dt><dd><p>date created</p>\n",
       "</dd>\n",
       "<dt>property value</dt><dd><p>assay property value</p>\n",
       "</dd>\n",
       "</dl>\n",
       "\n",
       "\n",
       "<hr /><div style=\"text-align: center;\">[Package <em>cube</em> version 0.0.0.9000 ]</div>"
      ],
      "text/latex": [
       "\\inputencoding{utf8}\n",
       "\\HeaderA{Cube Metadata Assay}{Cube Metadata Assay}{Cube Metadata Assay}\n",
       "\\aliasA{metadata\\_assay}{Cube Metadata Assay}{metadata.Rul.assay}\n",
       "\\keyword{datasets}{Cube Metadata Assay}\n",
       "%\n",
       "\\begin{Description}\\relax\n",
       "Metadata information for assay\n",
       "\\end{Description}\n",
       "%\n",
       "\\begin{Usage}\n",
       "\\begin{verbatim}\n",
       "metadata_assay\n",
       "\\end{verbatim}\n",
       "\\end{Usage}\n",
       "%\n",
       "\\begin{Format}\n",
       "A assay metadata with 18 rows and 5 variables:\n",
       "\\begin{description}\n",
       "\n",
       "\\item[element\\_id] assay id\n",
       "\\item[element\\_label] name of assay\n",
       "\\item[instance\\_id] assay instance id\n",
       "\\item[date\\_created] date created\n",
       "\\item[property value] assay property value\n",
       "\n",
       "\\end{description}\n",
       "\n",
       "\\end{Format}"
      ],
      "text/plain": [
       "Cube Metadata Assay            package:cube            R Documentation\n",
       "\n",
       "_\bC_\bu_\bb_\be _\bM_\be_\bt_\ba_\bd_\ba_\bt_\ba _\bA_\bs_\bs_\ba_\by\n",
       "\n",
       "_\bD_\be_\bs_\bc_\br_\bi_\bp_\bt_\bi_\bo_\bn:\n",
       "\n",
       "     Metadata information for assay\n",
       "\n",
       "_\bU_\bs_\ba_\bg_\be:\n",
       "\n",
       "     metadata_assay\n",
       "     \n",
       "_\bF_\bo_\br_\bm_\ba_\bt:\n",
       "\n",
       "     A assay metadata with 18 rows and 5 variables:\n",
       "\n",
       "     element_id assay id\n",
       "\n",
       "     element_label name of assay\n",
       "\n",
       "     instance_id assay instance id\n",
       "\n",
       "     date_created date created\n",
       "\n",
       "     property value assay property value\n"
      ]
     },
     "metadata": {},
     "output_type": "display_data"
    }
   ],
   "source": [
    "help(metadata_assay)"
   ]
  },
  {
   "cell_type": "code",
   "execution_count": null,
   "metadata": {},
   "outputs": [],
   "source": []
  }
 ],
 "metadata": {
  "kernelspec": {
   "display_name": "R 3.4",
   "language": "R",
   "name": "ir34"
  },
  "language_info": {
   "codemirror_mode": "r",
   "file_extension": ".r",
   "mimetype": "text/x-r-source",
   "name": "R",
   "pygments_lexer": "r",
   "version": "3.4.4"
  }
 },
 "nbformat": 4,
 "nbformat_minor": 4
}
