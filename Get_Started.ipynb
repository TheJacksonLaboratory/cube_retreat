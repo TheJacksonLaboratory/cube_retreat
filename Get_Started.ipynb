{
 "cells": [
  {
   "cell_type": "markdown",
   "metadata": {},
   "source": [
    "Welcome to Cube Retreat\n",
    "===\n",
    "<table width=\"100%\"><tr>\n",
    "    <td style=\"font-size:120%\">\n",
    "To get started, follow the instruction to check out the sample notebooks!\n",
    "    </td><td align=\"right\">\n",
    "        <img src=\"Images/jax_logo.png\" alt=\"The Jax Laboratory\" height=\"20%\" width=\"20%\"/>\n",
    "    </td>\n",
    "</tr></table>\n",
    "<hr/>\n",
    "<br/>\n",
    " "
   ]
  },
  {
   "cell_type": "markdown",
   "metadata": {},
   "source": [
    "## Check out Sample Notebooks\n",
    "#### step 1: click on the \"Git Clone\" button on the top\n",
    "> <img src=\"Images/get_started_git_button.png\" alt=\"Git Cone\" width=\"500\"/>\n",
    "\n",
    "#### step 2: enter git clone url\n",
    "\n",
    "```\n",
    "https://github.com/TheJacksonLaboratory/cube_retreat.git\n",
    "```\n",
    "\n",
    "> <img src=\"Images/get_started_enter_git_url.png\" alt=\"Git URL\" width=\"500\"/>\n",
    "\n",
    "#### step 3: enter git login\n",
    "> <img src=\"Images/get_started_enter_git_login.png\" alt=\"Git Login\" width=\"500\"/>\n",
    "\n",
    "#### step 4: successful cloned\n",
    "> <img src=\"Images/get_started_cloned.png\" alt=\"Git Cloned\" width=\"500\"/>\n",
    "\n",
    "#### step 5: open cube_retreat folder\n",
    "> <img src=\"Images/get_started_cube_retreat_folder.png\" alt=\"Cube reteat folder\" width=\"500\"/>\n",
    "\n",
    "#### step 6: enjoy the use cases!\n",
    "\n",
    "<hr/>\n",
    "<br/>"
   ]
  },
  {
   "cell_type": "markdown",
   "metadata": {},
   "source": [
    "# Use Case I (by Robyn Ball)\n",
    "\n",
    "Integrate data across studies and populations in a meta-analysis \n",
    " \n",
    "1.\tFind a phenotype of interest (GTT) and all measurements in the Cube \n",
    "2.\tAdd GTT data from MPD across multiple studies \n",
    "3.\tIdentify the genotypes of all animals and perform meta-analysis on these data [service] \n",
    "4.\tVisualize results and identify SNPs with significant effects \n",
    "5.\tAnalyze which factors (diet, treatment, etc) are important to these SNP effects \n",
    "6.\tPush SNPs to GeneWeaver for various analyses \n",
    "7.\tIdentify genes that are functionally related to these SNPs \n",
    "8.\tSave and share results (perhaps publish in a library for others) \n",
    "9.\tIncorporate these genes in a cross-species analysis (like gene scorecard) to identify gene targets \n",
    "\n",
    "## [=> go to use case I](Use_Case_I/Use_Case_I.ipynb)\n",
    "\n",
    "<br/>\n"
   ]
  },
  {
   "cell_type": "markdown",
   "metadata": {},
   "source": [
    "# Use Case II (by Annat Haber)\n",
    "Genotype correspondence among AD-related variants in AMP-AD cohorts\n",
    "\n",
    "\n",
    "## [=> go to use case II](Use_Case_II/Use_Case_II.ipynb)\n",
    "<br/>\n",
    "\n"
   ]
  },
  {
   "cell_type": "markdown",
   "metadata": {},
   "source": [
    "# Use Case III (by Robyn Ball)\n",
    "\n",
    "Explore multiple factors in an interactive visualization \n",
    "\n",
    "1.\tFind a phenotype of interest (GTT) and all measurements in the Cube \n",
    "2.\tIdentify factors relevant to these studies/animals (diet, strain, treatment, etc) \n",
    "3.\tProduce an interactive figure of these measurements over time with different factors (checkboxes) \n",
    "4.\tAdd other data (body weight, water intake) on these animals to the visualization (this could be suggested or optional). Add as a figure underneath this main figure. Same animals across time. \n",
    "5.\tEnable deep dive into measurements on an individual mouse or all mice in a strain \n",
    "6.\tExport plot(s) as PNG.  \n",
    "7.\tExport as R Markdown for further enhancements \n",
    "8.\tBookmark and share with others \n",
    "\n",
    "\n",
    "## [=> go to use case III](Use_Case_III/Use_Case_III.ipynb)\n",
    "\n",
    "<br/>\n"
   ]
  },
  {
   "cell_type": "code",
   "execution_count": null,
   "metadata": {},
   "outputs": [],
   "source": []
  }
 ],
 "metadata": {
  "kernelspec": {
   "display_name": "R 3.4",
   "language": "R",
   "name": "ir34"
  },
  "language_info": {
   "codemirror_mode": "r",
   "file_extension": ".r",
   "mimetype": "text/x-r-source",
   "name": "R",
   "pygments_lexer": "r",
   "version": "3.4.4"
  }
 },
 "nbformat": 4,
 "nbformat_minor": 4
}
