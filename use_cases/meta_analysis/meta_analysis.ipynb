{
 "cells": [
  {
   "cell_type": "markdown",
   "metadata": {},
   "source": [
    "# Meta Analysis (by Robyn Ball)\n",
    "\n",
    "Integrate data across studies and populations in a meta-analysis \n",
    " \n",
    "1.\tFind a phenotype of interest (GTT) and all measurements in the Cube \n",
    "2.\tAdd GTT data from MPD across multiple studies \n",
    "3.\tIdentify the genotypes of all animals and perform meta-analysis on these data [service] \n",
    "4.\tVisualize results and identify SNPs with significant effects \n",
    "5.\tAnalyze which factors (diet, treatment, etc) are important to these SNP effects \n",
    "6.\tPush SNPs to GeneWeaver for various analyses \n",
    "7.\tIdentify genes that are functionally related to these SNPs \n",
    "8.\tSave and share results (perhaps publish in a library for others) \n",
    "9.\tIncorporate these genes in a cross-species analysis (like gene scorecard) to identify gene targets \n",
    "\n",
    "<hr/>\n"
   ]
  },
  {
   "cell_type": "code",
   "execution_count": null,
   "metadata": {},
   "outputs": [],
   "source": []
  }
 ],
 "metadata": {
  "kernelspec": {
   "display_name": "R",
   "language": "R",
   "name": "ir"
  },
  "language_info": {
   "codemirror_mode": "r",
   "file_extension": ".r",
   "mimetype": "text/x-r-source",
   "name": "R",
   "pygments_lexer": "r",
   "version": "4.0.3"
  }
 },
 "nbformat": 4,
 "nbformat_minor": 4
}
