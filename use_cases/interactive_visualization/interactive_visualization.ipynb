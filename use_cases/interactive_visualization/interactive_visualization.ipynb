{
 "cells": [
  {
   "cell_type": "markdown",
   "metadata": {},
   "source": [
    "# Interactive Visualization (by Robyn Ball)\n",
    "\n",
    "Explore multiple factors in an interactive visualization \n",
    "\n",
    "1.\tFind a phenotype of interest (GTT) and all measurements in the Cube \n",
    "2.\tIdentify factors relevant to these studies/animals (diet, strain, treatment, etc) \n",
    "3.\tProduce an interactive figure of these measurements over time with different factors (checkboxes) \n",
    "4.\tAdd other data (body weight, water intake) on these animals to the visualization (this could be suggested or optional). Add as a figure underneath this main figure. Same animals across time. \n",
    "5.\tEnable deep dive into measurements on an individual mouse or all mice in a strain \n",
    "6.\tExport plot(s) as PNG.  \n",
    "7.\tExport as R Markdown for further enhancements \n",
    "8.\tBookmark and share with others \n",
    "\n",
    "<hr/>\n"
   ]
  },
  {
   "cell_type": "code",
   "execution_count": null,
   "metadata": {},
   "outputs": [],
   "source": []
  }
 ],
 "metadata": {
  "kernelspec": {
   "display_name": "R",
   "language": "R",
   "name": "ir"
  },
  "language_info": {
   "codemirror_mode": "r",
   "file_extension": ".r",
   "mimetype": "text/x-r-source",
   "name": "R",
   "pygments_lexer": "r",
   "version": "4.0.3"
  }
 },
 "nbformat": 4,
 "nbformat_minor": 4
}
