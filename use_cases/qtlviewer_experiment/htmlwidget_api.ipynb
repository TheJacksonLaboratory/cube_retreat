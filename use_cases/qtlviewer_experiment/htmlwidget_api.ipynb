{
 "cells": [
  {
   "cell_type": "markdown",
   "metadata": {},
   "source": [
    "# QTLViewer as R HTMLWidgets\n",
    "\n",
    "This experiment is to run QTLViewer as [htmlwidgets](https://www.htmlwidgets.org/)\n",
    "\n",
    "The htmlwidget accept \"data_api_url\" parameter to call different dataset  \n",
    "\n",
    "<hr/>\n",
    "<br/>\n"
   ]
  },
  {
   "cell_type": "code",
   "execution_count": null,
   "metadata": {},
   "outputs": [],
   "source": [
    "# load qtlviewer library\n",
    "library(qtlviewer)"
   ]
  },
  {
   "cell_type": "code",
   "execution_count": null,
   "metadata": {},
   "outputs": [],
   "source": [
    "qtlviewer(title = \"QTLViewer\", data_api_url = \"http://ctlin0039.jax.org/attie-islet-secretion/\")"
   ]
  },
  {
   "cell_type": "code",
   "execution_count": null,
   "metadata": {},
   "outputs": [],
   "source": [
    "qtlviewer(title = \"QTLViewer\", data_api_url = \"http://ctlin0039.jax.org/do-hippocampus/\")"
   ]
  },
  {
   "cell_type": "markdown",
   "metadata": {},
   "source": [
    "## Source code: \n",
    "[https://github.com/TheJacksonLaboratory/qtlviewer_widget](https://github.com/TheJacksonLaboratory/qtlviewer_widget)"
   ]
  },
  {
   "cell_type": "code",
   "execution_count": null,
   "metadata": {},
   "outputs": [],
   "source": []
  }
 ],
 "metadata": {
  "kernelspec": {
   "display_name": "R",
   "language": "R",
   "name": "ir"
  },
  "language_info": {
   "codemirror_mode": "r",
   "file_extension": ".r",
   "mimetype": "text/x-r-source",
   "name": "R",
   "pygments_lexer": "r",
   "version": "4.0.3"
  }
 },
 "nbformat": 4,
 "nbformat_minor": 4
}
