{
 "cells": [
  {
   "cell_type": "markdown",
   "metadata": {},
   "source": [
    "# QTLViewer Experiment: HTML/Javascript only\n",
    "\n",
    "This experiement is to see if we can simplify the QTLViewer deployment. \n",
    "\n",
    "This QTLViewer runs only html/javascript, and directly pull data from backend R server.  \n",
    "\n",
    "The single deployment can be switched to view different dataset using a parameter.\n",
    "\n",
    "<hr/>\n",
    "<br/>\n"
   ]
  },
  {
   "cell_type": "markdown",
   "metadata": {},
   "source": [
    "Default to pull data from: https://churchilllab.jax.org/qtlviewer/attie/islets"
   ]
  },
  {
   "cell_type": "code",
   "execution_count": 6,
   "metadata": {},
   "outputs": [
    {
     "data": {
      "text/html": [
       "<iframe src=\"http://ctlin0039.jax.org/qtlviewer/index.html\" width=\"1000\" height=\"600\"></iframe>\n"
      ],
      "text/plain": [
       "<IPython.core.display.HTML object>"
      ]
     },
     "metadata": {},
     "output_type": "display_data"
    }
   ],
   "source": [
    "%%html\n",
    "<iframe src=\"http://ctlin0039.jax.org/qtlviewer/index.html\" width=\"1000\" height=\"600\"></iframe>"
   ]
  },
  {
   "cell_type": "markdown",
   "metadata": {},
   "source": [
    "<br/><br/>\n",
    "Parameterize to pull data from: https://churchilllab.jax.org/qtlviewer/DO/hippocampus"
   ]
  },
  {
   "cell_type": "code",
   "execution_count": 9,
   "metadata": {},
   "outputs": [
    {
     "data": {
      "text/html": [
       "<iframe src=\"http://ctlin0039.jax.org/qtlviewer/index.html?data_api_url=http://ctlin0039.jax/do-hippocampus/\" width=\"1000\" height=\"600\"></iframe>\n"
      ],
      "text/plain": [
       "<IPython.core.display.HTML object>"
      ]
     },
     "metadata": {},
     "output_type": "display_data"
    }
   ],
   "source": [
    "%%html\n",
    "<iframe src=\"http://ctlin0039.jax.org/qtlviewer/index.html?data_api_url=http://ctlin0039.jax/do-hippocampus/\" width=\"1000\" height=\"600\"></iframe>"
   ]
  },
  {
   "cell_type": "markdown",
   "metadata": {},
   "source": [
    "<br/><br/>\n",
    "Parameter to pull data from: https://churchilllab.jax.org/qtlviewer/pazdrodoheart"
   ]
  },
  {
   "cell_type": "code",
   "execution_count": 8,
   "metadata": {},
   "outputs": [
    {
     "data": {
      "text/html": [
       "<iframe src=\"http://ctlin0039.jax.org/qtlviewer/index.html?data_api_url=http://ctlin0039.jax.org/pazdro-do-heart/\" width=\"1000\" height=\"600\"></iframe>\n"
      ],
      "text/plain": [
       "<IPython.core.display.HTML object>"
      ]
     },
     "metadata": {},
     "output_type": "display_data"
    }
   ],
   "source": [
    "%%html\n",
    "<iframe src=\"http://ctlin0039.jax.org/qtlviewer/index.html?data_api_url=http://ctlin0039.jax.org/pazdro-do-heart/\" width=\"1000\" height=\"600\"></iframe>"
   ]
  },
  {
   "cell_type": "markdown",
   "metadata": {},
   "source": [
    "## Source code: [https://github.com/TheJacksonLaboratory/qtlviewer_ui](https://github.com/TheJacksonLaboratory/qtlviewer_ui)"
   ]
  },
  {
   "cell_type": "code",
   "execution_count": null,
   "metadata": {},
   "outputs": [],
   "source": []
  }
 ],
 "metadata": {
  "kernelspec": {
   "display_name": "Python 3",
   "language": "python",
   "name": "python3"
  },
  "language_info": {
   "codemirror_mode": {
    "name": "ipython",
    "version": 3
   },
   "file_extension": ".py",
   "mimetype": "text/x-python",
   "name": "python",
   "nbconvert_exporter": "python",
   "pygments_lexer": "ipython3",
   "version": "3.8.6"
  }
 },
 "nbformat": 4,
 "nbformat_minor": 4
}
