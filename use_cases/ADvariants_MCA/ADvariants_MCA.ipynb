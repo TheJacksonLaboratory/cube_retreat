{
 "cells": [
  {
   "cell_type": "markdown",
   "metadata": {},
   "source": [
    "# Genotype correspondence among AD-related variants in AMP-AD cohorts\n",
    "### author: \"Annat Haber\"\n",
    "\n",
    "<pre>\n",
    "date: '`r Sys.Date()`'\n",
    "output:\n",
    "  html_document:\n",
    "    toc: true\n",
    "    code_folding: hide\n",
    "    keep_md: true\n",
    "</pre>"
   ]
  },
  {
   "cell_type": "code",
   "execution_count": 3,
   "metadata": {
    "attributes": {
     "classes": [],
     "id": "",
     "message": "FALSE",
     "warning": "FALSE,"
    }
   },
   "outputs": [],
   "source": [
    "knitr::opts_knit$set(root.dir = rprojroot::find_rstudio_root_file())\n",
    "knitr::opts_chunk$set(cache=TRUE, cache.extra = R.version)"
   ]
  },
  {
   "cell_type": "code",
   "execution_count": null,
   "metadata": {
    "attributes": {
     "classes": [],
     "id": "",
     "message": "FALSE",
     "warning": "FALSE,"
    }
   },
   "outputs": [],
   "source": [
    "install.packages('FactoMineR')\n",
    "suppressPackageStartupMessages({\n",
    "  library(FactoMineR)\n",
    "  library(factoextra)\n",
    "  library(tidyverse)\n",
    "  library(vcd)\n",
    "  library(lattice)\n",
    "  library(pins)\n",
    "  library(synapser)\n",
    "  library(data.table)\n",
    "})"
   ]
  },
  {
   "cell_type": "markdown",
   "metadata": {},
   "source": [
    "This analysis looks into genotype correspondence in AD-related loci across the three AMP-AD cohorts, and their enrichment across diagnosis, using Multiple Correspondence Analysis.\n",
    "\n",
    "# Input\n",
    "Loading metadata directly from synapse."
   ]
  },
  {
   "cell_type": "code",
   "execution_count": null,
   "metadata": {
    "attributes": {
     "classes": [],
     "error": "FALSE,",
     "id": "",
     "message": "FALSE,",
     "results": "'hide'",
     "warning": "FALSE,"
    }
   },
   "outputs": [],
   "source": [
    "invisible(synLogin())\n",
    "# All files from synapse are cached to /tier2/sdata/synapseCache\n",
    "\n",
    "mayo <- read_csv(synGet(\"syn11384571\")$path) %>%    \n",
    "  select(wgs_id=WGS_Participant_ID, reported_apoe=ApoE, diagnosis=Diagnosis) %>%\n",
    "  mutate(cohort=\"mayo\", diagnosis=case_when(diagnosis==\"PSP\" ~ \"Other\",\n",
    "                                            diagnosis==\"Pathologic Aging\" ~ \"MCI\",\n",
    "                                            diagnosis==\"AD\" ~ \"AD\",\n",
    "                                            diagnosis==\"Control\" ~ \"Control\"))\n",
    "\n",
    "msbb <- read_tsv(synGet(\"syn11384608\")$path) %>%\n",
    "  filter(Action!=\"Exclude\") %>%\n",
    "  select(wgs_id=sampleIdentifier, individualID=individualIdentifier.inferred) %>%\n",
    "  left_join(read_csv(synGet(\"syn6101474\")$path), \n",
    "            by.y=\"individualID\") %>%\n",
    "  select(wgs_id, reported_apoe=apoeGenotype, diagnosis=CDR) %>%\n",
    "  mutate(cohort=\"msbb\", diagnosis=case_when(diagnosis %in% c(1:2) ~ \"MCI\",\n",
    "                                            diagnosis %in% c(3:5) ~ \"AD\",\n",
    "                                            diagnosis!=c(1:5) ~ \"Control\"))\n",
    "  \n",
    "rosmap <- read_csv(synGet(\"syn3382527\")$path) %>%\n",
    "  left_join(read_csv(synGet(\"syn3191087\")$path), by=\"projid\") %>%\n",
    "  filter(!is.na(wgs_id)) %>%\n",
    "  filter(!duplicated(wgs_id)) %>%\n",
    "  select(wgs_id, reported_apoe=apoe_genotype, diagnosis=cogdx) %>%\n",
    "  mutate(cohort=\"rosmap\", diagnosis=case_when(diagnosis %in% c(2:3) ~ \"MCI\",\n",
    "                                            diagnosis %in% c(4:5) ~ \"AD\",\n",
    "                                            diagnosis==1 ~ \"Control\",\n",
    "                                            diagnosis==6 ~ \"Other\"))\n",
    "\n",
    "meta <- rbind(mayo, msbb, rosmap)"
   ]
  },
  {
   "cell_type": "markdown",
   "metadata": {},
   "source": [
    "# Get variants positions\n",
    "The first step is to extract variants position from the annotation files provided by AMP-AD.  \n",
    "The list of variants is provided in ADvariants.txt. This file includes the closest AD-related gene for each variant based on the literature, as well as information related to its use for MODEL-AD, as given on [the MODEL-AD wiki page](https://www.synapse.org/#!Synapse:syn7419026/wiki/601516)."
   ]
  },
  {
   "cell_type": "code",
   "execution_count": null,
   "metadata": {
    "attributes": {
     "classes": [],
     "eval": "FALSE",
     "id": ""
    }
   },
   "outputs": [],
   "source": [
    "invisible(synLogin())\n",
    "\n",
    "variants <- read.delim(\"input/ADvariants.txt\", header=TRUE, sep=\"\\t\", stringsAsFactors = FALSE) %>%\n",
    "  select(ID, ClosestGene)\n",
    "\n",
    "annofiles <- paste0(\"NIA_JG_1898_samples_GRM_WGS_b37_JointAnalysis01_2017-12-08_\", \n",
    "                    1:22, \n",
    "                    \".recalibrated_variants.annotated.txt\")\n",
    "anno.all <- c()\n",
    "for (fl in annofiles) {\n",
    "  synid <- synFindEntityId(fl, parent=\"syn11707420\")\n",
    "  print(c(fl, synid))\n",
    "  annot <- fread(file=synGet(synid)$path, sep=\"\\t\")\n",
    "  vi <- which(annot$ID%in%variants$ID)\n",
    "  anno.all <- rbind(anno.all, annot[vi,c(\"ID\", \"CHROM\",\"POS\", \"REF\",\"ALT\")])\n",
    "  rm(annot)\n",
    "  }\n",
    "\n",
    "\n",
    "anno.all %>%\n",
    "  distinct() %>%\n",
    "  merge(variants, by=\"ID\", all=TRUE) %>%\n",
    "  fwrite(file=\"output/ADvariants_anno.txt\", \n",
    "         sep=\"\\t\", row.names = FALSE, quote = FALSE)\n"
   ]
  },
  {
   "cell_type": "markdown",
   "metadata": {},
   "source": [
    "# Get genotypes\n",
    "The second step extracts the genotypes in all the AD loci for all samples from the WGS vcf files. This is done on hpc."
   ]
  },
  {
   "cell_type": "code",
   "execution_count": null,
   "metadata": {
    "attributes": {
     "classes": [],
     "eval": "FALSE",
     "id": ""
    }
   },
   "outputs": [],
   "source": [
    "qsub scripts/ADvariants_getGenotypes.pbs"
   ]
  },
  {
   "cell_type": "markdown",
   "metadata": {},
   "source": [
    "# Re-coding genotypes\n",
    "This step re-codes the genotype information extracted from the vcf files: 0, homozygote for the reference allele; 1, heterozygote; 2, homozygote for the alternative allele. For APOE it combines the two variants. These codes are treated as categorical below. The final genotype matrix is exported as [ADvariants_genotypes_all.csv](output/ADvariants_genotypes_all.csv) (see output section below)."
   ]
  },
  {
   "cell_type": "code",
   "execution_count": null,
   "metadata": {},
   "outputs": [],
   "source": [
    "gtfiles <- list.files(path=\"output/\", pattern=\"ADvariants_genotypes_rs\")\n",
    "variants <- read.delim(file=\"output/ADvariants_anno.txt\", colClasses = \"character\")\n",
    "genotypesL <- c()\n",
    "  \n",
    "for (fn in gtfiles) {\n",
    "  gfile <- read.delim(file=paste0(\"output/\",fn), header =FALSE, colClasses = \"character\")\n",
    "  rsID <- gsub(pattern=\"ADvariants_genotypes_(rs\\\\d+).txt\", \"\\\\1\", x=fn)\n",
    "  g_rsid <- paste(variants$ClosestGene[variants$ID==rsID], rsID, sep=\"_\")\n",
    "  pos <- c(unique(gfile[,2]))\n",
    "  gt <- gfile[gfile[,2]==pos,6] %>%\n",
    "    recode(\"0/0\"=\"0\") %>%\n",
    "    recode(\"0/1\"=\"1\") %>%\n",
    "    recode(\"1/1\"=\"2\")\n",
    "  genotypesL[[g_rsid]][[g_rsid]] <- gt\n",
    "  genotypesL[[g_rsid]][[\"wgs_id\"]] <- unique(as.character(gfile[,5]))\n",
    "  }\n",
    "\n",
    "genotypes <- as.data.frame(genotypesL[[1]], stringsAsFactors=FALSE)\n",
    "for (l in 2:length(genotypesL)) {\n",
    "  genotypes <- merge(genotypes, as.data.frame(genotypesL[[l]], stringsAsFactors=FALSE), by=\"wgs_id\")\n",
    "  }\n",
    "\n",
    "genotypes <- filter(genotypes, wgs_id %in% meta$wgs_id)\n",
    "# one sample has unknown genotype for TMEM106B_rs1054169 so \"imputing\" it with 0\n",
    "genotypes$TMEM106B_rs1054169 <- recode(genotypes$TMEM106B_rs1054169, \"./.\"=\"0\") \n",
    "  "
   ]
  },
  {
   "cell_type": "markdown",
   "metadata": {},
   "source": [
    "## APOE\n",
    "Combining the genotypes for APOE variants rs429358 and rs7412.  \n",
    "Comparing genotypes reported in the clinical files with the genotypes extracted here directly from the WGS data.  \n",
    "A table listing all extracted and reported APOE genotypes is exported as  [APOE_all.csv](output/APOE_all.csv) (see output section below)."
   ]
  },
  {
   "cell_type": "code",
   "execution_count": null,
   "metadata": {},
   "outputs": [],
   "source": [
    "apoe <- genotypes %>%\n",
    "  select(wgs_id, rs429358=APOE_rs429358, rs7412=APOE_rs7412)\n",
    "\n",
    "# combining the two variants\n",
    "apoe$wgs_apoe <- NA\n",
    "apoe$wgs_apoe[apoe$rs429358==\"0\" & apoe$rs7412==\"2\"] <- \"22\"\n",
    "apoe$wgs_apoe[apoe$rs429358==\"0\" & apoe$rs7412==\"1\"] <- \"23\"\n",
    "apoe$wgs_apoe[apoe$rs429358==\"1\" & apoe$rs7412==\"1\"] <- \"24\"\n",
    "apoe$wgs_apoe[apoe$rs429358==\"0\" & apoe$rs7412==\"0\"] <- \"33\"\n",
    "apoe$wgs_apoe[apoe$rs429358==\"1\" & apoe$rs7412==\"0\"] <- \"34\"\n",
    "apoe$wgs_apoe[apoe$rs429358==\"2\" & apoe$rs7412==\"0\"] <- \"44\"\n",
    "\n",
    "apoe <- merge(apoe, meta, by=\"wgs_id\") %>% \n",
    "  select(-\"diagnosis\")\n",
    "apoe$same_apoe <- if_else(apoe$reported_apoe == apoe$wgs_apoe, \"YES\", \"NO\")\n",
    "\n",
    "cat(\"Mayo:\", \"\\n\",\n",
    "    length(which(is.na(apoe$reported_apoe) & apoe$cohort==\"mayo\")), \n",
    "    \"samples are missing ApoE genotype in clinical data\", \"\\n\",\n",
    "    length(which(apoe$same_apoe==\"NO\" & apoe$cohort==\"mayo\")), \n",
    "    \"samples differ in their reported and extracted ApoE genotype\", \"\\n\")\n",
    "\n",
    "cat(\"MSBB:\", \"\\n\",\n",
    "    length(which(is.na(apoe$reported_apoe) & apoe$cohort==\"msbb\")), \n",
    "    \"samples are missing ApoE genotype in clinical data\", \"\\n\",\n",
    "    length(which(apoe$same_apoe==\"NO\" & apoe$cohort==\"msbb\")), \n",
    "    \"samples differ in their reported and extracted ApoE genotype\", \"\\n\")\n",
    "\n",
    "cat(\"ROSMAP:\", \"\\n\",\n",
    "    length(which(is.na(apoe$reported_apoe) & apoe$cohort==\"rosmap\")), \n",
    "    \"samples are missing ApoE genotype in clinical data\", \"\\n\",\n",
    "    length(which(apoe$same_apoe==\"NO\" & apoe$cohort==\"rosmap\")), \n",
    "    \"samples differ in their reported and extracted ApoE genotype\", \"\\n\")\n",
    "\n",
    "# removing the two separate variants in the genotypes table and replacing them with the combined genotype\n",
    "genotypes <- genotypes %>%\n",
    "  select(-starts_with(\"APOE\"))\n",
    "genotypes$APOE_e4 <- ifelse(apoe$wgs_apoe==\"44\", \"2\", ifelse(apoe$wgs_apoe==\"22\", \"0\", \"1\"))\n"
   ]
  },
  {
   "cell_type": "markdown",
   "metadata": {},
   "source": [
    "# Distributions {.tabset .tabset-fade .tabset-pills}"
   ]
  },
  {
   "cell_type": "code",
   "execution_count": null,
   "metadata": {},
   "outputs": [],
   "source": [
    "variants <- unique(colnames(genotypes)[-1])\n",
    "data <- merge(genotypes, meta, by=\"wgs_id\", all=FALSE) %>%\n",
    "  select(-reported_apoe)\n",
    "\n",
    "# removing rsIDs from var names for plots; modifying gene names that have more than one variant\n",
    "varnm <- str_extract(variants, \"^[^_]+\")\n",
    "dupi <- which(duplicated(varnm) | duplicated(varnm,fromLast = T))\n",
    "cnx <- str_extract(variants[dupi], \"\\\\d\\\\d$\")\n",
    "varnm[dupi] <- paste(varnm[dupi], cnx, sep=\"_\")\n",
    "names(varnm) <- variants\n",
    "``` \n",
    "  \n",
    "## Genotypes total frequencies\n",
    "This graph is mostly to see if any of the genotypes have very low frequencies, which could bias the MCA.\n",
    "IL34, SCIMP, APOE, ABCA7_50, and SHARPIN have low frequencies for genotype 2, and therefore should be deleted or pooled.  \n",
    "Below I repeated the analysis with these genes pooled and unpooled.\n",
    "```{r genotypeFreq}\n",
    "df <- data %>%\n",
    "  pivot_longer(-c(\"wgs_id\",\"diagnosis\"),  names_to=\"variant\", values_to = \"genotype\") %>%\n",
    "  count(variant, genotype)\n",
    "\n",
    "ggplot(df, aes( x = genotype, y = n) ) + \n",
    "      geom_bar( stat = \"identity\") + \n",
    "      facet_wrap( ~ variant ) + \n",
    "      geom_text( aes( label = n, y = n+1000 ),\n",
    "                 vjust = 1.4, size = 3, color = \"black\" ) +\n",
    "      theme_bw()\n",
    "\n",
    "rm(df)"
   ]
  },
  {
   "cell_type": "markdown",
   "metadata": {},
   "source": [
    "## Genotype frequencies by cohort\n",
    "This graph is mostly to see if any of the categories have very low frequencies when split by cohort, which could bias the MCA.\n",
    "IL34, SCIMP, ABCA7_rs3764650, SHARPIN, ADAMTS4, KLOTHO, and AP4E1/SPPL2A - pool genotypes 1+2  \n",
    "ABCA7_rs3752246, HLA, PILRA - pool genotypes 0+1  \n",
    "APOE4 needs to be reoved as it cannot be pooled  \n",
    "Doesn't look like there's substantial difference between cohorts"
   ]
  },
  {
   "cell_type": "code",
   "execution_count": null,
   "metadata": {},
   "outputs": [],
   "source": [
    "df <- data %>%\n",
    "  pivot_longer(-c(\"wgs_id\",\"diagnosis\":\"cohort\"),  names_to=\"variant\", values_to = \"genotype\") %>%\n",
    "  count(cohort, variant, genotype)\n",
    "\n",
    "ggplot(df, aes( x = cohort, y = n, fill=genotype) ) + \n",
    "      geom_bar( stat = \"identity\", position=\"dodge\" ) + \n",
    "      facet_wrap( ~ variant ) + \n",
    "      theme_bw()+ \n",
    "      theme( axis.text.x = element_text( angle = 90,  hjust = 1 ) )\n",
    "\n",
    "rm(df)"
   ]
  },
  {
   "cell_type": "markdown",
   "metadata": {},
   "source": [
    "## Chi2 deviations by cohort {.tabset .tabset-fade .tabset-pills}\n",
    "Chi-square deviations of genotype by cohort are calculated for each variant independently.  \n",
    "Deviations are mostly rather low, indicating no associations all in all.  \n",
    "Only variants with very low frequencies (listed above) show any significant association with cohorts.\n",
    "  \n",
    "### Unpooled genotypes"
   ]
  },
  {
   "cell_type": "code",
   "execution_count": null,
   "metadata": {
    "attributes": {
     "classes": [],
     "fig.show": "'hold',",
     "id": "",
     "out.extra": "'style=\"background-color: #9ecff7; padding:1px; display: inline-block;\"'",
     "out.width": "c('33%',"
    }
   },
   "outputs": [],
   "source": [
    "for (var in variants) {\n",
    "  dfv <- data %>%\n",
    "    select(gt=all_of(var), cohort) %>% \n",
    "    count(gt, cohort) %>%\n",
    "    pivot_wider(names_from = gt, values_from = n) %>%\n",
    "    column_to_rownames(\"cohort\")\n",
    "  \n",
    "  assoc(as.matrix(dfv), main=var, shade=TRUE, \n",
    "        labeling_args = list(gp_labels = gpar(fontsize = 15), abbreviate_labs = c(6, 9), \n",
    "                             varnames=c(FALSE,FALSE), rot_labels=c(0,0)))\n",
    "  }\n",
    "\n",
    "rm(dfv)"
   ]
  },
  {
   "cell_type": "markdown",
   "metadata": {},
   "source": [
    "### Pooled genotypes"
   ]
  },
  {
   "cell_type": "code",
   "execution_count": null,
   "metadata": {
    "attributes": {
     "classes": [],
     "fig.show": "'hold',",
     "id": "",
     "out.extra": "'style=\"background-color: #9ecff7; padding:1px; display: inline-block;\"'",
     "out.width": "c('33%',"
    }
   },
   "outputs": [],
   "source": [
    "pooled_12 <- c(\"ADAMTS4_rs4575098\", \"ABCA7_rs3764650\", \"AP4E1.SPPL2A_rs12595082\", \"IL34_rs4985556\", \"SCIMP_rs61481506\", \"SHARPIN_rs34674752\", \"KLOTHO_rs9527025\")\n",
    "pooled_01 <- c(\"ABCA7_rs3752246\", \"HLA.DRB1_rs9271192\", \"PILRA_rs1859788\")\n",
    "\n",
    "pooldata <- data %>%\n",
    "  mutate_at(pooled_12, \n",
    "            function(x) {replace(x, which(x==\"1\" | x==\"2\"), \"1+2\")}) %>%\n",
    "  mutate_at(pooled_01, \n",
    "            function(x) {replace(x, which(x==\"0\" | x==\"1\"), \"0+1\")})\n",
    "\n",
    "\n",
    "for (var in variants) {\n",
    "  dfv <- pooldata %>%\n",
    "    select(gt=all_of(var), cohort) %>% \n",
    "    count(gt, cohort) %>%\n",
    "    pivot_wider(names_from = gt, values_from = n) %>%\n",
    "    column_to_rownames(\"cohort\")\n",
    "  \n",
    "  assoc(as.matrix(dfv), main=var, shade=TRUE, \n",
    "        labeling_args = list(gp_labels = gpar(fontsize = 15), abbreviate_labs = c(6, 9), \n",
    "                             varnames=c(FALSE,FALSE), rot_labels=c(0,0)))\n",
    "  }\n",
    "\n",
    "rm(dfv)"
   ]
  },
  {
   "cell_type": "code",
   "execution_count": null,
   "metadata": {},
   "outputs": [],
   "source": [
    "\n",
    "# Multiple Correspondence Analysis {.tabset .tabset-fade .tabset-pills}\n",
    "This step explores the associations among variants and their enrichment in cohorts using Multiple Correspondence Analysis, as implemented in the MCA package http://www.sthda.com/english/articles/31-principal-component-methods-in-r-practical-guide/114-mca-multiple-correspondence-analysis-in-r-essentials/"
   ]
  },
  {
   "cell_type": "markdown",
   "metadata": {},
   "source": [
    "The space is based on variants only and therefore represents co-occurrence among AD-related genotypes. \n",
    "Screeplot indicates that there isn't much structure in the data, i.e., variant genotypes do not co-occur in patients much more than expected by chance.  \n",
    "The two variants of BIN1 and ABCA7 dominate the first and second axes, in orthogonal directions.  \n",
    "Individuals are colored by diagnosis and cohort, indicating that there is no clear separation by either factors in terms of their genotypes at these AD-related loci.  \n",
    "\n",
    "## All cohorts {.tabset .tabset-fade .tabset-pills}\n",
    "  \n",
    "### Unpooled genotypes"
   ]
  },
  {
   "cell_type": "code",
   "execution_count": null,
   "metadata": {
    "attributes": {
     "classes": [],
     "fig.show": "\"hold\",",
     "id": "",
     "message": "FALSE,",
     "out.extra": "'style=\"background-color: #9ecff7; padding:1px; display: inline-block;\"'",
     "out.width": "c('50%',",
     "results": "\"hold\",",
     "warning": "FALSE,"
    }
   },
   "outputs": [],
   "source": [
    "ca.df <- data %>%\n",
    "  select(-APOE_e4) %>%\n",
    "  column_to_rownames(\"wgs_id\")\n",
    "\n",
    "colnames(ca.df)[grep(\"_\", colnames(ca.df))] <- varnm\n",
    "\n",
    "\n",
    "res.mca <- MCA(ca.df, graph=FALSE,\n",
    "               quali.sup=which(colnames(ca.df) %in% c(\"diagnosis\", \"cohort\")))\n",
    "\n",
    "fviz_eig(res.mca, ncp=20)\n",
    "fviz_cos2(res.mca, choice = \"var\", axes = c(1,2), top = 15)\n",
    "fviz_contrib(res.mca, choice = \"var\", axes = 2, top = 15)\n",
    "fviz_contrib(res.mca, choice = \"var\", axes = 1, top = 15)\n",
    "\n",
    "fviz_mca_biplot(res.mca, axes = c(1,2),\n",
    "             label = \"var\", repel=TRUE,\n",
    "             habillage = \"cohort\", # color by cohort \n",
    "             select.var = list(contrib = 15),\n",
    "             arrows = c(FALSE, TRUE),\n",
    "             ggtheme = theme_minimal(), \n",
    "               ) \n",
    "\n",
    "fviz_mca_biplot(res.mca, axes = c(3,4),\n",
    "             label = \"var\", repel=TRUE,\n",
    "             habillage = \"cohort\", # color by cohort \n",
    "             select.var = list(contrib = 15),\n",
    "             arrows = c(FALSE, TRUE),\n",
    "             ggtheme = theme_minimal(), \n",
    "               ) \n",
    "\n",
    "\n",
    "fviz_mca_biplot(res.mca, axes = c(1,2),\n",
    "             label = \"var\", repel=TRUE,\n",
    "             habillage = \"diagnosis\", # color by diagnosis \n",
    "             select.var = list(contrib = 15),\n",
    "             arrows = c(FALSE, TRUE),\n",
    "             ggtheme = theme_minimal(), \n",
    "               ) \n",
    "\n",
    "fviz_mca_biplot(res.mca, axes = c(1,2),\n",
    "             label = c(\"quali.sup\"), repel=TRUE,\n",
    "             alpha.var = \"cos2\",\n",
    "             invisible = c(\"ind\", \"ind.sup\"),\n",
    "             arrows = c(FALSE, TRUE),\n",
    "             ggtheme = theme_minimal(), \n",
    "               ) \n",
    "\n",
    "fviz_mca_biplot(res.mca, axes = c(3,4),\n",
    "             label = c(\"quali.sup\"), repel=TRUE,\n",
    "             alpha.var = \"cos2\",\n",
    "             invisible = c(\"ind\", \"ind.sup\"),\n",
    "             arrows = c(FALSE, TRUE),\n",
    "             ggtheme = theme_minimal(), \n",
    "               ) \n",
    "\n",
    "rm(ca.df)"
   ]
  },
  {
   "cell_type": "markdown",
   "metadata": {},
   "source": [
    "### Pooled genotypes"
   ]
  },
  {
   "cell_type": "code",
   "execution_count": null,
   "metadata": {
    "attributes": {
     "classes": [],
     "fig.show": "\"hold\",",
     "id": "",
     "out.extra": "'style=\"background-color: #9ecff7; padding:1px; display: inline-block;\"'",
     "out.width": "c('50%',",
     "results": "\"hold\","
    }
   },
   "outputs": [],
   "source": [
    "\n",
    "pooled_12 <- c(\"ADAMTS4_rs4575098\", \"AP4E1.SPPL2A_rs12595082\", \"IL34_rs4985556\", \"SCIMP_rs61481506\", \"SHARPIN_rs34674752\")\n",
    "pooled_01 <- c(\"ABCA7_rs3752246\", \"HLA.DRB1_rs9271192\", \"PILRA_rs1859788\")\n",
    "\n",
    "ca.df <- data %>%\n",
    "  mutate_at(pooled_12, \n",
    "            function(x) {replace(x, which(x==\"1\" | x==\"2\"), \"1+2\")}) %>%\n",
    "  mutate_at(pooled_01, \n",
    "            function(x) {replace(x, which(x==\"0\" | x==\"1\"), \"0+1\")}) %>%\n",
    "  column_to_rownames(\"wgs_id\")\n",
    "\n",
    "colnames(ca.df)[grep(\"_\", colnames(ca.df))] <- varnm\n",
    "\n",
    "\n",
    "# MCA\n",
    "res.mca <- MCA(ca.df, graph=FALSE,\n",
    "               quali.sup=which(colnames(ca.df) %in% c(\"APOE\", \"diagnosis\", \"cohort\")))\n",
    "\n",
    "fviz_eig(res.mca, ncp=20)\n",
    "fviz_cos2(res.mca, choice = \"var\", axes = c(1,2), top = 15)\n",
    "fviz_contrib(res.mca, choice = \"var\", axes = 2, top = 15)\n",
    "fviz_contrib(res.mca, choice = \"var\", axes = 1, top = 15)\n",
    "\n",
    "fviz_mca_biplot(res.mca, axes = c(1,2),\n",
    "             label = \"var\", repel=TRUE,\n",
    "             habillage = \"cohort\", # color by cohort \n",
    "             select.var = list(contrib = 15),\n",
    "             arrows = c(FALSE, TRUE),\n",
    "             ggtheme = theme_minimal(), \n",
    "               ) \n",
    "\n",
    "fviz_mca_biplot(res.mca, axes = c(3,4),\n",
    "             label = \"var\", repel=TRUE,\n",
    "             habillage = \"cohort\", # color by cohort \n",
    "             select.var = list(contrib = 15),\n",
    "             arrows = c(FALSE, TRUE),\n",
    "             ggtheme = theme_minimal(), \n",
    "               ) \n",
    "\n",
    "\n",
    "fviz_mca_biplot(res.mca, axes = c(1,2),\n",
    "             label = \"var\", repel=TRUE,\n",
    "             habillage = \"diagnosis\", # color by diagnosis \n",
    "             select.var = list(contrib = 15),\n",
    "             arrows = c(FALSE, TRUE),\n",
    "             ggtheme = theme_minimal(), \n",
    "               ) \n",
    "\n",
    "fviz_mca_biplot(res.mca, axes = c(1,2),\n",
    "             label = c(\"quali.sup\"), repel=TRUE,\n",
    "             alpha.var = \"cos2\",\n",
    "             invisible = c(\"ind\", \"ind.sup\"),\n",
    "             arrows = c(FALSE, TRUE),\n",
    "             ggtheme = theme_minimal(), \n",
    "               ) \n",
    "\n",
    "fviz_mca_biplot(res.mca, axes = c(3,4),\n",
    "             label = c(\"quali.sup\"), repel=TRUE,\n",
    "             alpha.var = \"cos2\",\n",
    "             invisible = c(\"ind\", \"ind.sup\"),\n",
    "             arrows = c(FALSE, TRUE),\n",
    "             ggtheme = theme_minimal(), \n",
    "               ) \n",
    "\n",
    "\n",
    "rm(ca.df)"
   ]
  },
  {
   "cell_type": "markdown",
   "metadata": {},
   "source": [
    "## ROSMAP only {.tabset .tabset-fade .tabset-pills}\n",
    "\n",
    "### All samples"
   ]
  },
  {
   "cell_type": "code",
   "execution_count": null,
   "metadata": {
    "attributes": {
     "classes": [],
     "fig.show": "\"hold\",",
     "id": "",
     "out.extra": "'style=\"background-color: #9ecff7; padding:1px; display: inline-block;\"'",
     "out.width": "c('50%',",
     "results": "\"hold\",",
     "warning": "FALSE,"
    }
   },
   "outputs": [],
   "source": [
    "\n",
    "pooled_12 <- c(\"ADAMTS4_rs4575098\", \"AP4E1.SPPL2A_rs12595082\", \"IL34_rs4985556\", \"SCIMP_rs61481506\", \"SHARPIN_rs34674752\")\n",
    "pooled_01 <- c(\"ABCA7_rs3752246\", \"HLA.DRB1_rs9271192\", \"PILRA_rs1859788\")\n",
    "\n",
    "ca.df <- data %>%\n",
    "  mutate_at(pooled_12, \n",
    "            function(x) {replace(x, which(x==\"1\" | x==\"2\"), \"1+2\")}) %>%\n",
    "  mutate_at(pooled_01, \n",
    "            function(x) {replace(x, which(x==\"0\" | x==\"1\"), \"0+1\")}) %>%\n",
    "  column_to_rownames(\"wgs_id\") %>%\n",
    "  filter(cohort==\"rosmap\") %>%\n",
    "  select(-cohort)\n",
    "\n",
    "colnames(ca.df)[grep(\"_\", colnames(ca.df))] <- varnm\n",
    "\n",
    "\n",
    "# MCA\n",
    "res.mca <- MCA(ca.df, graph=FALSE,\n",
    "               quali.sup=which(colnames(ca.df) %in% c(\"APOE\", \"diagnosis\")))\n",
    "\n",
    "fviz_eig(res.mca, ncp=20)\n",
    "fviz_cos2(res.mca, choice = \"var\", axes = c(1,2), top = 15)\n",
    "fviz_contrib(res.mca, choice = \"var\", axes = 2, top = 15)\n",
    "fviz_contrib(res.mca, choice = \"var\", axes = 1, top = 15)\n",
    "\n",
    "\n",
    "fviz_mca_biplot(res.mca, axes = c(1,2),\n",
    "             label = \"var\", repel=TRUE,\n",
    "             habillage = \"diagnosis\", # color by diagnosis \n",
    "             select.var = list(contrib = 15),\n",
    "             arrows = c(FALSE, TRUE),\n",
    "             ggtheme = theme_minimal(), \n",
    "               ) \n",
    "\n",
    "fviz_mca_biplot(res.mca, axes = c(3,4),\n",
    "             label = \"var\", repel=TRUE,\n",
    "             habillage = \"diagnosis\", # color by diagnosis \n",
    "             select.var = list(contrib = 15),\n",
    "             arrows = c(FALSE, TRUE),\n",
    "             ggtheme = theme_minimal(), \n",
    "               ) \n",
    "\n",
    "fviz_mca_biplot(res.mca, axes = c(1,2),\n",
    "             label = c(\"quali.sup\"), repel=TRUE,\n",
    "             alpha.var = \"cos2\",\n",
    "             invisible = c(\"ind\", \"ind.sup\"),\n",
    "             arrows = c(FALSE, TRUE),\n",
    "             ggtheme = theme_minimal(), \n",
    "               ) \n",
    "\n",
    "fviz_mca_biplot(res.mca, axes = c(3,4),\n",
    "             label = c(\"quali.sup\"), repel=TRUE,\n",
    "             alpha.var = \"cos2\",\n",
    "             invisible = c(\"ind\", \"ind.sup\"),\n",
    "             arrows = c(FALSE, TRUE),\n",
    "             ggtheme = theme_minimal(), \n",
    "               ) \n",
    "\n",
    "rm(ca.df)"
   ]
  },
  {
   "cell_type": "markdown",
   "metadata": {},
   "source": [
    "### AD+MCI samples"
   ]
  },
  {
   "cell_type": "code",
   "execution_count": null,
   "metadata": {
    "attributes": {
     "classes": [],
     "fig.show": "\"hold\",",
     "id": "",
     "out.extra": "'style=\"background-color: #9ecff7; padding:1px; display: inline-block;\"'",
     "out.width": "c('50%',",
     "results": "\"hold\",",
     "warning": "FALSE,"
    }
   },
   "outputs": [],
   "source": [
    "\n",
    "pooled_12 <- c(\"ADAMTS4_rs4575098\", \"AP4E1.SPPL2A_rs12595082\", \"IL34_rs4985556\", \"SCIMP_rs61481506\", \"SHARPIN_rs34674752\")\n",
    "pooled_01 <- c(\"ABCA7_rs3752246\", \"HLA.DRB1_rs9271192\", \"PILRA_rs1859788\")\n",
    "\n",
    "ca.df <- data %>%\n",
    "  mutate_at(pooled_12, \n",
    "            function(x) {replace(x, which(x==\"1\" | x==\"2\"), \"1+2\")}) %>%\n",
    "  mutate_at(pooled_01, \n",
    "            function(x) {replace(x, which(x==\"0\" | x==\"1\"), \"0+1\")}) %>%\n",
    "  column_to_rownames(\"wgs_id\") %>%\n",
    "  filter(cohort==\"rosmap\") %>%\n",
    "  select(-cohort)\n",
    "\n",
    "colnames(ca.df)[grep(\"_\", colnames(ca.df))] <- varnm\n",
    "\n",
    "\n",
    "# MCA\n",
    "res.mca <- MCA(ca.df, graph=FALSE,\n",
    "               quali.sup=which( colnames(ca.df) %in% c(\"APOE\", \"diagnosis\")),\n",
    "               ind.sup = which( ! ca.df$diagnosis %in% c(\"AD\", \"MCI\")))\n",
    "\n",
    "fviz_eig(res.mca, ncp=20)\n",
    "fviz_cos2(res.mca, choice = \"var\", axes = c(1,2), top = 15)\n",
    "fviz_contrib(res.mca, choice = \"var\", axes = 2, top = 15)\n",
    "fviz_contrib(res.mca, choice = \"var\", axes = 1, top = 15)\n",
    "\n",
    "\n",
    "fviz_mca_biplot(res.mca, axes = c(1,2),\n",
    "             label = \"var\", repel=TRUE,\n",
    "             habillage = \"diagnosis\", # color by diagnosis \n",
    "             select.var = list(contrib = 15),\n",
    "             invisible = \"ind.sup\",\n",
    "             arrows = c(FALSE, TRUE),\n",
    "             ggtheme = theme_minimal(), \n",
    "               ) \n",
    "\n",
    "fviz_mca_biplot(res.mca, axes = c(3,4),\n",
    "             label = \"var\", repel=TRUE,\n",
    "             habillage = \"diagnosis\", # color by diagnosis \n",
    "             select.var = list(contrib = 15),\n",
    "             invisible = \"ind.sup\",\n",
    "             arrows = c(FALSE, TRUE),\n",
    "             ggtheme = theme_minimal(), \n",
    "               ) \n",
    "\n",
    "fviz_mca_biplot(res.mca, axes = c(1,2),\n",
    "             label = c(\"quali.sup\"), repel=TRUE,\n",
    "             alpha.var = \"cos2\",\n",
    "             invisible = c(\"ind\", \"ind.sup\"),\n",
    "             arrows = c(FALSE, TRUE),\n",
    "             ggtheme = theme_minimal(), \n",
    "               ) \n",
    "\n",
    "fviz_mca_biplot(res.mca, axes = c(3,4),\n",
    "             label = c(\"quali.sup\"), repel=TRUE,\n",
    "             alpha.var = \"cos2\",\n",
    "             invisible = c(\"ind\", \"ind.sup\"),\n",
    "             arrows = c(FALSE, TRUE),\n",
    "             ggtheme = theme_minimal(), \n",
    "               ) \n",
    "\n",
    "rm(ca.df)"
   ]
  },
  {
   "cell_type": "markdown",
   "metadata": {},
   "source": [
    "# Output\n",
    "Save objects to local folder:"
   ]
  },
  {
   "cell_type": "code",
   "execution_count": null,
   "metadata": {},
   "outputs": [],
   "source": [
    "saveRDS(genotypes, \"output/ADvariants_genotypes_all.RDS\")\n",
    "write_csv(genotypes, \"output/ADvariants_genotypes_all.csv\")\n",
    "write_csv(apoe, \"output/APOE_all.csv\")"
   ]
  },
  {
   "cell_type": "markdown",
   "metadata": {},
   "source": [
    "Update output files on Synapse in folder syn23569714:  \n",
    "The files already exist on Synapse (uploaded manually), therefore here I use dataFileHandleId to specify their synID and tell the function to update them instead of uploading as new.  \n",
    "Provenance for output files is specified as executed=\"syn23595214\", which is this Rmd file.  \n",
    "Provenance for the Rmd specifies all the entities that go as input for this analysis (see above) as well as the ADvariants_anno.pbs script used above (uploaded manually)."
   ]
  },
  {
   "cell_type": "code",
   "execution_count": null,
   "metadata": {
    "attributes": {
     "classes": [],
     "eval": "FALSE",
     "id": ""
    }
   },
   "outputs": [],
   "source": [
    "invisible(synLogin())\n",
    "\n",
    "file <- File(\"ADvariants_MCA.Rmd\",\n",
    "             description = \"Analysis script\",\n",
    "             parent = \"syn23569714\",\n",
    "             dataFileHandleId = \"syn23595214\")\n",
    "prov <- Activity(used = c('syn11707420', 'syn11384571', 'syn11384608', 'syn3382527', 'syn3191087'))\n",
    "file <- synStore(file, activity=prov)\n",
    "\n",
    "file <- File(\"output/ADvariants_anno.txt\",\n",
    "             contentType = \"text/plain\",\n",
    "             description = \"LOAD variant list\",\n",
    "             parent = \"syn23569714\",\n",
    "             dataFileHandleId = \"syn23569715\")\n",
    "prov <- Activity(executed = \"syn23595214\")\n",
    "file <- synStore(file, activity=prov)\n",
    "\n",
    "file <- File(\"output/ADvariants_genotypes_all.csv\", \n",
    "             contentType = \"text/csv\",\n",
    "             description = \"LOAD variants all genotypes\",\n",
    "             parent = \"syn23569714\",\n",
    "             dataFileHandleId = \"syn23569716\")\n",
    "prov <- Activity(executed = c(\"syn23595214\", \"syn23569719\"))\n",
    "file <- synStore(file, activity=prov)\n",
    "\n",
    "file <- File(\"output/APOE_all.csv\", \n",
    "             contentType = \"text/csv\",\n",
    "             description = \"APOE all genotypes\",\n",
    "             parent = \"syn23569714\",\n",
    "             dataFileHandleId = \"syn23569717\")\n",
    "prov <- Activity(executed = c(\"syn23595214\", \"syn23569719\"))\n",
    "file <- synStore(file, activity=prov)"
   ]
  },
  {
   "cell_type": "markdown",
   "metadata": {},
   "source": [
    "# Session info"
   ]
  },
  {
   "cell_type": "code",
   "execution_count": null,
   "metadata": {},
   "outputs": [],
   "source": [
    "devtools::session_info()"
   ]
  }
 ],
 "metadata": {
  "kernelspec": {
   "display_name": "R",
   "language": "R",
   "name": "ir"
  },
  "language_info": {
   "codemirror_mode": "r",
   "file_extension": ".r",
   "mimetype": "text/x-r-source",
   "name": "R",
   "pygments_lexer": "r",
   "version": "4.0.3"
  }
 },
 "nbformat": 4,
 "nbformat_minor": 4
}
