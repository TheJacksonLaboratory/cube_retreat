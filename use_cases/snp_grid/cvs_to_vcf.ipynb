{
 "cells": [
  {
   "cell_type": "markdown",
   "metadata": {},
   "source": [
    "## Convert CSV File to VCF Format"
   ]
  },
  {
   "cell_type": "markdown",
   "metadata": {},
   "source": [
    "#### Copy the csv files from sumner to bucket\n",
    "\n",
    "in csv directory the using the following command\n",
    "\n",
    "<pre>\n",
    "gsutil cp imputed_prob_* gs://org-jax-bigquery-upload/csv/\n",
    "gsutil cp merged_prob_* gs://org-jax-bigquery-upload/csv/\n",
    "</pre>\n",
    "<hr/>"
   ]
  },
  {
   "cell_type": "markdown",
   "metadata": {},
   "source": [
    "Click on the \"Git\" icon on the left navigation bar\n",
    "\n",
    "Click on \"Clone a Repository\"\n",
    "\n",
    "enter repo: https://github.com/TheJacksonLaboratory/snp_on_bigquery.git\n",
    "\n"
   ]
  },
  {
   "cell_type": "code",
   "execution_count": 35,
   "metadata": {},
   "outputs": [
    {
     "data": {
      "text/plain": [
       "<module 'snp_on_bigquery.jax.src.create_vcf' from '/home/jovyan/snp_on_bigquery/jax/src/create_vcf.py'>"
      ]
     },
     "execution_count": 35,
     "metadata": {},
     "output_type": "execute_result"
    }
   ],
   "source": [
    "# import lib\n",
    "import os\n",
    "import logging\n",
    "logger = logging.getLogger()\n",
    "logger.setLevel(logging.DEBUG)\n",
    "\n",
    "import importlib\n",
    "import snp_on_bigquery.jax.src.create_vcf as create_vcf\n",
    "importlib.reload(create_vcf)"
   ]
  },
  {
   "cell_type": "code",
   "execution_count": 36,
   "metadata": {},
   "outputs": [],
   "source": [
    "# create a local csv and vcf output directory\n",
    "pwd = Path().absolute()\n",
    "csv_dir = f'{pwd}/csv/'\n",
    "if not os.path.exists(csv_dir):\n",
    "    os.makedirs(csv_dir)\n",
    "    \n",
    "vcf_dir = f'{pwd}/vcf/'\n",
    "if not os.path.exists(vcf_dir):\n",
    "    os.makedirs(vcf_dir)"
   ]
  },
  {
   "cell_type": "code",
   "execution_count": 33,
   "metadata": {},
   "outputs": [
    {
     "name": "stdout",
     "output_type": "stream",
     "text": [
      "Copying gs://org-jax-bigquery-upload/csv/imputed_prob_chr1_sample.csv...\n",
      "Copying gs://org-jax-bigquery-upload/csv/merged_chr1_sample.csv...              \n",
      "/ [2 files][ 43.4 KiB/ 43.4 KiB]                                                \n",
      "Operation completed over 2 objects/43.4 KiB.                                     \n"
     ]
    }
   ],
   "source": [
    "# copy the data from bucket to csv directory\n",
    "bucket_name = \"gs://org-jax-bigquery-upload/csv\"\n",
    "!gsutil cp $bucket_name/* $csv_dir"
   ]
  },
  {
   "cell_type": "code",
   "execution_count": 37,
   "metadata": {},
   "outputs": [
    {
     "name": "stderr",
     "output_type": "stream",
     "text": [
      "INFO:root:begin\n",
      "INFO:root:input_dir: /home/jovyan/csv/\n",
      "INFO:root:output_dir: /home/jovyan/vcf/\n",
      "INFO:root:chr: chr1\n",
      "INFO:root:/home/jovyan/csv/merged_chr1_sample.csv\n",
      "INFO:root:/home/jovyan/csv/imputed_prob_chr1_sample.csv\n",
      "INFO:root:/home/jovyan/csv/imputed_prob_chr1_sample.csv: exist\n",
      "INFO:root:/home/jovyan/vcf/\n",
      "INFO:root:merge_two_file\n",
      "INFO:root:imputed_file_name: /home/jovyan/csv/imputed_prob_chr1_sample.csv\n",
      "INFO:root:merged_file_name: /home/jovyan/csv/merged_chr1_sample.csv\n",
      "INFO:root:vcf_file_name: /home/jovyan/vcf/chr1_sample.vcf\n"
     ]
    }
   ],
   "source": [
    "create_vcf.process(csv_dir, vcf_dir)"
   ]
  },
  {
   "cell_type": "code",
   "execution_count": 38,
   "metadata": {},
   "outputs": [
    {
     "name": "stdout",
     "output_type": "stream",
     "text": [
      "ls: cannot access 'vcf_dir': No such file or directory\n"
     ]
    }
   ],
   "source": [
    "!ls vcf_dir"
   ]
  },
  {
   "cell_type": "code",
   "execution_count": 23,
   "metadata": {},
   "outputs": [
    {
     "data": {
      "text/plain": [
       "PosixPath('/home/jovyan')"
      ]
     },
     "execution_count": 23,
     "metadata": {},
     "output_type": "execute_result"
    }
   ],
   "source": [
    "from pathlib import Path\n",
    "Path().absolute()"
   ]
  },
  {
   "cell_type": "code",
   "execution_count": null,
   "metadata": {},
   "outputs": [],
   "source": []
  }
 ],
 "metadata": {
  "kernelspec": {
   "display_name": "Python 3",
   "language": "python",
   "name": "python3"
  },
  "language_info": {
   "codemirror_mode": {
    "name": "ipython",
    "version": 3
   },
   "file_extension": ".py",
   "mimetype": "text/x-python",
   "name": "python",
   "nbconvert_exporter": "python",
   "pygments_lexer": "ipython3",
   "version": "3.8.6"
  }
 },
 "nbformat": 4,
 "nbformat_minor": 4
}
