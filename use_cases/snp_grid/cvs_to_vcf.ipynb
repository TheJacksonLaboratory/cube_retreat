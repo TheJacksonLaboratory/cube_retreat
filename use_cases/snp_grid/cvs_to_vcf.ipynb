{
 "cells": [
  {
   "cell_type": "markdown",
   "metadata": {},
   "source": [
    "## Convert CSV File to VCF Format"
   ]
  },
  {
   "cell_type": "markdown",
   "metadata": {},
   "source": [
    "#### Copy the csv files from sumner to bucket\n",
    "\n",
    "in csv directory the using the following command\n",
    "\n",
    "<pre>\n",
    "gsutil cp imputed_prob_* gs://org-jax-bigquery-upload/csv/\n",
    "gsutil cp merged_prob_* gs://org-jax-bigquery-upload/csv/\n",
    "</pre>\n",
    "<hr/>"
   ]
  },
  {
   "cell_type": "code",
   "execution_count": 8,
   "metadata": {},
   "outputs": [
    {
     "name": "stdout",
     "output_type": "stream",
     "text": [
      "/home/jovyan\n"
     ]
    }
   ],
   "source": [
    "# change to home directory\n",
    "%cd"
   ]
  },
  {
   "cell_type": "markdown",
   "metadata": {},
   "source": [
    "Click on the \"Git\" icon on the left navigation bar\n",
    "\n",
    "Click on \"Clone a Repository\"\n",
    "\n",
    "enter repo: https://github.com/TheJacksonLaboratory/snp_on_bigquery.git\n",
    "\n"
   ]
  },
  {
   "cell_type": "code",
   "execution_count": 5,
   "metadata": {},
   "outputs": [],
   "source": [
    "# create a local csv and vcf output directory\n",
    "import os\n",
    "csv_dir = \"csv\"\n",
    "if not os.path.exists(csv_dir):\n",
    "    os.makedirs(csv_dir)\n",
    "    vcf_dir = \"vcf\"\n",
    "if not os.path.exists(vcf_dir):\n",
    "    os.makedirs(vcf_dir)"
   ]
  },
  {
   "cell_type": "code",
   "execution_count": 7,
   "metadata": {},
   "outputs": [
    {
     "name": "stdout",
     "output_type": "stream",
     "text": [
      "Copying gs://org-jax-bigquery-upload/csv/imputed_prob_chr1_sample.csv...\n",
      "Copying gs://org-jax-bigquery-upload/csv/merged_chr1_sample.csv...              \n",
      "/ [2 files][ 43.4 KiB/ 43.4 KiB]                                                \n",
      "Operation completed over 2 objects/43.4 KiB.                                     \n"
     ]
    }
   ],
   "source": [
    "# copy the data from bucket to local\n",
    "bucket_name = \"gs://org-jax-bigquery-upload/csv\"\n",
    "!gsutil cp $bucket_name/* $csv_dir"
   ]
  },
  {
   "cell_type": "code",
   "execution_count": 22,
   "metadata": {},
   "outputs": [
    {
     "name": "stdout",
     "output_type": "stream",
     "text": [
      "ln: failed to create symbolic link 'create_vcf.py': File exists\n"
     ]
    }
   ],
   "source": [
    "!ln -s ./snp_on_bigquery/jax/src/create_vcf.py create_vcf.py"
   ]
  },
  {
   "cell_type": "code",
   "execution_count": 25,
   "metadata": {},
   "outputs": [
    {
     "ename": "ImportError",
     "evalue": "cannot import name 'test' from 'create_vcf' (/home/jovyan/cube_retreat/use_cases/snp_grid/create_vcf.py)",
     "output_type": "error",
     "traceback": [
      "\u001b[0;31m---------------------------------------------------------------------------\u001b[0m",
      "\u001b[0;31mImportError\u001b[0m                               Traceback (most recent call last)",
      "\u001b[0;32m<ipython-input-25-9a1463cbd3f7>\u001b[0m in \u001b[0;36m<module>\u001b[0;34m\u001b[0m\n\u001b[0;32m----> 1\u001b[0;31m \u001b[0;32mfrom\u001b[0m \u001b[0mcreate_vcf\u001b[0m \u001b[0;32mimport\u001b[0m \u001b[0mtest\u001b[0m\u001b[0;34m\u001b[0m\u001b[0;34m\u001b[0m\u001b[0m\n\u001b[0m",
      "\u001b[0;31mImportError\u001b[0m: cannot import name 'test' from 'create_vcf' (/home/jovyan/cube_retreat/use_cases/snp_grid/create_vcf.py)"
     ]
    }
   ],
   "source": [
    "from create_vcf import test"
   ]
  },
  {
   "cell_type": "code",
   "execution_count": 26,
   "metadata": {},
   "outputs": [
    {
     "ename": "AttributeError",
     "evalue": "module 'create_vcf' has no attribute 'test'",
     "output_type": "error",
     "traceback": [
      "\u001b[0;31m---------------------------------------------------------------------------\u001b[0m",
      "\u001b[0;31mAttributeError\u001b[0m                            Traceback (most recent call last)",
      "\u001b[0;32m<ipython-input-26-8c15d606e21f>\u001b[0m in \u001b[0;36m<module>\u001b[0;34m\u001b[0m\n\u001b[0;32m----> 1\u001b[0;31m \u001b[0mcreate_vcf\u001b[0m\u001b[0;34m.\u001b[0m\u001b[0mtest\u001b[0m\u001b[0;34m(\u001b[0m\u001b[0;34m)\u001b[0m\u001b[0;34m\u001b[0m\u001b[0;34m\u001b[0m\u001b[0m\n\u001b[0m",
      "\u001b[0;31mAttributeError\u001b[0m: module 'create_vcf' has no attribute 'test'"
     ]
    }
   ],
   "source": [
    "create_vcf.test()"
   ]
  },
  {
   "cell_type": "code",
   "execution_count": null,
   "metadata": {},
   "outputs": [],
   "source": []
  }
 ],
 "metadata": {
  "kernelspec": {
   "display_name": "Python 3",
   "language": "python",
   "name": "python3"
  },
  "language_info": {
   "codemirror_mode": {
    "name": "ipython",
    "version": 3
   },
   "file_extension": ".py",
   "mimetype": "text/x-python",
   "name": "python",
   "nbconvert_exporter": "python",
   "pygments_lexer": "ipython3",
   "version": "3.8.6"
  }
 },
 "nbformat": 4,
 "nbformat_minor": 4
}
