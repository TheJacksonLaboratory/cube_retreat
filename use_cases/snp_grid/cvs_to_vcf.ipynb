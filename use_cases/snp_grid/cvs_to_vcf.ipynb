{
 "cells": [
  {
   "cell_type": "markdown",
   "metadata": {},
   "source": [
    "## Convert CSV File to VCF Format"
   ]
  },
  {
   "cell_type": "markdown",
   "metadata": {},
   "source": [
    "#### Copy the csv files from sumner to bucket\n",
    "\n",
    "in csv directory the using the following command\n",
    "\n",
    "<pre>\n",
    "gsutil cp imputed_prob_* gs://org-jax-bigquery-upload/csv/\n",
    "gsutil cp merged_prob_* gs://org-jax-bigquery-upload/csv/\n",
    "</pre>\n",
    "\n",
    "if got permission error, run \n",
    "<pre>\n",
    "gcloud auth login\n",
    "</pre>"
   ]
  },
  {
   "cell_type": "code",
   "execution_count": 1,
   "metadata": {},
   "outputs": [],
   "source": [
    "# create a local csv directory\n",
    "import os\n",
    "\n",
    "csv_dir = \"csv\"\n",
    "if not os.path.exists(csv_dir):\n",
    "    os.makedirs(csv_dir)\n",
    "    \n",
    "vcf_dir = \"vcf\"\n",
    "if not os.path.exists(vcf_dir):\n",
    "    os.makedirs(vcf_dir)"
   ]
  },
  {
   "cell_type": "code",
   "execution_count": 8,
   "metadata": {},
   "outputs": [
    {
     "name": "stdout",
     "output_type": "stream",
     "text": [
      "Copying gs://org-jax-bigquery-upload/csv/imputed_prob_chr1_sample.csv...\n",
      "Copying gs://org-jax-bigquery-upload/csv/merged_chr1_sample.csv...              \n",
      "/ [2 files][ 43.4 KiB/ 43.4 KiB]                                                \n",
      "Operation completed over 2 objects/43.4 KiB.                                     \n"
     ]
    }
   ],
   "source": [
    "# copy the data from bucket to local\n",
    "bucket_name = \"gs://org-jax-bigquery-upload/csv\"\n",
    "!gsutil cp $bucket_name/* $csv_dir"
   ]
  },
  {
   "cell_type": "code",
   "execution_count": 2,
   "metadata": {},
   "outputs": [
    {
     "name": "stderr",
     "output_type": "stream",
     "text": [
      "INFO:root:begin\n",
      "INFO:root:csv/merged_chr1_sample.csv\n",
      "INFO:root:csv/imputed_prob_chr1_sample.csv\n",
      "INFO:root:csv/imputed_prob_chr1_sample.csv: exist\n",
      "INFO:root:vcf/\n",
      "INFO:root:merge_two_file\n",
      "INFO:root:imputed_file_name: csv/imputed_prob_chr1_sample.csv\n",
      "INFO:root:merged_file_name: csv/merged_chr1_sample.csv\n",
      "INFO:root:vcf_file_name: vcf/sample.vcf\n"
     ]
    }
   ],
   "source": [
    "%run 'create_vcf.py'"
   ]
  },
  {
   "cell_type": "code",
   "execution_count": null,
   "metadata": {},
   "outputs": [],
   "source": []
  }
 ],
 "metadata": {
  "kernelspec": {
   "display_name": "snp_grid",
   "language": "python",
   "name": "snp_grid"
  },
  "language_info": {
   "codemirror_mode": {
    "name": "ipython",
    "version": 3
   },
   "file_extension": ".py",
   "mimetype": "text/x-python",
   "name": "python",
   "nbconvert_exporter": "python",
   "pygments_lexer": "ipython3",
   "version": "3.8.6"
  }
 },
 "nbformat": 4,
 "nbformat_minor": 4
}
