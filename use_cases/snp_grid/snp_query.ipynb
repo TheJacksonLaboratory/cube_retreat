{
 "cells": [
  {
   "cell_type": "markdown",
   "metadata": {},
   "source": [
    "# SNP Grid\n",
    "\n",
    "Access the SNP data stored in [BigQuery](https://cloud.google.com/bigquery/docs/)."
   ]
  },
  {
   "cell_type": "markdown",
   "metadata": {},
   "source": [
    "## Import the libraries used in this tutorial"
   ]
  },
  {
   "cell_type": "code",
   "execution_count": 1,
   "metadata": {},
   "outputs": [],
   "source": [
    "from google.cloud import bigquery\n",
    "import pandas"
   ]
  },
  {
   "cell_type": "code",
   "execution_count": 24,
   "metadata": {},
   "outputs": [
    {
     "name": "stdout",
     "output_type": "stream",
     "text": [
      "Updated property [core/project].\n"
     ]
    }
   ],
   "source": [
    "!gcloud config set project \"jax-gedi-sandbox-nc-01\""
   ]
  },
  {
   "cell_type": "markdown",
   "metadata": {},
   "source": [
    "## Initialize a client"
   ]
  },
  {
   "cell_type": "code",
   "execution_count": 25,
   "metadata": {},
   "outputs": [],
   "source": [
    "client = bigquery.Client()"
   ]
  },
  {
   "cell_type": "markdown",
   "metadata": {},
   "source": [
    "To explicitly specify a project when constructing the client, set the `project` parameter:"
   ]
  },
  {
   "cell_type": "markdown",
   "metadata": {},
   "source": [
    "## Query Mouse Strains"
   ]
  },
  {
   "cell_type": "code",
   "execution_count": 26,
   "metadata": {},
   "outputs": [
    {
     "name": "stdout",
     "output_type": "stream",
     "text": [
      "strain_id=3477338627248788983 strain_name=B6.A-Chr10:B6.A-Chr10\n",
      "strain_id=4415015134823043536 strain_name=B6.PWD-Chr11.2:B6.PWD-Chr11.2\n",
      "strain_id=2149907863905236192 strain_name=B6.PWD-Chr17:B6.PWD-Chr17\n",
      "strain_id=2615546224356799282 strain_name=B6.PWD-Chr7:B6.PWD-Chr7\n",
      "strain_id=1120979152604596317 strain_name=BXA26/PgnJ:BXA26/PgnJ\n",
      "strain_id=7251710687346285208 strain_name=BXD70/RwwJ:BXD70/RwwJ\n",
      "strain_id=5304084000902729008 strain_name=BXH12/Ty:BXH12/Ty\n",
      "strain_id=5143862957393129782 strain_name=CC005/TauUnc:CC005/TauUnc\n",
      "strain_id=8449751014943359154 strain_name=CXB1/ByJ:CXB1/ByJ\n",
      "strain_id=5939679284389362886 strain_name=ILSXISS9/TejJ:ILSXISS9/TejJ\n"
     ]
    }
   ],
   "source": [
    "query = \"\"\"\n",
    "    SELECT strain_id, strain_name, ingestion_datetime\n",
    "      FROM `jax-gedi-sandbox-nc-01.mouse_snp.strain_info`\n",
    "      LIMIT 10\n",
    "\"\"\"\n",
    "query_job = client.query(query)  \n",
    "for row in query_job:\n",
    "    # Row values can be accessed by field name or index.\n",
    "    print(f'strain_id={row[\"strain_id\"]} strain_name={row[\"strain_name\"]}')"
   ]
  },
  {
   "cell_type": "markdown",
   "metadata": {},
   "source": [
    "## Run SNP query"
   ]
  },
  {
   "cell_type": "code",
   "execution_count": null,
   "metadata": {},
   "outputs": [],
   "source": []
  }
 ],
 "metadata": {
  "environment": {
   "name": "r-cpu.3-6.m54",
   "type": "gcloud",
   "uri": "gcr.io/deeplearning-platform-release/r-cpu.3-6:m54"
  },
  "kernelspec": {
   "display_name": "Python 3",
   "language": "python",
   "name": "python3"
  },
  "language_info": {
   "codemirror_mode": {
    "name": "ipython",
    "version": 3
   },
   "file_extension": ".py",
   "mimetype": "text/x-python",
   "name": "python",
   "nbconvert_exporter": "python",
   "pygments_lexer": "ipython3",
   "version": "3.8.6"
  }
 },
 "nbformat": 4,
 "nbformat_minor": 4
}
