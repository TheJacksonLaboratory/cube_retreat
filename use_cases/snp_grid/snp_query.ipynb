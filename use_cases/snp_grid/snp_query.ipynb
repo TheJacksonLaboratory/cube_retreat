{
 "cells": [
  {
   "cell_type": "markdown",
   "metadata": {},
   "source": [
    "# SNP Grid\n",
    "\n",
    "Access the SNP data stored in [BigQuery](https://cloud.google.com/bigquery/docs/)."
   ]
  },
  {
   "cell_type": "markdown",
   "metadata": {},
   "source": [
    "## Import the libraries used in this tutorial"
   ]
  },
  {
   "cell_type": "code",
   "execution_count": 1,
   "metadata": {},
   "outputs": [],
   "source": [
    "from google.cloud import bigquery"
   ]
  },
  {
   "cell_type": "markdown",
   "metadata": {},
   "source": [
    "## Initialize a client"
   ]
  },
  {
   "cell_type": "code",
   "execution_count": 2,
   "metadata": {},
   "outputs": [],
   "source": [
    "client = bigquery.Client(project = \"jax-gedi-sandbox-nc-01\")"
   ]
  },
  {
   "cell_type": "markdown",
   "metadata": {},
   "source": [
    "To explicitly specify a project when constructing the client, set the `project` parameter:"
   ]
  },
  {
   "cell_type": "markdown",
   "metadata": {},
   "source": [
    "## Query Mouse Strains"
   ]
  },
  {
   "cell_type": "code",
   "execution_count": 5,
   "metadata": {},
   "outputs": [
    {
     "name": "stdout",
     "output_type": "stream",
     "text": [
      "3381 RIX:CC(003 x 062) (CC003/Unc x CC062/Unc)F1 8146409811145403136\n",
      "3390 RIX:CC(018 x 009) (CC018/Unc x CC009/Unc)F1 3847618352557362945\n",
      "3392 RIX:CC(026 x 034) (CC026/GeniUnc x CC034/Unc)F1 1499438695757769217\n"
     ]
    }
   ],
   "source": [
    "query = \"\"\"\n",
    "    SELECT \n",
    "      id, aname, longname, bq_sample_id\n",
    "    FROM\n",
    "      `jax-gedi-sandbox-nc-01.snp_v1.mouse_strain`\n",
    "    LIMIT 10\n",
    "\"\"\"\n",
    "query_job = client.query(query)  \n",
    "for row in query_job:\n",
    "    print(f'{row[\"id\"]} {row[\"aname\"]} {row[\"longname\"]} {row[\"bq_sample_id\"]}')"
   ]
  },
  {
   "cell_type": "code",
   "execution_count": 12,
   "metadata": {},
   "outputs": [
    {
     "name": "stdout",
     "output_type": "stream",
     "text": [
      "RIX:CC(018 x 009) 1 23000295 A [5]\n",
      "RIX:CC(018 x 009) 1 23000411 T [5]\n",
      "RIX:CC(018 x 009) 1 23000315 T [5]\n",
      "RIX:CC(018 x 009) 1 23000336 A [5]\n",
      "RIX:CC(018 x 009) 1 23000192 T [5]\n",
      "RIX:CC(018 x 009) 1 23000371 C [5]\n",
      "RIX:CC(018 x 009) 1 23000426 C [5]\n",
      "RIX:CC(018 x 009) 1 23000286 G [5]\n",
      "RIX:CC(018 x 009) 1 23000358 C [5]\n",
      "RIX:CC(018 x 009) 1 23000312 A [5]\n",
      "RIX:CC(018 x 009) 1 23000404 A [5]\n",
      "RIX:CC(018 x 009) 1 23000376 G [5]\n"
     ]
    }
   ],
   "source": [
    "query = \"\"\"\n",
    "    SELECT\n",
    "      m.id, m.aname, m.longname,\n",
    "      s.reference_name chr, s.start_position bp38, s.reference_bases major, s.names minor,\n",
    "      call.genotype, call.GQ, call.GN \n",
    "    FROM\n",
    "      `jax-gedi-sandbox-nc-01.snp_v1.mouse_strain` m,\n",
    "      `jax-gedi-sandbox-nc-01.snp_v1.chr1__03_23000021_33000021` s, UNNEST(call) as call\n",
    "    WHERE m.aname = 'RIX:CC(018 x 009)'\n",
    "        AND m.bq_sample_id = call.sample_id\n",
    "    LIMIT 1000\n",
    "\"\"\"\n",
    "query_job = client.query(query)  \n",
    "for row in query_job:\n",
    "    print(f'{row[\"aname\"]} {row[\"chr\"]} {row[\"bp38\"]} {row[\"major\"]} {row[\"genotype\"]}')"
   ]
  },
  {
   "cell_type": "code",
   "execution_count": 10,
   "metadata": {},
   "outputs": [
    {
     "name": "stdout",
     "output_type": "stream",
     "text": [
      "1 13000020 23000020 chr1__02_13000020_23000020 strain__02_13000020_23000020\n",
      "1 23000021 33000021 chr1__03_23000021_33000021 strain__03_23000021_33000021\n",
      "1 33000022 43000022 chr1__04_33000022_43000022 strain__04_33000022_43000022\n"
     ]
    }
   ],
   "source": [
    "query = \"\"\"\n",
    "    SELECT \n",
    "      chr, start_position, end_position, chr_table_name, strain_table_name\n",
    "    FROM `jax-gedi-sandbox-nc-01.snp_v1.region_table_name`\n",
    "    WHERE start_position > 13000019 and end_position < 53000023 \n",
    "\"\"\"\n",
    "query_job = client.query(query)  \n",
    "for row in query_job:\n",
    "    print(f'{row[\"chr\"]} {row[\"start_position\"]} {row[\"end_position\"]} {row[\"chr_table_name\"]} {row[\"strain_table_name\"]}')"
   ]
  },
  {
   "cell_type": "code",
   "execution_count": 16,
   "metadata": {},
   "outputs": [
    {
     "name": "stdout",
     "output_type": "stream",
     "text": [
      "13000190\n",
      "13000048\n"
     ]
    }
   ],
   "source": [
    "query = \"SELECT start_position FROM `jax-gedi-sandbox-nc-01.snp_v1.chr1__02_13000020_23000020` LIMIT 2\"\n",
    "query_job = client.query(query)  \n",
    "for row in query_job:\n",
    "    print(f'{row[\"start_position\"]}')"
   ]
  },
  {
   "cell_type": "code",
   "execution_count": 22,
   "metadata": {},
   "outputs": [
    {
     "name": "stdout",
     "output_type": "stream",
     "text": [
      "23000295\n",
      "23000312\n"
     ]
    }
   ],
   "source": [
    "query = \"SELECT start_position FROM `jax-gedi-sandbox-nc-01.snp_v1.chr1__03_23000021_33000021` LIMIT 2\"\n",
    "query_job = client.query(query)  \n",
    "for row in query_job:\n",
    "    print(f'{row[\"start_position\"]}')"
   ]
  },
  {
   "cell_type": "code",
   "execution_count": 17,
   "metadata": {},
   "outputs": [
    {
     "name": "stdout",
     "output_type": "stream",
     "text": [
      "33000203\n",
      "33000471\n"
     ]
    }
   ],
   "source": [
    "query = \"SELECT start_position FROM `jax-gedi-sandbox-nc-01.snp_v1.chr1__04_33000022_43000022` LIMIT 2\"\n",
    "query_job = client.query(query)  \n",
    "for row in query_job:\n",
    "    print(f'{row[\"start_position\"]}')"
   ]
  },
  {
   "cell_type": "code",
   "execution_count": 25,
   "metadata": {},
   "outputs": [
    {
     "name": "stdout",
     "output_type": "stream",
     "text": [
      "RIX:CC(018 x 009) 1 13000190 A [5]\n",
      "RIX:CC(018 x 009) 1 23000295 A [5]\n",
      "RIX:CC(018 x 009) 1 33000203 A [5]\n"
     ]
    }
   ],
   "source": [
    "query = \"\"\"\n",
    "    SELECT\n",
    "      m.id, m.aname, m.longname,\n",
    "      s.reference_name chr, s.start_position bp38, s.reference_bases major, s.names minor,\n",
    "      call.genotype, call.GQ, call.GN \n",
    "    FROM\n",
    "      `jax-gedi-sandbox-nc-01.snp_v1.mouse_strain` m,\n",
    "      (SELECT * FROM `jax-gedi-sandbox-nc-01.snp_v1.chr1__02_13000020_23000020` UNION ALL\n",
    "      SELECT * FROM `jax-gedi-sandbox-nc-01.snp_v1.chr1__03_23000021_33000021` UNION ALL\n",
    "      SELECT * FROM `jax-gedi-sandbox-nc-01.snp_v1.chr1__04_33000022_43000022`) s, \n",
    "      UNNEST(call) as call\n",
    "    WHERE m.aname = 'RIX:CC(018 x 009)'\n",
    "        AND m.bq_sample_id = call.sample_id\n",
    "        AND start_position in (13000190, 23000295, 33000203)\n",
    "    order by start_position\n",
    "    LIMIT 1000\n",
    "\"\"\"\n",
    "query_job = client.query(query)  \n",
    "for row in query_job:\n",
    "    print(f'{row[\"aname\"]} {row[\"chr\"]} {row[\"bp38\"]} {row[\"major\"]} {row[\"genotype\"]}')"
   ]
  },
  {
   "cell_type": "code",
   "execution_count": null,
   "metadata": {},
   "outputs": [],
   "source": []
  }
 ],
 "metadata": {
  "environment": {
   "name": "r-cpu.3-6.m54",
   "type": "gcloud",
   "uri": "gcr.io/deeplearning-platform-release/r-cpu.3-6:m54"
  },
  "kernelspec": {
   "display_name": "Python 3",
   "language": "python",
   "name": "python3"
  },
  "language_info": {
   "codemirror_mode": {
    "name": "ipython",
    "version": 3
   },
   "file_extension": ".py",
   "mimetype": "text/x-python",
   "name": "python",
   "nbconvert_exporter": "python",
   "pygments_lexer": "ipython3",
   "version": "3.8.6"
  }
 },
 "nbformat": 4,
 "nbformat_minor": 4
}
