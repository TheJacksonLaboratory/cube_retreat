{
 "cells": [
  {
   "cell_type": "markdown",
   "metadata": {},
   "source": [
    "# SNP Grid\n",
    "\n",
    "Access the SNP data stored in [BigQuery](https://cloud.google.com/bigquery/docs/)."
   ]
  },
  {
   "cell_type": "markdown",
   "metadata": {},
   "source": [
    "## Import the libraries used in this tutorial"
   ]
  },
  {
   "cell_type": "code",
   "execution_count": 2,
   "metadata": {},
   "outputs": [],
   "source": [
    "from google.cloud import bigquery"
   ]
  },
  {
   "cell_type": "markdown",
   "metadata": {},
   "source": [
    "## Initialize a client"
   ]
  },
  {
   "cell_type": "code",
   "execution_count": 3,
   "metadata": {},
   "outputs": [],
   "source": [
    "client = bigquery.Client(project = \"jax-gedi-sandbox-nc-01\")"
   ]
  },
  {
   "cell_type": "markdown",
   "metadata": {},
   "source": [
    "To explicitly specify a project when constructing the client, set the `project` parameter:"
   ]
  },
  {
   "cell_type": "markdown",
   "metadata": {},
   "source": [
    "## Query Examples"
   ]
  },
  {
   "cell_type": "code",
   "execution_count": 8,
   "metadata": {},
   "outputs": [
    {
     "name": "stdout",
     "output_type": "stream",
     "text": [
      "C3H/HeJ \t \t 6253071401682343689 \n",
      "A/J \t \t 1570397219716225738 \n",
      "BALB/cJ \t \t 2222972836691470842 \n",
      "129S1/SvImJ \t \t 2622349345741473500 \n",
      "FVB/NJ \t \t 7286594216810995812 \n",
      "DBA/2J \t \t 8431637702450750551 \n",
      "CAST/EiJ \t \t 2251371881872193158 \n",
      "BTBR T<+> Itpr3<tf>/J \t \t 8109111734257395417 \n",
      "C57BL/6J \t \t 6574517556882560158 \n"
     ]
    }
   ],
   "source": [
    "# query stain information\n",
    "query = \"\"\"\n",
    "    SELECT \n",
    "      strainname, bq_sample_id\n",
    "    FROM\n",
    "      `jax-gedi-sandbox-nc-01.snp_v1.strain_info`\n",
    "    WHERE bq_sample_id > 0\n",
    "    LIMIT 10\n",
    "\"\"\"\n",
    "query_job = client.query(query)  \n",
    "for row in query_job:\n",
    "    print(f'{row[\"strainname\"]} \\t \\t {row[\"bq_sample_id\"]} ')"
   ]
  },
  {
   "cell_type": "code",
   "execution_count": null,
   "metadata": {},
   "outputs": [],
   "source": []
  },
  {
   "cell_type": "code",
   "execution_count": 13,
   "metadata": {},
   "outputs": [
    {
     "name": "stdout",
     "output_type": "stream",
     "text": [
      "C3H/HeJ 1 23000295         A 6253071401682343689 A\n",
      "C3H/HeJ 1 23000312         A 6253071401682343689 A\n",
      "C3H/HeJ 1 23000336         A 6253071401682343689 A\n",
      "C3H/HeJ 1 23000404         A 6253071401682343689 A\n",
      "C3H/HeJ 1 23000358         C 6253071401682343689 C\n",
      "C3H/HeJ 1 23000371         C 6253071401682343689 C\n",
      "C3H/HeJ 1 23000376         G 6253071401682343689 G\n",
      "C3H/HeJ 1 23000315         T 6253071401682343689 T\n",
      "C3H/HeJ 1 23000411         T 6253071401682343689 T\n"
     ]
    }
   ],
   "source": [
    "# query by chromosome, start position, strain name\n",
    "query = \"\"\"\n",
    "    SELECT\n",
    "      m.strainname,\n",
    "      s.reference_name, s.start_position, s.reference_bases, s.names,\n",
    "      call.sample_id, call.genotype, call.GQ, call.GN \n",
    "    FROM\n",
    "      `jax-gedi-sandbox-nc-01.snp_v1.chr1__03_23000021_33000021` s, \n",
    "      UNNEST(call) as call,\n",
    "      `jax-gedi-sandbox-nc-01.snp_v1.strain_info` m\n",
    "    WHERE \n",
    "        s.reference_name = \"1\"\n",
    "        AND s.start_position >= 23000295 AND s.start_position <= 23000411 \n",
    "        AND m.strainname = 'C3H/HeJ'\n",
    "        AND m.bq_sample_id = call.sample_id\n",
    "    LIMIT 1000\n",
    "\"\"\"\n",
    "query_job = client.query(query)  \n",
    "for row in query_job:\n",
    "    print(f'{row[\"strainname\"]} {row[\"reference_name\"]} {row[\"start_position\"]} \\\n",
    "        {row[\"reference_bases\"]} {row[\"sample_id\"]} {row[\"GN\"]}')"
   ]
  },
  {
   "cell_type": "code",
   "execution_count": 14,
   "metadata": {},
   "outputs": [
    {
     "name": "stdout",
     "output_type": "stream",
     "text": [
      "1 13000020 23000020 chr1__02_13000020_23000020 strain__02_13000020_23000020\n",
      "1 23000021 33000021 chr1__03_23000021_33000021 strain__03_23000021_33000021\n",
      "1 33000022 43000022 chr1__04_33000022_43000022 strain__04_33000022_43000022\n"
     ]
    }
   ],
   "source": [
    "# to query across the table, first get the tables\n",
    "query = \"\"\"\n",
    "    SELECT \n",
    "      chr, start_position, end_position, chr_table_name, strain_table_name\n",
    "    FROM `jax-gedi-sandbox-nc-01.snp_v1.region_table_name`\n",
    "    WHERE start_position > 13000019 and end_position < 53000023 \n",
    "\"\"\"\n",
    "query_job = client.query(query)  \n",
    "for row in query_job:\n",
    "    print(f'{row[\"chr\"]} {row[\"start_position\"]} {row[\"end_position\"]} {row[\"chr_table_name\"]} {row[\"strain_table_name\"]}')"
   ]
  },
  {
   "cell_type": "code",
   "execution_count": 15,
   "metadata": {},
   "outputs": [
    {
     "name": "stdout",
     "output_type": "stream",
     "text": [
      "13000190\n",
      "13000048\n"
     ]
    }
   ],
   "source": [
    "query = \"SELECT start_position FROM `jax-gedi-sandbox-nc-01.snp_v1.chr1__02_13000020_23000020` LIMIT 2\"\n",
    "query_job = client.query(query)  \n",
    "for row in query_job:\n",
    "    print(f'{row[\"start_position\"]}')"
   ]
  },
  {
   "cell_type": "code",
   "execution_count": 16,
   "metadata": {},
   "outputs": [
    {
     "name": "stdout",
     "output_type": "stream",
     "text": [
      "23000295\n",
      "23000312\n"
     ]
    }
   ],
   "source": [
    "query = \"SELECT start_position FROM `jax-gedi-sandbox-nc-01.snp_v1.chr1__03_23000021_33000021` LIMIT 2\"\n",
    "query_job = client.query(query)  \n",
    "for row in query_job:\n",
    "    print(f'{row[\"start_position\"]}')"
   ]
  },
  {
   "cell_type": "code",
   "execution_count": 17,
   "metadata": {},
   "outputs": [
    {
     "name": "stdout",
     "output_type": "stream",
     "text": [
      "33000481\n",
      "33000203\n"
     ]
    }
   ],
   "source": [
    "query = \"SELECT start_position FROM `jax-gedi-sandbox-nc-01.snp_v1.chr1__04_33000022_43000022` LIMIT 2\"\n",
    "query_job = client.query(query)  \n",
    "for row in query_job:\n",
    "    print(f'{row[\"start_position\"]}')"
   ]
  },
  {
   "cell_type": "code",
   "execution_count": 20,
   "metadata": {},
   "outputs": [
    {
     "name": "stdout",
     "output_type": "stream",
     "text": [
      "C3H/HeJ 1 13000190         A 6253071401682343689 A\n",
      "C3H/HeJ 1 23000295         A 6253071401682343689 A\n",
      "C3H/HeJ 1 33000203         A 6253071401682343689 A\n"
     ]
    }
   ],
   "source": [
    "query = \"\"\"\n",
    "    SELECT\n",
    "      m.strainname,\n",
    "      s.reference_name, s.start_position, s.reference_bases, s.names,\n",
    "      call.sample_id, call.genotype, call.GQ, call.GN \n",
    "    FROM\n",
    "      `jax-gedi-sandbox-nc-01.snp_v1.strain_info` m,\n",
    "      (SELECT * FROM `jax-gedi-sandbox-nc-01.snp_v1.chr1__02_13000020_23000020` UNION ALL\n",
    "      SELECT * FROM `jax-gedi-sandbox-nc-01.snp_v1.chr1__03_23000021_33000021` UNION ALL\n",
    "      SELECT * FROM `jax-gedi-sandbox-nc-01.snp_v1.chr1__04_33000022_43000022`) s, \n",
    "      UNNEST(call) as call\n",
    "    WHERE m.strainname = 'C3H/HeJ'\n",
    "        AND m.bq_sample_id = call.sample_id\n",
    "        AND start_position in (13000190, 23000295, 33000203)\n",
    "    order by start_position\n",
    "    LIMIT 1000\n",
    "\"\"\"\n",
    "query_job = client.query(query)  \n",
    "for row in query_job:\n",
    "    print(f'{row[\"strainname\"]} {row[\"reference_name\"]} {row[\"start_position\"]} \\\n",
    "        {row[\"reference_bases\"]} {row[\"sample_id\"]} {row[\"GN\"]}')"
   ]
  },
  {
   "cell_type": "code",
   "execution_count": 27,
   "metadata": {},
   "outputs": [
    {
     "name": "stdout",
     "output_type": "stream",
     "text": [
      "strainname \t STRING\n",
      "vendor \t STRING\n",
      "stocknum \t STRING\n",
      "panel \t STRING\n",
      "mpd_strainid \t INT64\n",
      "straintype \t STRING\n",
      "n_proj \t INT64\n",
      "n_snp_datasets \t INT64\n",
      "mpd_shortname \t STRING\n",
      "mginum \t STRING\n",
      "url \t STRING\n",
      "bq_sample_id \t INT64\n"
     ]
    }
   ],
   "source": [
    "# table\n",
    "query = \"\"\"\n",
    "    SELECT\n",
    "     * EXCEPT(is_generated, generation_expression, is_stored, is_updatable)\n",
    "    FROM\n",
    "     jax-gedi-sandbox-nc-01.snp_v1.INFORMATION_SCHEMA.COLUMNS\n",
    "    WHERE\n",
    "     table_name=\"strain_info\"\n",
    "\"\"\"\n",
    "rows = client.query(query)  \n",
    "for row in rows:\n",
    "     print(f'{row[\"column_name\"]} \\t {row[\"data_type\"]}')"
   ]
  },
  {
   "cell_type": "code",
   "execution_count": null,
   "metadata": {},
   "outputs": [],
   "source": []
  }
 ],
 "metadata": {
  "environment": {
   "name": "r-cpu.3-6.m54",
   "type": "gcloud",
   "uri": "gcr.io/deeplearning-platform-release/r-cpu.3-6:m54"
  },
  "kernelspec": {
   "display_name": "Python 3",
   "language": "python",
   "name": "python3"
  },
  "language_info": {
   "codemirror_mode": {
    "name": "ipython",
    "version": 3
   },
   "file_extension": ".py",
   "mimetype": "text/x-python",
   "name": "python",
   "nbconvert_exporter": "python",
   "pygments_lexer": "ipython3",
   "version": "3.8.6"
  }
 },
 "nbformat": 4,
 "nbformat_minor": 4
}
