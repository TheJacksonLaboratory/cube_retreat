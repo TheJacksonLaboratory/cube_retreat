{
 "cells": [
  {
   "cell_type": "markdown",
   "metadata": {},
   "source": [
    "# SNP Grid\n",
    "\n",
    "Access the SNP data stored in [BigQuery](https://cloud.google.com/bigquery/docs/)."
   ]
  },
  {
   "cell_type": "markdown",
   "metadata": {},
   "source": [
    "## Import the libraries used in this tutorial"
   ]
  },
  {
   "cell_type": "code",
   "execution_count": null,
   "metadata": {},
   "outputs": [],
   "source": [
    "!gcloud config set project \"jax-gedi-sandbox-nc-01\""
   ]
  },
  {
   "cell_type": "code",
   "execution_count": 4,
   "metadata": {},
   "outputs": [],
   "source": [
    "from google.cloud import bigquery\n",
    "import pandas"
   ]
  },
  {
   "cell_type": "markdown",
   "metadata": {},
   "source": [
    "## Initialize a client"
   ]
  },
  {
   "cell_type": "code",
   "execution_count": 7,
   "metadata": {},
   "outputs": [],
   "source": [
    "client = bigquery.Client(project = \"jax-gedi-sandbox-nc-01\")"
   ]
  },
  {
   "cell_type": "markdown",
   "metadata": {},
   "source": [
    "To explicitly specify a project when constructing the client, set the `project` parameter:"
   ]
  },
  {
   "cell_type": "markdown",
   "metadata": {},
   "source": [
    "## Query Mouse Strains"
   ]
  },
  {
   "cell_type": "code",
   "execution_count": 9,
   "metadata": {},
   "outputs": [
    {
     "name": "stdout",
     "output_type": "stream",
     "text": [
      "3477338627248788983 B6.A-Chr10:B6.A-Chr10\n",
      "4415015134823043536 B6.PWD-Chr11.2:B6.PWD-Chr11.2\n",
      "2149907863905236192 B6.PWD-Chr17:B6.PWD-Chr17\n",
      "2615546224356799282 B6.PWD-Chr7:B6.PWD-Chr7\n",
      "1120979152604596317 BXA26/PgnJ:BXA26/PgnJ\n",
      "7251710687346285208 BXD70/RwwJ:BXD70/RwwJ\n",
      "5304084000902729008 BXH12/Ty:BXH12/Ty\n",
      "5143862957393129782 CC005/TauUnc:CC005/TauUnc\n",
      "8449751014943359154 CXB1/ByJ:CXB1/ByJ\n",
      "5939679284389362886 ILSXISS9/TejJ:ILSXISS9/TejJ\n"
     ]
    }
   ],
   "source": [
    "query = \"\"\"\n",
    "    SELECT strain_id, strain_name\n",
    "      FROM `jax-gedi-sandbox-nc-01.mouse_snp.strain_info`\n",
    "      LIMIT 10\n",
    "\"\"\"\n",
    "query_job = client.query(query)  \n",
    "for row in query_job:\n",
    "    # Row values can be accessed by field name or index.\n",
    "    print(f'{row[\"strain_id\"]} {row[\"strain_name\"]}')"
   ]
  },
  {
   "cell_type": "code",
   "execution_count": null,
   "metadata": {},
   "outputs": [],
   "source": []
  }
 ],
 "metadata": {
  "environment": {
   "name": "r-cpu.3-6.m54",
   "type": "gcloud",
   "uri": "gcr.io/deeplearning-platform-release/r-cpu.3-6:m54"
  },
  "kernelspec": {
   "display_name": "Python 3",
   "language": "python",
   "name": "python3"
  },
  "language_info": {
   "codemirror_mode": {
    "name": "ipython",
    "version": 3
   },
   "file_extension": ".py",
   "mimetype": "text/x-python",
   "name": "python",
   "nbconvert_exporter": "python",
   "pygments_lexer": "ipython3",
   "version": "3.8.6"
  }
 },
 "nbformat": 4,
 "nbformat_minor": 4
}
