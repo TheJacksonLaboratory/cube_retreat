{
 "cells": [
  {
   "cell_type": "markdown",
   "metadata": {},
   "source": [
    "Welcome to Cube Retreat\n",
    "===\n",
    "\n",
    "<img src=\"doc/images/jax_logo.png\" style=\"position:absolute;right:0px;top:20px;\" alt=\"The Jax Laboratory\" height=\"20%\" width=\"20%\"/>\n",
    "\n",
    "## To get started:\n",
    "* explore use cases in the folder \"user_cases\"\n",
    "* launch new R/Python notebook by click on plus sign on top left\n",
    "* check out your own git repo, here is the [guide](doc/git_guide.ipynb)\n",
    "* for questions, see [faq](doc/faq.ipynb)\n",
    "\n",
    "<hr/>\n",
    "<br/>\n",
    " "
   ]
  },
  {
   "cell_type": "markdown",
   "metadata": {},
   "source": [
    "## Use Case I: Meta Analysis \n",
    "<b><i>(by Robyn Ball)</i></b>\n",
    "\n",
    "Integrate data across studies and populations in a meta-analysis \n",
    " \n",
    "1.\tFind a phenotype of interest (GTT) and all measurements in the Cube \n",
    "2.\tAdd GTT data from MPD across multiple studies \n",
    "3.\tIdentify the genotypes of all animals and perform meta-analysis on these data [service] \n",
    "4.\tVisualize results and identify SNPs with significant effects \n",
    "5.\tAnalyze which factors (diet, treatment, etc) are important to these SNP effects \n",
    "6.\tPush SNPs to GeneWeaver for various analyses \n",
    "7.\tIdentify genes that are functionally related to these SNPs \n",
    "8.\tSave and share results (perhaps publish in a library for others) \n",
    "9.\tIncorporate these genes in a cross-species analysis (like gene scorecard) to identify gene targets \n",
    "\n",
    "## [=> go to \"Meta Analysis\"](use_cases/meta_analysis/meta_analysis.ipynb)\n",
    "\n",
    "<br/>\n"
   ]
  },
  {
   "cell_type": "markdown",
   "metadata": {},
   "source": [
    "## Use Case II: ADvariants_MCA\n",
    "<b><i>(by Annat Haber)<i></b>\n",
    "    \n",
    "Genotype correspondence among AD-related variants in AMP-AD cohorts\n",
    "\n",
    "\n",
    "## [=> go to \"ADvariants_MCA\"](use_cases/ADvariants_MCA/ADvariants_MCA.ipynb)\n",
    "<br/>\n",
    "\n"
   ]
  },
  {
   "cell_type": "markdown",
   "metadata": {},
   "source": [
    "## Use Case III: Interactive Visualization \n",
    "<b><i>(by Robyn Ball)</i></b>\n",
    "\n",
    "Explore multiple factors in an interactive visualization \n",
    "\n",
    "1.\tFind a phenotype of interest (GTT) and all measurements in the Cube \n",
    "2.\tIdentify factors relevant to these studies/animals (diet, strain, treatment, etc) \n",
    "3.\tProduce an interactive figure of these measurements over time with different factors (checkboxes) \n",
    "4.\tAdd other data (body weight, water intake) on these animals to the visualization (this could be suggested or optional). Add as a figure underneath this main figure. Same animals across time. \n",
    "5.\tEnable deep dive into measurements on an individual mouse or all mice in a strain \n",
    "6.\tExport plot(s) as PNG.  \n",
    "7.\tExport as R Markdown for further enhancements \n",
    "8.\tBookmark and share with others \n",
    "\n",
    "\n",
    "## [=> go to \"Interactive Visualization\"](use_cases/interactive_visualization/interactive_visualization.ipynb)\n",
    "\n",
    "<br/>\n"
   ]
  },
  {
   "cell_type": "code",
   "execution_count": null,
   "metadata": {},
   "outputs": [],
   "source": []
  }
 ],
 "metadata": {
  "kernelspec": {
   "display_name": "R",
   "language": "R",
   "name": "ir"
  },
  "language_info": {
   "codemirror_mode": "r",
   "file_extension": ".r",
   "mimetype": "text/x-r-source",
   "name": "R",
   "pygments_lexer": "r",
   "version": "4.0.3"
  }
 },
 "nbformat": 4,
 "nbformat_minor": 4
}
