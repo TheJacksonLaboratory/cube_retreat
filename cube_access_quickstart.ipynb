{
 "cells": [
  {
   "cell_type": "markdown",
   "metadata": {},
   "source": [
    "# Quickstart Guide: Accessing Cube Data\n",
    "\n",
    "In the Cube web application (https://cube.jax.org) you can search through various elements such as Studies, Assays, and Data Sets. Using the controls along the top of the table you can filter based on properties to narrow your search. From the \"Data Sets\" page, for example, you can select data to add to your collection. Once a data set is in your collection you can use the `cube_r` package to access and inspect those data.\n",
    "\n",
    "The commands in this notebook show how to access data sets in your collection. Other elements, such as studies and assays, can be inspected here as well, but they won't have any associated data - only metadata."
   ]
  },
  {
   "cell_type": "code",
   "execution_count": 1,
   "metadata": {},
   "outputs": [
    {
     "name": "stderr",
     "output_type": "stream",
     "text": [
      "Loading required package: usethis\n",
      "\n",
      "Loading required package: reshape\n",
      "\n",
      "\n",
      "Attaching package: ‘rapportools’\n",
      "\n",
      "\n",
      "The following objects are masked from ‘package:stats’:\n",
      "\n",
      "    IQR, median, sd, var\n",
      "\n",
      "\n",
      "The following objects are masked from ‘package:base’:\n",
      "\n",
      "    max, mean, min, range, sum\n",
      "\n",
      "\n",
      "\n",
      "Attaching package: ‘data.table’\n",
      "\n",
      "\n",
      "The following object is masked from ‘package:reshape’:\n",
      "\n",
      "    melt\n",
      "\n",
      "\n",
      "Loading required package: tfruns\n",
      "\n"
     ]
    }
   ],
   "source": [
    "# load required libraries\n",
    "# load all library, it is already installed\n",
    "library(devtools)\n",
    "library(httr)\n",
    "library(jsonlite)\n",
    "library(stringr)\n",
    "library(rapportools)\n",
    "library(htmlwidgets)\n",
    "library(rlist)\n",
    "library(data.table)\n",
    "library(cloudml)\n",
    "library(readr)\n",
    "library(logger)\n",
    "library(cube)\n",
    "setwd(\"~/\")\n",
    "log_threshold(DEBUG)"
   ]
  },
  {
   "cell_type": "markdown",
   "metadata": {},
   "source": [
    "## Loggin in\n",
    "\n",
    "After running the cell below to log in to the Cube service, you will see a link appear in the response. YOU MUST CLICK ON THAT LINK TO COMPLETE THE LOGIN! That will associate this notebook session with your user ID and allow you to pull in data from your collection in https://cube.jax.org/ "
   ]
  },
  {
   "cell_type": "code",
   "execution_count": 2,
   "metadata": {},
   "outputs": [
    {
     "name": "stdout",
     "output_type": "stream",
     "text": [
      "INFO [2021-01-08 19:39:13] Version: 0.0.2\n",
      "INFO [2021-01-08 19:39:13] http://10.105.16.22/metadata-service/\n",
      "DEBUG [2021-01-08 19:39:13] Cached token length: 788\n",
      "INFO [2021-01-08 19:39:13] verification_uri_complete: https://thejacksonlaboratory.auth0.com/activate?user_code=SVPJ-PSMD\n",
      "DEBUG [2021-01-08 19:39:13] verification_uri: https://thejacksonlaboratory.auth0.com/activate\n",
      "DEBUG [2021-01-08 19:39:13] user_code: SVPJ-PSMD\n",
      "DEBUG [2021-01-08 19:39:13] device_code: sFVYpPTdifTkyr31QOd2EPEy\n"
     ]
    }
   ],
   "source": [
    "# create a CubeAPI object and log in\n",
    "cube_api = CubeAPI$new()\n",
    "\n",
    "# only need to login once per month\n",
    "# after run, click on \"verification_uri_complete\" to finish verification\n",
    "cube_api$login()"
   ]
  },
  {
   "cell_type": "code",
   "execution_count": 3,
   "metadata": {},
   "outputs": [
    {
     "name": "stdout",
     "output_type": "stream",
     "text": [
      "INFO [2021-01-08 19:39:15] GET: http://10.105.16.22/metadata-service/metadata_repository/collection/\n",
      "INFO [2021-01-08 19:39:16] status_code: 200\n",
      "DEBUG [2021-01-08 19:39:16] response url: http://10.105.16.22/metadata-service/metadata_repository/collection/?page=1&page_size=100\n",
      "INFO [2021-01-08 19:39:16] number of accession_ids: 2\n",
      "INFO [2021-01-08 19:39:16] GET: http://10.105.16.22/metadata-service/metadata_repository/element_instance/\n",
      "INFO [2021-01-08 19:39:17] status_code: 200\n",
      "DEBUG [2021-01-08 19:39:17] response url: http://10.105.16.22/metadata-service/metadata_repository/element_instance/?page=1&page_size=100&accession_id=JAXDS0001G&accession_id=JAXDS0001H\n",
      "INFO [2021-01-08 19:39:17] number of row returned: 2\n"
     ]
    }
   ],
   "source": [
    "storage_info = cube_api$get_metadata_collection_storage_info()"
   ]
  },
  {
   "cell_type": "code",
   "execution_count": 16,
   "metadata": {},
   "outputs": [
    {
     "data": {
      "text/html": [
       "<style>\n",
       ".list-inline {list-style: none; margin:0; padding: 0}\n",
       ".list-inline>li {display: inline-block}\n",
       ".list-inline>li:not(:last-child)::after {content: \"\\00b7\"; padding: 0 .5ex}\n",
       "</style>\n",
       "<ol class=list-inline><li>'.__enclos_env__'</li><li>'auth0_obj'</li><li>'url_base'</li><li>'print'</li><li>'finalize'</li><li>'append_to_path'</li><li>'get_disclaimer'</li><li>'call'</li><li>'post_end_point'</li><li>'post_element_instance_filter'</li><li>'get_end_point'</li><li>'get_element_instance_json'</li><li>'get_element_instance'</li><li>'get_data_store_files'</li><li>'parse_uri'</li><li>'parse_storage_uri'</li><li>'parse_accession_ids'</li><li>'get_metadata_collection_storage_info'</li><li>'get_metadata_collection'</li><li>'get_element'</li><li>'login'</li><li>'initialize'</li><li>'self'</li></ol>\n"
      ],
      "text/latex": [
       "\\begin{enumerate*}\n",
       "\\item '.\\_\\_enclos\\_env\\_\\_'\n",
       "\\item 'auth0\\_obj'\n",
       "\\item 'url\\_base'\n",
       "\\item 'print'\n",
       "\\item 'finalize'\n",
       "\\item 'append\\_to\\_path'\n",
       "\\item 'get\\_disclaimer'\n",
       "\\item 'call'\n",
       "\\item 'post\\_end\\_point'\n",
       "\\item 'post\\_element\\_instance\\_filter'\n",
       "\\item 'get\\_end\\_point'\n",
       "\\item 'get\\_element\\_instance\\_json'\n",
       "\\item 'get\\_element\\_instance'\n",
       "\\item 'get\\_data\\_store\\_files'\n",
       "\\item 'parse\\_uri'\n",
       "\\item 'parse\\_storage\\_uri'\n",
       "\\item 'parse\\_accession\\_ids'\n",
       "\\item 'get\\_metadata\\_collection\\_storage\\_info'\n",
       "\\item 'get\\_metadata\\_collection'\n",
       "\\item 'get\\_element'\n",
       "\\item 'login'\n",
       "\\item 'initialize'\n",
       "\\item 'self'\n",
       "\\end{enumerate*}\n"
      ],
      "text/markdown": [
       "1. '.__enclos_env__'\n",
       "2. 'auth0_obj'\n",
       "3. 'url_base'\n",
       "4. 'print'\n",
       "5. 'finalize'\n",
       "6. 'append_to_path'\n",
       "7. 'get_disclaimer'\n",
       "8. 'call'\n",
       "9. 'post_end_point'\n",
       "10. 'post_element_instance_filter'\n",
       "11. 'get_end_point'\n",
       "12. 'get_element_instance_json'\n",
       "13. 'get_element_instance'\n",
       "14. 'get_data_store_files'\n",
       "15. 'parse_uri'\n",
       "16. 'parse_storage_uri'\n",
       "17. 'parse_accession_ids'\n",
       "18. 'get_metadata_collection_storage_info'\n",
       "19. 'get_metadata_collection'\n",
       "20. 'get_element'\n",
       "21. 'login'\n",
       "22. 'initialize'\n",
       "23. 'self'\n",
       "\n",
       "\n"
      ],
      "text/plain": [
       " [1] \".__enclos_env__\"                     \n",
       " [2] \"auth0_obj\"                           \n",
       " [3] \"url_base\"                            \n",
       " [4] \"print\"                               \n",
       " [5] \"finalize\"                            \n",
       " [6] \"append_to_path\"                      \n",
       " [7] \"get_disclaimer\"                      \n",
       " [8] \"call\"                                \n",
       " [9] \"post_end_point\"                      \n",
       "[10] \"post_element_instance_filter\"        \n",
       "[11] \"get_end_point\"                       \n",
       "[12] \"get_element_instance_json\"           \n",
       "[13] \"get_element_instance\"                \n",
       "[14] \"get_data_store_files\"                \n",
       "[15] \"parse_uri\"                           \n",
       "[16] \"parse_storage_uri\"                   \n",
       "[17] \"parse_accession_ids\"                 \n",
       "[18] \"get_metadata_collection_storage_info\"\n",
       "[19] \"get_metadata_collection\"             \n",
       "[20] \"get_element\"                         \n",
       "[21] \"login\"                               \n",
       "[22] \"initialize\"                          \n",
       "[23] \"self\"                                "
      ]
     },
     "metadata": {},
     "output_type": "display_data"
    }
   ],
   "source": [
    "names(cube_api)"
   ]
  },
  {
   "cell_type": "code",
   "execution_count": 18,
   "metadata": {},
   "outputs": [
    {
     "data": {
      "text/html": [
       "<style>\n",
       ".list-inline {list-style: none; margin:0; padding: 0}\n",
       ".list-inline>li {display: inline-block}\n",
       ".list-inline>li:not(:last-child)::after {content: \"\\00b7\"; padding: 0 .5ex}\n",
       "</style>\n",
       "<ol class=list-inline><li>'access_token'</li><li>'clear_access_token'</li><li>'device_code'</li><li>'expires_in'</li><li>'finalize'</li><li>'get_access_token'</li><li>'get_access_token_debug'</li><li>'get_device_code'</li><li>'initialize'</li><li>'load_access_token'</li><li>'print'</li><li>'private'</li><li>'save_access_token'</li><li>'self'</li><li>'user_code'</li><li>'verification_uri'</li><li>'verification_uri_complete'</li></ol>\n"
      ],
      "text/latex": [
       "\\begin{enumerate*}\n",
       "\\item 'access\\_token'\n",
       "\\item 'clear\\_access\\_token'\n",
       "\\item 'device\\_code'\n",
       "\\item 'expires\\_in'\n",
       "\\item 'finalize'\n",
       "\\item 'get\\_access\\_token'\n",
       "\\item 'get\\_access\\_token\\_debug'\n",
       "\\item 'get\\_device\\_code'\n",
       "\\item 'initialize'\n",
       "\\item 'load\\_access\\_token'\n",
       "\\item 'print'\n",
       "\\item 'private'\n",
       "\\item 'save\\_access\\_token'\n",
       "\\item 'self'\n",
       "\\item 'user\\_code'\n",
       "\\item 'verification\\_uri'\n",
       "\\item 'verification\\_uri\\_complete'\n",
       "\\end{enumerate*}\n"
      ],
      "text/markdown": [
       "1. 'access_token'\n",
       "2. 'clear_access_token'\n",
       "3. 'device_code'\n",
       "4. 'expires_in'\n",
       "5. 'finalize'\n",
       "6. 'get_access_token'\n",
       "7. 'get_access_token_debug'\n",
       "8. 'get_device_code'\n",
       "9. 'initialize'\n",
       "10. 'load_access_token'\n",
       "11. 'print'\n",
       "12. 'private'\n",
       "13. 'save_access_token'\n",
       "14. 'self'\n",
       "15. 'user_code'\n",
       "16. 'verification_uri'\n",
       "17. 'verification_uri_complete'\n",
       "\n",
       "\n"
      ],
      "text/plain": [
       " [1] \"access_token\"              \"clear_access_token\"       \n",
       " [3] \"device_code\"               \"expires_in\"               \n",
       " [5] \"finalize\"                  \"get_access_token\"         \n",
       " [7] \"get_access_token_debug\"    \"get_device_code\"          \n",
       " [9] \"initialize\"                \"load_access_token\"        \n",
       "[11] \"print\"                     \"private\"                  \n",
       "[13] \"save_access_token\"         \"self\"                     \n",
       "[15] \"user_code\"                 \"verification_uri\"         \n",
       "[17] \"verification_uri_complete\""
      ]
     },
     "metadata": {},
     "output_type": "display_data"
    }
   ],
   "source": [
    "ls(cube_api$auth0_obj)"
   ]
  },
  {
   "cell_type": "code",
   "execution_count": 22,
   "metadata": {},
   "outputs": [
    {
     "name": "stdout",
     "output_type": "stream",
     "text": [
      "Auth0DeviceAuth: \n",
      "  url_base: \n",
      "  .token: \n"
     ]
    }
   ],
   "source": [
    "cube_api$auth0_obj$print()"
   ]
  },
  {
   "cell_type": "code",
   "execution_count": null,
   "metadata": {},
   "outputs": [],
   "source": []
  }
 ],
 "metadata": {
  "kernelspec": {
   "display_name": "R",
   "language": "R",
   "name": "ir"
  },
  "language_info": {
   "codemirror_mode": "r",
   "file_extension": ".r",
   "mimetype": "text/x-r-source",
   "name": "R",
   "pygments_lexer": "r",
   "version": "4.0.3"
  }
 },
 "nbformat": 4,
 "nbformat_minor": 4
}
