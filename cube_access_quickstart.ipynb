{
 "cells": [
  {
   "cell_type": "markdown",
   "metadata": {},
   "source": [
    "# Quickstart Guide: Accessing Cube Data\n",
    "\n",
    "In the Cube web application (https://cube.jax.org) you can search through various elements such as Studies, Assays, and Data Sets. Using the controls along the top of the table you can filter based on properties to narrow your search. From the \"Data Sets\" page, for example, you can select data to add to your collection. Once a data set is in your collection you can use the `cube_r` package to access and inspect those data.\n",
    "\n",
    "The commands in this notebook show how to access data sets in your collection. Other elements, such as studies and assays, can be inspected here as well, but they won't have any associated data - only metadata."
   ]
  },
  {
   "cell_type": "code",
   "execution_count": 1,
   "metadata": {},
   "outputs": [
    {
     "name": "stderr",
     "output_type": "stream",
     "text": [
      "Loading required package: usethis\n",
      "\n",
      "Loading required package: reshape\n",
      "\n",
      "\n",
      "Attaching package: ‘rapportools’\n",
      "\n",
      "\n",
      "The following objects are masked from ‘package:stats’:\n",
      "\n",
      "    IQR, median, sd, var\n",
      "\n",
      "\n",
      "The following objects are masked from ‘package:base’:\n",
      "\n",
      "    max, mean, min, range, sum\n",
      "\n",
      "\n",
      "\n",
      "Attaching package: ‘data.table’\n",
      "\n",
      "\n",
      "The following object is masked from ‘package:reshape’:\n",
      "\n",
      "    melt\n",
      "\n",
      "\n",
      "Loading required package: tfruns\n",
      "\n"
     ]
    }
   ],
   "source": [
    "# load required libraries\n",
    "# load all library, it is already installed\n",
    "library(devtools)\n",
    "library(httr)\n",
    "library(jsonlite)\n",
    "library(stringr)\n",
    "library(rapportools)\n",
    "library(htmlwidgets)\n",
    "library(rlist)\n",
    "library(data.table)\n",
    "library(cloudml)\n",
    "library(readr)\n",
    "library(logger)\n",
    "library(cube)\n",
    "setwd(\"~/\")\n",
    "log_threshold(DEBUG)"
   ]
  },
  {
   "cell_type": "markdown",
   "metadata": {},
   "source": [
    "## Loggin in\n",
    "\n",
    "After running the cell below to log in to the Cube service, you will see a link appear in the response. YOU MUST CLICK ON THAT LINK TO COMPLETE THE LOGIN! That will associate this notebook session with your user ID and allow you to pull in data from your collection in https://cube.jax.org/ "
   ]
  },
  {
   "cell_type": "code",
   "execution_count": 2,
   "metadata": {},
   "outputs": [
    {
     "name": "stdout",
     "output_type": "stream",
     "text": [
      "INFO [2021-01-09 15:56:01] Version: 0.0.2\n",
      "INFO [2021-01-09 15:56:01] http://10.105.16.22/metadata-service/\n",
      "DEBUG [2021-01-09 15:56:01] Cached token length: 788\n",
      "INFO [2021-01-09 15:56:02] verification_uri_complete: https://thejacksonlaboratory.auth0.com/activate?user_code=XZDK-CNWF\n",
      "DEBUG [2021-01-09 15:56:02] verification_uri: https://thejacksonlaboratory.auth0.com/activate\n",
      "DEBUG [2021-01-09 15:56:02] user_code: XZDK-CNWF\n",
      "DEBUG [2021-01-09 15:56:02] device_code: 7WFvcxgEBC1tcmi5xC96HZIf\n"
     ]
    }
   ],
   "source": [
    "# create a CubeAPI object and log in\n",
    "cube_api = CubeAPI$new()\n",
    "\n",
    "# only need to login once per month\n",
    "# after run, click on \"verification_uri_complete\" to finish verification\n",
    "cube_api$login()"
   ]
  },
  {
   "cell_type": "code",
   "execution_count": 3,
   "metadata": {},
   "outputs": [
    {
     "name": "stdout",
     "output_type": "stream",
     "text": [
      "INFO [2021-01-09 15:56:19] GET: http://10.105.16.22/metadata-service/metadata_repository/collection/\n",
      "INFO [2021-01-09 15:56:20] status_code: 200\n",
      "DEBUG [2021-01-09 15:56:20] response url: http://10.105.16.22/metadata-service/metadata_repository/collection/?page=1&page_size=100\n",
      "INFO [2021-01-09 15:56:20] number of accession_ids: 80\n",
      "INFO [2021-01-09 15:56:20] GET: http://10.105.16.22/metadata-service/metadata_repository/element_instance/\n",
      "INFO [2021-01-09 15:56:23] status_code: 200\n",
      "DEBUG [2021-01-09 15:56:23] response url: http://10.105.16.22/metadata-service/metadata_repository/element_instance/?page=1&page_size=100&accession_id=JAXDS00001&accession_id=JAXDS00002&accession_id=JAXDS00003&accession_id=JAXDS00004&accession_id=JAXDS00005&accession_id=JAXDS00006&accession_id=JAXDS00007&accession_id=JAXDS00009&accession_id=JAXDS0000A&accession_id=JAXDS0000B&accession_id=JAXDS0000C&accession_id=JAXDS0000D&accession_id=JAXDS0000E&accession_id=JAXDS0000F&accession_id=JAXDS0000G&accession_id=JAXDS0000H&accession_id=JAXDS0000I&accession_id=JAXDS0000J&accession_id=JAXDS0000K&accession_id=JAXDS0000L&accession_id=JAXDS0000M&accession_id=JAXDS0000N&accession_id=JAXDS0000O&accession_id=JAXDS0000P&accession_id=JAXDS0000Q&accession_id=JAXDS0000R&accession_id=JAXDS0000S&accession_id=JAXDS0000T&accession_id=JAXDS0000U&accession_id=JAXDS0000V&accession_id=JAXDS0000W&accession_id=JAXDS0000X&accession_id=JAXDS0000Y&accession_id=JAXDS0000Z&accession_id=JAXDS00010&accession_id=JAXDS00011&accession_id=JAXDS00012&accession_id=JAXDS00013&accession_id=JAXDS00014&accession_id=JAXDS00015&accession_id=JAXDS00016&accession_id=JAXDS00017&accession_id=JAXDS00018&accession_id=JAXDS00019&accession_id=JAXDS0001A&accession_id=JAXDS0001B&accession_id=JAXDS0001C&accession_id=JAXDS0001D&accession_id=JAXDS0001E&accession_id=JAXDS0001F&accession_id=JAXDS0001G&accession_id=JAXDS0001H&accession_id=JAXDS0001I&accession_id=JAXDS0001J&accession_id=JAXDS0001K&accession_id=JAXDS0001L&accession_id=JAXDS0001M&accession_id=JAXDS0001N&accession_id=JAXDS0001O&accession_id=JAXDS0001P&accession_id=JAXDS0001Q&accession_id=JAXDS0001R&accession_id=JAXDS0001S&accession_id=JAXDS0001T&accession_id=JAXDS0001U&accession_id=JAXDS0001V&accession_id=JAXDS0001W&accession_id=JAXDS0001X&accession_id=JAXDS0001Y&accession_id=JAXDS0001Z&accession_id=JAXDS00020&accession_id=JAXDS00021&accession_id=JAXDS00022&accession_id=JAXDS00023&accession_id=JAXDS00024&accession_id=JAXDS00025&accession_id=JAXDS00026&accession_id=JAXDS00027&accession_id=JAXDS00028&accession_id=JAXDS00029\n",
      "INFO [2021-01-09 15:56:23] number of row returned: 100\n"
     ]
    }
   ],
   "source": [
    "storage_info = cube_api$get_metadata_collection_storage_info()"
   ]
  },
  {
   "cell_type": "code",
   "execution_count": 9,
   "metadata": {},
   "outputs": [
    {
     "data": {
      "text/html": [
       "<style>\n",
       ".list-inline {list-style: none; margin:0; padding: 0}\n",
       ".list-inline>li {display: inline-block}\n",
       ".list-inline>li:not(:last-child)::after {content: \"\\00b7\"; padding: 0 .5ex}\n",
       "</style>\n",
       "<ol class=list-inline><li>'append_to_path'</li><li>'auth0_obj'</li><li>'call'</li><li>'finalize'</li><li>'get_data_store_files'</li><li>'get_disclaimer'</li><li>'get_element'</li><li>'get_element_instance'</li><li>'get_element_instance_json'</li><li>'get_end_point'</li><li>'get_metadata_collection'</li><li>'get_metadata_collection_storage_info'</li><li>'initialize'</li><li>'login'</li><li>'parse_accession_ids'</li><li>'parse_storage_uri'</li><li>'parse_uri'</li><li>'post_element_instance_filter'</li><li>'post_end_point'</li><li>'print'</li><li>'self'</li><li>'url_base'</li></ol>\n"
      ],
      "text/latex": [
       "\\begin{enumerate*}\n",
       "\\item 'append\\_to\\_path'\n",
       "\\item 'auth0\\_obj'\n",
       "\\item 'call'\n",
       "\\item 'finalize'\n",
       "\\item 'get\\_data\\_store\\_files'\n",
       "\\item 'get\\_disclaimer'\n",
       "\\item 'get\\_element'\n",
       "\\item 'get\\_element\\_instance'\n",
       "\\item 'get\\_element\\_instance\\_json'\n",
       "\\item 'get\\_end\\_point'\n",
       "\\item 'get\\_metadata\\_collection'\n",
       "\\item 'get\\_metadata\\_collection\\_storage\\_info'\n",
       "\\item 'initialize'\n",
       "\\item 'login'\n",
       "\\item 'parse\\_accession\\_ids'\n",
       "\\item 'parse\\_storage\\_uri'\n",
       "\\item 'parse\\_uri'\n",
       "\\item 'post\\_element\\_instance\\_filter'\n",
       "\\item 'post\\_end\\_point'\n",
       "\\item 'print'\n",
       "\\item 'self'\n",
       "\\item 'url\\_base'\n",
       "\\end{enumerate*}\n"
      ],
      "text/markdown": [
       "1. 'append_to_path'\n",
       "2. 'auth0_obj'\n",
       "3. 'call'\n",
       "4. 'finalize'\n",
       "5. 'get_data_store_files'\n",
       "6. 'get_disclaimer'\n",
       "7. 'get_element'\n",
       "8. 'get_element_instance'\n",
       "9. 'get_element_instance_json'\n",
       "10. 'get_end_point'\n",
       "11. 'get_metadata_collection'\n",
       "12. 'get_metadata_collection_storage_info'\n",
       "13. 'initialize'\n",
       "14. 'login'\n",
       "15. 'parse_accession_ids'\n",
       "16. 'parse_storage_uri'\n",
       "17. 'parse_uri'\n",
       "18. 'post_element_instance_filter'\n",
       "19. 'post_end_point'\n",
       "20. 'print'\n",
       "21. 'self'\n",
       "22. 'url_base'\n",
       "\n",
       "\n"
      ],
      "text/plain": [
       " [1] \"append_to_path\"                      \n",
       " [2] \"auth0_obj\"                           \n",
       " [3] \"call\"                                \n",
       " [4] \"finalize\"                            \n",
       " [5] \"get_data_store_files\"                \n",
       " [6] \"get_disclaimer\"                      \n",
       " [7] \"get_element\"                         \n",
       " [8] \"get_element_instance\"                \n",
       " [9] \"get_element_instance_json\"           \n",
       "[10] \"get_end_point\"                       \n",
       "[11] \"get_metadata_collection\"             \n",
       "[12] \"get_metadata_collection_storage_info\"\n",
       "[13] \"initialize\"                          \n",
       "[14] \"login\"                               \n",
       "[15] \"parse_accession_ids\"                 \n",
       "[16] \"parse_storage_uri\"                   \n",
       "[17] \"parse_uri\"                           \n",
       "[18] \"post_element_instance_filter\"        \n",
       "[19] \"post_end_point\"                      \n",
       "[20] \"print\"                               \n",
       "[21] \"self\"                                \n",
       "[22] \"url_base\"                            "
      ]
     },
     "metadata": {},
     "output_type": "display_data"
    }
   ],
   "source": [
    "ls(cube_api)"
   ]
  },
  {
   "cell_type": "code",
   "execution_count": 5,
   "metadata": {},
   "outputs": [
    {
     "data": {
      "text/html": [
       "<style>\n",
       ".list-inline {list-style: none; margin:0; padding: 0}\n",
       ".list-inline>li {display: inline-block}\n",
       ".list-inline>li:not(:last-child)::after {content: \"\\00b7\"; padding: 0 .5ex}\n",
       "</style>\n",
       "<ol class=list-inline><li>'access_token'</li><li>'clear_access_token'</li><li>'device_code'</li><li>'expires_in'</li><li>'finalize'</li><li>'get_access_token'</li><li>'get_access_token_debug'</li><li>'get_device_code'</li><li>'initialize'</li><li>'load_access_token'</li><li>'print'</li><li>'private'</li><li>'save_access_token'</li><li>'self'</li><li>'user_code'</li><li>'verification_uri'</li><li>'verification_uri_complete'</li></ol>\n"
      ],
      "text/latex": [
       "\\begin{enumerate*}\n",
       "\\item 'access\\_token'\n",
       "\\item 'clear\\_access\\_token'\n",
       "\\item 'device\\_code'\n",
       "\\item 'expires\\_in'\n",
       "\\item 'finalize'\n",
       "\\item 'get\\_access\\_token'\n",
       "\\item 'get\\_access\\_token\\_debug'\n",
       "\\item 'get\\_device\\_code'\n",
       "\\item 'initialize'\n",
       "\\item 'load\\_access\\_token'\n",
       "\\item 'print'\n",
       "\\item 'private'\n",
       "\\item 'save\\_access\\_token'\n",
       "\\item 'self'\n",
       "\\item 'user\\_code'\n",
       "\\item 'verification\\_uri'\n",
       "\\item 'verification\\_uri\\_complete'\n",
       "\\end{enumerate*}\n"
      ],
      "text/markdown": [
       "1. 'access_token'\n",
       "2. 'clear_access_token'\n",
       "3. 'device_code'\n",
       "4. 'expires_in'\n",
       "5. 'finalize'\n",
       "6. 'get_access_token'\n",
       "7. 'get_access_token_debug'\n",
       "8. 'get_device_code'\n",
       "9. 'initialize'\n",
       "10. 'load_access_token'\n",
       "11. 'print'\n",
       "12. 'private'\n",
       "13. 'save_access_token'\n",
       "14. 'self'\n",
       "15. 'user_code'\n",
       "16. 'verification_uri'\n",
       "17. 'verification_uri_complete'\n",
       "\n",
       "\n"
      ],
      "text/plain": [
       " [1] \"access_token\"              \"clear_access_token\"       \n",
       " [3] \"device_code\"               \"expires_in\"               \n",
       " [5] \"finalize\"                  \"get_access_token\"         \n",
       " [7] \"get_access_token_debug\"    \"get_device_code\"          \n",
       " [9] \"initialize\"                \"load_access_token\"        \n",
       "[11] \"print\"                     \"private\"                  \n",
       "[13] \"save_access_token\"         \"self\"                     \n",
       "[15] \"user_code\"                 \"verification_uri\"         \n",
       "[17] \"verification_uri_complete\""
      ]
     },
     "metadata": {},
     "output_type": "display_data"
    }
   ],
   "source": [
    "ls(cube_api$auth0_obj)"
   ]
  },
  {
   "cell_type": "code",
   "execution_count": 6,
   "metadata": {},
   "outputs": [
    {
     "name": "stdout",
     "output_type": "stream",
     "text": [
      "Auth0DeviceAuth: \n",
      "  url_base: \n",
      "  .token: \n"
     ]
    }
   ],
   "source": [
    "cube_api$auth0_obj$print()"
   ]
  },
  {
   "cell_type": "code",
   "execution_count": null,
   "metadata": {},
   "outputs": [],
   "source": []
  }
 ],
 "metadata": {
  "kernelspec": {
   "display_name": "R",
   "language": "R",
   "name": "ir"
  },
  "language_info": {
   "codemirror_mode": "r",
   "file_extension": ".r",
   "mimetype": "text/x-r-source",
   "name": "R",
   "pygments_lexer": "r",
   "version": "4.0.3"
  }
 },
 "nbformat": 4,
 "nbformat_minor": 4
}
