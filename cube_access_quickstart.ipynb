{
 "cells": [
  {
   "cell_type": "markdown",
   "metadata": {},
   "source": [
    "# Quickstart Guide: Accessing Cube Data\n",
    "\n",
    "In the Cube web application (https://cube.jax.org) you can search through various elements such as Studies, Assays, and Data Sets. Using the controls along the top of the table you can filter based on properties to narrow your search. From the \"Data Sets\" page, for example, you can select data to add to your collection. Once a data set is in your collection you can use the `cube_r` package to access and inspect those data.\n",
    "\n",
    "The commands in this notebook show how to access data sets in your collection. Other elements, such as studies and assays, can be inspected here as well, but they won't have any associated data - only metadata."
   ]
  },
  {
   "cell_type": "code",
   "execution_count": null,
   "metadata": {},
   "outputs": [],
   "source": [
    "# load required libraries\n",
    "# load all library, it is already installed\n",
    "library(devtools)\n",
    "library(httr)\n",
    "library(jsonlite)\n",
    "library(stringr)\n",
    "library(rapportools)\n",
    "library(htmlwidgets)\n",
    "library(rlist)\n",
    "library(data.table)\n",
    "library(cloudml)\n",
    "library(readr)\n",
    "library(logger)\n",
    "library(cube)\n",
    "setwd(\"~/\")\n",
    "log_threshold(INFO)"
   ]
  },
  {
   "cell_type": "markdown",
   "metadata": {},
   "source": [
    "## Logging in\n",
    "\n",
    "After running the cell below to log in to the Cube service, you will see a link appear in the response. **You will need to click on the `verification_uri_complete` link to complete the login process.** That will associate this notebook session with your user ID and allow you to pull in data from your collection in https://cube.jax.org/ "
   ]
  },
  {
   "cell_type": "code",
   "execution_count": null,
   "metadata": {},
   "outputs": [],
   "source": [
    "# create a CubeAPI object\n",
    "cube_api = CubeAPI$new()\n",
    "# only need to login once per month\n",
    "# after run, click on \"verification_uri_complete\" to finish verification\n",
    "cube_api$login()"
   ]
  },
  {
   "cell_type": "markdown",
   "metadata": {},
   "source": [
    "## Get the data from your collection"
   ]
  },
  {
   "cell_type": "code",
   "execution_count": 162,
   "metadata": {},
   "outputs": [
    {
     "name": "stdout",
     "output_type": "stream",
     "text": [
      "INFO [2021-01-12 19:25:40] GET: http://10.105.16.22/metadata-service/metadata_repository/collection/\n",
      "INFO [2021-01-12 19:25:40] status_code: 200\n"
     ]
    },
    {
     "name": "stderr",
     "output_type": "stream",
     "text": [
      "No encoding supplied: defaulting to UTF-8.\n",
      "\n"
     ]
    },
    {
     "name": "stdout",
     "output_type": "stream",
     "text": [
      "'data.frame':\t1 obs. of  5 variables:\n",
      " $ id              : int 10\n",
      " $ collection_items:List of 1\n",
      "  ..$ :'data.frame':\t1 obs. of  7 variables:\n",
      "  .. ..$ id           : int 352\n",
      "  .. ..$ collection   :'data.frame':\t1 obs. of  4 variables:\n",
      "  .. .. ..$ id             : int 10\n",
      "  .. .. ..$ collection_name: logi NA\n",
      "  .. .. ..$ user_name      : chr \"waad.939JXKnVNUKLJTw6JEVLxgIlZoYOeIfrJ58NLiCbVQc\"\n",
      "  .. .. ..$ date_created   : chr \"2020-12-22T14:24:16.893718Z\"\n",
      "  .. ..$ collection_id: int 10\n",
      "  .. ..$ accession_id : chr \"JAXDS0000G\"\n",
      "  .. ..$ item_type    : chr \"Data Set\"\n",
      "  .. ..$ item_label   : logi NA\n",
      "  .. ..$ date_created : chr \"2021-01-12T19:24:47.916557Z\"\n",
      " $ user_name       : chr \"waad.939JXKnVNUKLJTw6JEVLxgIlZoYOeIfrJ58NLiCbVQc\"\n",
      " $ collection_name : logi NA\n",
      " $ date_created    : chr \"2020-12-22T14:24:16.893718Z\"\n"
     ]
    }
   ],
   "source": [
    "response = cube_api$get_metadata_collection()\n",
    "json = response_json_to_data(response)\n",
    "str(json$results)"
   ]
  },
  {
   "cell_type": "markdown",
   "metadata": {},
   "source": [
    "## With the accession ID, get the pointer to the data"
   ]
  },
  {
   "cell_type": "code",
   "execution_count": null,
   "metadata": {},
   "outputs": [],
   "source": [
    "accession_ids = cube_api$parse_accession_ids(response)\n",
    "response = cube_api$get_element_instance(accession_ids = c(accession_ids))"
   ]
  },
  {
   "cell_type": "code",
   "execution_count": null,
   "metadata": {},
   "outputs": [],
   "source": [
    "uri = cube_api$parse_storage_uri(response)[1,]\n",
    "uri"
   ]
  },
  {
   "cell_type": "markdown",
   "metadata": {},
   "source": [
    "## Get the data file and read into a data frame"
   ]
  },
  {
   "cell_type": "code",
   "execution_count": null,
   "metadata": {},
   "outputs": [],
   "source": [
    "bucket_name = uri[[3]][[1]]\n",
    "file_name = uri[[4]][[1]]\n",
    "data_dir = gs_data_dir( bucket_name )\n",
    "df <- read.table(file.path(data_dir, file_name), sep = '\\t',header = TRUE)\n",
    "head(df)"
   ]
  },
  {
   "cell_type": "code",
   "execution_count": null,
   "metadata": {},
   "outputs": [],
   "source": [
    "df[c('CLIMB.ID','sex','line','strain','diet','treatment',\"JAX_ASSAY_BODYWEIGHT\")]"
   ]
  },
  {
   "cell_type": "code",
   "execution_count": null,
   "metadata": {},
   "outputs": [],
   "source": []
  },
  {
   "cell_type": "code",
   "execution_count": null,
   "metadata": {},
   "outputs": [],
   "source": []
  }
 ],
 "metadata": {
  "kernelspec": {
   "display_name": "R",
   "language": "R",
   "name": "ir"
  },
  "language_info": {
   "codemirror_mode": "r",
   "file_extension": ".r",
   "mimetype": "text/x-r-source",
   "name": "R",
   "pygments_lexer": "r",
   "version": "4.0.3"
  }
 },
 "nbformat": 4,
 "nbformat_minor": 4
}
